{
 "cells": [
  {
   "cell_type": "code",
   "execution_count": 1,
   "metadata": {
    "Collapsed": "false"
   },
   "outputs": [],
   "source": [
    "import pandas as pd\n",
    "data = pd.read_csv('ready_to_serve_train.csv', error_bad_lines=False);"
   ]
  },
  {
   "cell_type": "code",
   "execution_count": 2,
   "metadata": {
    "Collapsed": "false"
   },
   "outputs": [
    {
     "data": {
      "text/html": [
       "<div>\n",
       "<style scoped>\n",
       "    .dataframe tbody tr th:only-of-type {\n",
       "        vertical-align: middle;\n",
       "    }\n",
       "\n",
       "    .dataframe tbody tr th {\n",
       "        vertical-align: top;\n",
       "    }\n",
       "\n",
       "    .dataframe thead th {\n",
       "        text-align: right;\n",
       "    }\n",
       "</style>\n",
       "<table border=\"1\" class=\"dataframe\">\n",
       "  <thead>\n",
       "    <tr style=\"text-align: right;\">\n",
       "      <th></th>\n",
       "      <th>id</th>\n",
       "      <th>original</th>\n",
       "      <th>edit</th>\n",
       "      <th>grades</th>\n",
       "      <th>meanGrade</th>\n",
       "      <th>grade_round</th>\n",
       "      <th>grades_0</th>\n",
       "      <th>grades_1</th>\n",
       "      <th>grades_2</th>\n",
       "      <th>grades_3</th>\n",
       "      <th>grades_4</th>\n",
       "      <th>edited_head_line</th>\n",
       "      <th>original_cleaned</th>\n",
       "    </tr>\n",
       "  </thead>\n",
       "  <tbody>\n",
       "    <tr>\n",
       "      <td>0</td>\n",
       "      <td>14530</td>\n",
       "      <td>France is ‘ hunting down its citizens who join...</td>\n",
       "      <td>twins</td>\n",
       "      <td>10000</td>\n",
       "      <td>0.2</td>\n",
       "      <td>0</td>\n",
       "      <td>1</td>\n",
       "      <td>0</td>\n",
       "      <td>0</td>\n",
       "      <td>0</td>\n",
       "      <td>0</td>\n",
       "      <td>france is hunting down its citizens who joined...</td>\n",
       "      <td>france is hunting down its citizens who joined...</td>\n",
       "    </tr>\n",
       "    <tr>\n",
       "      <td>1</td>\n",
       "      <td>13034</td>\n",
       "      <td>Pentagon claims 2,000 % increase in Russian tr...</td>\n",
       "      <td>bowling</td>\n",
       "      <td>33110</td>\n",
       "      <td>1.6</td>\n",
       "      <td>2</td>\n",
       "      <td>3</td>\n",
       "      <td>3</td>\n",
       "      <td>1</td>\n",
       "      <td>1</td>\n",
       "      <td>0</td>\n",
       "      <td>pentagon claims 2,000 % increase in russian tr...</td>\n",
       "      <td>pentagon claims 2,000 % increase in russian tr...</td>\n",
       "    </tr>\n",
       "    <tr>\n",
       "      <td>2</td>\n",
       "      <td>8731</td>\n",
       "      <td>Iceland PM Calls Snap Vote as Pedophile Furor ...</td>\n",
       "      <td>party</td>\n",
       "      <td>22100</td>\n",
       "      <td>1.0</td>\n",
       "      <td>1</td>\n",
       "      <td>2</td>\n",
       "      <td>2</td>\n",
       "      <td>1</td>\n",
       "      <td>0</td>\n",
       "      <td>0</td>\n",
       "      <td>iceland pm calls snap vote as pedophile furor ...</td>\n",
       "      <td>iceland pm calls snap vote as pedophile furor ...</td>\n",
       "    </tr>\n",
       "    <tr>\n",
       "      <td>3</td>\n",
       "      <td>76</td>\n",
       "      <td>In an apparent first , Iran and Israel &lt;engage...</td>\n",
       "      <td>slap</td>\n",
       "      <td>20000</td>\n",
       "      <td>0.4</td>\n",
       "      <td>0</td>\n",
       "      <td>2</td>\n",
       "      <td>0</td>\n",
       "      <td>0</td>\n",
       "      <td>0</td>\n",
       "      <td>0</td>\n",
       "      <td>in an apparent first , iran and israel slap ea...</td>\n",
       "      <td>in an apparent first , iran and israel engage ...</td>\n",
       "    </tr>\n",
       "    <tr>\n",
       "      <td>4</td>\n",
       "      <td>6164</td>\n",
       "      <td>Trump was told weeks ago that Flynn misled &lt;Vi...</td>\n",
       "      <td>school</td>\n",
       "      <td>0</td>\n",
       "      <td>0.0</td>\n",
       "      <td>0</td>\n",
       "      <td>0</td>\n",
       "      <td>0</td>\n",
       "      <td>0</td>\n",
       "      <td>0</td>\n",
       "      <td>0</td>\n",
       "      <td>trump was told weeks ago that flynn misled sch...</td>\n",
       "      <td>trump was told weeks ago that flynn misled vic...</td>\n",
       "    </tr>\n",
       "  </tbody>\n",
       "</table>\n",
       "</div>"
      ],
      "text/plain": [
       "      id                                           original     edit  grades  \\\n",
       "0  14530  France is ‘ hunting down its citizens who join...    twins   10000   \n",
       "1  13034  Pentagon claims 2,000 % increase in Russian tr...  bowling   33110   \n",
       "2   8731  Iceland PM Calls Snap Vote as Pedophile Furor ...    party   22100   \n",
       "3     76  In an apparent first , Iran and Israel <engage...     slap   20000   \n",
       "4   6164  Trump was told weeks ago that Flynn misled <Vi...   school       0   \n",
       "\n",
       "   meanGrade  grade_round  grades_0  grades_1  grades_2  grades_3  grades_4  \\\n",
       "0        0.2            0         1         0         0         0         0   \n",
       "1        1.6            2         3         3         1         1         0   \n",
       "2        1.0            1         2         2         1         0         0   \n",
       "3        0.4            0         2         0         0         0         0   \n",
       "4        0.0            0         0         0         0         0         0   \n",
       "\n",
       "                                    edited_head_line  \\\n",
       "0  france is hunting down its citizens who joined...   \n",
       "1  pentagon claims 2,000 % increase in russian tr...   \n",
       "2  iceland pm calls snap vote as pedophile furor ...   \n",
       "3  in an apparent first , iran and israel slap ea...   \n",
       "4  trump was told weeks ago that flynn misled sch...   \n",
       "\n",
       "                                    original_cleaned  \n",
       "0  france is hunting down its citizens who joined...  \n",
       "1  pentagon claims 2,000 % increase in russian tr...  \n",
       "2  iceland pm calls snap vote as pedophile furor ...  \n",
       "3  in an apparent first , iran and israel engage ...  \n",
       "4  trump was told weeks ago that flynn misled vic...  "
      ]
     },
     "execution_count": 2,
     "metadata": {},
     "output_type": "execute_result"
    }
   ],
   "source": [
    "data.head(5)"
   ]
  },
  {
   "cell_type": "code",
   "execution_count": 3,
   "metadata": {
    "Collapsed": "false"
   },
   "outputs": [
    {
     "name": "stderr",
     "output_type": "stream",
     "text": [
      "/home/raghavan/anaconda3/envs/semeval_2020/lib/python3.7/site-packages/ipykernel_launcher.py:2: SettingWithCopyWarning: \n",
      "A value is trying to be set on a copy of a slice from a DataFrame.\n",
      "Try using .loc[row_indexer,col_indexer] = value instead\n",
      "\n",
      "See the caveats in the documentation: http://pandas.pydata.org/pandas-docs/stable/user_guide/indexing.html#returning-a-view-versus-a-copy\n",
      "  \n"
     ]
    }
   ],
   "source": [
    "data_text = data[['edited_head_line']]\n",
    "data_text['index'] = data_text.index\n",
    "documents = data_text"
   ]
  },
  {
   "cell_type": "code",
   "execution_count": 4,
   "metadata": {
    "Collapsed": "false"
   },
   "outputs": [
    {
     "name": "stdout",
     "output_type": "stream",
     "text": [
      "9652\n",
      "                                    edited_head_line  index\n",
      "0  france is hunting down its citizens who joined...      0\n",
      "1  pentagon claims 2,000 % increase in russian tr...      1\n",
      "2  iceland pm calls snap vote as pedophile furor ...      2\n",
      "3  in an apparent first , iran and israel slap ea...      3\n",
      "4  trump was told weeks ago that flynn misled sch...      4\n"
     ]
    }
   ],
   "source": [
    "print(len(documents))\n",
    "print(documents[:5])"
   ]
  },
  {
   "cell_type": "code",
   "execution_count": 5,
   "metadata": {
    "Collapsed": "false"
   },
   "outputs": [
    {
     "name": "stderr",
     "output_type": "stream",
     "text": [
      "[nltk_data] Downloading package wordnet to /home/raghavan/nltk_data...\n",
      "[nltk_data]   Unzipping corpora/wordnet.zip.\n"
     ]
    },
    {
     "data": {
      "text/plain": [
       "True"
      ]
     },
     "execution_count": 5,
     "metadata": {},
     "output_type": "execute_result"
    }
   ],
   "source": [
    "import gensim\n",
    "from gensim.utils import simple_preprocess\n",
    "from gensim.parsing.preprocessing import STOPWORDS\n",
    "from nltk.stem import WordNetLemmatizer, SnowballStemmer\n",
    "from nltk.stem.porter import *\n",
    "import numpy as np\n",
    "np.random.seed(2018)\n",
    "import nltk\n",
    "nltk.download('wordnet')"
   ]
  },
  {
   "cell_type": "code",
   "execution_count": 10,
   "metadata": {
    "Collapsed": "false"
   },
   "outputs": [],
   "source": [
    "stemmer = SnowballStemmer('english')\n",
    "\n",
    "def lemmatize_stemming(text):\n",
    "    return stemmer.stem(WordNetLemmatizer().lemmatize(text, pos='v'))\n",
    "def preprocess(text):\n",
    "    result = []\n",
    "    for token in gensim.utils.simple_preprocess(text):\n",
    "        if token not in gensim.parsing.preprocessing.STOPWORDS and len(token) > 3:\n",
    "            result.append(lemmatize_stemming(token))\n",
    "    return result"
   ]
  },
  {
   "cell_type": "code",
   "execution_count": 11,
   "metadata": {
    "Collapsed": "false"
   },
   "outputs": [
    {
     "name": "stdout",
     "output_type": "stream",
     "text": [
      "original document: \n",
      "['manafort', 'ex', '-', 'son', '-', 'in', '-', 'law', 'agrees', 'to', 'plea', 'incompetence', ':', 'report']\n",
      "\n",
      "\n",
      " tokenized and lemmatized document: \n",
      "['manafort', 'agre', 'plea', 'incompet', 'report']\n"
     ]
    }
   ],
   "source": [
    "doc_sample = documents[documents['index'] == 4310].values[0][0]\n",
    "print('original document: ')\n",
    "words = []\n",
    "for word in doc_sample.split(' '):\n",
    "    words.append(word)\n",
    "print(words)\n",
    "print('\\n\\n tokenized and lemmatized document: ')\n",
    "print(preprocess(doc_sample))"
   ]
  },
  {
   "cell_type": "code",
   "execution_count": 13,
   "metadata": {
    "Collapsed": "false"
   },
   "outputs": [
    {
     "data": {
      "text/plain": [
       "0      [franc, hunt, citizen, join, twin, trial, iraq]\n",
       "1    [pentagon, claim, increas, russian, troll, bow...\n",
       "2    [iceland, call, snap, vote, pedophil, furor, c...\n",
       "3              [appar, iran, israel, slap, militarili]\n",
       "4    [trump, tell, week, flynn, mislead, school, pr...\n",
       "5              [sound, trump, speech, congress, chart]\n",
       "6                       [alert, flag, laughter, polic]\n",
       "7    [grow, fundamentalist, moron, surpris, surpris...\n",
       "8                     [canadian, tax, american, looni]\n",
       "9           [dutch, minist, resign, drug, baron, blow]\n",
       "Name: edited_head_line, dtype: object"
      ]
     },
     "execution_count": 13,
     "metadata": {},
     "output_type": "execute_result"
    }
   ],
   "source": [
    "processed_docs = documents['edited_head_line'].map(preprocess)\n",
    "processed_docs[:10]"
   ]
  },
  {
   "cell_type": "code",
   "execution_count": 14,
   "metadata": {
    "Collapsed": "false"
   },
   "outputs": [
    {
     "name": "stdout",
     "output_type": "stream",
     "text": [
      "0 citizen\n",
      "1 franc\n",
      "2 hunt\n",
      "3 iraq\n",
      "4 join\n",
      "5 trial\n",
      "6 twin\n",
      "7 bowl\n",
      "8 claim\n",
      "9 increas\n",
      "10 mean\n"
     ]
    }
   ],
   "source": [
    "dictionary = gensim.corpora.Dictionary(processed_docs)\n",
    "count = 0\n",
    "for k, v in dictionary.iteritems():\n",
    "    print(k, v)\n",
    "    count += 1\n",
    "    if count > 10:\n",
    "        break"
   ]
  },
  {
   "cell_type": "code",
   "execution_count": 15,
   "metadata": {
    "Collapsed": "false"
   },
   "outputs": [],
   "source": [
    "dictionary.filter_extremes(no_below=15, no_above=0.5, keep_n=100000)\n"
   ]
  },
  {
   "cell_type": "code",
   "execution_count": 16,
   "metadata": {
    "Collapsed": "false"
   },
   "outputs": [
    {
     "data": {
      "text/plain": [
       "[(119, 1), (121, 1), (835, 1)]"
      ]
     },
     "execution_count": 16,
     "metadata": {},
     "output_type": "execute_result"
    }
   ],
   "source": [
    "bow_corpus = [dictionary.doc2bow(doc) for doc in processed_docs]\n",
    "bow_corpus[4310]"
   ]
  },
  {
   "cell_type": "code",
   "execution_count": 17,
   "metadata": {
    "Collapsed": "false"
   },
   "outputs": [
    {
     "name": "stdout",
     "output_type": "stream",
     "text": [
      "Word 119 (\"manafort\") appears 1 time.\n",
      "Word 121 (\"report\") appears 1 time.\n",
      "Word 835 (\"agre\") appears 1 time.\n"
     ]
    }
   ],
   "source": [
    "bow_doc_4310 = bow_corpus[4310]\n",
    "for i in range(len(bow_doc_4310)):\n",
    "    print(\"Word {} (\\\"{}\\\") appears {} time.\".format(bow_doc_4310[i][0], \n",
    "                                               dictionary[bow_doc_4310[i][0]], \n",
    "bow_doc_4310[i][1]))"
   ]
  },
  {
   "cell_type": "code",
   "execution_count": 18,
   "metadata": {
    "Collapsed": "false"
   },
   "outputs": [
    {
     "name": "stdout",
     "output_type": "stream",
     "text": [
      "[(0, 0.4747289307260789),\n",
      " (1, 0.49915411338022103),\n",
      " (2, 0.47958187372097405),\n",
      " (3, 0.5435796536162469)]\n"
     ]
    }
   ],
   "source": [
    "from gensim import corpora, models\n",
    "tfidf = models.TfidfModel(bow_corpus)\n",
    "corpus_tfidf = tfidf[bow_corpus]\n",
    "from pprint import pprint\n",
    "for doc in corpus_tfidf:\n",
    "    pprint(doc)\n",
    "    break"
   ]
  },
  {
   "cell_type": "code",
   "execution_count": 24,
   "metadata": {
    "Collapsed": "false"
   },
   "outputs": [],
   "source": [
    "lda_model = gensim.models.LdaMulticore(bow_corpus, num_topics=5, id2word=dictionary, passes=10, workers=2)"
   ]
  },
  {
   "cell_type": "code",
   "execution_count": 25,
   "metadata": {
    "Collapsed": "false"
   },
   "outputs": [
    {
     "name": "stdout",
     "output_type": "stream",
     "text": [
      "Topic: 0 \n",
      "Words: 0.107*\"trump\" + 0.021*\"hous\" + 0.018*\"presid\" + 0.013*\"white\" + 0.013*\"clinton\" + 0.009*\"report\" + 0.009*\"wall\" + 0.009*\"hillari\" + 0.009*\"donald\" + 0.008*\"kill\"\n",
      "Topic: 1 \n",
      "Words: 0.109*\"trump\" + 0.027*\"korea\" + 0.026*\"russia\" + 0.026*\"north\" + 0.022*\"say\" + 0.020*\"donald\" + 0.013*\"investig\" + 0.012*\"tweet\" + 0.011*\"comey\" + 0.010*\"fire\"\n",
      "Topic: 2 \n",
      "Words: 0.088*\"trump\" + 0.016*\"obamacar\" + 0.014*\"say\" + 0.011*\"american\" + 0.010*\"rule\" + 0.010*\"america\" + 0.010*\"repeal\" + 0.009*\"govern\" + 0.009*\"court\" + 0.009*\"face\"\n",
      "Topic: 3 \n",
      "Words: 0.033*\"hous\" + 0.028*\"democrat\" + 0.028*\"trump\" + 0.024*\"white\" + 0.019*\"attack\" + 0.017*\"republican\" + 0.014*\"say\" + 0.011*\"parti\" + 0.010*\"state\" + 0.010*\"year\"\n",
      "Topic: 4 \n",
      "Words: 0.038*\"trump\" + 0.027*\"senat\" + 0.025*\"russian\" + 0.019*\"say\" + 0.015*\"report\" + 0.012*\"plan\" + 0.011*\"dead\" + 0.011*\"news\" + 0.009*\"care\" + 0.008*\"health\"\n"
     ]
    }
   ],
   "source": [
    "for idx, topic in lda_model.print_topics(-1):\n",
    "    print('Topic: {} \\nWords: {}'.format(idx, topic))"
   ]
  },
  {
   "cell_type": "code",
   "execution_count": 21,
   "metadata": {
    "Collapsed": "false"
   },
   "outputs": [
    {
     "name": "stdout",
     "output_type": "stream",
     "text": [
      "Topic: 0 Word: 0.016*\"trump\" + 0.011*\"democrat\" + 0.010*\"build\" + 0.008*\"york\" + 0.008*\"come\" + 0.008*\"govern\" + 0.007*\"kushner\" + 0.007*\"parti\" + 0.007*\"california\" + 0.007*\"senat\"\n",
      "Topic: 1 Word: 0.016*\"trump\" + 0.012*\"charlottesvill\" + 0.008*\"news\" + 0.008*\"face\" + 0.008*\"minist\" + 0.008*\"north\" + 0.007*\"korea\" + 0.007*\"clinton\" + 0.007*\"say\" + 0.007*\"call\"\n",
      "Topic: 2 Word: 0.018*\"trump\" + 0.011*\"plan\" + 0.010*\"right\" + 0.010*\"strike\" + 0.010*\"republican\" + 0.009*\"hous\" + 0.009*\"democrat\" + 0.008*\"secur\" + 0.008*\"white\" + 0.008*\"investig\"\n",
      "Topic: 3 Word: 0.027*\"trump\" + 0.025*\"donald\" + 0.010*\"warn\" + 0.009*\"investig\" + 0.009*\"say\" + 0.008*\"million\" + 0.007*\"justic\" + 0.007*\"senat\" + 0.007*\"travel\" + 0.007*\"want\"\n",
      "Topic: 4 Word: 0.030*\"trump\" + 0.010*\"russia\" + 0.009*\"twitter\" + 0.008*\"latest\" + 0.007*\"say\" + 0.007*\"facebook\" + 0.007*\"dinner\" + 0.006*\"hous\" + 0.006*\"miss\" + 0.006*\"shut\"\n",
      "Topic: 5 Word: 0.015*\"trump\" + 0.011*\"world\" + 0.009*\"senat\" + 0.008*\"china\" + 0.008*\"help\" + 0.008*\"break\" + 0.008*\"moor\" + 0.007*\"mexico\" + 0.007*\"blame\" + 0.007*\"protest\"\n",
      "Topic: 6 Word: 0.019*\"trump\" + 0.014*\"report\" + 0.014*\"russia\" + 0.013*\"hous\" + 0.012*\"white\" + 0.012*\"say\" + 0.012*\"presid\" + 0.008*\"north\" + 0.008*\"militari\" + 0.008*\"offici\"\n",
      "Topic: 7 Word: 0.024*\"trump\" + 0.014*\"obama\" + 0.009*\"russian\" + 0.009*\"go\" + 0.009*\"china\" + 0.008*\"spicer\" + 0.008*\"hous\" + 0.007*\"book\" + 0.007*\"sean\" + 0.007*\"polici\"\n",
      "Topic: 8 Word: 0.019*\"trump\" + 0.019*\"obamacar\" + 0.013*\"repeal\" + 0.013*\"hous\" + 0.010*\"white\" + 0.009*\"mueller\" + 0.009*\"republican\" + 0.009*\"american\" + 0.009*\"meet\" + 0.008*\"black\"\n",
      "Topic: 9 Word: 0.022*\"say\" + 0.017*\"korea\" + 0.015*\"trump\" + 0.014*\"north\" + 0.012*\"health\" + 0.008*\"care\" + 0.008*\"idea\" + 0.008*\"state\" + 0.007*\"plan\" + 0.007*\"play\"\n"
     ]
    }
   ],
   "source": [
    "lda_model_tfidf = gensim.models.LdaMulticore(corpus_tfidf, num_topics=10, id2word=dictionary, passes=2, workers=4)\n",
    "for idx, topic in lda_model_tfidf.print_topics(-1):\n",
    "    print('Topic: {} Word: {}'.format(idx, topic))"
   ]
  },
  {
   "cell_type": "code",
   "execution_count": null,
   "metadata": {
    "Collapsed": "false"
   },
   "outputs": [],
   "source": []
  }
 ],
 "metadata": {
  "kernelspec": {
   "display_name": "semeval2020",
   "language": "python",
   "name": "semeval2020"
  },
  "language_info": {
   "codemirror_mode": {
    "name": "ipython",
    "version": 3
   },
   "file_extension": ".py",
   "mimetype": "text/x-python",
   "name": "python",
   "nbconvert_exporter": "python",
   "pygments_lexer": "ipython3",
   "version": "3.7.4"
  }
 },
 "nbformat": 4,
 "nbformat_minor": 4
}
