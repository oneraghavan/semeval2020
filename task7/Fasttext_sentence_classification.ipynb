{
 "cells": [
  {
   "cell_type": "code",
   "execution_count": 1,
   "metadata": {
    "Collapsed": "false"
   },
   "outputs": [],
   "source": [
    "import pandas as pd\n",
    "import fasttext\n",
    "import re\n",
    "from sklearn.model_selection import train_test_split,StratifiedKFold,KFold\n",
    "from sklearn.metrics import classification_report\n",
    "import ast\n",
    "import numpy as np"
   ]
  },
  {
   "cell_type": "code",
   "execution_count": 2,
   "metadata": {
    "Collapsed": "false"
   },
   "outputs": [],
   "source": [
    "df = pd.read_csv('ready_to_serve_train.csv')\n",
    "df_test = pd.read_csv('ready_to_serve_dev.csv')\n",
    "# df_test = df_test[~pd.isnull(df_test.text)]"
   ]
  },
  {
   "cell_type": "code",
   "execution_count": 3,
   "metadata": {
    "Collapsed": "false"
   },
   "outputs": [],
   "source": [
    "test_lines = df_test[\"edited_head_line\"].values"
   ]
  },
  {
   "cell_type": "code",
   "execution_count": 4,
   "metadata": {
    "Collapsed": "false"
   },
   "outputs": [
    {
     "data": {
      "text/html": [
       "<div>\n",
       "<style scoped>\n",
       "    .dataframe tbody tr th:only-of-type {\n",
       "        vertical-align: middle;\n",
       "    }\n",
       "\n",
       "    .dataframe tbody tr th {\n",
       "        vertical-align: top;\n",
       "    }\n",
       "\n",
       "    .dataframe thead th {\n",
       "        text-align: right;\n",
       "    }\n",
       "</style>\n",
       "<table border=\"1\" class=\"dataframe\">\n",
       "  <thead>\n",
       "    <tr style=\"text-align: right;\">\n",
       "      <th></th>\n",
       "      <th>id</th>\n",
       "      <th>original</th>\n",
       "      <th>edit</th>\n",
       "      <th>grades</th>\n",
       "      <th>meanGrade</th>\n",
       "      <th>grade_round</th>\n",
       "      <th>grades_0</th>\n",
       "      <th>grades_1</th>\n",
       "      <th>grades_2</th>\n",
       "      <th>grades_3</th>\n",
       "      <th>grades_4</th>\n",
       "      <th>edited_head_line</th>\n",
       "      <th>original_cleaned</th>\n",
       "    </tr>\n",
       "  </thead>\n",
       "  <tbody>\n",
       "    <tr>\n",
       "      <td>0</td>\n",
       "      <td>14530</td>\n",
       "      <td>France is ‘ hunting down its citizens who join...</td>\n",
       "      <td>twins</td>\n",
       "      <td>10000</td>\n",
       "      <td>0.2</td>\n",
       "      <td>0</td>\n",
       "      <td>1</td>\n",
       "      <td>0</td>\n",
       "      <td>0</td>\n",
       "      <td>0</td>\n",
       "      <td>0</td>\n",
       "      <td>france is hunting down its citizens who joined...</td>\n",
       "      <td>france is hunting down its citizens who joined...</td>\n",
       "    </tr>\n",
       "    <tr>\n",
       "      <td>1</td>\n",
       "      <td>13034</td>\n",
       "      <td>Pentagon claims 2,000 % increase in Russian tr...</td>\n",
       "      <td>bowling</td>\n",
       "      <td>33110</td>\n",
       "      <td>1.6</td>\n",
       "      <td>2</td>\n",
       "      <td>3</td>\n",
       "      <td>3</td>\n",
       "      <td>1</td>\n",
       "      <td>1</td>\n",
       "      <td>0</td>\n",
       "      <td>pentagon claims 2,000 % increase in russian tr...</td>\n",
       "      <td>pentagon claims 2,000 % increase in russian tr...</td>\n",
       "    </tr>\n",
       "    <tr>\n",
       "      <td>2</td>\n",
       "      <td>8731</td>\n",
       "      <td>Iceland PM Calls Snap Vote as Pedophile Furor ...</td>\n",
       "      <td>party</td>\n",
       "      <td>22100</td>\n",
       "      <td>1.0</td>\n",
       "      <td>1</td>\n",
       "      <td>2</td>\n",
       "      <td>2</td>\n",
       "      <td>1</td>\n",
       "      <td>0</td>\n",
       "      <td>0</td>\n",
       "      <td>iceland pm calls snap vote as pedophile furor ...</td>\n",
       "      <td>iceland pm calls snap vote as pedophile furor ...</td>\n",
       "    </tr>\n",
       "    <tr>\n",
       "      <td>3</td>\n",
       "      <td>76</td>\n",
       "      <td>In an apparent first , Iran and Israel &lt;engage...</td>\n",
       "      <td>slap</td>\n",
       "      <td>20000</td>\n",
       "      <td>0.4</td>\n",
       "      <td>0</td>\n",
       "      <td>2</td>\n",
       "      <td>0</td>\n",
       "      <td>0</td>\n",
       "      <td>0</td>\n",
       "      <td>0</td>\n",
       "      <td>in an apparent first , iran and israel slap ea...</td>\n",
       "      <td>in an apparent first , iran and israel engage ...</td>\n",
       "    </tr>\n",
       "    <tr>\n",
       "      <td>4</td>\n",
       "      <td>6164</td>\n",
       "      <td>Trump was told weeks ago that Flynn misled &lt;Vi...</td>\n",
       "      <td>school</td>\n",
       "      <td>0</td>\n",
       "      <td>0.0</td>\n",
       "      <td>0</td>\n",
       "      <td>0</td>\n",
       "      <td>0</td>\n",
       "      <td>0</td>\n",
       "      <td>0</td>\n",
       "      <td>0</td>\n",
       "      <td>trump was told weeks ago that flynn misled sch...</td>\n",
       "      <td>trump was told weeks ago that flynn misled vic...</td>\n",
       "    </tr>\n",
       "  </tbody>\n",
       "</table>\n",
       "</div>"
      ],
      "text/plain": [
       "      id                                           original     edit  grades  \\\n",
       "0  14530  France is ‘ hunting down its citizens who join...    twins   10000   \n",
       "1  13034  Pentagon claims 2,000 % increase in Russian tr...  bowling   33110   \n",
       "2   8731  Iceland PM Calls Snap Vote as Pedophile Furor ...    party   22100   \n",
       "3     76  In an apparent first , Iran and Israel <engage...     slap   20000   \n",
       "4   6164  Trump was told weeks ago that Flynn misled <Vi...   school       0   \n",
       "\n",
       "   meanGrade  grade_round  grades_0  grades_1  grades_2  grades_3  grades_4  \\\n",
       "0        0.2            0         1         0         0         0         0   \n",
       "1        1.6            2         3         3         1         1         0   \n",
       "2        1.0            1         2         2         1         0         0   \n",
       "3        0.4            0         2         0         0         0         0   \n",
       "4        0.0            0         0         0         0         0         0   \n",
       "\n",
       "                                    edited_head_line  \\\n",
       "0  france is hunting down its citizens who joined...   \n",
       "1  pentagon claims 2,000 % increase in russian tr...   \n",
       "2  iceland pm calls snap vote as pedophile furor ...   \n",
       "3  in an apparent first , iran and israel slap ea...   \n",
       "4  trump was told weeks ago that flynn misled sch...   \n",
       "\n",
       "                                    original_cleaned  \n",
       "0  france is hunting down its citizens who joined...  \n",
       "1  pentagon claims 2,000 % increase in russian tr...  \n",
       "2  iceland pm calls snap vote as pedophile furor ...  \n",
       "3  in an apparent first , iran and israel engage ...  \n",
       "4  trump was told weeks ago that flynn misled vic...  "
      ]
     },
     "execution_count": 4,
     "metadata": {},
     "output_type": "execute_result"
    }
   ],
   "source": [
    "df.head(5)"
   ]
  },
  {
   "cell_type": "code",
   "execution_count": 5,
   "metadata": {
    "Collapsed": "false"
   },
   "outputs": [],
   "source": [
    "df[\"original_plus_edited\"] = df[\"original_cleaned\"] + df[\"edited_head_line\"]"
   ]
  },
  {
   "cell_type": "code",
   "execution_count": 6,
   "metadata": {
    "Collapsed": "false"
   },
   "outputs": [],
   "source": [
    "def write(train,test,column,dev=False):\n",
    "    if dev:        \n",
    "        with open('train.txt','w',encoding='utf8') as write:\n",
    "            write.writelines('\\n'.join(df[column].tolist()))\n",
    "    else:\n",
    "        with open('train.txt','w',encoding='utf8') as write:\n",
    "            write.writelines('\\n'.join(df.loc[train,column].tolist()))\n",
    "        with open('test.txt','w',encoding='utf8') as write:\n",
    "            write.writelines('\\n'.join(df.loc[test,column].tolist()))"
   ]
  },
  {
   "cell_type": "code",
   "execution_count": 7,
   "metadata": {
    "Collapsed": "false"
   },
   "outputs": [],
   "source": [
    "def label_fasttext(data,X,y,multi_label=False):\n",
    "    if multi_label:\n",
    "        labels = ast.literal_eval(data[y])\n",
    "        if not labels:\n",
    "            return \"__label__-1 \" + data[X]\n",
    "        else:\n",
    "            label = \"\".join([\"__label__\" + str(cls) + \" \" for cls in labels])  + data[X]\n",
    "            return label\n",
    "    else:\n",
    "        return \"__label__\" + str(data[y]) + \" \" + \" \" + data[X]\n",
    "    \n",
    "def get_test_predictions(test_lines,model):\n",
    "    predictions = []\n",
    "    for line in test_lines:\n",
    "        predictions.append(int(model.predict(line)[0][0].replace(\"__label__\",\"\")))\n",
    "    return predictions    "
   ]
  },
  {
   "cell_type": "markdown",
   "metadata": {
    "Collapsed": "false"
   },
   "source": [
    "### For grade 0"
   ]
  },
  {
   "cell_type": "code",
   "execution_count": 8,
   "metadata": {
    "Collapsed": "false"
   },
   "outputs": [],
   "source": [
    "df['p_class'] = df.apply(lambda x:label_fasttext(x,'original_plus_edited','grades_0'),axis=1)"
   ]
  },
  {
   "cell_type": "code",
   "execution_count": 16,
   "metadata": {
    "Collapsed": "false"
   },
   "outputs": [
    {
     "name": "stdout",
     "output_type": "stream",
     "text": [
      "(2414, 0.37903893951946976, 0.37903893951946976)\n",
      "(2413, 0.3787815996684625, 0.3787815996684625)\n",
      "(2413, 0.3787815996684625, 0.3787815996684625)\n",
      "(2412, 0.37893864013267, 0.37893864013267)\n"
     ]
    }
   ],
   "source": [
    "kfold = StratifiedKFold(4, True)\n",
    "for train_index, test_index in kfold.split(df,df[\"grades_0\"]):\n",
    "    write(train_index,test_index,'p_class')\n",
    "    model = fasttext.train_supervised('train.txt', lr=0.01, dim=400, epoch=10,  word_ngrams=3, loss='softmax')\n",
    "    print(model.test('test.txt'))"
   ]
  },
  {
   "cell_type": "code",
   "execution_count": 10,
   "metadata": {
    "Collapsed": "false"
   },
   "outputs": [],
   "source": [
    "df_test[\"grades_0\"] = get_test_predictions(test_lines,model)"
   ]
  },
  {
   "cell_type": "markdown",
   "metadata": {
    "Collapsed": "false"
   },
   "source": [
    "### For grade 1"
   ]
  },
  {
   "cell_type": "code",
   "execution_count": 11,
   "metadata": {
    "Collapsed": "false"
   },
   "outputs": [],
   "source": [
    "df['p_class'] = df.apply(lambda x:label_fasttext(x,'edited_head_line','grades_1'),axis=1)"
   ]
  },
  {
   "cell_type": "code",
   "execution_count": 12,
   "metadata": {
    "Collapsed": "false"
   },
   "outputs": [
    {
     "name": "stdout",
     "output_type": "stream",
     "text": [
      "(2414, 0.3976801988400994, 0.3976801988400994)\n",
      "(2413, 0.39121425611272276, 0.39121425611272276)\n",
      "(2413, 0.39328636552009943, 0.39328636552009943)\n",
      "(2412, 0.3951077943615257, 0.3951077943615257)\n"
     ]
    }
   ],
   "source": [
    "kfold = StratifiedKFold(4, True)\n",
    "for train_index, test_index in kfold.split(df,df[\"grades_1\"]):\n",
    "    write(train_index,test_index,'p_class')\n",
    "    model = fasttext.train_supervised('train.txt',lr = 0.1,epoch=7)\n",
    "    print(model.test('test.txt'))"
   ]
  },
  {
   "cell_type": "code",
   "execution_count": 13,
   "metadata": {
    "Collapsed": "false"
   },
   "outputs": [],
   "source": [
    "df_test[\"grades_1\"] = get_test_predictions(test_lines,model)"
   ]
  },
  {
   "cell_type": "markdown",
   "metadata": {
    "Collapsed": "false"
   },
   "source": [
    "### For grade 2"
   ]
  },
  {
   "cell_type": "code",
   "execution_count": 14,
   "metadata": {
    "Collapsed": "false"
   },
   "outputs": [],
   "source": [
    "df['p_class'] = df.apply(lambda x:label_fasttext(x,'edited_head_line','grades_2'),axis=1)"
   ]
  },
  {
   "cell_type": "code",
   "execution_count": 15,
   "metadata": {
    "Collapsed": "false"
   },
   "outputs": [
    {
     "name": "stdout",
     "output_type": "stream",
     "text": [
      "(2415, 0.43643892339544516, 0.43643892339544516)\n",
      "(2413, 0.43389970990468296, 0.43389970990468296)\n",
      "(2412, 0.4490049751243781, 0.4490049751243781)\n",
      "(2412, 0.44112769485903813, 0.44112769485903813)\n"
     ]
    }
   ],
   "source": [
    "kfold = StratifiedKFold(4, True)\n",
    "for train_index, test_index in kfold.split(df,df[\"grades_2\"]):\n",
    "    write(train_index,test_index,'p_class')\n",
    "    model = fasttext.train_supervised('train.txt',lr = 0.1,epoch=7)\n",
    "    print(model.test('test.txt'))"
   ]
  },
  {
   "cell_type": "code",
   "execution_count": 16,
   "metadata": {
    "Collapsed": "false"
   },
   "outputs": [],
   "source": [
    "df_test[\"grades_2\"] = get_test_predictions(test_lines,model)"
   ]
  },
  {
   "cell_type": "markdown",
   "metadata": {
    "Collapsed": "false"
   },
   "source": [
    "### For grade 3"
   ]
  },
  {
   "cell_type": "code",
   "execution_count": 17,
   "metadata": {
    "Collapsed": "false"
   },
   "outputs": [],
   "source": [
    "df['p_class'] = df.apply(lambda x:label_fasttext(x,'edited_head_line','grades_3'),axis=1)"
   ]
  },
  {
   "cell_type": "code",
   "execution_count": 18,
   "metadata": {
    "Collapsed": "false"
   },
   "outputs": [
    {
     "name": "stdout",
     "output_type": "stream",
     "text": [
      "(2414, 0.6031483015741508, 0.6031483015741508)\n",
      "(2414, 0.6197183098591549, 0.6197183098591549)\n",
      "(2413, 0.6249481972648155, 0.6249481972648155)\n",
      "(2411, 0.6233927830775612, 0.6233927830775612)\n"
     ]
    }
   ],
   "source": [
    "kfold = StratifiedKFold(4, True)\n",
    "for train_index, test_index in kfold.split(df,df[\"grades_3\"]):\n",
    "    write(train_index,test_index,'p_class')\n",
    "    model = fasttext.train_supervised('train.txt',lr = 0.1,epoch=7)\n",
    "    print(model.test('test.txt'))"
   ]
  },
  {
   "cell_type": "code",
   "execution_count": 19,
   "metadata": {
    "Collapsed": "false"
   },
   "outputs": [],
   "source": [
    "df_test[\"grades_3\"] = get_test_predictions(test_lines,model)"
   ]
  },
  {
   "cell_type": "markdown",
   "metadata": {
    "Collapsed": "false"
   },
   "source": [
    "### For grade 4"
   ]
  },
  {
   "cell_type": "code",
   "execution_count": 20,
   "metadata": {
    "Collapsed": "false"
   },
   "outputs": [],
   "source": [
    "df['p_class'] = df.apply(lambda x:label_fasttext(x,'edited_head_line','grades_4'),axis=1)"
   ]
  },
  {
   "cell_type": "code",
   "execution_count": 21,
   "metadata": {
    "Collapsed": "false"
   },
   "outputs": [
    {
     "name": "stdout",
     "output_type": "stream",
     "text": [
      "(2415, 0.8484472049689441, 0.8484472049689441)\n",
      "(2414, 0.8487986743993372, 0.8487986743993372)\n",
      "(2412, 0.8499170812603648, 0.8499170812603648)\n",
      "(2411, 0.8490253007051016, 0.8490253007051016)\n"
     ]
    }
   ],
   "source": [
    "kfold = StratifiedKFold(4, True)\n",
    "for train_index, test_index in kfold.split(df,df[\"grades_4\"]):\n",
    "    write(train_index,test_index,'p_class')\n",
    "    model = fasttext.train_supervised('train.txt',lr = 0.1,epoch=7)\n",
    "    print(model.test('test.txt'))"
   ]
  },
  {
   "cell_type": "code",
   "execution_count": 22,
   "metadata": {
    "Collapsed": "false"
   },
   "outputs": [],
   "source": [
    "df_test[\"grades_4\"] = get_test_predictions(test_lines,model)"
   ]
  },
  {
   "cell_type": "code",
   "execution_count": 23,
   "metadata": {
    "Collapsed": "false"
   },
   "outputs": [
    {
     "data": {
      "text/plain": [
       "2    2206\n",
       "3     213\n",
       "Name: grades_0, dtype: int64"
      ]
     },
     "execution_count": 23,
     "metadata": {},
     "output_type": "execute_result"
    }
   ],
   "source": [
    "df_test.grades_0.value_counts()"
   ]
  },
  {
   "cell_type": "code",
   "execution_count": 24,
   "metadata": {
    "Collapsed": "false"
   },
   "outputs": [
    {
     "data": {
      "text/plain": [
       "1    1834\n",
       "2     541\n",
       "0      38\n",
       "3       6\n",
       "Name: grades_1, dtype: int64"
      ]
     },
     "execution_count": 24,
     "metadata": {},
     "output_type": "execute_result"
    }
   ],
   "source": [
    "df_test.grades_1.value_counts()"
   ]
  },
  {
   "cell_type": "code",
   "execution_count": 25,
   "metadata": {
    "Collapsed": "false"
   },
   "outputs": [
    {
     "data": {
      "text/plain": [
       "1    1547\n",
       "0     864\n",
       "2       8\n",
       "Name: grades_2, dtype: int64"
      ]
     },
     "execution_count": 25,
     "metadata": {},
     "output_type": "execute_result"
    }
   ],
   "source": [
    "df_test.grades_2.value_counts()"
   ]
  },
  {
   "cell_type": "code",
   "execution_count": 26,
   "metadata": {
    "Collapsed": "false"
   },
   "outputs": [
    {
     "data": {
      "text/plain": [
       "0    2286\n",
       "1     133\n",
       "Name: grades_3, dtype: int64"
      ]
     },
     "execution_count": 26,
     "metadata": {},
     "output_type": "execute_result"
    }
   ],
   "source": [
    "df_test.grades_3.value_counts()"
   ]
  },
  {
   "cell_type": "code",
   "execution_count": 27,
   "metadata": {
    "Collapsed": "false"
   },
   "outputs": [
    {
     "data": {
      "text/plain": [
       "0    2417\n",
       "1       2\n",
       "Name: grades_4, dtype: int64"
      ]
     },
     "execution_count": 27,
     "metadata": {},
     "output_type": "execute_result"
    }
   ],
   "source": [
    "df_test.grades_4.value_counts()"
   ]
  },
  {
   "cell_type": "code",
   "execution_count": null,
   "metadata": {
    "Collapsed": "false"
   },
   "outputs": [],
   "source": []
  },
  {
   "cell_type": "code",
   "execution_count": 28,
   "metadata": {
    "Collapsed": "false"
   },
   "outputs": [],
   "source": [
    "df_test[\"meanGrades\"] = df_test[[\"grades_0\",\"grades_1\",\"grades_2\",\"grades_3\",\"grades_4\"]].mean(axis=1)"
   ]
  },
  {
   "cell_type": "code",
   "execution_count": 29,
   "metadata": {
    "Collapsed": "false"
   },
   "outputs": [
    {
     "data": {
      "text/html": [
       "<div>\n",
       "<style scoped>\n",
       "    .dataframe tbody tr th:only-of-type {\n",
       "        vertical-align: middle;\n",
       "    }\n",
       "\n",
       "    .dataframe tbody tr th {\n",
       "        vertical-align: top;\n",
       "    }\n",
       "\n",
       "    .dataframe thead th {\n",
       "        text-align: right;\n",
       "    }\n",
       "</style>\n",
       "<table border=\"1\" class=\"dataframe\">\n",
       "  <thead>\n",
       "    <tr style=\"text-align: right;\">\n",
       "      <th></th>\n",
       "      <th>id</th>\n",
       "      <th>original</th>\n",
       "      <th>edit</th>\n",
       "      <th>edited_head_line</th>\n",
       "      <th>original_cleaned</th>\n",
       "      <th>grades_0</th>\n",
       "      <th>grades_1</th>\n",
       "      <th>grades_2</th>\n",
       "      <th>grades_3</th>\n",
       "      <th>grades_4</th>\n",
       "      <th>meanGrades</th>\n",
       "    </tr>\n",
       "  </thead>\n",
       "  <tbody>\n",
       "    <tr>\n",
       "      <td>0</td>\n",
       "      <td>1723</td>\n",
       "      <td>Thousands of gay and bisexual &lt;men/&gt; convicted...</td>\n",
       "      <td>swans</td>\n",
       "      <td>thousands of gay and bisexual swans convicted ...</td>\n",
       "      <td>thousands of gay and bisexual men convicted of...</td>\n",
       "      <td>2</td>\n",
       "      <td>1</td>\n",
       "      <td>1</td>\n",
       "      <td>0</td>\n",
       "      <td>0</td>\n",
       "      <td>0.8</td>\n",
       "    </tr>\n",
       "    <tr>\n",
       "      <td>1</td>\n",
       "      <td>12736</td>\n",
       "      <td>Special &lt;prosecutor/&gt; appointed to Trump Russia</td>\n",
       "      <td>chef</td>\n",
       "      <td>special chef appointed to trump russia</td>\n",
       "      <td>special prosecutor appointed to trump russia</td>\n",
       "      <td>2</td>\n",
       "      <td>2</td>\n",
       "      <td>1</td>\n",
       "      <td>0</td>\n",
       "      <td>0</td>\n",
       "      <td>1.0</td>\n",
       "    </tr>\n",
       "    <tr>\n",
       "      <td>2</td>\n",
       "      <td>12274</td>\n",
       "      <td>Spanish police detain man and search Ripoll ad...</td>\n",
       "      <td>squad</td>\n",
       "      <td>spanish police detain man and search ripoll ad...</td>\n",
       "      <td>spanish police detain man and search ripoll ad...</td>\n",
       "      <td>3</td>\n",
       "      <td>1</td>\n",
       "      <td>1</td>\n",
       "      <td>0</td>\n",
       "      <td>0</td>\n",
       "      <td>1.0</td>\n",
       "    </tr>\n",
       "    <tr>\n",
       "      <td>3</td>\n",
       "      <td>8823</td>\n",
       "      <td>N.Y. Times &lt;reprimands/&gt; reporter for sharing ...</td>\n",
       "      <td>applauds</td>\n",
       "      <td>n.y. times applauds reporter for sharing unfou...</td>\n",
       "      <td>n.y. times reprimands reporter for sharing unf...</td>\n",
       "      <td>2</td>\n",
       "      <td>2</td>\n",
       "      <td>1</td>\n",
       "      <td>0</td>\n",
       "      <td>0</td>\n",
       "      <td>1.0</td>\n",
       "    </tr>\n",
       "    <tr>\n",
       "      <td>4</td>\n",
       "      <td>5087</td>\n",
       "      <td>Vladimir Putin Releases Video Simulation Of Ru...</td>\n",
       "      <td>balloon</td>\n",
       "      <td>vladimir putin releases video simulation of ru...</td>\n",
       "      <td>vladimir putin releases video simulation of ru...</td>\n",
       "      <td>2</td>\n",
       "      <td>1</td>\n",
       "      <td>0</td>\n",
       "      <td>0</td>\n",
       "      <td>0</td>\n",
       "      <td>0.6</td>\n",
       "    </tr>\n",
       "  </tbody>\n",
       "</table>\n",
       "</div>"
      ],
      "text/plain": [
       "      id                                           original      edit  \\\n",
       "0   1723  Thousands of gay and bisexual <men/> convicted...     swans   \n",
       "1  12736    Special <prosecutor/> appointed to Trump Russia      chef   \n",
       "2  12274  Spanish police detain man and search Ripoll ad...     squad   \n",
       "3   8823  N.Y. Times <reprimands/> reporter for sharing ...  applauds   \n",
       "4   5087  Vladimir Putin Releases Video Simulation Of Ru...   balloon   \n",
       "\n",
       "                                    edited_head_line  \\\n",
       "0  thousands of gay and bisexual swans convicted ...   \n",
       "1             special chef appointed to trump russia   \n",
       "2  spanish police detain man and search ripoll ad...   \n",
       "3  n.y. times applauds reporter for sharing unfou...   \n",
       "4  vladimir putin releases video simulation of ru...   \n",
       "\n",
       "                                    original_cleaned  grades_0  grades_1  \\\n",
       "0  thousands of gay and bisexual men convicted of...         2         1   \n",
       "1       special prosecutor appointed to trump russia         2         2   \n",
       "2  spanish police detain man and search ripoll ad...         3         1   \n",
       "3  n.y. times reprimands reporter for sharing unf...         2         2   \n",
       "4  vladimir putin releases video simulation of ru...         2         1   \n",
       "\n",
       "   grades_2  grades_3  grades_4  meanGrades  \n",
       "0         1         0         0         0.8  \n",
       "1         1         0         0         1.0  \n",
       "2         1         0         0         1.0  \n",
       "3         1         0         0         1.0  \n",
       "4         0         0         0         0.6  "
      ]
     },
     "execution_count": 29,
     "metadata": {},
     "output_type": "execute_result"
    }
   ],
   "source": [
    "df_test.head(5)"
   ]
  },
  {
   "cell_type": "markdown",
   "metadata": {
    "Collapsed": "false"
   },
   "source": [
    "### Kfold for regression"
   ]
  },
  {
   "cell_type": "code",
   "execution_count": 30,
   "metadata": {
    "Collapsed": "false",
    "scrolled": true
   },
   "outputs": [
    {
     "name": "stderr",
     "output_type": "stream",
     "text": [
      "/home/raghavan/anaconda3/envs/semeval_2020/lib/python3.7/site-packages/ipykernel_launcher.py:16: SettingWithCopyWarning: \n",
      "A value is trying to be set on a copy of a slice from a DataFrame.\n",
      "Try using .loc[row_indexer,col_indexer] = value instead\n",
      "\n",
      "See the caveats in the documentation: http://pandas.pydata.org/pandas-docs/stable/user_guide/indexing.html#returning-a-view-versus-a-copy\n",
      "  app.launch_new_instance()\n",
      "/home/raghavan/anaconda3/envs/semeval_2020/lib/python3.7/site-packages/ipykernel_launcher.py:18: SettingWithCopyWarning: \n",
      "A value is trying to be set on a copy of a slice from a DataFrame.\n",
      "Try using .loc[row_indexer,col_indexer] = value instead\n",
      "\n",
      "See the caveats in the documentation: http://pandas.pydata.org/pandas-docs/stable/user_guide/indexing.html#returning-a-view-versus-a-copy\n"
     ]
    },
    {
     "name": "stdout",
     "output_type": "stream",
     "text": [
      "0.5879505661310666\n"
     ]
    },
    {
     "name": "stderr",
     "output_type": "stream",
     "text": [
      "/home/raghavan/anaconda3/envs/semeval_2020/lib/python3.7/site-packages/ipykernel_launcher.py:16: SettingWithCopyWarning: \n",
      "A value is trying to be set on a copy of a slice from a DataFrame.\n",
      "Try using .loc[row_indexer,col_indexer] = value instead\n",
      "\n",
      "See the caveats in the documentation: http://pandas.pydata.org/pandas-docs/stable/user_guide/indexing.html#returning-a-view-versus-a-copy\n",
      "  app.launch_new_instance()\n",
      "/home/raghavan/anaconda3/envs/semeval_2020/lib/python3.7/site-packages/ipykernel_launcher.py:18: SettingWithCopyWarning: \n",
      "A value is trying to be set on a copy of a slice from a DataFrame.\n",
      "Try using .loc[row_indexer,col_indexer] = value instead\n",
      "\n",
      "See the caveats in the documentation: http://pandas.pydata.org/pandas-docs/stable/user_guide/indexing.html#returning-a-view-versus-a-copy\n"
     ]
    },
    {
     "name": "stdout",
     "output_type": "stream",
     "text": [
      "0.6111321667288219\n"
     ]
    },
    {
     "name": "stderr",
     "output_type": "stream",
     "text": [
      "/home/raghavan/anaconda3/envs/semeval_2020/lib/python3.7/site-packages/ipykernel_launcher.py:16: SettingWithCopyWarning: \n",
      "A value is trying to be set on a copy of a slice from a DataFrame.\n",
      "Try using .loc[row_indexer,col_indexer] = value instead\n",
      "\n",
      "See the caveats in the documentation: http://pandas.pydata.org/pandas-docs/stable/user_guide/indexing.html#returning-a-view-versus-a-copy\n",
      "  app.launch_new_instance()\n",
      "/home/raghavan/anaconda3/envs/semeval_2020/lib/python3.7/site-packages/ipykernel_launcher.py:18: SettingWithCopyWarning: \n",
      "A value is trying to be set on a copy of a slice from a DataFrame.\n",
      "Try using .loc[row_indexer,col_indexer] = value instead\n",
      "\n",
      "See the caveats in the documentation: http://pandas.pydata.org/pandas-docs/stable/user_guide/indexing.html#returning-a-view-versus-a-copy\n"
     ]
    },
    {
     "name": "stdout",
     "output_type": "stream",
     "text": [
      "0.590682593473775\n"
     ]
    },
    {
     "name": "stderr",
     "output_type": "stream",
     "text": [
      "/home/raghavan/anaconda3/envs/semeval_2020/lib/python3.7/site-packages/ipykernel_launcher.py:16: SettingWithCopyWarning: \n",
      "A value is trying to be set on a copy of a slice from a DataFrame.\n",
      "Try using .loc[row_indexer,col_indexer] = value instead\n",
      "\n",
      "See the caveats in the documentation: http://pandas.pydata.org/pandas-docs/stable/user_guide/indexing.html#returning-a-view-versus-a-copy\n",
      "  app.launch_new_instance()\n"
     ]
    },
    {
     "name": "stdout",
     "output_type": "stream",
     "text": [
      "0.5985219934898562\n"
     ]
    },
    {
     "name": "stderr",
     "output_type": "stream",
     "text": [
      "/home/raghavan/anaconda3/envs/semeval_2020/lib/python3.7/site-packages/ipykernel_launcher.py:18: SettingWithCopyWarning: \n",
      "A value is trying to be set on a copy of a slice from a DataFrame.\n",
      "Try using .loc[row_indexer,col_indexer] = value instead\n",
      "\n",
      "See the caveats in the documentation: http://pandas.pydata.org/pandas-docs/stable/user_guide/indexing.html#returning-a-view-versus-a-copy\n"
     ]
    }
   ],
   "source": [
    "from sklearn.metrics import mean_squared_error\n",
    "from math import sqrt\n",
    "\n",
    "kfold = KFold(4, True)\n",
    "all_grades = [\"grades_0\",\"grades_1\",\"grades_2\",\"grades_3\",\"grades_4\"]\n",
    "for train_index, test_index in kfold.split(df):\n",
    "    df_dev = df.iloc[test_index]\n",
    "    \n",
    "    for grade in all_grades:\n",
    "        df['p_class'] = df.apply(lambda x:label_fasttext(x,'edited_head_line',grade),axis=1)\n",
    "        write(train_index,test_index,'p_class')\n",
    "        cv_test_lines = df[\"edited_head_line\"].values[test_index]\n",
    "        model = fasttext.train_supervised('train.txt',lr = 0.1,epoch=7)\n",
    "        \n",
    "        \n",
    "        df_dev[grade] = get_test_predictions(cv_test_lines,model)\n",
    "        \n",
    "    df_dev[\"mean_grade_pred\"] = df_dev[all_grades].mean(axis=1)\n",
    "    mean_squared_error\n",
    "    print(sqrt(mean_squared_error(df_dev[\"mean_grade_pred\"],df_dev[\"meanGrade\"])))"
   ]
  },
  {
   "cell_type": "code",
   "execution_count": null,
   "metadata": {
    "Collapsed": "false"
   },
   "outputs": [],
   "source": []
  },
  {
   "cell_type": "code",
   "execution_count": 31,
   "metadata": {
    "Collapsed": "false"
   },
   "outputs": [
    {
     "data": {
      "text/html": [
       "<div>\n",
       "<style scoped>\n",
       "    .dataframe tbody tr th:only-of-type {\n",
       "        vertical-align: middle;\n",
       "    }\n",
       "\n",
       "    .dataframe tbody tr th {\n",
       "        vertical-align: top;\n",
       "    }\n",
       "\n",
       "    .dataframe thead th {\n",
       "        text-align: right;\n",
       "    }\n",
       "</style>\n",
       "<table border=\"1\" class=\"dataframe\">\n",
       "  <thead>\n",
       "    <tr style=\"text-align: right;\">\n",
       "      <th></th>\n",
       "      <th>id</th>\n",
       "      <th>original</th>\n",
       "      <th>edit</th>\n",
       "      <th>grades</th>\n",
       "      <th>meanGrade</th>\n",
       "      <th>grade_round</th>\n",
       "      <th>grades_0</th>\n",
       "      <th>grades_1</th>\n",
       "      <th>grades_2</th>\n",
       "      <th>grades_3</th>\n",
       "      <th>grades_4</th>\n",
       "      <th>edited_head_line</th>\n",
       "      <th>original_cleaned</th>\n",
       "      <th>original_plus_edited</th>\n",
       "      <th>p_class</th>\n",
       "      <th>mean_grade_pred</th>\n",
       "    </tr>\n",
       "  </thead>\n",
       "  <tbody>\n",
       "    <tr>\n",
       "      <td>0</td>\n",
       "      <td>14530</td>\n",
       "      <td>France is ‘ hunting down its citizens who join...</td>\n",
       "      <td>twins</td>\n",
       "      <td>10000</td>\n",
       "      <td>0.2</td>\n",
       "      <td>0</td>\n",
       "      <td>2</td>\n",
       "      <td>1</td>\n",
       "      <td>1</td>\n",
       "      <td>0</td>\n",
       "      <td>0</td>\n",
       "      <td>france is hunting down its citizens who joined...</td>\n",
       "      <td>france is hunting down its citizens who joined...</td>\n",
       "      <td>france is hunting down its citizens who joined...</td>\n",
       "      <td>__label__0  france is hunting down its citizen...</td>\n",
       "      <td>0.8</td>\n",
       "    </tr>\n",
       "    <tr>\n",
       "      <td>2</td>\n",
       "      <td>8731</td>\n",
       "      <td>Iceland PM Calls Snap Vote as Pedophile Furor ...</td>\n",
       "      <td>party</td>\n",
       "      <td>22100</td>\n",
       "      <td>1.0</td>\n",
       "      <td>1</td>\n",
       "      <td>2</td>\n",
       "      <td>1</td>\n",
       "      <td>0</td>\n",
       "      <td>0</td>\n",
       "      <td>0</td>\n",
       "      <td>iceland pm calls snap vote as pedophile furor ...</td>\n",
       "      <td>iceland pm calls snap vote as pedophile furor ...</td>\n",
       "      <td>iceland pm calls snap vote as pedophile furor ...</td>\n",
       "      <td>__label__0  iceland pm calls snap vote as pedo...</td>\n",
       "      <td>0.6</td>\n",
       "    </tr>\n",
       "    <tr>\n",
       "      <td>12</td>\n",
       "      <td>7614</td>\n",
       "      <td>Trump 's 2nd Nominee for &lt;Army/&gt; Secretary Wit...</td>\n",
       "      <td>Class</td>\n",
       "      <td>22100</td>\n",
       "      <td>1.0</td>\n",
       "      <td>1</td>\n",
       "      <td>2</td>\n",
       "      <td>2</td>\n",
       "      <td>1</td>\n",
       "      <td>0</td>\n",
       "      <td>0</td>\n",
       "      <td>trump 's 2nd nominee for class secretary withd...</td>\n",
       "      <td>trump 's 2nd nominee for army secretary withdraws</td>\n",
       "      <td>trump 's 2nd nominee for army secretary withdr...</td>\n",
       "      <td>__label__0  trump 's 2nd nominee for class sec...</td>\n",
       "      <td>1.0</td>\n",
       "    </tr>\n",
       "    <tr>\n",
       "      <td>15</td>\n",
       "      <td>14549</td>\n",
       "      <td>' Chibok &lt;girls/&gt; ' reunited with families</td>\n",
       "      <td>salamis</td>\n",
       "      <td>10000</td>\n",
       "      <td>0.2</td>\n",
       "      <td>0</td>\n",
       "      <td>2</td>\n",
       "      <td>1</td>\n",
       "      <td>1</td>\n",
       "      <td>0</td>\n",
       "      <td>0</td>\n",
       "      <td>chibok salamis reunited with families</td>\n",
       "      <td>chibok girls reunited with families</td>\n",
       "      <td>chibok girls reunited with familieschibok sala...</td>\n",
       "      <td>__label__0  chibok salamis reunited with families</td>\n",
       "      <td>0.8</td>\n",
       "    </tr>\n",
       "    <tr>\n",
       "      <td>19</td>\n",
       "      <td>6822</td>\n",
       "      <td>Erdogan Rejects Arab Demands ; Turkish &lt;Troops...</td>\n",
       "      <td>Turkeys</td>\n",
       "      <td>22110</td>\n",
       "      <td>1.2</td>\n",
       "      <td>1</td>\n",
       "      <td>2</td>\n",
       "      <td>1</td>\n",
       "      <td>1</td>\n",
       "      <td>0</td>\n",
       "      <td>0</td>\n",
       "      <td>erdogan rejects arab demands ; turkish turkeys...</td>\n",
       "      <td>erdogan rejects arab demands ; turkish troops ...</td>\n",
       "      <td>erdogan rejects arab demands ; turkish troops ...</td>\n",
       "      <td>__label__0  erdogan rejects arab demands ; tur...</td>\n",
       "      <td>0.8</td>\n",
       "    </tr>\n",
       "  </tbody>\n",
       "</table>\n",
       "</div>"
      ],
      "text/plain": [
       "       id                                           original     edit  grades  \\\n",
       "0   14530  France is ‘ hunting down its citizens who join...    twins   10000   \n",
       "2    8731  Iceland PM Calls Snap Vote as Pedophile Furor ...    party   22100   \n",
       "12   7614  Trump 's 2nd Nominee for <Army/> Secretary Wit...    Class   22100   \n",
       "15  14549         ' Chibok <girls/> ' reunited with families  salamis   10000   \n",
       "19   6822  Erdogan Rejects Arab Demands ; Turkish <Troops...  Turkeys   22110   \n",
       "\n",
       "    meanGrade  grade_round  grades_0  grades_1  grades_2  grades_3  grades_4  \\\n",
       "0         0.2            0         2         1         1         0         0   \n",
       "2         1.0            1         2         1         0         0         0   \n",
       "12        1.0            1         2         2         1         0         0   \n",
       "15        0.2            0         2         1         1         0         0   \n",
       "19        1.2            1         2         1         1         0         0   \n",
       "\n",
       "                                     edited_head_line  \\\n",
       "0   france is hunting down its citizens who joined...   \n",
       "2   iceland pm calls snap vote as pedophile furor ...   \n",
       "12  trump 's 2nd nominee for class secretary withd...   \n",
       "15              chibok salamis reunited with families   \n",
       "19  erdogan rejects arab demands ; turkish turkeys...   \n",
       "\n",
       "                                     original_cleaned  \\\n",
       "0   france is hunting down its citizens who joined...   \n",
       "2   iceland pm calls snap vote as pedophile furor ...   \n",
       "12  trump 's 2nd nominee for army secretary withdraws   \n",
       "15                chibok girls reunited with families   \n",
       "19  erdogan rejects arab demands ; turkish troops ...   \n",
       "\n",
       "                                 original_plus_edited  \\\n",
       "0   france is hunting down its citizens who joined...   \n",
       "2   iceland pm calls snap vote as pedophile furor ...   \n",
       "12  trump 's 2nd nominee for army secretary withdr...   \n",
       "15  chibok girls reunited with familieschibok sala...   \n",
       "19  erdogan rejects arab demands ; turkish troops ...   \n",
       "\n",
       "                                              p_class  mean_grade_pred  \n",
       "0   __label__0  france is hunting down its citizen...              0.8  \n",
       "2   __label__0  iceland pm calls snap vote as pedo...              0.6  \n",
       "12  __label__0  trump 's 2nd nominee for class sec...              1.0  \n",
       "15  __label__0  chibok salamis reunited with families              0.8  \n",
       "19  __label__0  erdogan rejects arab demands ; tur...              0.8  "
      ]
     },
     "execution_count": 31,
     "metadata": {},
     "output_type": "execute_result"
    }
   ],
   "source": [
    "df_dev.head()"
   ]
  },
  {
   "cell_type": "code",
   "execution_count": null,
   "metadata": {
    "Collapsed": "false"
   },
   "outputs": [],
   "source": []
  },
  {
   "cell_type": "code",
   "execution_count": null,
   "metadata": {
    "Collapsed": "false"
   },
   "outputs": [],
   "source": []
  },
  {
   "cell_type": "markdown",
   "metadata": {
    "Collapsed": "false"
   },
   "source": [
    "### Try stacking instead of average"
   ]
  },
  {
   "cell_type": "code",
   "execution_count": 32,
   "metadata": {
    "Collapsed": "false"
   },
   "outputs": [],
   "source": [
    "ntrain = df.shape[0]\n",
    "ntest = df_test.shape[0]\n",
    "SEED = 0 # for reproducibility\n",
    "NFOLDS = 4 # set folds for out-of-fold prediction\n",
    "# kf = KFold(ntrain, n_folds= NFOLDS, random_state=SEED)\n",
    "\n",
    "# Class to extend the Sklearn classifier\n",
    "class SklearnHelper(object):\n",
    "    def __init__(self, clf, seed=0, params=None):\n",
    "        params['random_state'] = seed\n",
    "        self.clf = clf(**params)\n",
    "\n",
    "    def train(self, x_train, y_train):\n",
    "        self.clf.fit(x_train, y_train)\n",
    "\n",
    "    def predict(self, x):\n",
    "        return self.clf.predict(x)\n",
    "    \n",
    "    def fit(self,x,y):\n",
    "        return self.clf.fit(x,y)\n",
    "    \n",
    "    def feature_importances(self,x,y):\n",
    "        print(self.clf.fit(x,y).feature_importances_)\n",
    "        \n",
    "def write1(df,train,test,columns,dev=False):\n",
    "    if dev:        \n",
    "        with open('test.txt','w',encoding='utf8') as write:\n",
    "            write.writelines('\\n'.join(df[columns[0]].tolist()))\n",
    "    else:\n",
    "        with open('train.txt','w',encoding='utf8') as write:\n",
    "            write.writelines('\\n'.join(df.loc[train,columns[0]].tolist()))\n",
    "        with open('dev.txt','w',encoding='utf8') as write:\n",
    "            write.writelines('\\n'.join(df.loc[test,columns[1]].tolist()))        "
   ]
  },
  {
   "cell_type": "code",
   "execution_count": 33,
   "metadata": {
    "Collapsed": "false"
   },
   "outputs": [],
   "source": [
    "def get_oof(x_train, x_test,grade):\n",
    "    oof_train = np.zeros((ntrain,))\n",
    "    oof_test = np.zeros((ntest,))\n",
    "    oof_test_skf = np.empty((NFOLDS, ntest ))\n",
    "    \n",
    "    skf = StratifiedKFold(n_splits=4)\n",
    "    for i, (train_index, test_index) in enumerate(skf.split(df, df[grade])):\n",
    "        print(\"Doing for fold \" + str(i))\n",
    "        x_tr = x_train.iloc[train_index]\n",
    "        x_te = x_train.iloc[test_index]\n",
    "        \n",
    "        x_tr['p_class'] = x_tr.apply(lambda x:label_fasttext(x,'edited_head_line',grade),axis=1)\n",
    "        write1(x_train,train_index,test_index,['p_class',\"edited_head_line\"])\n",
    "        write1(x_test,[],[],['edited_head_line'],True)\n",
    "        cv_test_lines = x_te[\"edited_head_line\"].values\n",
    "        test_lines = df_test[\"edited_head_line\"].values\n",
    "        model = fasttext.train_supervised('train.txt',lr = 0.1,epoch=7)\n",
    "        \n",
    "#         clf = LinearSVC(random_state=0,max_iter=10000,verbose=2)\n",
    "#         clf.fit(x_tr, y_tr)\n",
    "\n",
    "        oof_train[test_index] = get_test_predictions(cv_test_lines,model)\n",
    "        oof_test_skf[i, :] = get_test_predictions(test_lines,model)\n",
    "\n",
    "    oof_test[:] = oof_test_skf.mean(axis=0)\n",
    "    return oof_train.reshape(-1, 1), oof_test.reshape(-1, 1)"
   ]
  },
  {
   "cell_type": "code",
   "execution_count": 34,
   "metadata": {
    "Collapsed": "false"
   },
   "outputs": [
    {
     "name": "stderr",
     "output_type": "stream",
     "text": [
      "/home/raghavan/anaconda3/envs/semeval_2020/lib/python3.7/site-packages/ipykernel_launcher.py:12: SettingWithCopyWarning: \n",
      "A value is trying to be set on a copy of a slice from a DataFrame.\n",
      "Try using .loc[row_indexer,col_indexer] = value instead\n",
      "\n",
      "See the caveats in the documentation: http://pandas.pydata.org/pandas-docs/stable/user_guide/indexing.html#returning-a-view-versus-a-copy\n",
      "  if sys.path[0] == '':\n"
     ]
    },
    {
     "name": "stdout",
     "output_type": "stream",
     "text": [
      "Doing for fold 0\n",
      "Doing for fold 1\n",
      "Doing for fold 2\n",
      "Doing for fold 3\n",
      "Doing for fold 0\n"
     ]
    },
    {
     "name": "stderr",
     "output_type": "stream",
     "text": [
      "/home/raghavan/anaconda3/envs/semeval_2020/lib/python3.7/site-packages/ipykernel_launcher.py:12: SettingWithCopyWarning: \n",
      "A value is trying to be set on a copy of a slice from a DataFrame.\n",
      "Try using .loc[row_indexer,col_indexer] = value instead\n",
      "\n",
      "See the caveats in the documentation: http://pandas.pydata.org/pandas-docs/stable/user_guide/indexing.html#returning-a-view-versus-a-copy\n",
      "  if sys.path[0] == '':\n"
     ]
    },
    {
     "name": "stdout",
     "output_type": "stream",
     "text": [
      "Doing for fold 1\n",
      "Doing for fold 2\n",
      "Doing for fold 3\n",
      "Doing for fold 0\n"
     ]
    },
    {
     "name": "stderr",
     "output_type": "stream",
     "text": [
      "/home/raghavan/anaconda3/envs/semeval_2020/lib/python3.7/site-packages/ipykernel_launcher.py:12: SettingWithCopyWarning: \n",
      "A value is trying to be set on a copy of a slice from a DataFrame.\n",
      "Try using .loc[row_indexer,col_indexer] = value instead\n",
      "\n",
      "See the caveats in the documentation: http://pandas.pydata.org/pandas-docs/stable/user_guide/indexing.html#returning-a-view-versus-a-copy\n",
      "  if sys.path[0] == '':\n"
     ]
    },
    {
     "name": "stdout",
     "output_type": "stream",
     "text": [
      "Doing for fold 1\n",
      "Doing for fold 2\n",
      "Doing for fold 3\n",
      "Doing for fold 0\n"
     ]
    },
    {
     "name": "stderr",
     "output_type": "stream",
     "text": [
      "/home/raghavan/anaconda3/envs/semeval_2020/lib/python3.7/site-packages/ipykernel_launcher.py:12: SettingWithCopyWarning: \n",
      "A value is trying to be set on a copy of a slice from a DataFrame.\n",
      "Try using .loc[row_indexer,col_indexer] = value instead\n",
      "\n",
      "See the caveats in the documentation: http://pandas.pydata.org/pandas-docs/stable/user_guide/indexing.html#returning-a-view-versus-a-copy\n",
      "  if sys.path[0] == '':\n"
     ]
    },
    {
     "name": "stdout",
     "output_type": "stream",
     "text": [
      "Doing for fold 1\n",
      "Doing for fold 2\n",
      "Doing for fold 3\n"
     ]
    }
   ],
   "source": [
    "et_oof_train_grade0, et_oof_test_grade0 = get_oof(df, df_test,\"grades_0\")\n",
    "et_oof_train_grade1, et_oof_test_grade1 = get_oof(df, df_test,\"grades_1\")\n",
    "et_oof_train_grade2, et_oof_test_grade2 = get_oof(df, df_test,\"grades_2\")\n",
    "et_oof_train_grade3, et_oof_test_grade3 = get_oof(df, df_test,\"grades_3\")\n"
   ]
  },
  {
   "cell_type": "code",
   "execution_count": 35,
   "metadata": {
    "Collapsed": "false"
   },
   "outputs": [
    {
     "data": {
      "text/plain": [
       "(9652, 1)"
      ]
     },
     "execution_count": 35,
     "metadata": {},
     "output_type": "execute_result"
    }
   ],
   "source": [
    "et_oof_train_grade0.shape"
   ]
  },
  {
   "cell_type": "code",
   "execution_count": 36,
   "metadata": {
    "Collapsed": "false"
   },
   "outputs": [
    {
     "data": {
      "text/plain": [
       "(2419, 1)"
      ]
     },
     "execution_count": 36,
     "metadata": {},
     "output_type": "execute_result"
    }
   ],
   "source": [
    "et_oof_test_grade0.shape"
   ]
  },
  {
   "cell_type": "code",
   "execution_count": 37,
   "metadata": {
    "Collapsed": "false"
   },
   "outputs": [],
   "source": [
    "x_train = np.concatenate(( et_oof_train_grade0, et_oof_train_grade1,et_oof_train_grade2 , et_oof_train_grade3), axis=1)\n",
    "x_test = np.concatenate(( et_oof_test_grade0, et_oof_test_grade1, et_oof_test_grade2, et_oof_test_grade3), axis=1)"
   ]
  },
  {
   "cell_type": "code",
   "execution_count": 38,
   "metadata": {
    "Collapsed": "false"
   },
   "outputs": [],
   "source": [
    "# import xgboost as xgb\n",
    "\n",
    "# gbm = xgb.XGBClassifier(\n",
    "#     #learning_rate = 0.02,\n",
    "#  n_estimators= 2000,\n",
    "#  max_depth= 4,\n",
    "#  min_child_weight= 2,\n",
    "#  #gamma=1,\n",
    "#  gamma=0.9,                        \n",
    "#  subsample=0.8,\n",
    "#  colsample_bytree=0.8,\n",
    "#  objective= 'binary:logistic',\n",
    "#  nthread= -1,\n",
    "#  scale_pos_weight=1).fit(x_train, y_train)\n",
    "# predictions = gbm.predict(x_test)"
   ]
  },
  {
   "cell_type": "code",
   "execution_count": 39,
   "metadata": {
    "Collapsed": "false"
   },
   "outputs": [],
   "source": [
    "import xgboost as xgb"
   ]
  },
  {
   "cell_type": "code",
   "execution_count": 40,
   "metadata": {
    "Collapsed": "false"
   },
   "outputs": [],
   "source": [
    "from sklearn.model_selection import KFold\n",
    "from sklearn.metrics import classification_report\n",
    "skf = KFold(n_splits=4)\n",
    "X = x_train\n",
    "y = df[\"meanGrade\"]"
   ]
  },
  {
   "cell_type": "code",
   "execution_count": 41,
   "metadata": {
    "Collapsed": "false"
   },
   "outputs": [
    {
     "name": "stderr",
     "output_type": "stream",
     "text": [
      "/home/raghavan/anaconda3/envs/semeval_2020/lib/python3.7/site-packages/xgboost/core.py:587: FutureWarning: Series.base is deprecated and will be removed in a future version\n",
      "  if getattr(data, 'base', None) is not None and \\\n"
     ]
    },
    {
     "name": "stdout",
     "output_type": "stream",
     "text": [
      "[15:22:47] WARNING: /home/conda/feedstock_root/build_artifacts/xgboost_1572314959925/work/src/objective/regression_obj.cu:152: reg:linear is now deprecated in favor of reg:squarederror.\n",
      "0.5814319871153552\n",
      "[15:22:54] WARNING: /home/conda/feedstock_root/build_artifacts/xgboost_1572314959925/work/src/objective/regression_obj.cu:152: reg:linear is now deprecated in favor of reg:squarederror.\n"
     ]
    },
    {
     "name": "stderr",
     "output_type": "stream",
     "text": [
      "/home/raghavan/anaconda3/envs/semeval_2020/lib/python3.7/site-packages/xgboost/core.py:587: FutureWarning: Series.base is deprecated and will be removed in a future version\n",
      "  if getattr(data, 'base', None) is not None and \\\n"
     ]
    },
    {
     "name": "stdout",
     "output_type": "stream",
     "text": [
      "0.577066058663905\n",
      "[15:23:01] WARNING: /home/conda/feedstock_root/build_artifacts/xgboost_1572314959925/work/src/objective/regression_obj.cu:152: reg:linear is now deprecated in favor of reg:squarederror.\n"
     ]
    },
    {
     "name": "stderr",
     "output_type": "stream",
     "text": [
      "/home/raghavan/anaconda3/envs/semeval_2020/lib/python3.7/site-packages/xgboost/core.py:587: FutureWarning: Series.base is deprecated and will be removed in a future version\n",
      "  if getattr(data, 'base', None) is not None and \\\n"
     ]
    },
    {
     "name": "stdout",
     "output_type": "stream",
     "text": [
      "0.5805780653898097\n",
      "[15:23:09] WARNING: /home/conda/feedstock_root/build_artifacts/xgboost_1572314959925/work/src/objective/regression_obj.cu:152: reg:linear is now deprecated in favor of reg:squarederror.\n"
     ]
    },
    {
     "name": "stderr",
     "output_type": "stream",
     "text": [
      "/home/raghavan/anaconda3/envs/semeval_2020/lib/python3.7/site-packages/xgboost/core.py:587: FutureWarning: Series.base is deprecated and will be removed in a future version\n",
      "  if getattr(data, 'base', None) is not None and \\\n"
     ]
    },
    {
     "name": "stdout",
     "output_type": "stream",
     "text": [
      "0.5946042684302414\n"
     ]
    }
   ],
   "source": [
    "for train_index, test_index in skf.split(X, y):\n",
    "    X_train, X_test = X[train_index], X[test_index]\n",
    "    y_train, y_test = y[train_index], y[test_index]\n",
    "    clf = model = xgb.XGBRegressor(colsample_bytree=0.4,\n",
    "                 gamma=0,                 \n",
    "                 learning_rate=0.07,\n",
    "                 max_depth=3,\n",
    "                 min_child_weight=1.5,\n",
    "                 n_estimators=10000,                                                                    \n",
    "                 reg_alpha=0.75,\n",
    "                 reg_lambda=0.45,\n",
    "                 subsample=0.6,\n",
    "                 seed=42) \n",
    "    clf.fit(X_train,y_train)\n",
    "    y_preds = clf.predict(X_test)\n",
    "    print(sqrt(mean_squared_error(y_preds,y_test)))\n",
    "    "
   ]
  },
  {
   "cell_type": "code",
   "execution_count": 42,
   "metadata": {
    "Collapsed": "false"
   },
   "outputs": [
    {
     "data": {
      "text/plain": [
       "array([[0., 0., 0., 0.],\n",
       "       [0., 0., 0., 0.],\n",
       "       [0., 0., 0., 0.],\n",
       "       ...,\n",
       "       [0., 0., 0., 0.],\n",
       "       [0., 0., 0., 0.],\n",
       "       [0., 0., 0., 0.]])"
      ]
     },
     "execution_count": 42,
     "metadata": {},
     "output_type": "execute_result"
    }
   ],
   "source": [
    "X_train"
   ]
  },
  {
   "cell_type": "code",
   "execution_count": 43,
   "metadata": {
    "Collapsed": "false"
   },
   "outputs": [
    {
     "data": {
      "text/plain": [
       "0       0.2\n",
       "1       1.6\n",
       "2       1.0\n",
       "3       0.4\n",
       "4       0.0\n",
       "       ... \n",
       "9647    0.0\n",
       "9648    0.4\n",
       "9649    0.6\n",
       "9650    1.4\n",
       "9651    0.4\n",
       "Name: meanGrade, Length: 9652, dtype: float64"
      ]
     },
     "execution_count": 43,
     "metadata": {},
     "output_type": "execute_result"
    }
   ],
   "source": [
    "y"
   ]
  },
  {
   "cell_type": "code",
   "execution_count": null,
   "metadata": {
    "Collapsed": "false"
   },
   "outputs": [],
   "source": []
  }
 ],
 "metadata": {
  "kernelspec": {
   "display_name": "semeval2020",
   "language": "python",
   "name": "semeval2020"
  },
  "language_info": {
   "codemirror_mode": {
    "name": "ipython",
    "version": 3
   },
   "file_extension": ".py",
   "mimetype": "text/x-python",
   "name": "python",
   "nbconvert_exporter": "python",
   "pygments_lexer": "ipython3",
   "version": "3.7.4"
  }
 },
 "nbformat": 4,
 "nbformat_minor": 4
}
