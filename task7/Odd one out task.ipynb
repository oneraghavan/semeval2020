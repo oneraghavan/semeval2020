{
 "cells": [
  {
   "cell_type": "code",
   "execution_count": 15,
   "metadata": {
    "Collapsed": "false"
   },
   "outputs": [],
   "source": [
    "import pandas as pd\n",
    "import fasttext\n",
    "import re\n",
    "from sklearn.model_selection import train_test_split,StratifiedKFold,KFold\n",
    "from sklearn.metrics import classification_report\n",
    "import ast\n",
    "import numpy as np\n",
    "import gensim\n",
    "from gensim.models import word2vec\n",
    "pd.set_option('display.max_colwidth', -1)"
   ]
  },
  {
   "cell_type": "code",
   "execution_count": 16,
   "metadata": {
    "Collapsed": "false"
   },
   "outputs": [],
   "source": [
    "df = pd.read_csv('ready_to_serve_train.csv')\n",
    "df_test = pd.read_csv('ready_to_serve_dev.csv')\n",
    "# df_test = df_test[~pd.isnull(df_test.text)]"
   ]
  },
  {
   "cell_type": "code",
   "execution_count": 17,
   "metadata": {
    "Collapsed": "false"
   },
   "outputs": [],
   "source": [
    "test_lines = df_test[\"edited_head_line\"].values"
   ]
  },
  {
   "cell_type": "code",
   "execution_count": 18,
   "metadata": {
    "Collapsed": "false"
   },
   "outputs": [
    {
     "data": {
      "text/html": [
       "<div>\n",
       "<style scoped>\n",
       "    .dataframe tbody tr th:only-of-type {\n",
       "        vertical-align: middle;\n",
       "    }\n",
       "\n",
       "    .dataframe tbody tr th {\n",
       "        vertical-align: top;\n",
       "    }\n",
       "\n",
       "    .dataframe thead th {\n",
       "        text-align: right;\n",
       "    }\n",
       "</style>\n",
       "<table border=\"1\" class=\"dataframe\">\n",
       "  <thead>\n",
       "    <tr style=\"text-align: right;\">\n",
       "      <th></th>\n",
       "      <th>id</th>\n",
       "      <th>original</th>\n",
       "      <th>edit</th>\n",
       "      <th>grades</th>\n",
       "      <th>meanGrade</th>\n",
       "      <th>grade_round</th>\n",
       "      <th>grades_0</th>\n",
       "      <th>grades_1</th>\n",
       "      <th>grades_2</th>\n",
       "      <th>grades_3</th>\n",
       "      <th>grades_4</th>\n",
       "      <th>edited_head_line</th>\n",
       "      <th>original_cleaned</th>\n",
       "    </tr>\n",
       "  </thead>\n",
       "  <tbody>\n",
       "    <tr>\n",
       "      <td>0</td>\n",
       "      <td>14530</td>\n",
       "      <td>France is ‘ hunting down its citizens who joined &lt;Isis/&gt; ’ without trial in Iraq</td>\n",
       "      <td>twins</td>\n",
       "      <td>10000</td>\n",
       "      <td>0.2</td>\n",
       "      <td>0</td>\n",
       "      <td>1</td>\n",
       "      <td>0</td>\n",
       "      <td>0</td>\n",
       "      <td>0</td>\n",
       "      <td>0</td>\n",
       "      <td>france is hunting down its citizens who joined twins ’ without trial in iraq</td>\n",
       "      <td>france is hunting down its citizens who joined isis ’ without trial in iraq</td>\n",
       "    </tr>\n",
       "    <tr>\n",
       "      <td>1</td>\n",
       "      <td>13034</td>\n",
       "      <td>Pentagon claims 2,000 % increase in Russian trolls after &lt;Syria/&gt; strikes . What does that mean ?</td>\n",
       "      <td>bowling</td>\n",
       "      <td>33110</td>\n",
       "      <td>1.6</td>\n",
       "      <td>2</td>\n",
       "      <td>3</td>\n",
       "      <td>3</td>\n",
       "      <td>1</td>\n",
       "      <td>1</td>\n",
       "      <td>0</td>\n",
       "      <td>pentagon claims 2,000 % increase in russian trolls after bowling strikes . what does that mean ?</td>\n",
       "      <td>pentagon claims 2,000 % increase in russian trolls after syria strikes . what does that mean ?</td>\n",
       "    </tr>\n",
       "    <tr>\n",
       "      <td>2</td>\n",
       "      <td>8731</td>\n",
       "      <td>Iceland PM Calls Snap Vote as Pedophile Furor Crashes &lt;Coalition/&gt;</td>\n",
       "      <td>party</td>\n",
       "      <td>22100</td>\n",
       "      <td>1.0</td>\n",
       "      <td>1</td>\n",
       "      <td>2</td>\n",
       "      <td>2</td>\n",
       "      <td>1</td>\n",
       "      <td>0</td>\n",
       "      <td>0</td>\n",
       "      <td>iceland pm calls snap vote as pedophile furor crashes party</td>\n",
       "      <td>iceland pm calls snap vote as pedophile furor crashes coalition</td>\n",
       "    </tr>\n",
       "    <tr>\n",
       "      <td>3</td>\n",
       "      <td>76</td>\n",
       "      <td>In an apparent first , Iran and Israel &lt;engage/&gt; each other militarily</td>\n",
       "      <td>slap</td>\n",
       "      <td>20000</td>\n",
       "      <td>0.4</td>\n",
       "      <td>0</td>\n",
       "      <td>2</td>\n",
       "      <td>0</td>\n",
       "      <td>0</td>\n",
       "      <td>0</td>\n",
       "      <td>0</td>\n",
       "      <td>in an apparent first , iran and israel slap each other militarily</td>\n",
       "      <td>in an apparent first , iran and israel engage each other militarily</td>\n",
       "    </tr>\n",
       "    <tr>\n",
       "      <td>4</td>\n",
       "      <td>6164</td>\n",
       "      <td>Trump was told weeks ago that Flynn misled &lt;Vice/&gt; President .</td>\n",
       "      <td>school</td>\n",
       "      <td>0</td>\n",
       "      <td>0.0</td>\n",
       "      <td>0</td>\n",
       "      <td>0</td>\n",
       "      <td>0</td>\n",
       "      <td>0</td>\n",
       "      <td>0</td>\n",
       "      <td>0</td>\n",
       "      <td>trump was told weeks ago that flynn misled school president .</td>\n",
       "      <td>trump was told weeks ago that flynn misled vice president .</td>\n",
       "    </tr>\n",
       "  </tbody>\n",
       "</table>\n",
       "</div>"
      ],
      "text/plain": [
       "      id  \\\n",
       "0  14530   \n",
       "1  13034   \n",
       "2  8731    \n",
       "3  76      \n",
       "4  6164    \n",
       "\n",
       "                                                                                            original  \\\n",
       "0  France is ‘ hunting down its citizens who joined <Isis/> ’ without trial in Iraq                    \n",
       "1  Pentagon claims 2,000 % increase in Russian trolls after <Syria/> strikes . What does that mean ?   \n",
       "2  Iceland PM Calls Snap Vote as Pedophile Furor Crashes <Coalition/>                                  \n",
       "3  In an apparent first , Iran and Israel <engage/> each other militarily                              \n",
       "4  Trump was told weeks ago that Flynn misled <Vice/> President .                                      \n",
       "\n",
       "      edit  grades  meanGrade  grade_round  grades_0  grades_1  grades_2  \\\n",
       "0  twins    10000   0.2        0            1         0         0          \n",
       "1  bowling  33110   1.6        2            3         3         1          \n",
       "2  party    22100   1.0        1            2         2         1          \n",
       "3  slap     20000   0.4        0            2         0         0          \n",
       "4  school   0       0.0        0            0         0         0          \n",
       "\n",
       "   grades_3  grades_4  \\\n",
       "0  0         0          \n",
       "1  1         0          \n",
       "2  0         0          \n",
       "3  0         0          \n",
       "4  0         0          \n",
       "\n",
       "                                                                                   edited_head_line  \\\n",
       "0  france is hunting down its citizens who joined twins ’ without trial in iraq                       \n",
       "1  pentagon claims 2,000 % increase in russian trolls after bowling strikes . what does that mean ?   \n",
       "2  iceland pm calls snap vote as pedophile furor crashes party                                        \n",
       "3  in an apparent first , iran and israel slap each other militarily                                  \n",
       "4  trump was told weeks ago that flynn misled school president .                                      \n",
       "\n",
       "                                                                                 original_cleaned  \n",
       "0  france is hunting down its citizens who joined isis ’ without trial in iraq                     \n",
       "1  pentagon claims 2,000 % increase in russian trolls after syria strikes . what does that mean ?  \n",
       "2  iceland pm calls snap vote as pedophile furor crashes coalition                                 \n",
       "3  in an apparent first , iran and israel engage each other militarily                             \n",
       "4  trump was told weeks ago that flynn misled vice president .                                     "
      ]
     },
     "execution_count": 18,
     "metadata": {},
     "output_type": "execute_result"
    }
   ],
   "source": [
    "df.head(5)"
   ]
  },
  {
   "cell_type": "code",
   "execution_count": 19,
   "metadata": {
    "Collapsed": "false"
   },
   "outputs": [
    {
     "data": {
      "text/html": [
       "<div>\n",
       "<style scoped>\n",
       "    .dataframe tbody tr th:only-of-type {\n",
       "        vertical-align: middle;\n",
       "    }\n",
       "\n",
       "    .dataframe tbody tr th {\n",
       "        vertical-align: top;\n",
       "    }\n",
       "\n",
       "    .dataframe thead th {\n",
       "        text-align: right;\n",
       "    }\n",
       "</style>\n",
       "<table border=\"1\" class=\"dataframe\">\n",
       "  <thead>\n",
       "    <tr style=\"text-align: right;\">\n",
       "      <th></th>\n",
       "      <th>original</th>\n",
       "      <th>edit</th>\n",
       "    </tr>\n",
       "  </thead>\n",
       "  <tbody>\n",
       "    <tr>\n",
       "      <td>0</td>\n",
       "      <td>France is ‘ hunting down its citizens who joined &lt;Isis/&gt; ’ without trial in Iraq</td>\n",
       "      <td>twins</td>\n",
       "    </tr>\n",
       "    <tr>\n",
       "      <td>1</td>\n",
       "      <td>Pentagon claims 2,000 % increase in Russian trolls after &lt;Syria/&gt; strikes . What does that mean ?</td>\n",
       "      <td>bowling</td>\n",
       "    </tr>\n",
       "    <tr>\n",
       "      <td>2</td>\n",
       "      <td>Iceland PM Calls Snap Vote as Pedophile Furor Crashes &lt;Coalition/&gt;</td>\n",
       "      <td>party</td>\n",
       "    </tr>\n",
       "    <tr>\n",
       "      <td>3</td>\n",
       "      <td>In an apparent first , Iran and Israel &lt;engage/&gt; each other militarily</td>\n",
       "      <td>slap</td>\n",
       "    </tr>\n",
       "    <tr>\n",
       "      <td>4</td>\n",
       "      <td>Trump was told weeks ago that Flynn misled &lt;Vice/&gt; President .</td>\n",
       "      <td>school</td>\n",
       "    </tr>\n",
       "  </tbody>\n",
       "</table>\n",
       "</div>"
      ],
      "text/plain": [
       "                                                                                            original  \\\n",
       "0  France is ‘ hunting down its citizens who joined <Isis/> ’ without trial in Iraq                    \n",
       "1  Pentagon claims 2,000 % increase in Russian trolls after <Syria/> strikes . What does that mean ?   \n",
       "2  Iceland PM Calls Snap Vote as Pedophile Furor Crashes <Coalition/>                                  \n",
       "3  In an apparent first , Iran and Israel <engage/> each other militarily                              \n",
       "4  Trump was told weeks ago that Flynn misled <Vice/> President .                                      \n",
       "\n",
       "      edit  \n",
       "0  twins    \n",
       "1  bowling  \n",
       "2  party    \n",
       "3  slap     \n",
       "4  school   "
      ]
     },
     "execution_count": 19,
     "metadata": {},
     "output_type": "execute_result"
    }
   ],
   "source": [
    "df[[\"original\",\"edit\"]].head(5)"
   ]
  },
  {
   "cell_type": "code",
   "execution_count": 13,
   "metadata": {
    "Collapsed": "false"
   },
   "outputs": [],
   "source": [
    "sentences = word2vec.Text8Corpus('/data/gensim/text8')\n",
    "model = word2vec.Word2Vec(sentences, size = 200)"
   ]
  },
  {
   "cell_type": "code",
   "execution_count": 24,
   "metadata": {
    "Collapsed": "false"
   },
   "outputs": [
    {
     "name": "stderr",
     "output_type": "stream",
     "text": [
      "/home/raghavan/anaconda3/envs/semeval_2020/lib/python3.7/site-packages/ipykernel_launcher.py:1: DeprecationWarning: Call to deprecated `doesnt_match` (Method will be removed in 4.0.0, use self.wv.doesnt_match() instead).\n",
      "  \"\"\"Entry point for launching an IPython kernel.\n"
     ]
    },
    {
     "data": {
      "text/plain": [
       "'joined'"
      ]
     },
     "execution_count": 24,
     "metadata": {},
     "output_type": "execute_result"
    }
   ],
   "source": [
    "model.doesnt_match(\"France  hunting down citizens who joined Isis without trial in Iraq twins\".split())"
   ]
  },
  {
   "cell_type": "code",
   "execution_count": null,
   "metadata": {
    "Collapsed": "false"
   },
   "outputs": [],
   "source": []
  }
 ],
 "metadata": {
  "kernelspec": {
   "display_name": "semeval2020",
   "language": "python",
   "name": "semeval2020"
  },
  "language_info": {
   "codemirror_mode": {
    "name": "ipython",
    "version": 3
   },
   "file_extension": ".py",
   "mimetype": "text/x-python",
   "name": "python",
   "nbconvert_exporter": "python",
   "pygments_lexer": "ipython3",
   "version": "3.7.4"
  }
 },
 "nbformat": 4,
 "nbformat_minor": 4
}
