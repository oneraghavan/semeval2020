{
 "cells": [
  {
   "cell_type": "code",
   "execution_count": 1,
   "metadata": {},
   "outputs": [],
   "source": [
    "import pandas as pd\n",
    "import glob\n",
    "import swifter\n",
    "path = r'/data/semeval-2020/task-11/datasets/train-tagged_article/'\n",
    "all_files = glob.glob(path + \"/*.txt\")\n",
    "\n",
    "content_tuple = []\n",
    "\n",
    "for filename in all_files:\n",
    "    file = open(filename)\n",
    "    content = \"\".join(file.readlines()).replace(\"\\n\",\" \")\n",
    "    article_id = filename.split(\"article\")[-1].split(\".txt\")[0]\n",
    "    content_tuple.append((article_id,content))"
   ]
  },
  {
   "cell_type": "code",
   "execution_count": 2,
   "metadata": {},
   "outputs": [],
   "source": [
    "content_df = pd.DataFrame(content_tuple,columns=[\"article_id\",\"content\"])"
   ]
  },
  {
   "cell_type": "code",
   "execution_count": 3,
   "metadata": {},
   "outputs": [
    {
     "data": {
      "text/html": [
       "<div>\n",
       "<style scoped>\n",
       "    .dataframe tbody tr th:only-of-type {\n",
       "        vertical-align: middle;\n",
       "    }\n",
       "\n",
       "    .dataframe tbody tr th {\n",
       "        vertical-align: top;\n",
       "    }\n",
       "\n",
       "    .dataframe thead th {\n",
       "        text-align: right;\n",
       "    }\n",
       "</style>\n",
       "<table border=\"1\" class=\"dataframe\">\n",
       "  <thead>\n",
       "    <tr style=\"text-align: right;\">\n",
       "      <th></th>\n",
       "      <th>article_id</th>\n",
       "      <th>content</th>\n",
       "    </tr>\n",
       "  </thead>\n",
       "  <tbody>\n",
       "    <tr>\n",
       "      <td>0</td>\n",
       "      <td>762956953</td>\n",
       "      <td>Iran Admits To Aiding Al-Qaeda and Facilitatin...</td>\n",
       "    </tr>\n",
       "    <tr>\n",
       "      <td>1</td>\n",
       "      <td>787529309</td>\n",
       "      <td>The Last-Minute &lt;span-11 Character Assassinati...</td>\n",
       "    </tr>\n",
       "    <tr>\n",
       "      <td>2</td>\n",
       "      <td>999001296</td>\n",
       "      <td>Altered Election Documents Tied To Florida Dem...</td>\n",
       "    </tr>\n",
       "  </tbody>\n",
       "</table>\n",
       "</div>"
      ],
      "text/plain": [
       "  article_id                                            content\n",
       "0  762956953  Iran Admits To Aiding Al-Qaeda and Facilitatin...\n",
       "1  787529309  The Last-Minute <span-11 Character Assassinati...\n",
       "2  999001296  Altered Election Documents Tied To Florida Dem..."
      ]
     },
     "execution_count": 3,
     "metadata": {},
     "output_type": "execute_result"
    }
   ],
   "source": [
    "content_df.head(3)"
   ]
  },
  {
   "cell_type": "code",
   "execution_count": 4,
   "metadata": {},
   "outputs": [],
   "source": [
    "import spacy; from spacy.lang.en import English; nlp = English()\n",
    "nlp.add_pipe(nlp.create_pipe('sentencizer'))\n",
    "\n",
    "def create_sentences(row):\n",
    "    dataset = []\n",
    "    article_id = row.article_id\n",
    "    doc = nlp(row.content)\n",
    "    sentences = list(doc.sents)\n",
    "    for sent in sentences:\n",
    "        dataset.append((article_id,str(sent)))\n",
    "    return dataset"
   ]
  },
  {
   "cell_type": "code",
   "execution_count": 5,
   "metadata": {},
   "outputs": [
    {
     "name": "stderr",
     "output_type": "stream",
     "text": [
      "/home/raghavan/anaconda3/envs/semeval_2020/lib/python3.7/site-packages/tqdm/std.py:648: FutureWarning: The Panel class is removed from pandas. Accessing it from the top-level namespace will also be removed in the next version\n",
      "  from pandas import Panel\n"
     ]
    },
    {
     "data": {
      "application/vnd.jupyter.widget-view+json": {
       "model_id": "85f0c65c2cdb4b6c85e55a4baa69da47",
       "version_major": 2,
       "version_minor": 0
      },
      "text/plain": [
       "HBox(children=(IntProgress(value=0, description='Pandas Apply', max=371, style=ProgressStyle(description_width…"
      ]
     },
     "metadata": {},
     "output_type": "display_data"
    },
    {
     "name": "stdout",
     "output_type": "stream",
     "text": [
      "\n"
     ]
    }
   ],
   "source": [
    "a = content_df.swifter.apply(lambda x: create_sentences(x),axis=1).values.tolist()"
   ]
  },
  {
   "cell_type": "code",
   "execution_count": 6,
   "metadata": {
    "scrolled": true
   },
   "outputs": [
    {
     "data": {
      "text/plain": [
       "[[('762956953',\n",
       "   'Iran Admits To Aiding Al-Qaeda and Facilitating 9/11 Jihad Terror Attacks  This has long been known, although the mainstream media dismissed it as a conspiracy theory.'),\n",
       "  ('762956953', 'But now we have definitive confirmation.'),\n",
       "  ('762956953', 'It was Iran Bush should have invaded after 9/11 , not Iraq.'),\n",
       "  ('762956953',\n",
       "   'Now consider this: even though, as President of the United States, Barack Obama had access to information that the general public does not have, and certainly knew of Iran’s involvement in the 9/11 attacks, Obama still pursued the Iran nuclear deal and gave billions to the Islamic Republic.'),\n",
       "  ('762956953',\n",
       "   'The Iran nuclear deal should never have proceeded — President Obama, <span-6 the worst president in American history 6-/span> . “'),\n",
       "  ('762956953',\n",
       "   'Iran Admits To Facilitating 9/11 Terror Attacks,” by Adam Kredo, Washington Free Beacon, June 8, 2018: Iranian officials, in a first, have admitted to facilitating the 9/11 terrorist attacks in the U.S. by secretly aiding the free travel of al Qaeda operatives who eventually went on to fly commercial airliners into the Twin Towers in New York City, according to new remarks from a senior Iranian official.'),\n",
       "  ('762956953',\n",
       "   'Mohammad-Javad Larijani, an international affairs assistant in the Iran’s judiciary, disclosed in Farsi-language remarks broadcast on Iran’s state-controlled television that Iranian intelligence officials secretly helped provide the al Qaeda attackers with passage and gave them refuge in the Islamic Republic, according to an English translation published by Al Arabiya. “'),\n",
       "  ('762956953',\n",
       "   'Our government agreed not to stamp the passports of some of them because they were on transit flights for two hours, and they were resuming their flights without having their passports stamped.'),\n",
       "  ('762956953',\n",
       "   'However their movements were under the complete supervision of the Iranian intelligence,” Larijani was quoted as saying.'),\n",
       "  ('762956953',\n",
       "   'The remarks represent the first time senior Iranian officials have publicly admitted to aiding al Qaeda and playing a direct role in facilitating the 9/11 attacks.'),\n",
       "  ('762956953',\n",
       "   'The U.S. government has long accused Iran of playing a role in the attacks and even fined the Islamic Republic billions as a result.'),\n",
       "  ('762956953',\n",
       "   'The U.S. 9/11 Commission assembled to investigate the attacks concluded that Iran played a role in facilitating the al Qaeda terrorists.'),\n",
       "  ('762956953',\n",
       "   'Larijani admitted that Iranian officials did not stamp the passports of the al Qaeda militants in order to obfuscate their movements and prevent detection by foreign governments.'),\n",
       "  ('762956953', 'Al Qaeda operative also were given safe refuge in Iran….'),\n",
       "  ('762956953', 'Article posted with permission from Pamela Geller')],\n",
       " [('787529309',\n",
       "   'The Last-Minute <span-11 Character Assassination  11-/span>of Judge Kavanaugh  Using any <span-8 despicable tactic  8-/span>at hand to derail Judge Brett Kavanaugh’s Supreme Court confirmation less than a week before the Senate Judiciary Committee is scheduled to vote on whether to approve his nomination, Senate Democrats <span-8 have sunk to their lowest level  8-/span>of <span-11 character assassination  11-/span>yet.'),\n",
       "  ('787529309',\n",
       "   'They have resorted to peddling an allegation of sexual misconduct against Judge Kavanaugh that supposedly occurred while the judge was in high school.'),\n",
       "  ('787529309',\n",
       "   'The accuser had refused to identify herself before and during the Senate Judiciary Committee hearings.'),\n",
       "  ('787529309',\n",
       "   'She conveniently waited until this Sunday to come forward via an on-the-record interview with the Washington Post.'),\n",
       "  ('787529309',\n",
       "   'The accuser’s name is Christine Blasey Ford, a registered Democrat who is currently a California professor teaching clinical psychology.'),\n",
       "  ('787529309',\n",
       "   'Judge Kavanaugh issued a statement on Friday in which he said, \"I <span-8 categorically and unequivocally deny  8-/span>this allegation.'),\n",
       "  ('787529309', 'I did not do this back in high school or at any time.\"'),\n",
       "  ('787529309', 'Senator Dianne Feinstein (D-Calif.),'),\n",
       "  ('787529309',\n",
       "   'the ranking Democrat on the Senate Judiciary Committee that heard Judge Kavanaugh’s public testimony earlier this month during his Supreme Court confirmation hearing, had received last July a copy of a letter written by the woman making the charge, who we now know was Ms. Ford.'),\n",
       "  ('787529309',\n",
       "   'Even though Senator Feinstein had the letter in hand, she never brought up the charge during the public hearing, nor during her own meeting with the judge.'),\n",
       "  ('787529309',\n",
       "   'Instead, Senator Feinstein sat on the letter until late last week, when she issued a cryptic release stating that she had received the letter but did not want to give more details in deference to the woman’s wish to keep the matter confidential.'),\n",
       "  ('787529309', 'Senator Feinstein turned the letter over to the FBI.'),\n",
       "  ('787529309',\n",
       "   'The FBI placed the letter in its background file on Judge Kavanaugh but decided not to pursue any further investigation.'),\n",
       "  ('787529309',\n",
       "   'Senator Feinstein had initially resisted sharing the contents of the letter with her fellow Democrat members of the Senate Judiciary Committee or to go public with its existence because “the incident was too distant in the past to merit public discussion” and she had already “taken care of it,” according to a source quoted by The New Yorker.'),\n",
       "  ('787529309',\n",
       "   'Nevertheless, Senator Feinstein evidently bowed to pressure from her <span-9 leftist colleagues  9-/span>to find a way to insert the allegation into the <span-8 cesspool of public gossip  8-/span>at the eleventh hour.'),\n",
       "  ('787529309',\n",
       "   'The New Yorker article, written before Ms. Ford publicly identified herself, provided some details regarding her allegation.'),\n",
       "  ('787529309',\n",
       "   'However, now Ms. Ford has decided to do what she called her “civic responsibility” and tell her own story publicly.'),\n",
       "  ('787529309',\n",
       "   '<span-8 How convenient 8-/span>, coming just 4 days before the scheduled Senate Judiciary Committee vote!'),\n",
       "  ('787529309',\n",
       "   \"The whole sequence of events surrounding how this allegation has suddenly come to light <span-8 reeks  8-/span>of a set-up, reminiscent of how Anita Hill surfaced in a last-minute attempt to derail Justice Clarence Thomas's Supreme Court confirmation.\"),\n",
       "  ('787529309',\n",
       "   'Christine Blasey Ford claims, according to the Washington Post article, that “one summer in the early 1980s, Kavanaugh and a friend — both ‘<span-8 stumbling drunk 8-/span>,’ Ford alleges — corralled her into a bedroom during a gathering of teenagers at a house in Montgomery County.'),\n",
       "  ('787529309',\n",
       "   'While his friend watched, she said, Kavanaugh pinned her to a bed on her back and groped her over her clothes, grinding his body against hers and clumsily attempting to pull off her one-piece bathing suit and the clothing she wore over it.'),\n",
       "  ('787529309',\n",
       "   'When she tried to scream, she said, he put his hand over her mouth. ‘'),\n",
       "  ('787529309', 'I thought he might inadvertently kill me,’ said Ford. ‘'),\n",
       "  ('787529309', 'He was trying to attack me and remove my clothing.’”'),\n",
       "  ('787529309',\n",
       "   'Ms. Ford said she was able to escape the room and go home without any apparent further incident after “Kavanaugh’s friend and classmate at Georgetown Preparatory School, Mark Judge, jumped on top of them, sending all three tumbling.”'),\n",
       "  ('787529309',\n",
       "   'Here is where Ms. Ford’s story becomes quite murky and begins to fall apart.'),\n",
       "  ('787529309',\n",
       "   'Although Ms. Ford believes the alleged incident occurred during the summer of 1982, she “said she does not remember some key details of the incident,” according to the Washington Post article.'),\n",
       "  ('787529309',\n",
       "   'For example, Ms. Ford “said she does not remember how the gathering came together the night of the incident.”'),\n",
       "  ('787529309', 'She also does not remember how she got home.'),\n",
       "  ('787529309',\n",
       "   'Yet she claims to be absolutely certain that Kavanaugh, whom she presumably knew only as an acquaintance and said she had not spoken to since the night the incident allegedly occurred, was involved in the alleged incident.'),\n",
       "  ('787529309',\n",
       "   'Ms. Ford admitted that she “told no one at the time what had happened to her.”'),\n",
       "  ('787529309',\n",
       "   'In fact, she said she recalled thinking: “I’m not ever telling anyone this.'),\n",
       "  ('787529309', 'This is nothing, it didn’t happen, and he didn’t rape me.”'),\n",
       "  ('787529309',\n",
       "   'Even if one explains this behavior as the natural reaction of a frightened teenager to a highly traumatic incident, that does not explain why, by her own admission, she “told no one of the incident in any detail until 2012, when she was in couples therapy with her husband,” according to the Washington Post article.'),\n",
       "  ('787529309',\n",
       "   'Most revealingly, the article reported on a <span-8 gaping hole in the therapist’s notes 8-/span>, portions of which were provided by Ms. Ford for the Washington Post’s review.'),\n",
       "  ('787529309',\n",
       "   'The therapist’s notes “do not mention Kavanaugh’s name but say she reported that she was attacked by students ‘from an <span-9 elitist boys’ school 9-/span>’ who went on to become ‘highly respected and high-ranking members of society in Washington.’”'),\n",
       "  ('787529309',\n",
       "   'In other words, the only written documentation Ms. Ford has offered in support of her allegation about the incident she said took place while she was in high school – a therapist’s notes of a couples therapy session occurring 30 years after the alleged incident – did not mention Judge Kavanaugh’s name.'),\n",
       "  ('787529309',\n",
       "   'Judge Kavanaugh has had extensive background checks performed on him in the past for his various federal government positions, including for his current position as a federal appellate court judge, without the accusation ever having surfaced.'),\n",
       "  ('787529309',\n",
       "   '<span-5 Ms. Ford may believe her story to be true, but the lack of any credible corroborating evidence, her partial memory of details surrounding the alleged incident, and the absence of any pattern of such sexual misconduct by Judge Kavanaugh undercut the reliability of her version of the incident 5-/span>.'),\n",
       "  ('787529309',\n",
       "   'In a letter addressed to Senate Judiciary Committee Chairman Charles Grassley (R-Iowa) and Senator Feinstein, 65 women who said they knew Judge Kavanaugh in high school vouched for his character: We are women who have known Brett Kavanaugh for more than 35 years and knew him while he attended high school between 1979 and 1983.'),\n",
       "  ('787529309',\n",
       "   '<span-0 For the entire time we have known Brett Kavanaugh, he has behaved honorably and treated women with respect 0-/span>… Brett attended Georgetown Prep, an all-boys high school in Rockville, Maryland.'),\n",
       "  ('787529309',\n",
       "   'He was an outstanding student and athlete with a wide circle of friends.'),\n",
       "  ('787529309',\n",
       "   'Almost all of us attended all-girls high schools in the area.'),\n",
       "  ('787529309',\n",
       "   'We knew Brett well through social events, sports, church, and various other activities.'),\n",
       "  ('787529309',\n",
       "   'Many of us have remained close friends with him and his family over the years.'),\n",
       "  ('787529309',\n",
       "   'Through the more than 35 years we have known him, Brett has stood out for his friendship, character, and integrity.'),\n",
       "  ('787529309',\n",
       "   'In particular, he has always treated women with decency and respect.'),\n",
       "  ('787529309',\n",
       "   'That was true when he was in high school, and it has remained true to this day.'),\n",
       "  ('787529309',\n",
       "   'The signers of this letter hold a broad range of political views.'),\n",
       "  ('787529309',\n",
       "   'Many of us are not lawyers, but we know Brett Kavanaugh as a person.'),\n",
       "  ('787529309', 'And he has always been a good person.'),\n",
       "  ('787529309',\n",
       "   'Nevertheless, using <span-8 their standard contemptible, obstructionist tactics 8-/span>, the Democrats opposed to Judge Kavanaugh happily seized on the unsubstantiated allegation of teen sexual misbehavior in high school to <span-11 assassinate Judge Kavanaugh’s character 11-/span>.'),\n",
       "  ('787529309',\n",
       "   'They have done so in the face of Judge Kavanaugh’s lifetime record of stellar public service, multiple background checks producing no evidence of sexual misconduct, and the letter written by the 65 women, who knew him when he was in high school and thereafter and who signed their names to a ringing endorsement of his good character.'),\n",
       "  ('787529309',\n",
       "   'Feminists <span-4 gave the <span-9 serial sexual predator 9-/span>Bill Clinton a free pass because his policies were in line with their ideology 4-/span>.'),\n",
       "  ('787529309',\n",
       "   'Senator Feinstein called <span-9 Ted “Chappaquiddick” Kennedy  9-/span>an \"inspiration and a friend,\" presumably also based on their compatible ideologies.'),\n",
       "  ('787529309',\n",
       "   'Hypocritically exploiting an unsubstantiated allegation of decades-old purported teenage sexual mischief, Democrats <span-8 seeking to torpedo  8-/span>Judge Kavanaugh’s Supreme Court confirmation for ideological reasons have debased themselves with a <span-8 shameless smear campaign  8-/span>against an eminently qualified candidate for the Supreme Court.'),\n",
       "  ('787529309',\n",
       "   'Predictably, Senate Minority Leader Charles Schumer (D-N.Y.) and other Democrats, including Senator Feinstein, have called for the Senate to postpone a vote on Judge Kavanaugh. \"'),\n",
       "  ('787529309',\n",
       "   'Senator Grassley must postpone the vote until, at a very minimum, these serious and credible allegations are thoroughly investigated,” Senator Schumer said.'),\n",
       "  ('787529309',\n",
       "   \"If a thorough investigation was considered to be so important, <span-5 why didn't Senator Feinstein set the ball rolling back in July when she first received word of the allegation 5-/span>?\"),\n",
       "  ('787529309',\n",
       "   \"The answer is that <span-4 this is all a ruse to block Judge Kavanaugh's confirmation by all means necessary 4-/span>.\"),\n",
       "  ('787529309',\n",
       "   'Senator Schumer is fulfilling his promise to oppose Judge Kavanaugh with \"everything I\\'ve got.\"'),\n",
       "  ('787529309',\n",
       "   \"As of now, the Senate Judiciary Committee Republican majority plans to move forward with Judge Kavanaugh's nomination as scheduled.\"),\n",
       "  ('787529309',\n",
       "   'It is time for the Democrat obstructionists to <span-8 slink back into their shadowy corner 8-/span>.')],\n",
       " [('999001296',\n",
       "   'Altered Election Documents Tied To Florida Democrats Reviewed By Federal Prosecutors  <span-8 It is high time  8-/span>that this begin.'),\n",
       "  ('999001296',\n",
       "   'The Democrats are committing voter fraud <span-6 on a <span-8 massive 8-/span>scale 6-/span>, and not only in Florida, but in Arizona, Georgia, California and elsewhere.'),\n",
       "  ('999001296',\n",
       "   'In Arizona, it is already over, and <span-9 a pro-jihad Marxist Democrat  9-/span>who lost the election will be going to the Senate.'),\n",
       "  ('999001296',\n",
       "   'In Florida, <span-7 the Democrats are likewise working feverishly to overturn the will of the people 7-/span>.'),\n",
       "  ('999001296',\n",
       "   '<span-6 They are <span-8 insane 8-/span>in their lust for power, and will destroy even our democratic system to get it 6-/span>. “'),\n",
       "  ('999001296',\n",
       "   'Federal prosecutors reviewing altered election documents tied to Florida Democrats,” by Matt Dixon, Politico, November 14, 2018: TALLAHASSEE — The Florida Department of State last week asked federal prosecutors to investigate dates that were changed on official state election documents, the first voting “irregularities” it has flagged in the wake of the 2018 elections.'),\n",
       "  ('999001296',\n",
       "   'take our poll - story continues below Should Jim Acosta have gotten his press pass back?'),\n",
       "  ('999001296', 'Should Jim Acosta have gotten his press pass back?'),\n",
       "  ('999001296', 'Should Jim Acosta have gotten his press pass back? *'),\n",
       "  ('999001296', 'Yes, he should have gotten it back.'),\n",
       "  ('999001296', \"No, you can't act like a child and keep your pass.\"),\n",
       "  ('999001296', 'Maybe?'),\n",
       "  ('999001296', \"I'm not sure if he should have.\"),\n",
       "  ('999001296',\n",
       "   'Email * Name This field is for validation purposes and should be left unchanged.'),\n",
       "  ('999001296',\n",
       "   'Completing this poll grants you access to Freedom Outpost updates free of charge.'),\n",
       "  ('999001296', 'You may opt out at anytime.'),\n",
       "  ('999001296',\n",
       "   \"You also agree to this site's Privacy Policy and Terms of Use.\"),\n",
       "  ('999001296',\n",
       "   'The concerns, which the department says can be tied to the Florida Democratic Party, center around date changes on forms used to fix vote-by-mail ballots sent with incorrect or missing information.'),\n",
       "  ('999001296',\n",
       "   'Known as “cure affidavits,” those documents used to fix mail ballots were due no later than 5 p.m. on Nov. 5 — the day before the election.'),\n",
       "  ('999001296',\n",
       "   'But affidavits released on Tuesday by the DOS show that documents from four different counties said the ballots could be returned by 5 p.m. on Thursday, which is not accurate.'),\n",
       "  ('999001296',\n",
       "   'Audio of a Florida Democratic Party caller leaving a voicemail message asking a Palm Beach County voter to fix their vote by mail ballot after Election Day, which is not allowed, was also sent to POLITICO separately.'),\n",
       "  ('999001296',\n",
       "   'It was not part of the information turned over to federal prosecutors.'),\n",
       "  ('999001296',\n",
       "   'Among the counties in question is Broward, which emerged as the epicenter of controversy as three statewide races and three local legislative races went into recounts following the Nov. 6 elections.'),\n",
       "  ('999001296',\n",
       "   '<span-5 Republicans have pointed to <span-9 embattled Broward Elections chief Brenda Snipes9-/span>’ record of <span-8 past election gaffes 8-/span>in arguing that the largely Democratic country is tilted against them — perhaps fraudulently so 5-/span>.'),\n",
       "  ('999001296',\n",
       "   'DOS officials have repeatedly told the media that the monitors they sent to Broward County saw no election fraud.'),\n",
       "  ('999001296',\n",
       "   'It wasn’t until Tuesday that the office revealed publicly that it had turned over information to federal prosecutors.'),\n",
       "  ('999001296',\n",
       "   '<span-0 The information was sent on Nov. 9 by Bradley McVay, DOS’ interim general counsel, who asked that the altered dates be investigated. “'),\n",
       "  ('999001296',\n",
       "   'Altering a form in a manner that provides the incorrect date for a voter to cure a defect … imposes a burden on the voter significant enough to frustrate the voter’s ability to vote,” McVay wrote in a letter that was sent Nov. 9 and released publicly on Tuesday 0-/span>.'),\n",
       "  ('999001296',\n",
       "   'The letter was sent to U.S. Attorneys Christopher P. Canova of the Northern District of Florida, Maria Chapa Lopez of the Middle District of Florida and Ariana Fajardo Orshan in the Southern District of Florida.'),\n",
       "  ('999001296',\n",
       "   'The records released by DOS, which is part of Gov. Rick Scott’s administration, <span-8 point the finger  8-/span>at the Florida Democratic Party.'),\n",
       "  ('999001296',\n",
       "   'Political parties can get daily lists of people who had their mail-in ballots rejected.'),\n",
       "  ('999001296',\n",
       "   'Political parties — or anyone else — can also get the publicly available cure affidavits and send them to voters who had a mail-in ballot rejected to encourage them to fix the ballots.'),\n",
       "  ('999001296',\n",
       "   'In an email chain released as part of the Department of State’s Tuesday document dump, Citrus County Supervisor of Elections Susan Gill last week told DOS officials that a voter who received one of the cure affidavits with the wrong date had also received a call from a number identified as the Tallahassee office of the Florida Democratic Party, an indication the party was reaching out about her vote by mail ballot. “'),\n",
       "  ('999001296',\n",
       "   'When I called it, it is the Democratic Party of Florida,” she said in a Nov. 8 email to DOS officials.'),\n",
       "  ('999001296',\n",
       "   'She went on to write that she thinks the incorrect date was used because whoever sent the cure affidavit mixed up the deadline for cure affidavits with the deadline for provisional ballots.'),\n",
       "  ('999001296',\n",
       "   'But, she said, “<span-13 a bigger problem is the fact they actually changed one of the DOE forms 13-/span>.”…')]]"
      ]
     },
     "execution_count": 6,
     "metadata": {},
     "output_type": "execute_result"
    }
   ],
   "source": [
    "a[:3]"
   ]
  },
  {
   "cell_type": "code",
   "execution_count": null,
   "metadata": {},
   "outputs": [],
   "source": []
  },
  {
   "cell_type": "code",
   "execution_count": 7,
   "metadata": {},
   "outputs": [],
   "source": [
    "article_id_sentences = pd.DataFrame([c for b in a for c in b],columns=[\"article_id\",\"sentence\"])"
   ]
  },
  {
   "cell_type": "code",
   "execution_count": 8,
   "metadata": {},
   "outputs": [
    {
     "data": {
      "application/vnd.jupyter.widget-view+json": {
       "model_id": "32cb8806d3494a3482b2dd648ada0c47",
       "version_major": 2,
       "version_minor": 0
      },
      "text/plain": [
       "HBox(children=(IntProgress(value=0, description='Pandas Apply', max=15565, style=ProgressStyle(description_wid…"
      ]
     },
     "metadata": {},
     "output_type": "display_data"
    },
    {
     "name": "stdout",
     "output_type": "stream",
     "text": [
      "\n"
     ]
    }
   ],
   "source": [
    "article_id_sentences[\"sentence_span_count\"] = article_id_sentences.sentence.swifter.apply(lambda x: x.count(\"span\"))"
   ]
  },
  {
   "cell_type": "code",
   "execution_count": 9,
   "metadata": {},
   "outputs": [],
   "source": [
    "article_id_sentences[\"has_odd_span\"] = article_id_sentences.sentence_span_count.swifter.apply(lambda x: x%2)"
   ]
  },
  {
   "cell_type": "code",
   "execution_count": 10,
   "metadata": {},
   "outputs": [
    {
     "data": {
      "text/plain": [
       "222"
      ]
     },
     "execution_count": 10,
     "metadata": {},
     "output_type": "execute_result"
    }
   ],
   "source": [
    "len(set(article_id_sentences[article_id_sentences[\"has_odd_span\"] == 1].article_id.values.tolist()))"
   ]
  },
  {
   "cell_type": "code",
   "execution_count": 11,
   "metadata": {},
   "outputs": [
    {
     "data": {
      "text/plain": [
       "['<span-0 The information was sent on Nov. 9 by Bradley McVay, DOS’ interim general counsel, who asked that the altered dates be investigated. “',\n",
       " 'Altering a form in a manner that provides the incorrect date for a voter to cure a defect … imposes a burden on the voter significant enough to frustrate the voter’s ability to vote,” McVay wrote in a letter that was sent Nov. 9 and released publicly on Tuesday 0-/span>.',\n",
       " '<span-7 He also sang an Islamic State fight song and recalled making a replica of the group’s flag.',\n",
       " 'He said he wanted to replace his neighbor’s American flag with it 7-/span>.',\n",
       " '<span-5 In the process, however, he misidentified Hasan as Nidal Hussein and said the shooting happened at Fort Knox in Kentucky.',\n",
       " 'He also said Hasan had died <span-9 a martyr9-/span>, though in fact he remains alive on military death row 5-/span>.',\n",
       " 'According to Slate, the image quickly made the rounds on the internet; it currently has almost 9,000 retweets and many speculate that that’s probably because <span-8 the blurry picture feels like it’s worth a good deal more than 1,000 words.',\n",
       " 'It illuminates just a small sliver of the public health crisis  8-/span>Puerto Rico is currently facing.',\n",
       " '<span-13 If you want the FBI to go back that far @[email protected] to investigate Ford’s allegations….',\n",
       " 'let’s investigate my RAPE allegations against Bill Clinton, too 13-/span>.']"
      ]
     },
     "execution_count": 11,
     "metadata": {},
     "output_type": "execute_result"
    }
   ],
   "source": [
    "article_id_sentences[article_id_sentences[\"has_odd_span\"] == 1].sentence.values.tolist()[:10]"
   ]
  },
  {
   "cell_type": "code",
   "execution_count": 12,
   "metadata": {},
   "outputs": [],
   "source": [
    "article_id_sentences[\"propaganda\"] = article_id_sentences.sentence_span_count.swifter.apply(lambda x: x > 0)"
   ]
  },
  {
   "cell_type": "code",
   "execution_count": 13,
   "metadata": {},
   "outputs": [
    {
     "data": {
      "text/html": [
       "<div>\n",
       "<style scoped>\n",
       "    .dataframe tbody tr th:only-of-type {\n",
       "        vertical-align: middle;\n",
       "    }\n",
       "\n",
       "    .dataframe tbody tr th {\n",
       "        vertical-align: top;\n",
       "    }\n",
       "\n",
       "    .dataframe thead th {\n",
       "        text-align: right;\n",
       "    }\n",
       "</style>\n",
       "<table border=\"1\" class=\"dataframe\">\n",
       "  <thead>\n",
       "    <tr style=\"text-align: right;\">\n",
       "      <th></th>\n",
       "      <th>article_id</th>\n",
       "      <th>sentence</th>\n",
       "      <th>sentence_span_count</th>\n",
       "      <th>has_odd_span</th>\n",
       "      <th>propaganda</th>\n",
       "    </tr>\n",
       "  </thead>\n",
       "  <tbody>\n",
       "    <tr>\n",
       "      <td>0</td>\n",
       "      <td>762956953</td>\n",
       "      <td>Iran Admits To Aiding Al-Qaeda and Facilitatin...</td>\n",
       "      <td>0</td>\n",
       "      <td>0</td>\n",
       "      <td>False</td>\n",
       "    </tr>\n",
       "    <tr>\n",
       "      <td>1</td>\n",
       "      <td>762956953</td>\n",
       "      <td>But now we have definitive confirmation.</td>\n",
       "      <td>0</td>\n",
       "      <td>0</td>\n",
       "      <td>False</td>\n",
       "    </tr>\n",
       "    <tr>\n",
       "      <td>2</td>\n",
       "      <td>762956953</td>\n",
       "      <td>It was Iran Bush should have invaded after 9/1...</td>\n",
       "      <td>0</td>\n",
       "      <td>0</td>\n",
       "      <td>False</td>\n",
       "    </tr>\n",
       "  </tbody>\n",
       "</table>\n",
       "</div>"
      ],
      "text/plain": [
       "  article_id                                           sentence  \\\n",
       "0  762956953  Iran Admits To Aiding Al-Qaeda and Facilitatin...   \n",
       "1  762956953           But now we have definitive confirmation.   \n",
       "2  762956953  It was Iran Bush should have invaded after 9/1...   \n",
       "\n",
       "   sentence_span_count  has_odd_span  propaganda  \n",
       "0                    0             0       False  \n",
       "1                    0             0       False  \n",
       "2                    0             0       False  "
      ]
     },
     "execution_count": 13,
     "metadata": {},
     "output_type": "execute_result"
    }
   ],
   "source": [
    "article_id_sentences.head(3)"
   ]
  },
  {
   "cell_type": "code",
   "execution_count": 14,
   "metadata": {},
   "outputs": [],
   "source": [
    "import re\n",
    "def get_classes(article):\n",
    "    results_start_span = re.findall(\"<span-\\d+\",article)\n",
    "    results_end_span = re.findall(\"\\d+-/span>\",article)\n",
    "    start_span_classes = [int(i.replace(\"<span-\",\"\")) for i in results_start_span]\n",
    "    end_span_classes = [int(i.replace(\"-/span>\",\"\")) for i in results_end_span]\n",
    "    classes = list(set(start_span_classes + end_span_classes))\n",
    "    return classes\n",
    "\n",
    "def clean_sentences(article):\n",
    "    return re.sub(\"<span-\\d+\",\"\",re.sub(\"\\d+-/span>\",\"\",article))"
   ]
  },
  {
   "cell_type": "code",
   "execution_count": 15,
   "metadata": {},
   "outputs": [
    {
     "data": {
      "application/vnd.jupyter.widget-view+json": {
       "model_id": "1d2adbe0e22f43668a32fd3dbbc2f71f",
       "version_major": 2,
       "version_minor": 0
      },
      "text/plain": [
       "HBox(children=(IntProgress(value=0, description='Pandas Apply', max=15565, style=ProgressStyle(description_wid…"
      ]
     },
     "metadata": {},
     "output_type": "display_data"
    },
    {
     "name": "stdout",
     "output_type": "stream",
     "text": [
      "\n"
     ]
    },
    {
     "data": {
      "application/vnd.jupyter.widget-view+json": {
       "model_id": "37142d66e75c4fac9d192a681326eec3",
       "version_major": 2,
       "version_minor": 0
      },
      "text/plain": [
       "HBox(children=(IntProgress(value=0, description='Pandas Apply', max=15565, style=ProgressStyle(description_wid…"
      ]
     },
     "metadata": {},
     "output_type": "display_data"
    },
    {
     "name": "stdout",
     "output_type": "stream",
     "text": [
      "\n"
     ]
    }
   ],
   "source": [
    "article_id_sentences[\"classes\"] = article_id_sentences.sentence.swifter.apply(get_classes)\n",
    "article_id_sentences[\"cleaned_sentence\"] = article_id_sentences.sentence.swifter.apply(clean_sentences)\n"
   ]
  },
  {
   "cell_type": "code",
   "execution_count": 16,
   "metadata": {},
   "outputs": [
    {
     "data": {
      "text/html": [
       "<div>\n",
       "<style scoped>\n",
       "    .dataframe tbody tr th:only-of-type {\n",
       "        vertical-align: middle;\n",
       "    }\n",
       "\n",
       "    .dataframe tbody tr th {\n",
       "        vertical-align: top;\n",
       "    }\n",
       "\n",
       "    .dataframe thead th {\n",
       "        text-align: right;\n",
       "    }\n",
       "</style>\n",
       "<table border=\"1\" class=\"dataframe\">\n",
       "  <thead>\n",
       "    <tr style=\"text-align: right;\">\n",
       "      <th></th>\n",
       "      <th>article_id</th>\n",
       "      <th>sentence</th>\n",
       "      <th>sentence_span_count</th>\n",
       "      <th>has_odd_span</th>\n",
       "      <th>propaganda</th>\n",
       "      <th>classes</th>\n",
       "      <th>cleaned_sentence</th>\n",
       "    </tr>\n",
       "  </thead>\n",
       "  <tbody>\n",
       "    <tr>\n",
       "      <td>432</td>\n",
       "      <td>732154721</td>\n",
       "      <td>Hungarian Prime Minister: ‘&lt;span-7 &lt;span-11 Ch...</td>\n",
       "      <td>6</td>\n",
       "      <td>0</td>\n",
       "      <td>True</td>\n",
       "      <td>[11, 7]</td>\n",
       "      <td>Hungarian Prime Minister: ‘  Christianity is E...</td>\n",
       "    </tr>\n",
       "    <tr>\n",
       "      <td>433</td>\n",
       "      <td>732154721</td>\n",
       "      <td>”11-/span&gt; 7-/span&gt; Addressing his country and...</td>\n",
       "      <td>3</td>\n",
       "      <td>1</td>\n",
       "      <td>True</td>\n",
       "      <td>[11, 7]</td>\n",
       "      <td>”  Addressing his country and the world, Prime...</td>\n",
       "    </tr>\n",
       "  </tbody>\n",
       "</table>\n",
       "</div>"
      ],
      "text/plain": [
       "    article_id                                           sentence  \\\n",
       "432  732154721  Hungarian Prime Minister: ‘<span-7 <span-11 Ch...   \n",
       "433  732154721  ”11-/span> 7-/span> Addressing his country and...   \n",
       "\n",
       "     sentence_span_count  has_odd_span  propaganda  classes  \\\n",
       "432                    6             0        True  [11, 7]   \n",
       "433                    3             1        True  [11, 7]   \n",
       "\n",
       "                                      cleaned_sentence  \n",
       "432  Hungarian Prime Minister: ‘  Christianity is E...  \n",
       "433  ”  Addressing his country and the world, Prime...  "
      ]
     },
     "execution_count": 16,
     "metadata": {},
     "output_type": "execute_result"
    }
   ],
   "source": [
    "article_id_sentences.head(434).tail(2)"
   ]
  },
  {
   "cell_type": "code",
   "execution_count": 17,
   "metadata": {},
   "outputs": [],
   "source": [
    "article_id_sentences[[\"cleaned_sentence\",\"propaganda\",\"classes\"]].to_csv(\"/data/semeval-2020/task-11/processed/sentence_dataset.csv\",index=False)"
   ]
  },
  {
   "cell_type": "code",
   "execution_count": 21,
   "metadata": {},
   "outputs": [],
   "source": [
    "sample_sentence = '”11-/span> 7-/span> Addressing his country and the world, Prime Minister Viktor Orbán warned that <span-7 European nations which have encouraged migration have, “opened the way to the decline of Christian culture and the advance of Islam.”'"
   ]
  },
  {
   "cell_type": "code",
   "execution_count": 25,
   "metadata": {},
   "outputs": [
    {
     "data": {
      "text/plain": [
       "'”  Addressing his country and the world, Prime Minister Viktor Orbán warned that <span-7 European nations which have encouraged migration have, “opened the way to the decline of Christian culture and the advance of Islam.”'"
      ]
     },
     "execution_count": 25,
     "metadata": {},
     "output_type": "execute_result"
    }
   ],
   "source": [
    "re.sub(\"\\d+-/span>\",\"\",sample_sentence)"
   ]
  },
  {
   "cell_type": "code",
   "execution_count": null,
   "metadata": {},
   "outputs": [],
   "source": []
  }
 ],
 "metadata": {
  "kernelspec": {
   "display_name": "semeval2020",
   "language": "python",
   "name": "semeval2020"
  },
  "language_info": {
   "codemirror_mode": {
    "name": "ipython",
    "version": 3
   },
   "file_extension": ".py",
   "mimetype": "text/x-python",
   "name": "python",
   "nbconvert_exporter": "python",
   "pygments_lexer": "ipython3",
   "version": "3.7.4"
  }
 },
 "nbformat": 4,
 "nbformat_minor": 4
}
