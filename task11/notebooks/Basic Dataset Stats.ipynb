{
 "cells": [
  {
   "cell_type": "code",
   "execution_count": 41,
   "metadata": {
    "Collapsed": "false"
   },
   "outputs": [],
   "source": [
    "import pandas as pd\n",
    "import sklearn\n",
    "import warnings\n",
    "warnings.filterwarnings('ignore')\n",
    "import numpy as np\n",
    "import seaborn as sns"
   ]
  },
  {
   "cell_type": "code",
   "execution_count": 42,
   "metadata": {
    "Collapsed": "false"
   },
   "outputs": [],
   "source": [
    "sentences = pd.read_csv(\"/data/semeval-2020/task-11/processed/sentence_dataset_v2.csv\")"
   ]
  },
  {
   "cell_type": "markdown",
   "metadata": {
    "Collapsed": "false"
   },
   "source": [
    "## Count of articles"
   ]
  },
  {
   "cell_type": "code",
   "execution_count": 43,
   "metadata": {
    "Collapsed": "false"
   },
   "outputs": [
    {
     "data": {
      "text/plain": [
       "371"
      ]
     },
     "execution_count": 43,
     "metadata": {},
     "output_type": "execute_result"
    }
   ],
   "source": [
    "len(set(sentences.article_id.values))"
   ]
  },
  {
   "cell_type": "markdown",
   "metadata": {
    "Collapsed": "false"
   },
   "source": [
    "### Average , min , max Sentence per article"
   ]
  },
  {
   "cell_type": "code",
   "execution_count": 44,
   "metadata": {
    "Collapsed": "false"
   },
   "outputs": [],
   "source": [
    "sentence_count_by_article = sentences.groupby(\"article_id\")[\"sentence_id\"].agg(\"count\")"
   ]
  },
  {
   "cell_type": "code",
   "execution_count": 45,
   "metadata": {
    "Collapsed": "false"
   },
   "outputs": [
    {
     "data": {
      "text/plain": [
       "41.94070080862534"
      ]
     },
     "execution_count": 45,
     "metadata": {},
     "output_type": "execute_result"
    }
   ],
   "source": [
    "np.mean(sentence_count_by_article.values)"
   ]
  },
  {
   "cell_type": "code",
   "execution_count": 46,
   "metadata": {
    "Collapsed": "false"
   },
   "outputs": [
    {
     "data": {
      "text/plain": [
       "4"
      ]
     },
     "execution_count": 46,
     "metadata": {},
     "output_type": "execute_result"
    }
   ],
   "source": [
    "np.min(sentence_count_by_article.values)"
   ]
  },
  {
   "cell_type": "code",
   "execution_count": 47,
   "metadata": {
    "Collapsed": "false"
   },
   "outputs": [
    {
     "data": {
      "text/plain": [
       "436"
      ]
     },
     "execution_count": 47,
     "metadata": {},
     "output_type": "execute_result"
    }
   ],
   "source": [
    "np.max(sentence_count_by_article.values)"
   ]
  },
  {
   "cell_type": "code",
   "execution_count": null,
   "metadata": {
    "Collapsed": "false"
   },
   "outputs": [],
   "source": []
  },
  {
   "cell_type": "markdown",
   "metadata": {
    "Collapsed": "false"
   },
   "source": [
    "### Average , min , max words in article"
   ]
  },
  {
   "cell_type": "code",
   "execution_count": 48,
   "metadata": {
    "Collapsed": "false"
   },
   "outputs": [],
   "source": [
    "def get_word_count(sentence):\n",
    "    return len(sentence.split(\" \"))"
   ]
  },
  {
   "cell_type": "code",
   "execution_count": 49,
   "metadata": {
    "Collapsed": "false"
   },
   "outputs": [],
   "source": [
    "sentences[\"word_count\"] = sentences[\"cleaned_sentence\"].apply(get_word_count)"
   ]
  },
  {
   "cell_type": "code",
   "execution_count": 50,
   "metadata": {
    "Collapsed": "false"
   },
   "outputs": [],
   "source": [
    "wordcount_per_article = sentences.groupby(\"article_id\")[\"word_count\"].agg(\"sum\")"
   ]
  },
  {
   "cell_type": "code",
   "execution_count": 51,
   "metadata": {
    "Collapsed": "false"
   },
   "outputs": [
    {
     "data": {
      "text/plain": [
       "964.7493261455526"
      ]
     },
     "execution_count": 51,
     "metadata": {},
     "output_type": "execute_result"
    }
   ],
   "source": [
    "np.mean(wordcount_per_article.values)"
   ]
  },
  {
   "cell_type": "code",
   "execution_count": 52,
   "metadata": {
    "Collapsed": "false"
   },
   "outputs": [
    {
     "data": {
      "text/plain": [
       "109"
      ]
     },
     "execution_count": 52,
     "metadata": {},
     "output_type": "execute_result"
    }
   ],
   "source": [
    "np.min(wordcount_per_article.values)"
   ]
  },
  {
   "cell_type": "code",
   "execution_count": 53,
   "metadata": {
    "Collapsed": "false"
   },
   "outputs": [
    {
     "data": {
      "text/plain": [
       "8005"
      ]
     },
     "execution_count": 53,
     "metadata": {},
     "output_type": "execute_result"
    }
   ],
   "source": [
    "np.max(wordcount_per_article.values)"
   ]
  },
  {
   "cell_type": "code",
   "execution_count": 77,
   "metadata": {},
   "outputs": [
    {
     "data": {
      "text/plain": [
       "<matplotlib.axes._subplots.AxesSubplot at 0x7f86d9591a50>"
      ]
     },
     "execution_count": 77,
     "metadata": {},
     "output_type": "execute_result"
    },
    {
     "data": {
      "image/png": "[encoded data removed]",
      "text/plain": [
       "<Figure size 432x288 with 1 Axes>"
      ]
     },
     "metadata": {
      "needs_background": "light"
     },
     "output_type": "display_data"
    }
   ],
   "source": [
    "wordcount_per_article.plot(kind=\"hist\")"
   ]
  },
  {
   "cell_type": "markdown",
   "metadata": {
    "Collapsed": "false"
   },
   "source": [
    "### Average , min , max words in sentence"
   ]
  },
  {
   "cell_type": "code",
   "execution_count": 54,
   "metadata": {
    "Collapsed": "false"
   },
   "outputs": [
    {
     "data": {
      "text/plain": [
       "23.002699228791773"
      ]
     },
     "execution_count": 54,
     "metadata": {},
     "output_type": "execute_result"
    }
   ],
   "source": [
    "np.mean(sentences[\"word_count\"].values)"
   ]
  },
  {
   "cell_type": "code",
   "execution_count": 55,
   "metadata": {
    "Collapsed": "false"
   },
   "outputs": [
    {
     "data": {
      "text/plain": [
       "1"
      ]
     },
     "execution_count": 55,
     "metadata": {},
     "output_type": "execute_result"
    }
   ],
   "source": [
    "np.min(sentences[\"word_count\"].values)"
   ]
  },
  {
   "cell_type": "code",
   "execution_count": 56,
   "metadata": {
    "Collapsed": "false"
   },
   "outputs": [
    {
     "data": {
      "text/plain": [
       "159"
      ]
     },
     "execution_count": 56,
     "metadata": {},
     "output_type": "execute_result"
    }
   ],
   "source": [
    "np.max(sentences[\"word_count\"].values)"
   ]
  },
  {
   "cell_type": "code",
   "execution_count": 75,
   "metadata": {
    "Collapsed": "false"
   },
   "outputs": [
    {
     "data": {
      "text/plain": [
       "<matplotlib.axes._subplots.AxesSubplot at 0x7f86d9600c50>"
      ]
     },
     "execution_count": 75,
     "metadata": {},
     "output_type": "execute_result"
    },
    {
     "data": {
      "image/png": "[encoded data removed]",
      "text/plain": [
       "<Figure size 432x288 with 1 Axes>"
      ]
     },
     "metadata": {
      "needs_background": "light"
     },
     "output_type": "display_data"
    }
   ],
   "source": [
    "sentences[\"word_count\"].plot(kind=\"hist\")"
   ]
  },
  {
   "cell_type": "markdown",
   "metadata": {
    "Collapsed": "false"
   },
   "source": [
    "### Number of sentence with propaganda"
   ]
  },
  {
   "cell_type": "code",
   "execution_count": 57,
   "metadata": {
    "Collapsed": "false"
   },
   "outputs": [
    {
     "data": {
      "text/plain": [
       "False    10608\n",
       "True      4952\n",
       "Name: has_propaganda, dtype: int64"
      ]
     },
     "execution_count": 57,
     "metadata": {},
     "output_type": "execute_result"
    }
   ],
   "source": [
    "sentences[\"has_propaganda\"].value_counts()"
   ]
  },
  {
   "cell_type": "markdown",
   "metadata": {
    "Collapsed": "false"
   },
   "source": [
    "### Percentage of words sentence part of propaganda in sentences that has propaganda"
   ]
  },
  {
   "cell_type": "code",
   "execution_count": 58,
   "metadata": {
    "Collapsed": "false"
   },
   "outputs": [],
   "source": [
    "def compute_words_with_propaganda(sentence):\n",
    "    count_of_propaganda_spans = 0\n",
    "    propaganda_words_count = 0\n",
    "    for ix,w in enumerate(sentence.split(\" \")):\n",
    "        if(w.find(\"<span\") > -1):\n",
    "            count_of_propaganda_spans += 1\n",
    "        elif(w.find(\"/span>\") > -1):\n",
    "            count_of_propaganda_spans -= 1\n",
    "        else:\n",
    "            if count_of_propaganda_spans > 0:\n",
    "                propaganda_words_count += 1\n",
    "            if count_of_propaganda_spans == -1:\n",
    "                propaganda_words_count = ix + 1\n",
    "    if count_of_propaganda_spans == -1:\n",
    "        propaganda_words_count = ix + 1        \n",
    "    return propaganda_words_count            "
   ]
  },
  {
   "cell_type": "code",
   "execution_count": 59,
   "metadata": {
    "Collapsed": "false"
   },
   "outputs": [],
   "source": [
    "sentences[\"propaganda_words_count\"] = sentences[\"sentence\"].apply(compute_words_with_propaganda)"
   ]
  },
  {
   "cell_type": "code",
   "execution_count": 60,
   "metadata": {
    "Collapsed": "false"
   },
   "outputs": [
    {
     "data": {
      "text/html": [
       "<div>\n",
       "<style scoped>\n",
       "    .dataframe tbody tr th:only-of-type {\n",
       "        vertical-align: middle;\n",
       "    }\n",
       "\n",
       "    .dataframe tbody tr th {\n",
       "        vertical-align: top;\n",
       "    }\n",
       "\n",
       "    .dataframe thead th {\n",
       "        text-align: right;\n",
       "    }\n",
       "</style>\n",
       "<table border=\"1\" class=\"dataframe\">\n",
       "  <thead>\n",
       "    <tr style=\"text-align: right;\">\n",
       "      <th></th>\n",
       "      <th>article_id</th>\n",
       "      <th>sentence_id</th>\n",
       "      <th>sentence</th>\n",
       "      <th>has_propaganda</th>\n",
       "      <th>cleaned_sentence</th>\n",
       "      <th>word_count</th>\n",
       "      <th>propaganda_words_count</th>\n",
       "    </tr>\n",
       "  </thead>\n",
       "  <tbody>\n",
       "  </tbody>\n",
       "</table>\n",
       "</div>"
      ],
      "text/plain": [
       "Empty DataFrame\n",
       "Columns: [article_id, sentence_id, sentence, has_propaganda, cleaned_sentence, word_count, propaganda_words_count]\n",
       "Index: []"
      ]
     },
     "execution_count": 60,
     "metadata": {},
     "output_type": "execute_result"
    }
   ],
   "source": [
    "sentences[(sentences[\"propaganda_words_count\"] > 0) & (sentences[\"has_propaganda\"] == False)]"
   ]
  },
  {
   "cell_type": "code",
   "execution_count": 61,
   "metadata": {
    "Collapsed": "false"
   },
   "outputs": [
    {
     "data": {
      "text/html": [
       "<div>\n",
       "<style scoped>\n",
       "    .dataframe tbody tr th:only-of-type {\n",
       "        vertical-align: middle;\n",
       "    }\n",
       "\n",
       "    .dataframe tbody tr th {\n",
       "        vertical-align: top;\n",
       "    }\n",
       "\n",
       "    .dataframe thead th {\n",
       "        text-align: right;\n",
       "    }\n",
       "</style>\n",
       "<table border=\"1\" class=\"dataframe\">\n",
       "  <thead>\n",
       "    <tr style=\"text-align: right;\">\n",
       "      <th></th>\n",
       "      <th>article_id</th>\n",
       "      <th>sentence_id</th>\n",
       "      <th>sentence</th>\n",
       "      <th>has_propaganda</th>\n",
       "      <th>cleaned_sentence</th>\n",
       "      <th>word_count</th>\n",
       "      <th>propaganda_words_count</th>\n",
       "    </tr>\n",
       "  </thead>\n",
       "  <tbody>\n",
       "    <tr>\n",
       "      <td>535</td>\n",
       "      <td>723537899</td>\n",
       "      <td>10</td>\n",
       "      <td>8-/span&gt; &lt;span-5 Does not the Syrian governmen...</td>\n",
       "      <td>True</td>\n",
       "      <td>Does not the Syrian government have a point?</td>\n",
       "      <td>10</td>\n",
       "      <td>0</td>\n",
       "    </tr>\n",
       "    <tr>\n",
       "      <td>544</td>\n",
       "      <td>723537899</td>\n",
       "      <td>19</td>\n",
       "      <td>7-/span&gt; 5-/span&gt;Will they support a clash wit...</td>\n",
       "      <td>True</td>\n",
       "      <td>Will they support a clash with NATO ally Turk...</td>\n",
       "      <td>24</td>\n",
       "      <td>0</td>\n",
       "    </tr>\n",
       "    <tr>\n",
       "      <td>1067</td>\n",
       "      <td>735855251</td>\n",
       "      <td>18</td>\n",
       "      <td>10-/span&gt; &lt;span-6 Because of the tireless effo...</td>\n",
       "      <td>True</td>\n",
       "      <td>Because of the tireless efforts of these pro...</td>\n",
       "      <td>18</td>\n",
       "      <td>0</td>\n",
       "    </tr>\n",
       "    <tr>\n",
       "      <td>1164</td>\n",
       "      <td>111111113</td>\n",
       "      <td>30</td>\n",
       "      <td>8-/span&gt; &lt;span-11 BUILD THE WALL!\"</td>\n",
       "      <td>True</td>\n",
       "      <td>BUILD THE WALL!\"</td>\n",
       "      <td>5</td>\n",
       "      <td>0</td>\n",
       "    </tr>\n",
       "    <tr>\n",
       "      <td>1717</td>\n",
       "      <td>730149656</td>\n",
       "      <td>27</td>\n",
       "      <td>During the clip, Farrakhan repeatedly labels t...</td>\n",
       "      <td>True</td>\n",
       "      <td>During the clip, Farrakhan repeatedly labels t...</td>\n",
       "      <td>14</td>\n",
       "      <td>0</td>\n",
       "    </tr>\n",
       "    <tr>\n",
       "      <td>...</td>\n",
       "      <td>...</td>\n",
       "      <td>...</td>\n",
       "      <td>...</td>\n",
       "      <td>...</td>\n",
       "      <td>...</td>\n",
       "      <td>...</td>\n",
       "      <td>...</td>\n",
       "    </tr>\n",
       "    <tr>\n",
       "      <td>15410</td>\n",
       "      <td>766632016</td>\n",
       "      <td>39</td>\n",
       "      <td>So was it &lt;span-10 &lt;span-8 annihilation10-/spa...</td>\n",
       "      <td>True</td>\n",
       "      <td>So was it   annihilation ?</td>\n",
       "      <td>7</td>\n",
       "      <td>0</td>\n",
       "    </tr>\n",
       "    <tr>\n",
       "      <td>15412</td>\n",
       "      <td>766632016</td>\n",
       "      <td>41</td>\n",
       "      <td>Who did Hitler &lt;span-10 &lt;span-8 annihilate10-/...</td>\n",
       "      <td>True</td>\n",
       "      <td>Who did Hitler   annihilate ?</td>\n",
       "      <td>7</td>\n",
       "      <td>0</td>\n",
       "    </tr>\n",
       "    <tr>\n",
       "      <td>15421</td>\n",
       "      <td>766632016</td>\n",
       "      <td>50</td>\n",
       "      <td>Was there &lt;span-10 &lt;span-8 annihilation10-/spa...</td>\n",
       "      <td>True</td>\n",
       "      <td>Was there   annihilation ?</td>\n",
       "      <td>6</td>\n",
       "      <td>0</td>\n",
       "    </tr>\n",
       "    <tr>\n",
       "      <td>15423</td>\n",
       "      <td>766632016</td>\n",
       "      <td>52</td>\n",
       "      <td>Many races were &lt;span-10 &lt;span-8 annihilated10...</td>\n",
       "      <td>True</td>\n",
       "      <td>Many races were   annihilated .</td>\n",
       "      <td>7</td>\n",
       "      <td>0</td>\n",
       "    </tr>\n",
       "    <tr>\n",
       "      <td>15452</td>\n",
       "      <td>790483991</td>\n",
       "      <td>11</td>\n",
       "      <td>God help us8-/span&gt; 1-/span&gt;.</td>\n",
       "      <td>True</td>\n",
       "      <td>God help us .</td>\n",
       "      <td>4</td>\n",
       "      <td>0</td>\n",
       "    </tr>\n",
       "  </tbody>\n",
       "</table>\n",
       "<p>75 rows × 7 columns</p>\n",
       "</div>"
      ],
      "text/plain": [
       "       article_id  sentence_id  \\\n",
       "535     723537899           10   \n",
       "544     723537899           19   \n",
       "1067    735855251           18   \n",
       "1164    111111113           30   \n",
       "1717    730149656           27   \n",
       "...           ...          ...   \n",
       "15410   766632016           39   \n",
       "15412   766632016           41   \n",
       "15421   766632016           50   \n",
       "15423   766632016           52   \n",
       "15452   790483991           11   \n",
       "\n",
       "                                                sentence  has_propaganda  \\\n",
       "535    8-/span> <span-5 Does not the Syrian governmen...            True   \n",
       "544    7-/span> 5-/span>Will they support a clash wit...            True   \n",
       "1067   10-/span> <span-6 Because of the tireless effo...            True   \n",
       "1164                  8-/span> <span-11 BUILD THE WALL!\"            True   \n",
       "1717   During the clip, Farrakhan repeatedly labels t...            True   \n",
       "...                                                  ...             ...   \n",
       "15410  So was it <span-10 <span-8 annihilation10-/spa...            True   \n",
       "15412  Who did Hitler <span-10 <span-8 annihilate10-/...            True   \n",
       "15421  Was there <span-10 <span-8 annihilation10-/spa...            True   \n",
       "15423  Many races were <span-10 <span-8 annihilated10...            True   \n",
       "15452                      God help us8-/span> 1-/span>.            True   \n",
       "\n",
       "                                        cleaned_sentence  word_count  \\\n",
       "535         Does not the Syrian government have a point?          10   \n",
       "544     Will they support a clash with NATO ally Turk...          24   \n",
       "1067     Because of the tireless efforts of these pro...          18   \n",
       "1164                                    BUILD THE WALL!\"           5   \n",
       "1717   During the clip, Farrakhan repeatedly labels t...          14   \n",
       "...                                                  ...         ...   \n",
       "15410                         So was it   annihilation ?           7   \n",
       "15412                      Who did Hitler   annihilate ?           7   \n",
       "15421                         Was there   annihilation ?           6   \n",
       "15423                    Many races were   annihilated .           7   \n",
       "15452                                      God help us .           4   \n",
       "\n",
       "       propaganda_words_count  \n",
       "535                         0  \n",
       "544                         0  \n",
       "1067                        0  \n",
       "1164                        0  \n",
       "1717                        0  \n",
       "...                       ...  \n",
       "15410                       0  \n",
       "15412                       0  \n",
       "15421                       0  \n",
       "15423                       0  \n",
       "15452                       0  \n",
       "\n",
       "[75 rows x 7 columns]"
      ]
     },
     "execution_count": 61,
     "metadata": {},
     "output_type": "execute_result"
    }
   ],
   "source": [
    "sentences[(sentences[\"propaganda_words_count\"] == 0) & (sentences[\"has_propaganda\"] == True)]"
   ]
  },
  {
   "cell_type": "code",
   "execution_count": 62,
   "metadata": {
    "Collapsed": "false",
    "scrolled": true
   },
   "outputs": [
    {
     "data": {
      "text/plain": [
       "array(['8-/span> <span-5 Does not the Syrian government have a point?',\n",
       "       \"7-/span> 5-/span>Will they support a clash with NATO ally Turkey, to keep armed Kurds on Turkey's border, when the Turks regard them as terrorists?\",\n",
       "       '10-/span> <span-6 Because of the tireless efforts of these professional officers, there are fewer criminals in our communities.”',\n",
       "       '8-/span> <span-11 BUILD THE WALL!\"',\n",
       "       'During the clip, Farrakhan repeatedly labels the Jewish people “<span-9 <span-10 <span-1 Satan9-/span>10-/span> 1-/span>.”',\n",
       "       'No, that’s <span-10 <span-9 <span-8 Satan10-/span>9-/span> 8-/span>.',\n",
       "       'You should learn to call them by their real name, ‘<span-10 <span-9 <span-8 Satan10-/span>9-/span> 8-/span>.’',\n",
       "       '5-/span> <span-3 Do we accept that outcome, pack up and go home?',\n",
       "       '3-/span> 1-/span>Sunday\\'s editorial in The Washington Post, \"The Next Mideast Wars,\" raises the crucial questions now before us.',\n",
       "       'Attorney General Lynch’s <span-8 <span-10 infamous8-/span> 10-/span> tarmac meeting with Bill Clinton was discussed in the report, but mostly in the context of how it affected Comey’s decision to go rogue, so to speak, in making his July 5th announcement without prior approval from the Justice Department.',\n",
       "       '5-/span> <span-5 How was this victim overlooked by investigators but known by Intellihub?',\n",
       "       ' 5-/span>Why <span-5 were people getting haircuts at the crime scene?',\n",
       "       '5-/span> <span-5 How many more victims went ignored by investigators?',\n",
       "       '3-/span> 2-/span><span-4 If one considers and weighs this matter, one knows: one may not bless a union of two homosexual men or of lesbian women.',\n",
       "       '0-/span> 8-/span>Nevertheless, one should wish for Cardinal Marx, Bishop Bode, and Professor Chiodi that they sleep well.',\n",
       "       '5-/span> <span-5 Wouldn’t he have been less confrontational than Obama in Syria?',\n",
       "       '13-/span> <span-12 We are doing just fine!”',\n",
       "       '13-/span> <span-12 We are doing just fine!',\n",
       "       '<span-10 Impossible10-/span>.',\n",
       "       '<span-8 <span-10 Nowhere8-/span> 10-/span>!',\n",
       "       '6-/span> “<span-0 I personally know [Farrakhan], I’ve been to his home, done meetings, participated in events with him,” Davis told TheDC. “',\n",
       "       '10-/span> 7-/span>The picture “proves FBI misled public about #StephenPaddock’s check in date,” Loomer Tweeted.',\n",
       "       '5-/span> <span-5 How do you drain the <span-10 swamp10-/span> by adding to it?',\n",
       "       ' 7-/span> <span-7 How Do You Like Paying For Sexual Harassment Settlements from Your Congress, America?',\n",
       "       \"That's how <span-9 <span-8 bad9-/span> 8-/span> Obama was on Iran.\",\n",
       "       \"3-/span> 7-/span>Obama's meeting with Farrakhan was part of a CBC event.\",\n",
       "       '”0-/span>6-/span> 10-/span> All of the targets in this operation were amenable to arrest and removal under the U.S. Immigration and Nationality Act.',\n",
       "       '8-/span> <span-6 No Pope before him has ever dared to do such a thing.',\n",
       "       '7-/span> <span-8 May Our Lady of Fatima intercede to obtain for them the grace of fortitude to do what must be done and what only they can do.',\n",
       "       'It was a <span-9 <span-8 foolish9-/span> 8-/span> mistake by a very young man,” Saucier’s lawyer, Greg Rinckey, said. “',\n",
       "       '8-/span> 7-/span>This because Trump retweeted three videos showing Muslims being violent.',\n",
       "       \"”0-/span> 6-/span> Of course, they won't.\",\n",
       "       '12-/span> <span-8 Thank you Prime Minister Orban for saying what needed to be said!',\n",
       "       '5-/span> <span-5 Where is the AMA statement against the pharmaceutical companies and big government?',\n",
       "       \" Editor's Note: The Remnant has lunched its own <span-11 #<span-10 StopTheSynod11-/span> 10-/span> petition, for those who would rather not go to Change.org.\",\n",
       "       'The pope’s remarks drew <span-10 <span-8 shock10-/span> 8-/span> from Chileans and immediate rebuke from victims and their advocates.',\n",
       "       '1-/span> <span-6 The bishops of the Catholic Church are much more concerned that you believe that Islam is a religion of peace than that you believe in, say, the Nicene Creed.',\n",
       "       '8-/span> <span-8 So flipping outraged by this unjustice!',\n",
       "       '8-/span> <span-8 A great injustice has been done.',\n",
       "       '11-/span> <span-7 The American people are not going to put up with this any longer.',\n",
       "       '7-/span> <span-1 Those that have been engaging in this sort of shameful behavior have got to go because we simply are not going to put up with it anymore.',\n",
       "       '”0-/span> 6-/span> Recent data shows a 15 percent jump in fatalities over just three days, coupled with scientists concerned that the black death has reached a “crisis” point.',\n",
       "       '8-/span> 1-/span>Bishop Fischer’s public support of the Profession of Immutable Truths about Sacramental Marriage brings the number of signatories to nine bishops and one cardinal.',\n",
       "       '”10-/span> 7-/span> All of the targets in this operation were amenable to arrest and removal under the U.S. Immigration and Nationality Act.',\n",
       "       '\"0-/span> 1-/span> That\\'s exactly it.',\n",
       "       '8-/span> <span-1 To do otherwise would be foolish.”',\n",
       "       'Those are the facts, and I am in a position to give you a personal assurance of them4-/span> 0-/span>.',\n",
       "       '13-/span> 1-/span>Trump then called on Congress to correct the problems created by legislation with more legislation. “',\n",
       "       '5-/span> <span-5 How did that work in Libya?',\n",
       "       '11-/span> 1-/span>Article posted with permission from Ron Paul',\n",
       "       'Is it out of an earnest desire to display a misguided sense of being “<span-9 pastoral9-/span>?”',\n",
       "       'TOENSING: They said, the CFIUS board said that the <span-9 <span-8 bad9-/span> 8-/span> Russians could buy uranium one, which contains access to 20 percent of the U.S. Uranium, why was that decision made?',\n",
       "       'When the Parkland shooting happened, our phone calls and emails <span-8 <span-6 exploded8-/span> 6-/span>,” said coalition president Tim Lambert. “',\n",
       "       '6-/span> <span-4 The answer: Helms lied.',\n",
       "       '8-/span> (<span-0 See my book The Kennedy Autopsy.)',\n",
       "       'On the video, Farrakhan repeatedly refers to Jews as “<span-8 <span-9 <span-1 <span-10 Satan8-/span>9-/span>1-/span> 10-/span>.”',\n",
       "       'No, that’s <span-10 <span-8 <span-9 Satan10-/span>8-/span> 9-/span>.',\n",
       "       '5-/span> <span-5 And do the police have any interest in this?',\n",
       "       '5-/span> <span-5 Or would that be “islamofauxbic”?',\n",
       "       \"13-/span> 2-/span>For more on Farrakhan, check out his profile here at Discover the Networks, the Horowitz Freedom Center's resource site of the left.\",\n",
       "       '1-/span> 8-/span>The Profession of Immutable Truths about Sacramental Marriage was issued by three Kazakh Ordinaries, including Bishop Schneider, in early January.',\n",
       "       '8-/span> 12-/span>Then there is the endlessly double-talking Cardinal Müller.',\n",
       "       '8-/span> <span-3 No Catholic, whether or not he consults a priest, can declare for himself that his marriage in the Church was invalid, especially when—indeed because—he lacks canonical proof of invalidity.',\n",
       "       '1-/span> <span-8 But we are not <span-10 fools.10-/span> And God will not be mocked.',\n",
       "       'Harding earlier wrote a book about Edward Snowden which was a similar <span-8 sham8-/span>.',\n",
       "       'Harding is also known as <span-9 plagiarizer9-/span>.',\n",
       "       '4-/span> <span-8 Ironically, your pontificate has given those who hold harmful theological and pastoral views the license and confidence to come into the light and expose their previously hidden darkness….',\n",
       "       '5-/span> <span-5 Isn’t he prejudging the case without even finding out what actually happened?',\n",
       "       '13-/span> <span-13 They don’t care to see Trump vindicated.',\n",
       "       '5-/span> 7-/span>It is also important to keep in mind that multiple investigative reports conducted by other alternative media outlets have actually named government officials and private companies that may be behind the attack and so far there has been no official denial from either.',\n",
       "       'So was it <span-10 <span-8 annihilation10-/span> 8-/span>?',\n",
       "       'Who did Hitler <span-10 <span-8 annihilate10-/span> 8-/span>?',\n",
       "       'Was there <span-10 <span-8 annihilation10-/span> 8-/span>?',\n",
       "       'Many races were <span-10 <span-8 annihilated10-/span> 8-/span>.',\n",
       "       'God help us8-/span> 1-/span>.'], dtype=object)"
      ]
     },
     "execution_count": 62,
     "metadata": {},
     "output_type": "execute_result"
    }
   ],
   "source": [
    "sentences[(sentences[\"propaganda_words_count\"] == 0) & (sentences[\"has_propaganda\"] == True)].sentence.values"
   ]
  },
  {
   "cell_type": "code",
   "execution_count": 63,
   "metadata": {
    "Collapsed": "false"
   },
   "outputs": [],
   "source": [
    "propaganda_sentences = sentences[(sentences[\"propaganda_words_count\"] > 0) & (sentences[\"has_propaganda\"] == True)]"
   ]
  },
  {
   "cell_type": "code",
   "execution_count": 65,
   "metadata": {
    "Collapsed": "false"
   },
   "outputs": [],
   "source": [
    "propaganda_sentences[\"propaganda_percentage_words\"] = (propaganda_sentences[\"propaganda_words_count\"] / propaganda_sentences[\"word_count\"]) *100"
   ]
  },
  {
   "cell_type": "markdown",
   "metadata": {
    "Collapsed": "false"
   },
   "source": [
    "### Average percentage of propaganda words in a sentence"
   ]
  },
  {
   "cell_type": "code",
   "execution_count": 68,
   "metadata": {
    "Collapsed": "false"
   },
   "outputs": [],
   "source": [
    "propaganda_sentence_stats = propaganda_sentences.propaganda_percentage_words"
   ]
  },
  {
   "cell_type": "code",
   "execution_count": 69,
   "metadata": {
    "Collapsed": "false"
   },
   "outputs": [
    {
     "data": {
      "text/plain": [
       "43.89995221838387"
      ]
     },
     "execution_count": 69,
     "metadata": {},
     "output_type": "execute_result"
    }
   ],
   "source": [
    "np.mean(propaganda_sentence_stats)"
   ]
  },
  {
   "cell_type": "code",
   "execution_count": 70,
   "metadata": {
    "Collapsed": "false"
   },
   "outputs": [
    {
     "data": {
      "text/plain": [
       "1.0309278350515463"
      ]
     },
     "execution_count": 70,
     "metadata": {},
     "output_type": "execute_result"
    }
   ],
   "source": [
    "np.min(propaganda_sentence_stats)"
   ]
  },
  {
   "cell_type": "code",
   "execution_count": 71,
   "metadata": {
    "Collapsed": "false"
   },
   "outputs": [
    {
     "data": {
      "text/plain": [
       "100.0"
      ]
     },
     "execution_count": 71,
     "metadata": {},
     "output_type": "execute_result"
    }
   ],
   "source": [
    "np.max(propaganda_sentence_stats)"
   ]
  },
  {
   "cell_type": "markdown",
   "metadata": {
    "Collapsed": "false"
   },
   "source": [
    "### Distribution of percentage of words "
   ]
  },
  {
   "cell_type": "code",
   "execution_count": 72,
   "metadata": {
    "Collapsed": "false"
   },
   "outputs": [
    {
     "data": {
      "text/plain": [
       "<matplotlib.axes._subplots.AxesSubplot at 0x7f86eb3e1c90>"
      ]
     },
     "execution_count": 72,
     "metadata": {},
     "output_type": "execute_result"
    },
    {
     "data": {
      "image/png": "[encoded data removed]",
      "text/plain": [
       "<Figure size 432x288 with 1 Axes>"
      ]
     },
     "metadata": {
      "needs_background": "light"
     },
     "output_type": "display_data"
    }
   ],
   "source": [
    "propaganda_sentence_stats.plot(kind='hist')"
   ]
  },
  {
   "cell_type": "code",
   "execution_count": null,
   "metadata": {
    "Collapsed": "false"
   },
   "outputs": [],
   "source": []
  }
 ],
 "metadata": {
  "kernelspec": {
   "display_name": "semeval2020",
   "language": "python",
   "name": "semeval2020"
  },
  "language_info": {
   "codemirror_mode": {
    "name": "ipython",
    "version": 3
   },
   "file_extension": ".py",
   "mimetype": "text/x-python",
   "name": "python",
   "nbconvert_exporter": "python",
   "pygments_lexer": "ipython3",
   "version": "3.7.4"
  }
 },
 "nbformat": 4,
 "nbformat_minor": 4
}
