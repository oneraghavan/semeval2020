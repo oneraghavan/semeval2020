{
 "cells": [
  {
   "cell_type": "code",
   "execution_count": 1,
   "metadata": {
    "Collapsed": "false"
   },
   "outputs": [],
   "source": [
    "%matplotlib inline\n",
    "import pandas as pd\n",
    "import swifter\n",
    "pd.set_option('display.max_rows', 10000)\n",
    "import seaborn as sns\n",
    "sns.set(rc={'figure.figsize':(13,13)})"
   ]
  },
  {
   "cell_type": "code",
   "execution_count": 2,
   "metadata": {
    "Collapsed": "false"
   },
   "outputs": [],
   "source": [
    "train_articles = pd.read_csv(\"/data/semeval-2020/task-11/processed/train_article.csv\")"
   ]
  },
  {
   "cell_type": "code",
   "execution_count": 3,
   "metadata": {
    "Collapsed": "false"
   },
   "outputs": [],
   "source": [
    "span_lables = pd.read_csv(\"/data/semeval-2020/task-11/processed/span_labels.csv\")"
   ]
  },
  {
   "cell_type": "code",
   "execution_count": 4,
   "metadata": {
    "Collapsed": "false"
   },
   "outputs": [
    {
     "data": {
      "text/html": [
       "<div>\n",
       "<style scoped>\n",
       "    .dataframe tbody tr th:only-of-type {\n",
       "        vertical-align: middle;\n",
       "    }\n",
       "\n",
       "    .dataframe tbody tr th {\n",
       "        vertical-align: top;\n",
       "    }\n",
       "\n",
       "    .dataframe thead th {\n",
       "        text-align: right;\n",
       "    }\n",
       "</style>\n",
       "<table border=\"1\" class=\"dataframe\">\n",
       "  <thead>\n",
       "    <tr style=\"text-align: right;\">\n",
       "      <th></th>\n",
       "      <th>article_id</th>\n",
       "      <th>start</th>\n",
       "      <th>end</th>\n",
       "      <th>label</th>\n",
       "    </tr>\n",
       "  </thead>\n",
       "  <tbody>\n",
       "    <tr>\n",
       "      <td>0</td>\n",
       "      <td>776616374</td>\n",
       "      <td>149</td>\n",
       "      <td>174</td>\n",
       "      <td>Exaggeration_Minimisation</td>\n",
       "    </tr>\n",
       "    <tr>\n",
       "      <td>1</td>\n",
       "      <td>776616374</td>\n",
       "      <td>751</td>\n",
       "      <td>786</td>\n",
       "      <td>Exaggeration_Minimisation</td>\n",
       "    </tr>\n",
       "    <tr>\n",
       "      <td>2</td>\n",
       "      <td>776616374</td>\n",
       "      <td>831</td>\n",
       "      <td>849</td>\n",
       "      <td>Name_Calling_Labeling</td>\n",
       "    </tr>\n",
       "    <tr>\n",
       "      <td>3</td>\n",
       "      <td>776616374</td>\n",
       "      <td>2641</td>\n",
       "      <td>2650</td>\n",
       "      <td>Flag-Waving</td>\n",
       "    </tr>\n",
       "    <tr>\n",
       "      <td>4</td>\n",
       "      <td>776616374</td>\n",
       "      <td>2771</td>\n",
       "      <td>2782</td>\n",
       "      <td>Loaded_Language</td>\n",
       "    </tr>\n",
       "  </tbody>\n",
       "</table>\n",
       "</div>"
      ],
      "text/plain": [
       "   article_id  start   end                      label\n",
       "0   776616374    149   174  Exaggeration_Minimisation\n",
       "1   776616374    751   786  Exaggeration_Minimisation\n",
       "2   776616374    831   849      Name_Calling_Labeling\n",
       "3   776616374   2641  2650                Flag-Waving\n",
       "4   776616374   2771  2782            Loaded_Language"
      ]
     },
     "execution_count": 4,
     "metadata": {},
     "output_type": "execute_result"
    }
   ],
   "source": [
    "span_lables.head()"
   ]
  },
  {
   "cell_type": "code",
   "execution_count": 5,
   "metadata": {
    "Collapsed": "false"
   },
   "outputs": [
    {
     "name": "stderr",
     "output_type": "stream",
     "text": [
      "/home/raghavan/anaconda3/envs/semeval_2020/lib/python3.7/site-packages/tqdm/std.py:648: FutureWarning: The Panel class is removed from pandas. Accessing it from the top-level namespace will also be removed in the next version\n",
      "  from pandas import Panel\n"
     ]
    },
    {
     "data": {
      "application/vnd.jupyter.widget-view+json": {
       "model_id": "09a39edd30b54fc8b367e8b880c3ff05",
       "version_major": 2,
       "version_minor": 0
      },
      "text/plain": [
       "HBox(children=(IntProgress(value=0, description='Pandas Apply', max=6369, style=ProgressStyle(description_widt…"
      ]
     },
     "metadata": {},
     "output_type": "display_data"
    },
    {
     "name": "stdout",
     "output_type": "stream",
     "text": [
      "\n"
     ]
    }
   ],
   "source": [
    "span_lables[\"span_start_end_propaganda\"] = span_lables.swifter.apply(lambda x: (x.start,x.end,x.label),axis=1)"
   ]
  },
  {
   "cell_type": "code",
   "execution_count": 6,
   "metadata": {
    "Collapsed": "false"
   },
   "outputs": [],
   "source": [
    "article_with_label = train_articles.merge(span_lables,on=\"article_id\")"
   ]
  },
  {
   "cell_type": "code",
   "execution_count": 7,
   "metadata": {
    "Collapsed": "false"
   },
   "outputs": [
    {
     "data": {
      "text/html": [
       "<div>\n",
       "<style scoped>\n",
       "    .dataframe tbody tr th:only-of-type {\n",
       "        vertical-align: middle;\n",
       "    }\n",
       "\n",
       "    .dataframe tbody tr th {\n",
       "        vertical-align: top;\n",
       "    }\n",
       "\n",
       "    .dataframe thead th {\n",
       "        text-align: right;\n",
       "    }\n",
       "</style>\n",
       "<table border=\"1\" class=\"dataframe\">\n",
       "  <thead>\n",
       "    <tr style=\"text-align: right;\">\n",
       "      <th></th>\n",
       "      <th>article_id</th>\n",
       "      <th>content</th>\n",
       "      <th>start</th>\n",
       "      <th>end</th>\n",
       "      <th>label</th>\n",
       "      <th>span_start_end_propaganda</th>\n",
       "    </tr>\n",
       "  </thead>\n",
       "  <tbody>\n",
       "    <tr>\n",
       "      <td>0</td>\n",
       "      <td>762956953</td>\n",
       "      <td>Iran Admits To Aiding Al-Qaeda and Facilitatin...</td>\n",
       "      <td>630</td>\n",
       "      <td>669</td>\n",
       "      <td>Exaggeration_Minimisation</td>\n",
       "      <td>(630, 669, Exaggeration_Minimisation)</td>\n",
       "    </tr>\n",
       "    <tr>\n",
       "      <td>1</td>\n",
       "      <td>787529309</td>\n",
       "      <td>The Last-Minute Character Assassination of Jud...</td>\n",
       "      <td>70</td>\n",
       "      <td>88</td>\n",
       "      <td>Loaded_Language</td>\n",
       "      <td>(70, 88, Loaded_Language)</td>\n",
       "    </tr>\n",
       "    <tr>\n",
       "      <td>2</td>\n",
       "      <td>787529309</td>\n",
       "      <td>The Last-Minute Character Assassination of Jud...</td>\n",
       "      <td>288</td>\n",
       "      <td>320</td>\n",
       "      <td>Loaded_Language</td>\n",
       "      <td>(288, 320, Loaded_Language)</td>\n",
       "    </tr>\n",
       "  </tbody>\n",
       "</table>\n",
       "</div>"
      ],
      "text/plain": [
       "   article_id                                            content  start  end  \\\n",
       "0   762956953  Iran Admits To Aiding Al-Qaeda and Facilitatin...    630  669   \n",
       "1   787529309  The Last-Minute Character Assassination of Jud...     70   88   \n",
       "2   787529309  The Last-Minute Character Assassination of Jud...    288  320   \n",
       "\n",
       "                       label              span_start_end_propaganda  \n",
       "0  Exaggeration_Minimisation  (630, 669, Exaggeration_Minimisation)  \n",
       "1            Loaded_Language              (70, 88, Loaded_Language)  \n",
       "2            Loaded_Language            (288, 320, Loaded_Language)  "
      ]
     },
     "execution_count": 7,
     "metadata": {},
     "output_type": "execute_result"
    }
   ],
   "source": [
    "article_with_label.head(3)"
   ]
  },
  {
   "cell_type": "code",
   "execution_count": 8,
   "metadata": {
    "Collapsed": "false"
   },
   "outputs": [],
   "source": [
    "unique_article_span = article_with_label.groupby(\"article_id\",as_index=False).agg(list)[[\"content\",\"span_start_end_propaganda\",\"article_id\"]]"
   ]
  },
  {
   "cell_type": "code",
   "execution_count": 9,
   "metadata": {
    "Collapsed": "false"
   },
   "outputs": [
    {
     "data": {
      "application/vnd.jupyter.widget-view+json": {
       "model_id": "edbe0ed9fb8a4804bc7474dea8d05bdd",
       "version_major": 2,
       "version_minor": 0
      },
      "text/plain": [
       "HBox(children=(IntProgress(value=0, description='Pandas Apply', max=357, style=ProgressStyle(description_width…"
      ]
     },
     "metadata": {},
     "output_type": "display_data"
    },
    {
     "name": "stdout",
     "output_type": "stream",
     "text": [
      "\n"
     ]
    }
   ],
   "source": [
    "unique_article_span[\"content\"] = unique_article_span.swifter.apply(lambda x:x.content[0],axis=1)"
   ]
  },
  {
   "cell_type": "code",
   "execution_count": 10,
   "metadata": {
    "Collapsed": "false"
   },
   "outputs": [
    {
     "data": {
      "text/html": [
       "<div>\n",
       "<style scoped>\n",
       "    .dataframe tbody tr th:only-of-type {\n",
       "        vertical-align: middle;\n",
       "    }\n",
       "\n",
       "    .dataframe tbody tr th {\n",
       "        vertical-align: top;\n",
       "    }\n",
       "\n",
       "    .dataframe thead th {\n",
       "        text-align: right;\n",
       "    }\n",
       "</style>\n",
       "<table border=\"1\" class=\"dataframe\">\n",
       "  <thead>\n",
       "    <tr style=\"text-align: right;\">\n",
       "      <th></th>\n",
       "      <th>content</th>\n",
       "      <th>span_start_end_propaganda</th>\n",
       "      <th>article_id</th>\n",
       "    </tr>\n",
       "  </thead>\n",
       "  <tbody>\n",
       "    <tr>\n",
       "      <td>0</td>\n",
       "      <td>Next plague outbreak in Madagascar could be 's...</td>\n",
       "      <td>[(265, 323, Appeal_to_Authority), (1795, 1935,...</td>\n",
       "      <td>111111111</td>\n",
       "    </tr>\n",
       "    <tr>\n",
       "      <td>1</td>\n",
       "      <td>US bloggers banned from entering UK  Two promi...</td>\n",
       "      <td>[(191, 221, Slogans), (476, 556, Black-and-Whi...</td>\n",
       "      <td>111111112</td>\n",
       "    </tr>\n",
       "    <tr>\n",
       "      <td>2</td>\n",
       "      <td>Kate Steinle's death at the hands of a Mexican...</td>\n",
       "      <td>[(1396, 1430, Loaded_Language), (3082, 3099, N...</td>\n",
       "      <td>111111113</td>\n",
       "    </tr>\n",
       "  </tbody>\n",
       "</table>\n",
       "</div>"
      ],
      "text/plain": [
       "                                             content  \\\n",
       "0  Next plague outbreak in Madagascar could be 's...   \n",
       "1  US bloggers banned from entering UK  Two promi...   \n",
       "2  Kate Steinle's death at the hands of a Mexican...   \n",
       "\n",
       "                           span_start_end_propaganda  article_id  \n",
       "0  [(265, 323, Appeal_to_Authority), (1795, 1935,...   111111111  \n",
       "1  [(191, 221, Slogans), (476, 556, Black-and-Whi...   111111112  \n",
       "2  [(1396, 1430, Loaded_Language), (3082, 3099, N...   111111113  "
      ]
     },
     "execution_count": 10,
     "metadata": {},
     "output_type": "execute_result"
    }
   ],
   "source": [
    "unique_article_span.head(3)"
   ]
  },
  {
   "cell_type": "code",
   "execution_count": 11,
   "metadata": {
    "Collapsed": "false"
   },
   "outputs": [
    {
     "name": "stdout",
     "output_type": "stream",
     "text": [
      "17\n"
     ]
    }
   ],
   "source": [
    "start_span_tag = \" <span> \"\n",
    "end_span_tag = \" </span> \"\n",
    "\n",
    "single_offset = len(start_span_tag) + len(end_span_tag)\n",
    "print(single_offset)\n",
    "def tag_article(row):\n",
    "    article = row.content\n",
    "    span_start_end_propaganda = row.span_start_end_propaganda\n",
    "    span_start_end_propaganda.sort(key=lambda x:x[0])\n",
    "    \n",
    "    for ix,start_end_p in enumerate(span_start_end_propaganda):\n",
    "        span_start = start_end_p[0] + (ix * single_offset) \n",
    "        span_end = start_end_p[1] + (ix * single_offset)\n",
    "        print(start_end_p[0],span_start)\n",
    "        print(start_end_p[1],span_end)\n",
    "        article = article[:span_start-1] + start_span_tag + article[span_start-1:span_end] + end_span_tag +  article[span_end :] \n",
    "    return article    "
   ]
  },
  {
   "cell_type": "code",
   "execution_count": 12,
   "metadata": {
    "Collapsed": "false",
    "scrolled": true
   },
   "outputs": [
    {
     "name": "stdout",
     "output_type": "stream",
     "text": [
      "149 149\n",
      "157 157\n",
      "265 282\n",
      "323 340\n",
      "1069 1103\n",
      "1091 1125\n",
      "1334 1385\n",
      "1462 1513\n",
      "1577 1645\n",
      "1616 1684\n",
      "1795 1880\n",
      "1935 2020\n",
      "1856 1958\n",
      "1910 2012\n",
      "2023 2142\n",
      "2086 2205\n",
      "149 149\n",
      "157 157\n",
      "265 282\n",
      "323 340\n",
      "1069 1103\n",
      "1091 1125\n",
      "1334 1385\n",
      "1462 1513\n",
      "1577 1645\n",
      "1616 1684\n",
      "1795 1880\n",
      "1935 2020\n",
      "1856 1958\n",
      "1910 2012\n",
      "2023 2142\n",
      "2086 2205\n",
      "149 149\n",
      "157 157\n",
      "265 282\n",
      "323 340\n",
      "1069 1103\n",
      "1091 1125\n",
      "1334 1385\n",
      "1462 1513\n",
      "1577 1645\n",
      "1616 1684\n",
      "1795 1880\n",
      "1935 2020\n",
      "1856 1958\n",
      "1910 2012\n",
      "2023 2142\n",
      "2086 2205\n"
     ]
    },
    {
     "data": {
      "application/vnd.jupyter.widget-view+json": {
       "model_id": "eea8c51ded59408d8bcc05c4d27423a6",
       "version_major": 2,
       "version_minor": 0
      },
      "text/plain": [
       "HBox(children=(IntProgress(value=0, description='Pandas Apply', max=1, style=ProgressStyle(description_width='…"
      ]
     },
     "metadata": {},
     "output_type": "display_data"
    },
    {
     "name": "stdout",
     "output_type": "stream",
     "text": [
      "149 149\n",
      "157 157\n",
      "265 282\n",
      "323 340\n",
      "1069 1103\n",
      "1091 1125\n",
      "1334 1385\n",
      "1462 1513\n",
      "1577 1645\n",
      "1616 1684\n",
      "1795 1880\n",
      "1935 2020\n",
      "1856 1958\n",
      "1910 2012\n",
      "2023 2142\n",
      "2086 2205\n",
      "\n"
     ]
    }
   ],
   "source": [
    "a = unique_article_span.head(1).swifter.apply(lambda x: tag_article(x),axis=1)"
   ]
  },
  {
   "cell_type": "code",
   "execution_count": 13,
   "metadata": {
    "Collapsed": "false"
   },
   "outputs": [
    {
     "data": {
      "text/plain": [
       "'Next plague outbreak in Madagascar could be \\'stronger\\': WHO  Geneva - The World Health Organisation chief on Wednesday said a deadly plague epidemic <span>  appeared </span>  to have been brought under control in Madagascar, but warned the next outbreak would likely be stronger.   <span> \"The next transmission could be more pronounced or stronger </span> ,\" WHO Director-General Tedros Adhanom Ghebreyesus told reporters in Geneva, insisting that \"the issue is serious.\"  An outbreak of both bubonic plague, which is spread by infected rats via flea bites, and pneumonic plague, spread person to person, has killed more than 200 people in the Indian Ocean island nation since August.  Madagascar has suffered bubonic plague outbreaks almost every year since 1980, often caused by rats fleeing forest fires.  The disease tends to make a comeback each hot rainy season, from September to April. On average, between 300 and 600 infections are recorded every year among a population approaching 25 million people, according to a UN estimate.  But Tedros voiced alarm that \"plague in Madagascar behaved in <span>  a very, very different </span>  way this year.\"  Cases sprang up far earlier than usual and, instead of being confined to the countryside, the disease infiltrated towns. The authorities recorded more than 2 000 cases, and Tedros said Wednesday the death toll stood at 207.  <span>  He also pointed to the presence of the pneumonic version, which spreads more easily and is more virulent, in the latest outbreak </span> .  He praised the rapid response from WHO and Madagascar authorities that helped bring the outbreak under control, <span>  but warned that the danger was not over </span> .  The larger-than-usual outbreak had helped spread the bacteria that causes the plague more widely.  This along with poor sanitation and vector control on Madagascar meant that  <span> \"when (the plague) comes again it starts from more stock, and the magn <span> itude in the next transmission could be higher than the </span>  one that we saw </span> ,\" Tedros said.  \"That means that Madagascar could be affected more, and not only that, <span>  it could even spill over into neighbouring countries and beyond </span> ,\" he warned.  Complicating vector control is the fact that the fleas that carry the Yersinia pestis bacteria that causes the plague have proven to be widely resistant to chemicals and insecticides.  \"That\\'s a dangerous combination,\" Tedros said. '"
      ]
     },
     "execution_count": 13,
     "metadata": {},
     "output_type": "execute_result"
    }
   ],
   "source": [
    "a[0]"
   ]
  },
  {
   "cell_type": "code",
   "execution_count": 14,
   "metadata": {
    "Collapsed": "false"
   },
   "outputs": [
    {
     "name": "stdout",
     "output_type": "stream",
     "text": [
      "[1, 3, 5]\n",
      "[6, 6, 2, 3, 4]\n"
     ]
    }
   ],
   "source": [
    "print([1,3,5,6,6,2,3,4,6,6][:3])\n",
    "print([1,3,5,6,6,2,3,4,6,6][3:8])"
   ]
  },
  {
   "cell_type": "code",
   "execution_count": 15,
   "metadata": {
    "Collapsed": "false"
   },
   "outputs": [],
   "source": [
    "article_with_label = train_articles.merge(span_lables,on=\"article_id\")"
   ]
  },
  {
   "cell_type": "code",
   "execution_count": 16,
   "metadata": {
    "Collapsed": "false"
   },
   "outputs": [],
   "source": [
    "def get_span(row):\n",
    "#     print(row)\n",
    "    article = row.content\n",
    "    start_span = row.start\n",
    "    end_span = row.end\n",
    "    return (article[start_span:end_span],row.label)"
   ]
  },
  {
   "cell_type": "code",
   "execution_count": 17,
   "metadata": {
    "Collapsed": "false"
   },
   "outputs": [
    {
     "data": {
      "application/vnd.jupyter.widget-view+json": {
       "model_id": "a2572d7e964c4a3f9efe5475aa40c133",
       "version_major": 2,
       "version_minor": 0
      },
      "text/plain": [
       "HBox(children=(IntProgress(value=0, description='Pandas Apply', max=6369, style=ProgressStyle(description_widt…"
      ]
     },
     "metadata": {},
     "output_type": "display_data"
    },
    {
     "name": "stdout",
     "output_type": "stream",
     "text": [
      "\n"
     ]
    }
   ],
   "source": [
    "article_with_label[\"span\"] = article_with_label.swifter.apply(get_span,axis=1)"
   ]
  },
  {
   "cell_type": "code",
   "execution_count": 18,
   "metadata": {
    "Collapsed": "false"
   },
   "outputs": [
    {
     "data": {
      "text/html": [
       "<div>\n",
       "<style scoped>\n",
       "    .dataframe tbody tr th:only-of-type {\n",
       "        vertical-align: middle;\n",
       "    }\n",
       "\n",
       "    .dataframe tbody tr th {\n",
       "        vertical-align: top;\n",
       "    }\n",
       "\n",
       "    .dataframe thead th {\n",
       "        text-align: right;\n",
       "    }\n",
       "</style>\n",
       "<table border=\"1\" class=\"dataframe\">\n",
       "  <thead>\n",
       "    <tr style=\"text-align: right;\">\n",
       "      <th></th>\n",
       "      <th>article_id</th>\n",
       "      <th>content</th>\n",
       "      <th>start</th>\n",
       "      <th>end</th>\n",
       "      <th>label</th>\n",
       "      <th>span_start_end_propaganda</th>\n",
       "      <th>span</th>\n",
       "    </tr>\n",
       "  </thead>\n",
       "  <tbody>\n",
       "    <tr>\n",
       "      <td>0</td>\n",
       "      <td>762956953</td>\n",
       "      <td>Iran Admits To Aiding Al-Qaeda and Facilitatin...</td>\n",
       "      <td>630</td>\n",
       "      <td>669</td>\n",
       "      <td>Exaggeration_Minimisation</td>\n",
       "      <td>(630, 669, Exaggeration_Minimisation)</td>\n",
       "      <td>(the worst president in American history, Exag...</td>\n",
       "    </tr>\n",
       "    <tr>\n",
       "      <td>1</td>\n",
       "      <td>787529309</td>\n",
       "      <td>The Last-Minute Character Assassination of Jud...</td>\n",
       "      <td>70</td>\n",
       "      <td>88</td>\n",
       "      <td>Loaded_Language</td>\n",
       "      <td>(70, 88, Loaded_Language)</td>\n",
       "      <td>(despicable tactic , Loaded_Language)</td>\n",
       "    </tr>\n",
       "    <tr>\n",
       "      <td>2</td>\n",
       "      <td>787529309</td>\n",
       "      <td>The Last-Minute Character Assassination of Jud...</td>\n",
       "      <td>288</td>\n",
       "      <td>320</td>\n",
       "      <td>Loaded_Language</td>\n",
       "      <td>(288, 320, Loaded_Language)</td>\n",
       "      <td>(have sunk to their lowest level , Loaded_Lang...</td>\n",
       "    </tr>\n",
       "    <tr>\n",
       "      <td>3</td>\n",
       "      <td>787529309</td>\n",
       "      <td>The Last-Minute Character Assassination of Jud...</td>\n",
       "      <td>924</td>\n",
       "      <td>961</td>\n",
       "      <td>Loaded_Language</td>\n",
       "      <td>(924, 961, Loaded_Language)</td>\n",
       "      <td>(categorically and unequivocally deny , Loaded...</td>\n",
       "    </tr>\n",
       "    <tr>\n",
       "      <td>4</td>\n",
       "      <td>787529309</td>\n",
       "      <td>The Last-Minute Character Assassination of Jud...</td>\n",
       "      <td>2405</td>\n",
       "      <td>2431</td>\n",
       "      <td>Loaded_Language</td>\n",
       "      <td>(2405, 2431, Loaded_Language)</td>\n",
       "      <td>(cesspool of public gossip , Loaded_Language)</td>\n",
       "    </tr>\n",
       "  </tbody>\n",
       "</table>\n",
       "</div>"
      ],
      "text/plain": [
       "   article_id                                            content  start   end  \\\n",
       "0   762956953  Iran Admits To Aiding Al-Qaeda and Facilitatin...    630   669   \n",
       "1   787529309  The Last-Minute Character Assassination of Jud...     70    88   \n",
       "2   787529309  The Last-Minute Character Assassination of Jud...    288   320   \n",
       "3   787529309  The Last-Minute Character Assassination of Jud...    924   961   \n",
       "4   787529309  The Last-Minute Character Assassination of Jud...   2405  2431   \n",
       "\n",
       "                       label              span_start_end_propaganda  \\\n",
       "0  Exaggeration_Minimisation  (630, 669, Exaggeration_Minimisation)   \n",
       "1            Loaded_Language              (70, 88, Loaded_Language)   \n",
       "2            Loaded_Language            (288, 320, Loaded_Language)   \n",
       "3            Loaded_Language            (924, 961, Loaded_Language)   \n",
       "4            Loaded_Language          (2405, 2431, Loaded_Language)   \n",
       "\n",
       "                                                span  \n",
       "0  (the worst president in American history, Exag...  \n",
       "1              (despicable tactic , Loaded_Language)  \n",
       "2  (have sunk to their lowest level , Loaded_Lang...  \n",
       "3  (categorically and unequivocally deny , Loaded...  \n",
       "4      (cesspool of public gossip , Loaded_Language)  "
      ]
     },
     "execution_count": 18,
     "metadata": {},
     "output_type": "execute_result"
    }
   ],
   "source": [
    "article_with_label.head()"
   ]
  },
  {
   "cell_type": "markdown",
   "metadata": {
    "Collapsed": "false"
   },
   "source": [
    "## Create Dataset for sentences with propaganda yes or no"
   ]
  },
  {
   "cell_type": "code",
   "execution_count": 19,
   "metadata": {
    "Collapsed": "false"
   },
   "outputs": [],
   "source": [
    "article_with_span = article_with_label.groupby(\"article_id\",as_index=False).agg(set)[[\"article_id\",\"content\",\"span\"]]"
   ]
  },
  {
   "cell_type": "code",
   "execution_count": 20,
   "metadata": {
    "Collapsed": "false"
   },
   "outputs": [
    {
     "name": "stderr",
     "output_type": "stream",
     "text": [
      "/home/raghavan/anaconda3/envs/semeval_2020/lib/python3.7/site-packages/swifter/swifter.py:172: UserWarning: Axis keyword not necessary because applying on a Series.\n",
      "  warnings.warn(\"Axis keyword not necessary because applying on a Series.\")\n"
     ]
    },
    {
     "data": {
      "application/vnd.jupyter.widget-view+json": {
       "model_id": "c9614138b71c4d06839d9d5f4f4bac01",
       "version_major": 2,
       "version_minor": 0
      },
      "text/plain": [
       "HBox(children=(IntProgress(value=0, description='Pandas Apply', max=357, style=ProgressStyle(description_width…"
      ]
     },
     "metadata": {},
     "output_type": "display_data"
    },
    {
     "name": "stdout",
     "output_type": "stream",
     "text": [
      "\n"
     ]
    },
    {
     "data": {
      "application/vnd.jupyter.widget-view+json": {
       "model_id": "78afc33bf607442f81b96a6786eecb2b",
       "version_major": 2,
       "version_minor": 0
      },
      "text/plain": [
       "HBox(children=(IntProgress(value=0, description='Pandas Apply', max=357, style=ProgressStyle(description_width…"
      ]
     },
     "metadata": {},
     "output_type": "display_data"
    },
    {
     "name": "stdout",
     "output_type": "stream",
     "text": [
      "\n"
     ]
    }
   ],
   "source": [
    "article_with_span[\"content\"] = article_with_span[\"content\"].swifter.apply(lambda x:list(x)[0],axis=1)\n",
    "article_with_span[\"span\"] = article_with_span[\"span\"].swifter.apply(lambda x:list(x),axis=1)"
   ]
  },
  {
   "cell_type": "code",
   "execution_count": 21,
   "metadata": {
    "Collapsed": "false"
   },
   "outputs": [
    {
     "data": {
      "text/html": [
       "<div>\n",
       "<style scoped>\n",
       "    .dataframe tbody tr th:only-of-type {\n",
       "        vertical-align: middle;\n",
       "    }\n",
       "\n",
       "    .dataframe tbody tr th {\n",
       "        vertical-align: top;\n",
       "    }\n",
       "\n",
       "    .dataframe thead th {\n",
       "        text-align: right;\n",
       "    }\n",
       "</style>\n",
       "<table border=\"1\" class=\"dataframe\">\n",
       "  <thead>\n",
       "    <tr style=\"text-align: right;\">\n",
       "      <th></th>\n",
       "      <th>article_id</th>\n",
       "      <th>content</th>\n",
       "      <th>span</th>\n",
       "    </tr>\n",
       "  </thead>\n",
       "  <tbody>\n",
       "    <tr>\n",
       "      <td>0</td>\n",
       "      <td>111111111</td>\n",
       "      <td>Next plague outbreak in Madagascar could be 's...</td>\n",
       "      <td>[(The next transmission could be more pronounc...</td>\n",
       "    </tr>\n",
       "    <tr>\n",
       "      <td>1</td>\n",
       "      <td>111111112</td>\n",
       "      <td>US bloggers banned from entering UK  Two promi...</td>\n",
       "      <td>[(Defeat Jihad\", Slogans), (so-called land of ...</td>\n",
       "    </tr>\n",
       "    <tr>\n",
       "      <td>2</td>\n",
       "      <td>111111113</td>\n",
       "      <td>Kate Steinle's death at the hands of a Mexican...</td>\n",
       "      <td>[(firestorm of outrage , Loaded_Language), (sa...</td>\n",
       "    </tr>\n",
       "    <tr>\n",
       "      <td>3</td>\n",
       "      <td>111111114</td>\n",
       "      <td>U.S. judge frees Indonesian immigrant held by ...</td>\n",
       "      <td>[(they fear they could face discrimination or ...</td>\n",
       "    </tr>\n",
       "    <tr>\n",
       "      <td>4</td>\n",
       "      <td>111111115</td>\n",
       "      <td>Here are all the sexual misconduct accusations...</td>\n",
       "      <td>[(aggressively stuck his tongue in my mouth\", ...</td>\n",
       "    </tr>\n",
       "  </tbody>\n",
       "</table>\n",
       "</div>"
      ],
      "text/plain": [
       "   article_id                                            content  \\\n",
       "0   111111111  Next plague outbreak in Madagascar could be 's...   \n",
       "1   111111112  US bloggers banned from entering UK  Two promi...   \n",
       "2   111111113  Kate Steinle's death at the hands of a Mexican...   \n",
       "3   111111114  U.S. judge frees Indonesian immigrant held by ...   \n",
       "4   111111115  Here are all the sexual misconduct accusations...   \n",
       "\n",
       "                                                span  \n",
       "0  [(The next transmission could be more pronounc...  \n",
       "1  [(Defeat Jihad\", Slogans), (so-called land of ...  \n",
       "2  [(firestorm of outrage , Loaded_Language), (sa...  \n",
       "3  [(they fear they could face discrimination or ...  \n",
       "4  [(aggressively stuck his tongue in my mouth\", ...  "
      ]
     },
     "execution_count": 21,
     "metadata": {},
     "output_type": "execute_result"
    }
   ],
   "source": [
    "article_with_span.head()"
   ]
  },
  {
   "cell_type": "code",
   "execution_count": 40,
   "metadata": {
    "Collapsed": "false"
   },
   "outputs": [],
   "source": [
    "import spacy; from spacy.lang.en import English; nlp = English()\n",
    "nlp.add_pipe(nlp.create_pipe('sentencizer'))\n",
    "\n",
    "def create_sentences(x):\n",
    "    dataset = []\n",
    "    doc = nlp(x.content)\n",
    "    content = list(doc.sents)\n",
    "    spans = set(x.span)\n",
    "    print(content)\n",
    "    print(spans)\n",
    "    for i in content:\n",
    "        print(\"===============================================\")\n",
    "        span_found = False\n",
    "        label = 0\n",
    "        for k in spans:\n",
    "            print(i,\"0000\",k[0].strip())\n",
    "            if k[0].strip() in str(i).strip():\n",
    "                span_found = True\n",
    "                label = k[1]\n",
    "                break\n",
    "        if span_found:\n",
    "            dataset.append((i,label))\n",
    "        else:\n",
    "            dataset.append((i,label))\n",
    "    return dataset        "
   ]
  },
  {
   "cell_type": "code",
   "execution_count": null,
   "metadata": {
    "Collapsed": "false",
    "scrolled": true
   },
   "outputs": [],
   "source": [
    "dataset = article_with_span.swifter.apply(lambda x: create_sentences(x),axis=1)"
   ]
  },
  {
   "cell_type": "code",
   "execution_count": null,
   "metadata": {
    "Collapsed": "false"
   },
   "outputs": [],
   "source": [
    "len(article_with_span.iloc[1].content.split(\".\"))"
   ]
  },
  {
   "cell_type": "code",
   "execution_count": null,
   "metadata": {
    "Collapsed": "false"
   },
   "outputs": [],
   "source": [
    "article_with_span.iloc[1].span.split(\"$$$$$\")"
   ]
  },
  {
   "cell_type": "code",
   "execution_count": null,
   "metadata": {
    "Collapsed": "false"
   },
   "outputs": [],
   "source": [
    "len(dataset[1])"
   ]
  },
  {
   "cell_type": "code",
   "execution_count": null,
   "metadata": {
    "Collapsed": "false"
   },
   "outputs": [],
   "source": [
    "count = 0\n",
    "for sen in dataset[1]:\n",
    "    if sen[1] == 1:\n",
    "        count += 1"
   ]
  },
  {
   "cell_type": "code",
   "execution_count": null,
   "metadata": {
    "Collapsed": "false"
   },
   "outputs": [],
   "source": [
    "count"
   ]
  },
  {
   "cell_type": "code",
   "execution_count": null,
   "metadata": {
    "Collapsed": "false"
   },
   "outputs": [],
   "source": [
    "a = article_with_span.head(40).tail(1).apply(lambda x: create_sentences(x),axis=1)"
   ]
  },
  {
   "cell_type": "code",
   "execution_count": 31,
   "metadata": {
    "Collapsed": "false"
   },
   "outputs": [
    {
     "data": {
      "text/plain": [
       "'America\\'s Immigration Voice.  The Kurds have no friends but the mountains, is an old lament . Last week, it must have been very much on Kurdish minds. As their U.S. allies watched, the Kurdish peshmerga fighters were run out of Kirkuk and all the territory they had captured fighting ISIS alongside the Americans. The Iraqi army that ran them out was trained and armed by the United States. The U.S. had warned the Kurds against holding the referendum on independence on Sept. 25, which carried with 92 percent. Iran and Turkey had warned against an independent Kurdistan that could be a magnet for Kurdish minorities in their own countries. But the Iraqi Kurds went ahead. Now they have lost Kirkuk and its oil, and their dream of independence is all but dead. More troubling for America is the new reality revealed by the rout of the peshmerga. Iraq, which George W. Bush and the neocons were going to fashion into a pro-Western democracy and American ally, appears to be as close to Iran as it is to the United States. After 4,500 U.S. dead, scores of thousands wounded and a trillion dollars sunk, our 15-year war in Iraq could end with a Shiite-dominated Baghdad aligned with Tehran. With that grim prospect in mind, Secretary Rex Tillerson said Sunday , \"Iranian militias that are in Iraq, now that the fight against ... ISIS is coming to a close ... need to go home. Any foreign fighters in Iraq need to go home.\" Tillerson meant Iran\\'s Quds Force in Iraq should go home, and the Shiite militia in Iraq should be conscripted into the army. But what if the Baghdad regime of Haider al-Abadi does not agree? What if the Quds Force does not go home to Iran and the Shiite militias that helped retake Kirkuk refuse to enlist in the Iraqi army? Who then enforces Tillerson\\'s demands? Consider what is happening in Syria. The U.S.-backed Syrian Democratic Forces, largely Kurdish, just annihilated ISIS in Raqqa and drove 60 miles to seize Syria\\'s largest oil field, al-Omar, from ISIS. The race is now on between the SDF and Bashar Assad\\'s army to secure the border with Iraq. Bottom line: The U.S. goal of crushing the ISIS caliphate is almost attained. But if our victory in the war against ISIS leaves Iran in the catbird seat in Baghdad and Damascus, and its corridor from Tehran to Baghdad, Damascus and Beirut secure, is that really a victory? Do we accept that outcome, pack up and go home? Or do we leave our forces in Syria and Iraq and defy any demand from Assad to vacate his country? Sunday\\'s editorial in The Washington Post, \"The Next Mideast Wars,\" raises the crucial questions now before us. Would President Trump be willing to fight a new war to keep Iran from consolidating its position in Iraq and Syria? Would the American people support such a war with U.S. troops? Would Congress, apparently clueless to the presence of 800 U.S. troops in Niger, authorize a new U.S. war in Syria or Iraq? If Trump and his generals felt our vital interests could not allow Syria and Iraq to drift into the orbit of Iran, where would we find allies for such a fight? If we rely on the Kurds in Syria, we lose NATO ally Turkey, which regards Syria\\'s Kurds as collaborators of the PKK in Turkey, which even the U.S. designates a terrorist organization. The decision as to whether this country should engage in new post-ISIS wars in the Mideast, however, may be taken out of our hands. Saturday, Israel launched new air strikes against gun positions in Syria in retaliation for shells fired into the Golan Heights. Damascus claims that Israel\\'s \"terrorist\" allies inside Syria fired the shells, to give the IDF an excuse to attack. Why would Israel wish to provoke a war with Syria? Because the Israelis see the outcome of the six-year Syrian civil war as a strategic disaster. Hezbollah, stronger than ever, was part of Assad\\'s victorious coalition. Iran may have secured its land corridor from Tehran to Beirut. Its presence in Syria could now be permanent. And only one force in the region has the power to reverse the present outcome of Syria\\'s civil war--the United States. Bibi Netanyahu knows that if war with Syria breaks out, a clamor will arise in Congress to have the U.S. rush to Israel\\'s aid. \"A failure by the United States to defend its allies or promote new political arrangements for (Syria and Iraq) will lead only to more war, the rise of new terrorist threats, and, ultimately, the necessity of more U.S. intervention.\" Closing its Sunday editorial the Post instructed the president:The interventionist Post is saying: The situation is intolerable. Confront Assad and Iran now, or fight them later. Trump is being led to the Rubicon. If he crosses, he joins Bush II in the history books. Patrick J. Buchanan needs no introduction to VDARE.COM readers; his books and are available from Amazon.com. Patrick J. Buchanan is the author of His latest book, published May 9, is '"
      ]
     },
     "execution_count": 31,
     "metadata": {},
     "output_type": "execute_result"
    }
   ],
   "source": [
    "article_with_span.head(40).tail(1)[\"content\"][39]"
   ]
  },
  {
   "cell_type": "code",
   "execution_count": 29,
   "metadata": {
    "Collapsed": "false"
   },
   "outputs": [
    {
     "data": {
      "text/plain": [
       "[('what if the', 'Doubt'),\n",
       " ('apparently clueless to the presence of 800 U.S. troops in Niger,', 'Doubt'),\n",
       " ('secure, is that really a victory?', 'Doubt'),\n",
       " ('If we rely on the Kurds in Syria, we lose NATO ally Turkey,',\n",
       "  'Black-and-White_Fallacy'),\n",
       " ('If he crosses, he joins Bush II in the history books.',\n",
       "  'Bandwagon_Reductio_ad_hitlerum'),\n",
       " (\"If we rely on the Kurds in Syria, we lose NATO ally Turkey, which regards Syria's Kurds as collaborators of the PKK in Turkey, which even the U.S. designates a terrorist organization. \",\n",
       "  'Appeal_to_fear-prejudice'),\n",
       " ('interventionist Post', 'Name_Calling_Labeling'),\n",
       " ('Or do we leave our forces in Syria and Iraq and defy any demand from Assad to vacate his country? ',\n",
       "  'Appeal_to_fear-prejudice'),\n",
       " ('Would the American people support such a war with U.S. troops? ',\n",
       "  'Flag-Waving'),\n",
       " ('their dream of independence is all but dead.', 'Exaggeration_Minimisation'),\n",
       " ('terrorist\"', 'Name_Calling_Labeling'),\n",
       " ('What if', 'Doubt'),\n",
       " ('But what if the Baghdad regime of Haider al-Abadi does not agree? What if the Quds Force does not go home to Iran and the Shiite militias that helped retake Kirkuk refuse to enlist in the Iraqi army? ',\n",
       "  'Whataboutism_Straw_Men_Red_Herring'),\n",
       " (\"And only one force in the region has the power to reverse the present outcome of Syria's civil war--the United States. \",\n",
       "  'Flag-Waving'),\n",
       " ('Do we accept that outcome, pack up and go home? Or do we leave our forces in Syria and Iraq and defy any demand from Assad to vacate his country? ',\n",
       "  'Black-and-White_Fallacy'),\n",
       " ('A failure by the United States to defend its allies or promote new political arrangements for (Syria and Iraq) will lead only to more war, the rise of new terrorist threats, and, ultimately, the necessity of more U.S. intervention.',\n",
       "  'Appeal_to_fear-prejudice')]"
      ]
     },
     "execution_count": 29,
     "metadata": {},
     "output_type": "execute_result"
    }
   ],
   "source": [
    "article_with_span.head(40).tail(1)[\"span\"][39]"
   ]
  },
  {
   "cell_type": "code",
   "execution_count": 42,
   "metadata": {
    "Collapsed": "false"
   },
   "outputs": [
    {
     "name": "stdout",
     "output_type": "stream",
     "text": [
      "(Now they have lost Kirkuk and its oil, and their dream of independence is all but dead., 'Exaggeration_Minimisation')\n",
      "(But what if the Baghdad regime of Haider al-Abadi does not agree?, 'Doubt')\n",
      "(What if the Quds Force does not go home to Iran and the Shiite militias that helped retake Kirkuk refuse to enlist in the Iraqi army?, 'Doubt')\n",
      "(But if our victory in the war against ISIS leaves Iran in the catbird seat in Baghdad and Damascus, and its corridor from Tehran to Baghdad, Damascus and Beirut secure, is that really a victory?, 'Doubt')\n",
      "(Or do we leave our forces in Syria and Iraq and defy any demand from Assad to vacate his country?, 'Appeal_to_fear-prejudice')\n",
      "(Would the American people support such a war with U.S. troops?, 'Flag-Waving')\n",
      "(Would Congress, apparently clueless to the presence of 800 U.S. troops in Niger, authorize a new U.S. war in Syria or Iraq?, 'Doubt')\n",
      "(If we rely on the Kurds in Syria, we lose NATO ally Turkey, which regards Syria's Kurds as collaborators of the PKK in Turkey, which even the U.S. designates a terrorist organization., 'Black-and-White_Fallacy')\n",
      "(Damascus claims that Israel's \"terrorist\" allies inside Syria fired the shells, to give the IDF an excuse to attack., 'Name_Calling_Labeling')\n",
      "(And only one force in the region has the power to reverse the present outcome of Syria's civil war--the United States., 'Flag-Waving')\n",
      "(A failure by the United States to defend its allies or promote new political arrangements for (Syria and Iraq) will lead only to more war, the rise of new terrorist threats, and, ultimately, the necessity of more U.S. intervention.\", 'Appeal_to_fear-prejudice')\n",
      "(Closing its Sunday editorial the Post instructed the president:The interventionist Post is saying: The situation is intolerable., 'Name_Calling_Labeling')\n",
      "(If he crosses, he joins Bush II in the history books., 'Bandwagon_Reductio_ad_hitlerum')\n"
     ]
    }
   ],
   "source": [
    "for i in a[39]:\n",
    "    if i[1] != 0:\n",
    "        print(i)"
   ]
  },
  {
   "cell_type": "code",
   "execution_count": 32,
   "metadata": {
    "Collapsed": "false"
   },
   "outputs": [],
   "source": [
    "sample_article = article_with_span.head(40).tail(1)[\"content\"][39]"
   ]
  },
  {
   "cell_type": "code",
   "execution_count": 33,
   "metadata": {
    "Collapsed": "false"
   },
   "outputs": [
    {
     "data": {
      "text/plain": [
       "'America\\'s Immigration Voice.  The Kurds have no friends but the mountains, is an old lament . Last week, it must have been very much on Kurdish minds. As their U.S. allies watched, the Kurdish peshmerga fighters were run out of Kirkuk and all the territory they had captured fighting ISIS alongside the Americans. The Iraqi army that ran them out was trained and armed by the United States. The U.S. had warned the Kurds against holding the referendum on independence on Sept. 25, which carried with 92 percent. Iran and Turkey had warned against an independent Kurdistan that could be a magnet for Kurdish minorities in their own countries. But the Iraqi Kurds went ahead. Now they have lost Kirkuk and its oil, and their dream of independence is all but dead. More troubling for America is the new reality revealed by the rout of the peshmerga. Iraq, which George W. Bush and the neocons were going to fashion into a pro-Western democracy and American ally, appears to be as close to Iran as it is to the United States. After 4,500 U.S. dead, scores of thousands wounded and a trillion dollars sunk, our 15-year war in Iraq could end with a Shiite-dominated Baghdad aligned with Tehran. With that grim prospect in mind, Secretary Rex Tillerson said Sunday , \"Iranian militias that are in Iraq, now that the fight against ... ISIS is coming to a close ... need to go home. Any foreign fighters in Iraq need to go home.\" Tillerson meant Iran\\'s Quds Force in Iraq should go home, and the Shiite militia in Iraq should be conscripted into the army. But what if the Baghdad regime of Haider al-Abadi does not agree? What if the Quds Force does not go home to Iran and the Shiite militias that helped retake Kirkuk refuse to enlist in the Iraqi army? Who then enforces Tillerson\\'s demands? Consider what is happening in Syria. The U.S.-backed Syrian Democratic Forces, largely Kurdish, just annihilated ISIS in Raqqa and drove 60 miles to seize Syria\\'s largest oil field, al-Omar, from ISIS. The race is now on between the SDF and Bashar Assad\\'s army to secure the border with Iraq. Bottom line: The U.S. goal of crushing the ISIS caliphate is almost attained. But if our victory in the war against ISIS leaves Iran in the catbird seat in Baghdad and Damascus, and its corridor from Tehran to Baghdad, Damascus and Beirut secure, is that really a victory? Do we accept that outcome, pack up and go home? Or do we leave our forces in Syria and Iraq and defy any demand from Assad to vacate his country? Sunday\\'s editorial in The Washington Post, \"The Next Mideast Wars,\" raises the crucial questions now before us. Would President Trump be willing to fight a new war to keep Iran from consolidating its position in Iraq and Syria? Would the American people support such a war with U.S. troops? Would Congress, apparently clueless to the presence of 800 U.S. troops in Niger, authorize a new U.S. war in Syria or Iraq? If Trump and his generals felt our vital interests could not allow Syria and Iraq to drift into the orbit of Iran, where would we find allies for such a fight? If we rely on the Kurds in Syria, we lose NATO ally Turkey, which regards Syria\\'s Kurds as collaborators of the PKK in Turkey, which even the U.S. designates a terrorist organization. The decision as to whether this country should engage in new post-ISIS wars in the Mideast, however, may be taken out of our hands. Saturday, Israel launched new air strikes against gun positions in Syria in retaliation for shells fired into the Golan Heights. Damascus claims that Israel\\'s \"terrorist\" allies inside Syria fired the shells, to give the IDF an excuse to attack. Why would Israel wish to provoke a war with Syria? Because the Israelis see the outcome of the six-year Syrian civil war as a strategic disaster. Hezbollah, stronger than ever, was part of Assad\\'s victorious coalition. Iran may have secured its land corridor from Tehran to Beirut. Its presence in Syria could now be permanent. And only one force in the region has the power to reverse the present outcome of Syria\\'s civil war--the United States. Bibi Netanyahu knows that if war with Syria breaks out, a clamor will arise in Congress to have the U.S. rush to Israel\\'s aid. \"A failure by the United States to defend its allies or promote new political arrangements for (Syria and Iraq) will lead only to more war, the rise of new terrorist threats, and, ultimately, the necessity of more U.S. intervention.\" Closing its Sunday editorial the Post instructed the president:The interventionist Post is saying: The situation is intolerable. Confront Assad and Iran now, or fight them later. Trump is being led to the Rubicon. If he crosses, he joins Bush II in the history books. Patrick J. Buchanan needs no introduction to VDARE.COM readers; his books and are available from Amazon.com. Patrick J. Buchanan is the author of His latest book, published May 9, is '"
      ]
     },
     "execution_count": 33,
     "metadata": {},
     "output_type": "execute_result"
    }
   ],
   "source": [
    "sample_article"
   ]
  },
  {
   "cell_type": "code",
   "execution_count": 81,
   "metadata": {
    "Collapsed": "false"
   },
   "outputs": [],
   "source": []
  },
  {
   "cell_type": "code",
   "execution_count": 100,
   "metadata": {
    "Collapsed": "false"
   },
   "outputs": [
    {
     "name": "stdout",
     "output_type": "stream",
     "text": [
      "[\"America's Immigration Voice\", ' The Kurds have no friends but the mountains, is an old lament ', 'Last week, it must have been very much on Kurdish minds', 'As their U.S. allies watched, the Kurdish peshmerga fighters were run out of Kirkuk and all the territory they had captured fighting ISIS alongside the Americans', 'The Iraqi army that ran them out was trained and armed by the United States', 'The U.S. had warned the Kurds against holding the referendum on independence on Sept. 25, which carried with 92 percent', 'Iran and Turkey had warned against an independent Kurdistan that could be a magnet for Kurdish minorities in their own countries', 'But the Iraqi Kurds went ahead', 'Now they have lost Kirkuk and its oil, and their dream of independence is all but dead', 'More troubling for America is the new reality revealed by the rout of the peshmerga', 'Iraq, which George W', 'Bush and the neocons were going to fashion into a pro-Western democracy and American ally, appears to be as close to Iran as it is to the United States', 'After 4,500 U.S. dead, scores of thousands wounded and a trillion dollars sunk, our 15-year war in Iraq could end with a Shiite-dominated Baghdad aligned with Tehran', 'With that grim prospect in mind, Secretary Rex Tillerson said Sunday , \"Iranian militias that are in Iraq, now that the fight against ..', 'ISIS is coming to a close ... need to go home', 'Any foreign fighters in Iraq need to go home.\" Tillerson meant Iran\\'s Quds Force in Iraq should go home, and the Shiite militia in Iraq should be conscripted into the army', \"But what if the Baghdad regime of Haider al-Abadi does not agree? What if the Quds Force does not go home to Iran and the Shiite militias that helped retake Kirkuk refuse to enlist in the Iraqi army? Who then enforces Tillerson's demands? Consider what is happening in Syria\", \"The U.S.-backed Syrian Democratic Forces, largely Kurdish, just annihilated ISIS in Raqqa and drove 60 miles to seize Syria's largest oil field, al-Omar, from ISIS\", \"The race is now on between the SDF and Bashar Assad's army to secure the border with Iraq\", 'Bottom line: The U.S. goal of crushing the ISIS caliphate is almost attained', 'But if our victory in the war against ISIS leaves Iran in the catbird seat in Baghdad and Damascus, and its corridor from Tehran to Baghdad, Damascus and Beirut secure, is that really a victory? Do we accept that outcome, pack up and go home? Or do we leave our forces in Syria and Iraq and defy any demand from Assad to vacate his country? Sunday\\'s editorial in The Washington Post, \"The Next Mideast Wars,\" raises the crucial questions now before us', \"Would President Trump be willing to fight a new war to keep Iran from consolidating its position in Iraq and Syria? Would the American people support such a war with U.S. troops? Would Congress, apparently clueless to the presence of 800 U.S. troops in Niger, authorize a new U.S. war in Syria or Iraq? If Trump and his generals felt our vital interests could not allow Syria and Iraq to drift into the orbit of Iran, where would we find allies for such a fight? If we rely on the Kurds in Syria, we lose NATO ally Turkey, which regards Syria's Kurds as collaborators of the PKK in Turkey, which even the U.S. designates a terrorist organization\", 'The decision as to whether this country should engage in new post-ISIS wars in the Mideast, however, may be taken out of our hands', 'Saturday, Israel launched new air strikes against gun positions in Syria in retaliation for shells fired into the Golan Heights', 'Damascus claims that Israel\\'s \"terrorist\" allies inside Syria fired the shells, to give the IDF an excuse to attack', 'Why would Israel wish to provoke a war with Syria? Because the Israelis see the outcome of the six-year Syrian civil war as a strategic disaster', \"Hezbollah, stronger than ever, was part of Assad's victorious coalition\", 'Iran may have secured its land corridor from Tehran to Beirut', 'Its presence in Syria could now be permanent', \"And only one force in the region has the power to reverse the present outcome of Syria's civil war--the United States\", 'Bibi Netanyahu knows that if war with Syria breaks out, a clamor will arise in Congress to have the U.S. rush to Israel\\'s aid. \"A failure by the United States to defend its allies or promote new political arrangements for (Syria and Iraq) will lead only to more war, the rise of new terrorist threats, and, ultimately, the necessity of more U.S. intervention.\" Closing its Sunday editorial the Post instructed the president:The interventionist Post is saying: The situation is intolerable', 'Confront Assad and Iran now, or fight them later', 'Trump is being led to the Rubicon', 'If he crosses, he joins Bush II in the history books', 'Patrick J', 'Buchanan needs no introduction to VDARE.COM readers; his books and are available from Amazon.com', 'Patrick J']\n"
     ]
    }
   ],
   "source": [
    "def split_article_to_sentences(article):\n",
    "    ci = re.finditer(r'\\.\\s+[A-Z]', article)\n",
    "    indexes_to_break = [i.span()[0] for i in ci]\n",
    "\n",
    "    sentences = []\n",
    "    prev_index = 0\n",
    "    for index_to_split in indexes_to_break:\n",
    "        sentences.append(sample_article[prev_index:index_to_split])\n",
    "        prev_index = index_to_split + 2\n",
    "\n",
    "    return sentences\n",
    "    \n",
    "print(split_article_to_sentences(sample_article))"
   ]
  },
  {
   "cell_type": "code",
   "execution_count": null,
   "metadata": {
    "Collapsed": "false"
   },
   "outputs": [],
   "source": [
    "import spacy; from spacy.lang.en import English; nlp = English()\n",
    "nlp.add_pipe(nlp.create_pipe('sentencizer'))\n",
    "doc = nlp(sample_article)\n",
    "for sent in doc.sents:\n",
    "    print(\"------\")\n",
    "    print(sent.text)"
   ]
  },
  {
   "cell_type": "code",
   "execution_count": null,
   "metadata": {
    "Collapsed": "false"
   },
   "outputs": [],
   "source": []
  }
 ],
 "metadata": {
  "kernelspec": {
   "display_name": "semeval2020",
   "language": "python",
   "name": "semeval2020"
  },
  "language_info": {
   "codemirror_mode": {
    "name": "ipython",
    "version": 3
   },
   "file_extension": ".py",
   "mimetype": "text/x-python",
   "name": "python",
   "nbconvert_exporter": "python",
   "pygments_lexer": "ipython3",
   "version": "3.7.4"
  }
 },
 "nbformat": 4,
 "nbformat_minor": 4
}
