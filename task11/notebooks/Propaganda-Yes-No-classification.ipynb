{
 "cells": [
  {
   "cell_type": "code",
   "execution_count": 59,
   "metadata": {},
   "outputs": [],
   "source": [
    "import pandas as pd\n",
    "import sklearn"
   ]
  },
  {
   "cell_type": "code",
   "execution_count": 60,
   "metadata": {},
   "outputs": [],
   "source": [
    "sentences = pd.read_csv(\"/data/semeval-2020/task-11/processed/cleaned_sentences.csv\")"
   ]
  },
  {
   "cell_type": "code",
   "execution_count": 61,
   "metadata": {},
   "outputs": [
    {
     "data": {
      "text/html": [
       "<div>\n",
       "<style scoped>\n",
       "    .dataframe tbody tr th:only-of-type {\n",
       "        vertical-align: middle;\n",
       "    }\n",
       "\n",
       "    .dataframe tbody tr th {\n",
       "        vertical-align: top;\n",
       "    }\n",
       "\n",
       "    .dataframe thead th {\n",
       "        text-align: right;\n",
       "    }\n",
       "</style>\n",
       "<table border=\"1\" class=\"dataframe\">\n",
       "  <thead>\n",
       "    <tr style=\"text-align: right;\">\n",
       "      <th></th>\n",
       "      <th>cleaned_sentence</th>\n",
       "      <th>propaganda</th>\n",
       "      <th>classes</th>\n",
       "    </tr>\n",
       "  </thead>\n",
       "  <tbody>\n",
       "    <tr>\n",
       "      <td>0</td>\n",
       "      <td>Iran Admits To Aiding Al-Qaeda and Facilitatin...</td>\n",
       "      <td>False</td>\n",
       "      <td>[]</td>\n",
       "    </tr>\n",
       "    <tr>\n",
       "      <td>1</td>\n",
       "      <td>But now we have definitive confirmation.</td>\n",
       "      <td>False</td>\n",
       "      <td>[]</td>\n",
       "    </tr>\n",
       "    <tr>\n",
       "      <td>2</td>\n",
       "      <td>It was Iran Bush should have invaded after 9/1...</td>\n",
       "      <td>False</td>\n",
       "      <td>[]</td>\n",
       "    </tr>\n",
       "    <tr>\n",
       "      <td>3</td>\n",
       "      <td>Now consider this: even though, as President o...</td>\n",
       "      <td>False</td>\n",
       "      <td>[]</td>\n",
       "    </tr>\n",
       "    <tr>\n",
       "      <td>4</td>\n",
       "      <td>The Iran nuclear deal should never have procee...</td>\n",
       "      <td>True</td>\n",
       "      <td>[6]</td>\n",
       "    </tr>\n",
       "  </tbody>\n",
       "</table>\n",
       "</div>"
      ],
      "text/plain": [
       "                                    cleaned_sentence  propaganda classes\n",
       "0  Iran Admits To Aiding Al-Qaeda and Facilitatin...       False      []\n",
       "1           But now we have definitive confirmation.       False      []\n",
       "2  It was Iran Bush should have invaded after 9/1...       False      []\n",
       "3  Now consider this: even though, as President o...       False      []\n",
       "4  The Iran nuclear deal should never have procee...        True     [6]"
      ]
     },
     "execution_count": 61,
     "metadata": {},
     "output_type": "execute_result"
    }
   ],
   "source": [
    "sentences.head()"
   ]
  },
  {
   "cell_type": "code",
   "execution_count": 63,
   "metadata": {},
   "outputs": [],
   "source": [
    "sentences.columns = [\"text\",\"label\",\"classes\"]\n",
    "sentences[[\"label\",\"text\"]].to_csv(\"/data/semeval-2020/task-11/processed/cleaned_sentences_altered.csv\",index=False)"
   ]
  },
  {
   "cell_type": "code",
   "execution_count": 64,
   "metadata": {},
   "outputs": [],
   "source": [
    "from sklearn.model_selection import StratifiedShuffleSplit"
   ]
  },
  {
   "cell_type": "code",
   "execution_count": 65,
   "metadata": {},
   "outputs": [],
   "source": [
    "split = list(StratifiedShuffleSplit(n_splits=1,test_size=0.2).split(sentences,sentences.label))"
   ]
  },
  {
   "cell_type": "code",
   "execution_count": 66,
   "metadata": {},
   "outputs": [],
   "source": [
    "for train_ix,test_ix in split:\n",
    "    test = sentences.iloc[test_ix]\n",
    "    train = sentences.iloc[train_ix]"
   ]
  },
  {
   "cell_type": "code",
   "execution_count": 67,
   "metadata": {},
   "outputs": [],
   "source": [
    "# test"
   ]
  },
  {
   "cell_type": "code",
   "execution_count": 68,
   "metadata": {},
   "outputs": [],
   "source": [
    "# sentences.propaganda.value_counts()"
   ]
  },
  {
   "cell_type": "code",
   "execution_count": 69,
   "metadata": {},
   "outputs": [],
   "source": [
    "from fastai.text import *"
   ]
  },
  {
   "cell_type": "code",
   "execution_count": 70,
   "metadata": {},
   "outputs": [],
   "source": [
    "# data_lm = TextLMDataBunch.from_df(\"/data/semeval-2020/task-11/processed/\",train_df=train,valid_df=test,text_cols=0)\\\n",
    "#             .label_for_lm()\\\n",
    "#             .databunch(bs=128)\\\n"
   ]
  },
  {
   "cell_type": "code",
   "execution_count": 71,
   "metadata": {},
   "outputs": [],
   "source": [
    "data_lm = TextLMDataBunch.from_csv(\"/data/semeval-2020/task-11/processed/\",\"cleaned_sentences_altered.csv\")"
   ]
  },
  {
   "cell_type": "code",
   "execution_count": 72,
   "metadata": {},
   "outputs": [
    {
     "data": {
      "text/html": [
       "<table border=\"1\" class=\"dataframe\">\n",
       "  <thead>\n",
       "    <tr style=\"text-align: right;\">\n",
       "      <th>idx</th>\n",
       "      <th>text</th>\n",
       "    </tr>\n",
       "  </thead>\n",
       "  <tbody>\n",
       "    <tr>\n",
       "      <td>0</td>\n",
       "      <td>party lines to advance the nomination of xxmaj judge xxmaj brett xxmaj kavanaugh out of committee to the xxmaj senate floor for a vote . xxbos xxmaj the assignment also included a pro - xxmaj palestinian , anti - xxmaj israel article . xxbos xxmaj if xxmaj trump and his generals felt our vital interests could not allow xxmaj syria and xxmaj iraq to drift into the orbit of xxmaj</td>\n",
       "    </tr>\n",
       "    <tr>\n",
       "      <td>1</td>\n",
       "      <td>line . xxbos xxmaj the story of the xxmaj oakland mayor who tipped off illegal alien criminals to xxup ice raids resulting in rapists and child sex offenders escaping arrest just keeps getting worse . xxbos xxmaj this timeless truth of human nature is one that we xxunk ca n’t seem to accept . xxbos xxmaj and because he saw it pleased the xxmaj jews , he proceeded further to</td>\n",
       "    </tr>\n",
       "    <tr>\n",
       "      <td>2</td>\n",
       "      <td>the xxmaj jewish question . ” xxbos xxmaj it is said that they annihilated 50 - 100 hundred million , but nobody ever mentions this . [ … ] “ xxbos xxmaj even though not everything that ’s gone wrong is xxmaj trump ’s fault , he has managed to make a complete xxunk of xxmaj brett xxmaj kavanaugh ’s nomination to fill the empty seat on the court .</td>\n",
       "    </tr>\n",
       "    <tr>\n",
       "      <td>3</td>\n",
       "      <td>and to xxmaj god xxmaj almighty , not only to protect children and the youth from sexual predators in the xxmaj church , but our seminarians , university students , and all the faithful as well . xxbos for that indeed a notable xxunk hath been done by them is manifest to all them that xxunk in xxmaj jerusalem ; and we can not deny it . xxbos xxmaj you</td>\n",
       "    </tr>\n",
       "    <tr>\n",
       "      <td>4</td>\n",
       "      <td>on xxmaj friday provides just a fraction of the $ xxunk billion xxmaj rossello has said the island needs to recover from cataclysmic damage to its infrastructure and housing stock , although xxmaj puerto xxmaj rico is xxunk to participate in other programs that could increase the aid to $ 45 billion , according to xxmaj friday 's statement . xxbos xxmaj in xxmaj july 1999 , the monks of</td>\n",
       "    </tr>\n",
       "  </tbody>\n",
       "</table>"
      ],
      "text/plain": [
       "<IPython.core.display.HTML object>"
      ]
     },
     "metadata": {},
     "output_type": "display_data"
    }
   ],
   "source": [
    "data_lm.show_batch()"
   ]
  },
  {
   "cell_type": "code",
   "execution_count": 73,
   "metadata": {},
   "outputs": [],
   "source": [
    "learn = language_model_learner(data_lm,AWD_LSTM,drop_mult=0.3)"
   ]
  },
  {
   "cell_type": "code",
   "execution_count": 74,
   "metadata": {},
   "outputs": [],
   "source": [
    "#learn.lr_find()\n",
    "#learn.recorder.plot_lr(suggestion=True)"
   ]
  },
  {
   "cell_type": "code",
   "execution_count": 75,
   "metadata": {
    "scrolled": true
   },
   "outputs": [
    {
     "data": {
      "text/html": [
       "<table border=\"1\" class=\"dataframe\">\n",
       "  <thead>\n",
       "    <tr style=\"text-align: left;\">\n",
       "      <th>epoch</th>\n",
       "      <th>train_loss</th>\n",
       "      <th>valid_loss</th>\n",
       "      <th>accuracy</th>\n",
       "      <th>time</th>\n",
       "    </tr>\n",
       "  </thead>\n",
       "  <tbody>\n",
       "    <tr>\n",
       "      <td>0</td>\n",
       "      <td>4.835905</td>\n",
       "      <td>4.545141</td>\n",
       "      <td>0.260806</td>\n",
       "      <td>00:11</td>\n",
       "    </tr>\n",
       "    <tr>\n",
       "      <td>1</td>\n",
       "      <td>4.456148</td>\n",
       "      <td>4.137866</td>\n",
       "      <td>0.289834</td>\n",
       "      <td>00:12</td>\n",
       "    </tr>\n",
       "    <tr>\n",
       "      <td>2</td>\n",
       "      <td>4.140226</td>\n",
       "      <td>3.940868</td>\n",
       "      <td>0.300538</td>\n",
       "      <td>00:12</td>\n",
       "    </tr>\n",
       "    <tr>\n",
       "      <td>3</td>\n",
       "      <td>3.951661</td>\n",
       "      <td>3.866513</td>\n",
       "      <td>0.306991</td>\n",
       "      <td>00:12</td>\n",
       "    </tr>\n",
       "    <tr>\n",
       "      <td>4</td>\n",
       "      <td>3.883932</td>\n",
       "      <td>3.854526</td>\n",
       "      <td>0.308360</td>\n",
       "      <td>00:12</td>\n",
       "    </tr>\n",
       "  </tbody>\n",
       "</table>"
      ],
      "text/plain": [
       "<IPython.core.display.HTML object>"
      ]
     },
     "metadata": {},
     "output_type": "display_data"
    }
   ],
   "source": [
    "learn.fit_one_cycle(5,1e-3)"
   ]
  },
  {
   "cell_type": "code",
   "execution_count": 76,
   "metadata": {},
   "outputs": [],
   "source": [
    "learn.save('first_fit')"
   ]
  },
  {
   "cell_type": "code",
   "execution_count": 77,
   "metadata": {},
   "outputs": [],
   "source": [
    "learn.unfreeze()"
   ]
  },
  {
   "cell_type": "code",
   "execution_count": 78,
   "metadata": {},
   "outputs": [
    {
     "data": {
      "text/html": [
       "<table border=\"1\" class=\"dataframe\">\n",
       "  <thead>\n",
       "    <tr style=\"text-align: left;\">\n",
       "      <th>epoch</th>\n",
       "      <th>train_loss</th>\n",
       "      <th>valid_loss</th>\n",
       "      <th>accuracy</th>\n",
       "      <th>time</th>\n",
       "    </tr>\n",
       "  </thead>\n",
       "  <tbody>\n",
       "    <tr>\n",
       "      <td>0</td>\n",
       "      <td>3.680057</td>\n",
       "      <td>3.614512</td>\n",
       "      <td>0.351573</td>\n",
       "      <td>00:15</td>\n",
       "    </tr>\n",
       "    <tr>\n",
       "      <td>1</td>\n",
       "      <td>3.457955</td>\n",
       "      <td>3.487682</td>\n",
       "      <td>0.363444</td>\n",
       "      <td>00:15</td>\n",
       "    </tr>\n",
       "    <tr>\n",
       "      <td>2</td>\n",
       "      <td>3.142824</td>\n",
       "      <td>3.439617</td>\n",
       "      <td>0.370302</td>\n",
       "      <td>00:15</td>\n",
       "    </tr>\n",
       "    <tr>\n",
       "      <td>3</td>\n",
       "      <td>2.831341</td>\n",
       "      <td>3.449083</td>\n",
       "      <td>0.372991</td>\n",
       "      <td>00:15</td>\n",
       "    </tr>\n",
       "    <tr>\n",
       "      <td>4</td>\n",
       "      <td>2.624883</td>\n",
       "      <td>3.470540</td>\n",
       "      <td>0.372068</td>\n",
       "      <td>00:15</td>\n",
       "    </tr>\n",
       "  </tbody>\n",
       "</table>"
      ],
      "text/plain": [
       "<IPython.core.display.HTML object>"
      ]
     },
     "metadata": {},
     "output_type": "display_data"
    }
   ],
   "source": [
    "learn.fit_one_cycle(5,1e-3)"
   ]
  },
  {
   "cell_type": "code",
   "execution_count": 79,
   "metadata": {},
   "outputs": [
    {
     "data": {
      "text/plain": [
       "PosixPath('/data/semeval-2020/task-11/processed/models/fine_tuned.pth')"
      ]
     },
     "execution_count": 79,
     "metadata": {},
     "output_type": "execute_result"
    }
   ],
   "source": [
    "learn.save('fine_tuned',return_path=True)"
   ]
  },
  {
   "cell_type": "code",
   "execution_count": 90,
   "metadata": {
    "scrolled": true
   },
   "outputs": [
    {
     "ename": "RuntimeError",
     "evalue": "Error(s) in loading state_dict for SequentialRNN:\n\tMissing key(s) in state_dict: \"0.module.encoder.weight\", \"0.module.encoder_dp.emb.weight\", \"0.module.rnns.0.weight_hh_l0_raw\", \"0.module.rnns.0.module.weight_ih_l0\", \"0.module.rnns.0.module.weight_hh_l0\", \"0.module.rnns.0.module.bias_ih_l0\", \"0.module.rnns.0.module.bias_hh_l0\", \"0.module.rnns.1.weight_hh_l0_raw\", \"0.module.rnns.1.module.weight_ih_l0\", \"0.module.rnns.1.module.weight_hh_l0\", \"0.module.rnns.1.module.bias_ih_l0\", \"0.module.rnns.1.module.bias_hh_l0\", \"0.module.rnns.2.weight_hh_l0_raw\", \"0.module.rnns.2.module.weight_ih_l0\", \"0.module.rnns.2.module.weight_hh_l0\", \"0.module.rnns.2.module.bias_ih_l0\", \"0.module.rnns.2.module.bias_hh_l0\", \"1.layers.0.weight\", \"1.layers.0.bias\", \"1.layers.0.running_mean\", \"1.layers.0.running_var\", \"1.layers.2.weight\", \"1.layers.2.bias\", \"1.layers.4.weight\", \"1.layers.4.bias\", \"1.layers.4.running_mean\", \"1.layers.4.running_var\", \"1.layers.6.weight\", \"1.layers.6.bias\". \n\tUnexpected key(s) in state_dict: \"0.encoder.weight\", \"0.encoder_dp.emb.weight\", \"0.rnns.0.weight_hh_l0_raw\", \"0.rnns.0.module.weight_ih_l0\", \"0.rnns.0.module.weight_hh_l0\", \"0.rnns.0.module.bias_ih_l0\", \"0.rnns.0.module.bias_hh_l0\", \"0.rnns.1.weight_hh_l0_raw\", \"0.rnns.1.module.weight_ih_l0\", \"0.rnns.1.module.weight_hh_l0\", \"0.rnns.1.module.bias_ih_l0\", \"0.rnns.1.module.bias_hh_l0\", \"0.rnns.2.weight_hh_l0_raw\", \"0.rnns.2.module.weight_ih_l0\", \"0.rnns.2.module.weight_hh_l0\", \"0.rnns.2.module.bias_ih_l0\", \"0.rnns.2.module.bias_hh_l0\", \"1.decoder.weight\", \"1.decoder.bias\". ",
     "output_type": "error",
     "traceback": [
      "\u001b[0;31m---------------------------------------------------------------------------\u001b[0m",
      "\u001b[0;31mRuntimeError\u001b[0m                              Traceback (most recent call last)",
      "\u001b[0;32m<ipython-input-90-c27e93e2b363>\u001b[0m in \u001b[0;36m<module>\u001b[0;34m\u001b[0m\n\u001b[0;32m----> 1\u001b[0;31m \u001b[0mlearn\u001b[0m\u001b[0;34m.\u001b[0m\u001b[0mload\u001b[0m\u001b[0;34m(\u001b[0m\u001b[0;34m'fine_tuned'\u001b[0m\u001b[0;34m)\u001b[0m\u001b[0;34m\u001b[0m\u001b[0;34m\u001b[0m\u001b[0m\n\u001b[0m",
      "\u001b[0;32m~/anaconda3/envs/fastai/lib/python3.7/site-packages/fastai/basic_train.py\u001b[0m in \u001b[0;36mload\u001b[0;34m(self, file, device, strict, with_opt, purge, remove_module)\u001b[0m\n\u001b[1;32m    271\u001b[0m             \u001b[0mmodel_state\u001b[0m \u001b[0;34m=\u001b[0m \u001b[0mstate\u001b[0m\u001b[0;34m[\u001b[0m\u001b[0;34m'model'\u001b[0m\u001b[0;34m]\u001b[0m\u001b[0;34m\u001b[0m\u001b[0;34m\u001b[0m\u001b[0m\n\u001b[1;32m    272\u001b[0m             \u001b[0;32mif\u001b[0m \u001b[0mremove_module\u001b[0m\u001b[0;34m:\u001b[0m \u001b[0mmodel_state\u001b[0m \u001b[0;34m=\u001b[0m \u001b[0mremove_module_load\u001b[0m\u001b[0;34m(\u001b[0m\u001b[0mmodel_state\u001b[0m\u001b[0;34m)\u001b[0m\u001b[0;34m\u001b[0m\u001b[0;34m\u001b[0m\u001b[0m\n\u001b[0;32m--> 273\u001b[0;31m             \u001b[0mget_model\u001b[0m\u001b[0;34m(\u001b[0m\u001b[0mself\u001b[0m\u001b[0;34m.\u001b[0m\u001b[0mmodel\u001b[0m\u001b[0;34m)\u001b[0m\u001b[0;34m.\u001b[0m\u001b[0mload_state_dict\u001b[0m\u001b[0;34m(\u001b[0m\u001b[0mmodel_state\u001b[0m\u001b[0;34m,\u001b[0m \u001b[0mstrict\u001b[0m\u001b[0;34m=\u001b[0m\u001b[0mstrict\u001b[0m\u001b[0;34m)\u001b[0m\u001b[0;34m\u001b[0m\u001b[0;34m\u001b[0m\u001b[0m\n\u001b[0m\u001b[1;32m    274\u001b[0m             \u001b[0;32mif\u001b[0m \u001b[0mifnone\u001b[0m\u001b[0;34m(\u001b[0m\u001b[0mwith_opt\u001b[0m\u001b[0;34m,\u001b[0m\u001b[0;32mTrue\u001b[0m\u001b[0;34m)\u001b[0m\u001b[0;34m:\u001b[0m\u001b[0;34m\u001b[0m\u001b[0;34m\u001b[0m\u001b[0m\n\u001b[1;32m    275\u001b[0m                 \u001b[0;32mif\u001b[0m \u001b[0;32mnot\u001b[0m \u001b[0mhasattr\u001b[0m\u001b[0;34m(\u001b[0m\u001b[0mself\u001b[0m\u001b[0;34m,\u001b[0m \u001b[0;34m'opt'\u001b[0m\u001b[0;34m)\u001b[0m\u001b[0;34m:\u001b[0m \u001b[0mself\u001b[0m\u001b[0;34m.\u001b[0m\u001b[0mcreate_opt\u001b[0m\u001b[0;34m(\u001b[0m\u001b[0mdefaults\u001b[0m\u001b[0;34m.\u001b[0m\u001b[0mlr\u001b[0m\u001b[0;34m,\u001b[0m \u001b[0mself\u001b[0m\u001b[0;34m.\u001b[0m\u001b[0mwd\u001b[0m\u001b[0;34m)\u001b[0m\u001b[0;34m\u001b[0m\u001b[0;34m\u001b[0m\u001b[0m\n",
      "\u001b[0;32m~/anaconda3/envs/fastai/lib/python3.7/site-packages/torch/nn/modules/module.py\u001b[0m in \u001b[0;36mload_state_dict\u001b[0;34m(self, state_dict, strict)\u001b[0m\n\u001b[1;32m    843\u001b[0m         \u001b[0;32mif\u001b[0m \u001b[0mlen\u001b[0m\u001b[0;34m(\u001b[0m\u001b[0merror_msgs\u001b[0m\u001b[0;34m)\u001b[0m \u001b[0;34m>\u001b[0m \u001b[0;36m0\u001b[0m\u001b[0;34m:\u001b[0m\u001b[0;34m\u001b[0m\u001b[0;34m\u001b[0m\u001b[0m\n\u001b[1;32m    844\u001b[0m             raise RuntimeError('Error(s) in loading state_dict for {}:\\n\\t{}'.format(\n\u001b[0;32m--> 845\u001b[0;31m                                self.__class__.__name__, \"\\n\\t\".join(error_msgs)))\n\u001b[0m\u001b[1;32m    846\u001b[0m         \u001b[0;32mreturn\u001b[0m \u001b[0m_IncompatibleKeys\u001b[0m\u001b[0;34m(\u001b[0m\u001b[0mmissing_keys\u001b[0m\u001b[0;34m,\u001b[0m \u001b[0munexpected_keys\u001b[0m\u001b[0;34m)\u001b[0m\u001b[0;34m\u001b[0m\u001b[0;34m\u001b[0m\u001b[0m\n\u001b[1;32m    847\u001b[0m \u001b[0;34m\u001b[0m\u001b[0m\n",
      "\u001b[0;31mRuntimeError\u001b[0m: Error(s) in loading state_dict for SequentialRNN:\n\tMissing key(s) in state_dict: \"0.module.encoder.weight\", \"0.module.encoder_dp.emb.weight\", \"0.module.rnns.0.weight_hh_l0_raw\", \"0.module.rnns.0.module.weight_ih_l0\", \"0.module.rnns.0.module.weight_hh_l0\", \"0.module.rnns.0.module.bias_ih_l0\", \"0.module.rnns.0.module.bias_hh_l0\", \"0.module.rnns.1.weight_hh_l0_raw\", \"0.module.rnns.1.module.weight_ih_l0\", \"0.module.rnns.1.module.weight_hh_l0\", \"0.module.rnns.1.module.bias_ih_l0\", \"0.module.rnns.1.module.bias_hh_l0\", \"0.module.rnns.2.weight_hh_l0_raw\", \"0.module.rnns.2.module.weight_ih_l0\", \"0.module.rnns.2.module.weight_hh_l0\", \"0.module.rnns.2.module.bias_ih_l0\", \"0.module.rnns.2.module.bias_hh_l0\", \"1.layers.0.weight\", \"1.layers.0.bias\", \"1.layers.0.running_mean\", \"1.layers.0.running_var\", \"1.layers.2.weight\", \"1.layers.2.bias\", \"1.layers.4.weight\", \"1.layers.4.bias\", \"1.layers.4.running_mean\", \"1.layers.4.running_var\", \"1.layers.6.weight\", \"1.layers.6.bias\". \n\tUnexpected key(s) in state_dict: \"0.encoder.weight\", \"0.encoder_dp.emb.weight\", \"0.rnns.0.weight_hh_l0_raw\", \"0.rnns.0.module.weight_ih_l0\", \"0.rnns.0.module.weight_hh_l0\", \"0.rnns.0.module.bias_ih_l0\", \"0.rnns.0.module.bias_hh_l0\", \"0.rnns.1.weight_hh_l0_raw\", \"0.rnns.1.module.weight_ih_l0\", \"0.rnns.1.module.weight_hh_l0\", \"0.rnns.1.module.bias_ih_l0\", \"0.rnns.1.module.bias_hh_l0\", \"0.rnns.2.weight_hh_l0_raw\", \"0.rnns.2.module.weight_ih_l0\", \"0.rnns.2.module.weight_hh_l0\", \"0.rnns.2.module.bias_ih_l0\", \"0.rnns.2.module.bias_hh_l0\", \"1.decoder.weight\", \"1.decoder.bias\". "
     ]
    }
   ],
   "source": [
    "learn.load('/data/semeval-2020/task-11/processed/models/fine_tuned')"
   ]
  },
  {
   "cell_type": "code",
   "execution_count": null,
   "metadata": {},
   "outputs": [],
   "source": []
  },
  {
   "cell_type": "code",
   "execution_count": null,
   "metadata": {},
   "outputs": [],
   "source": []
  },
  {
   "cell_type": "code",
   "execution_count": 32,
   "metadata": {},
   "outputs": [],
   "source": [
    "def labelling_function(a):\n",
    "    print(a)\n",
    "    return 1"
   ]
  },
  {
   "cell_type": "code",
   "execution_count": 82,
   "metadata": {},
   "outputs": [],
   "source": [
    "data_clas = TextClasDataBunch.from_df(\"/data/semeval-2020/task-11/processed/\",\n",
    "                                      vocab=data_lm.vocab,\n",
    "                                      train_df=train, valid_df=test,\n",
    "                                     label_cols=1,\n",
    "                                      text_cols=[\"text\"],bs=128)    "
   ]
  },
  {
   "cell_type": "code",
   "execution_count": 91,
   "metadata": {},
   "outputs": [],
   "source": [
    "# data_clas = TextClasDataBunch.from_csv(\"/data/semeval-2020/task-11/processed/\",\"cleaned_sentences_altered.csv\", vocab=data_lm.train_ds.vocab, bs=32)\\\n",
    "#             .split_from_df(col=1)\\\n",
    "#             .label_from_df(cols=1,classes=[\"True\",\"False\"])\\\n",
    "#             .databunch()"
   ]
  },
  {
   "cell_type": "code",
   "execution_count": 100,
   "metadata": {},
   "outputs": [
    {
     "data": {
      "text/html": [
       "<table border=\"1\" class=\"dataframe\">\n",
       "  <thead>\n",
       "    <tr style=\"text-align: right;\">\n",
       "      <th>text</th>\n",
       "      <th>target</th>\n",
       "    </tr>\n",
       "  </thead>\n",
       "  <tbody>\n",
       "    <tr>\n",
       "      <td>xxbos xxup breaking xxup news : xxup trump xxup tells xxup jeff xxup sessions xxup to xxup put xxup an xxup end xxup to xxup russia xxup probe xxup as xxup he xxup claims xxup prosecutors xxup doing xxup mueller xxup ’s ‘ xxup dirty xxup work xxup are a xxup xxunk xxup to xxup america xxmaj white xxmaj house xxup xxunk say if xxmaj trump will order xxmaj jeff</td>\n",
       "      <td>True</td>\n",
       "    </tr>\n",
       "    <tr>\n",
       "      <td>xxbos xxmaj supporting xxmaj local xxmaj efforts to xxmaj reduce and xxmaj combat xxmaj gun xxmaj crimes , including : xxmaj opposing concealed carry xxunk policies and legislation that would xxunk city policies established to protect residents ; xxmaj providing local governments and law enforcement officials access to xxup xxunk gun trace data ; xxmaj opposing \" xxmaj stand xxmaj your xxmaj xxunk or \" xxmaj shoot xxmaj xxunk laws</td>\n",
       "      <td>False</td>\n",
       "    </tr>\n",
       "    <tr>\n",
       "      <td>xxbos xxmaj as far as the xxmaj roman xxmaj curia is concerned , for the moment i will stop here , even if the names of other prelates in the xxmaj vatican are well known , even some very close to xxmaj pope xxmaj francis , such as xxmaj cardinal xxmaj francesco xxmaj coccopalmerio and xxmaj archbishop xxmaj vincenzo xxmaj xxunk , who belong to the homosexual current in favor</td>\n",
       "      <td>False</td>\n",
       "    </tr>\n",
       "    <tr>\n",
       "      <td>xxbos xxmaj hungary 's xxmaj orban calls for global anti - migrant alliance with eye on 2018 elections ( xxmaj xxunk xxunk ) * xxup pm xxmaj orban faces elections on xxmaj april 8 , leads all polls * xxmaj migration has been xxmaj orban 's defining theme since 2015 * xxmaj says will counter globalism alongside xxup u.s. , xxup uk , xxmaj israel xxmaj by xxmaj marton xxmaj</td>\n",
       "      <td>False</td>\n",
       "    </tr>\n",
       "    <tr>\n",
       "      <td>xxbos xxup fbi xxmaj informant “ xxmaj threatened ” xxmaj after xxmaj offering xxmaj details xxmaj linking xxmaj clinton xxmaj foundation xxmaj to xxmaj russian xxmaj bribery xxmaj case xxmaj this report was originally published by xxmaj tyler xxmaj durden at xxmaj zero xxmaj hedge xxmaj while the mainstream media has largely ignored it , the scandal surrounding xxmaj russian efforts to acquire 20 % of xxmaj america ’s uranium</td>\n",
       "      <td>True</td>\n",
       "    </tr>\n",
       "  </tbody>\n",
       "</table>"
      ],
      "text/plain": [
       "<IPython.core.display.HTML object>"
      ]
     },
     "metadata": {},
     "output_type": "display_data"
    }
   ],
   "source": [
    "data = TextClasDataBunch.from_csv(\"/data/semeval-2020/task-11/processed/\", 'cleaned_sentences_altered.csv',vocab=data_lm.vocab)\n",
    "data.show_batch()"
   ]
  },
  {
   "cell_type": "code",
   "execution_count": 101,
   "metadata": {},
   "outputs": [
    {
     "data": {
      "text/plain": [
       "128"
      ]
     },
     "execution_count": 101,
     "metadata": {},
     "output_type": "execute_result"
    }
   ],
   "source": [
    "data_clas.batch_size"
   ]
  },
  {
   "cell_type": "code",
   "execution_count": 102,
   "metadata": {},
   "outputs": [
    {
     "data": {
      "text/plain": [
       "[False, True]"
      ]
     },
     "execution_count": 102,
     "metadata": {},
     "output_type": "execute_result"
    }
   ],
   "source": [
    "data_clas.classes"
   ]
  },
  {
   "cell_type": "code",
   "execution_count": 103,
   "metadata": {},
   "outputs": [],
   "source": [
    "# data_clas.vocab.itos = data_lm.vocab.itos"
   ]
  },
  {
   "cell_type": "code",
   "execution_count": 106,
   "metadata": {},
   "outputs": [],
   "source": [
    "learn = text_classifier_learner(data, AWD_LSTM,drop_mult=0.3)"
   ]
  },
  {
   "cell_type": "code",
   "execution_count": 109,
   "metadata": {
    "scrolled": true
   },
   "outputs": [
    {
     "data": {
      "text/plain": [
       "{'model': OrderedDict([('0.encoder.weight',\n",
       "               tensor([[-1.7455e-01, -4.9872e-02,  1.0374e-01,  ..., -6.7403e-02,\n",
       "                         5.1643e-01,  1.3855e-02],\n",
       "                       [ 1.0644e-02, -1.6383e-02,  2.1671e-02,  ...,  7.7826e-03,\n",
       "                         7.0390e-02, -3.0846e-02],\n",
       "                       [ 3.5604e-01, -6.7456e-01, -5.6266e-04,  ..., -5.1386e-02,\n",
       "                        -1.4043e-01,  1.3804e-01],\n",
       "                       ...,\n",
       "                       [ 2.4249e-01,  2.2241e-01,  2.4234e-01,  ..., -2.1878e-01,\n",
       "                         2.7774e-01,  3.0528e-01],\n",
       "                       [-1.4467e-02,  6.2617e-02, -1.7430e-02,  ..., -1.8095e-01,\n",
       "                         1.3605e-01, -1.8037e-01],\n",
       "                       [ 2.0782e-02,  1.6795e-01, -8.9097e-02,  ...,  5.5658e-02,\n",
       "                        -1.8048e-01, -2.6070e-02]], device='cuda:0')),\n",
       "              ('0.encoder_dp.emb.weight',\n",
       "               tensor([[-1.7455e-01, -4.9872e-02,  1.0374e-01,  ..., -6.7403e-02,\n",
       "                         5.1643e-01,  1.3855e-02],\n",
       "                       [ 1.0644e-02, -1.6383e-02,  2.1671e-02,  ...,  7.7826e-03,\n",
       "                         7.0390e-02, -3.0846e-02],\n",
       "                       [ 3.5604e-01, -6.7456e-01, -5.6266e-04,  ..., -5.1386e-02,\n",
       "                        -1.4043e-01,  1.3804e-01],\n",
       "                       ...,\n",
       "                       [ 2.4249e-01,  2.2241e-01,  2.4234e-01,  ..., -2.1878e-01,\n",
       "                         2.7774e-01,  3.0528e-01],\n",
       "                       [-1.4467e-02,  6.2617e-02, -1.7430e-02,  ..., -1.8095e-01,\n",
       "                         1.3605e-01, -1.8037e-01],\n",
       "                       [ 2.0782e-02,  1.6795e-01, -8.9097e-02,  ...,  5.5658e-02,\n",
       "                        -1.8048e-01, -2.6070e-02]], device='cuda:0')),\n",
       "              ('0.rnns.0.weight_hh_l0_raw',\n",
       "               tensor([[ 0.0649, -0.0184, -0.0800,  ..., -0.1082, -0.0750, -0.0521],\n",
       "                       [-0.0381, -0.0305,  0.0283,  ...,  0.2116, -0.1291,  0.0499],\n",
       "                       [ 0.1727, -0.0024,  0.2547,  ...,  0.0569,  0.0641, -0.0012],\n",
       "                       ...,\n",
       "                       [-0.0869,  0.1957,  0.1096,  ..., -0.1334,  0.0136, -0.0226],\n",
       "                       [-0.0443, -0.0655,  0.0503,  ..., -0.1775, -0.0041,  0.0705],\n",
       "                       [ 0.0056,  0.0678,  0.0213,  ...,  0.0361,  0.1388,  0.0249]],\n",
       "                      device='cuda:0')),\n",
       "              ('0.rnns.0.module.weight_ih_l0',\n",
       "               tensor([[-8.2585e-02, -5.1121e-03, -2.6246e-04,  ...,  5.5733e-02,\n",
       "                        -2.4749e-01, -6.7672e-04],\n",
       "                       [ 1.5063e-01, -4.3020e-02,  7.6237e-02,  ...,  1.0892e-01,\n",
       "                        -5.3928e-02,  5.2893e-02],\n",
       "                       [ 1.8589e-02, -1.2130e-01, -2.5654e-01,  ...,  4.9445e-02,\n",
       "                         1.6038e-02,  2.1993e-02],\n",
       "                       ...,\n",
       "                       [-1.3682e-01, -2.4092e-01, -2.7225e-02,  ..., -7.8056e-02,\n",
       "                        -1.7810e-01,  8.0169e-02],\n",
       "                       [ 4.1551e-02,  6.1723e-02, -2.5635e-01,  ..., -1.7982e-01,\n",
       "                        -4.7601e-02,  8.5464e-02],\n",
       "                       [ 5.6949e-03, -2.6598e-01,  1.1624e-01,  ...,  1.0895e-01,\n",
       "                         8.7025e-02,  1.4763e-01]], device='cuda:0')),\n",
       "              ('0.rnns.0.module.weight_hh_l0',\n",
       "               tensor([[ 0.0649, -0.0184, -0.0800,  ..., -0.1082, -0.0750, -0.0521],\n",
       "                       [-0.0381, -0.0305,  0.0283,  ...,  0.2116, -0.1291,  0.0499],\n",
       "                       [ 0.1727, -0.0024,  0.2547,  ...,  0.0569,  0.0641, -0.0012],\n",
       "                       ...,\n",
       "                       [-0.0869,  0.1957,  0.1096,  ..., -0.1334,  0.0136, -0.0226],\n",
       "                       [-0.0443, -0.0655,  0.0503,  ..., -0.1775, -0.0041,  0.0705],\n",
       "                       [ 0.0056,  0.0678,  0.0213,  ...,  0.0361,  0.1388,  0.0249]],\n",
       "                      device='cuda:0')),\n",
       "              ('0.rnns.0.module.bias_ih_l0',\n",
       "               tensor([-0.0205, -0.1340, -0.0589,  ..., -0.0818, -0.1623, -0.2800],\n",
       "                      device='cuda:0')),\n",
       "              ('0.rnns.0.module.bias_hh_l0',\n",
       "               tensor([-0.0205, -0.1340, -0.0589,  ..., -0.0818, -0.1623, -0.2800],\n",
       "                      device='cuda:0')),\n",
       "              ('0.rnns.1.weight_hh_l0_raw',\n",
       "               tensor([[-0.0182,  0.0321,  0.0920,  ..., -0.0147, -0.0937, -0.1240],\n",
       "                       [-0.0075,  0.6005, -0.0957,  ...,  0.0550,  0.0492, -0.1564],\n",
       "                       [ 0.1101,  0.1577,  0.0450,  ...,  0.0238,  0.0280, -0.1169],\n",
       "                       ...,\n",
       "                       [-0.0571,  0.0785, -0.0126,  ...,  0.1723, -0.0234,  0.0493],\n",
       "                       [-0.0825, -0.0363, -0.2567,  ..., -0.2131, -0.2872, -0.1297],\n",
       "                       [ 0.0377,  0.0347, -0.0176,  ...,  0.1358, -0.0343, -0.1431]],\n",
       "                      device='cuda:0')),\n",
       "              ('0.rnns.1.module.weight_ih_l0',\n",
       "               tensor([[ 0.0923,  0.1059, -0.1744,  ...,  0.0951, -0.1634, -0.0259],\n",
       "                       [-0.1102, -0.1547, -0.0103,  ..., -0.1345, -0.0177,  0.1878],\n",
       "                       [ 0.0690,  0.0791,  0.1296,  ...,  0.0237, -0.0007,  0.0667],\n",
       "                       ...,\n",
       "                       [-0.0339,  0.0135,  0.0654,  ..., -0.1170, -0.0569,  0.0074],\n",
       "                       [ 0.0529, -0.0187,  0.0646,  ..., -0.0303, -0.0771, -0.0332],\n",
       "                       [ 0.1353,  0.1881,  0.0773,  ..., -0.1932, -0.1191,  0.0924]],\n",
       "                      device='cuda:0')),\n",
       "              ('0.rnns.1.module.weight_hh_l0',\n",
       "               tensor([[-0.0182,  0.0321,  0.0920,  ..., -0.0147, -0.0937, -0.1240],\n",
       "                       [-0.0075,  0.6005, -0.0957,  ...,  0.0550,  0.0492, -0.1564],\n",
       "                       [ 0.1101,  0.1577,  0.0450,  ...,  0.0238,  0.0280, -0.1169],\n",
       "                       ...,\n",
       "                       [-0.0571,  0.0785, -0.0126,  ...,  0.1723, -0.0234,  0.0493],\n",
       "                       [-0.0825, -0.0363, -0.2567,  ..., -0.2131, -0.2872, -0.1297],\n",
       "                       [ 0.0377,  0.0347, -0.0176,  ...,  0.1358, -0.0343, -0.1431]],\n",
       "                      device='cuda:0')),\n",
       "              ('0.rnns.1.module.bias_ih_l0',\n",
       "               tensor([-0.0552, -0.1596, -0.2530,  ..., -0.1856, -0.1077, -0.1681],\n",
       "                      device='cuda:0')),\n",
       "              ('0.rnns.1.module.bias_hh_l0',\n",
       "               tensor([-0.0552, -0.1596, -0.2530,  ..., -0.1856, -0.1077, -0.1681],\n",
       "                      device='cuda:0')),\n",
       "              ('0.rnns.2.weight_hh_l0_raw',\n",
       "               tensor([[ 9.2373e-02, -6.2090e-03,  7.5809e-02,  ...,  2.4378e-02,\n",
       "                         2.7710e-02,  6.4368e-02],\n",
       "                       [-5.6169e-02,  4.0451e-02, -2.0224e-02,  ...,  7.4867e-02,\n",
       "                        -1.1750e-04,  5.0812e-02],\n",
       "                       [ 6.2500e-03, -1.3760e-01,  2.1748e-01,  ...,  3.1739e-02,\n",
       "                         1.5451e-02, -1.3716e-02],\n",
       "                       ...,\n",
       "                       [-3.7528e-03, -3.7651e-02, -2.0079e-02,  ..., -2.4302e-02,\n",
       "                        -2.5980e-02, -1.0202e-02],\n",
       "                       [-1.3770e-02,  2.4773e-02,  2.5349e-02,  ..., -2.1660e-02,\n",
       "                         1.3434e-01, -2.4840e-03],\n",
       "                       [ 8.3514e-03, -2.9170e-02, -8.1963e-02,  ..., -3.3345e-02,\n",
       "                         1.4731e-01, -8.9041e-02]], device='cuda:0')),\n",
       "              ('0.rnns.2.module.weight_ih_l0',\n",
       "               tensor([[-0.0838, -0.1306, -0.0552,  ...,  0.1270,  0.1035,  0.0996],\n",
       "                       [ 0.0008,  0.1236,  0.0150,  ...,  0.0094, -0.0578, -0.0390],\n",
       "                       [ 0.0902, -0.0543, -0.1377,  ...,  0.1394,  0.1488,  0.0919],\n",
       "                       ...,\n",
       "                       [-0.0916, -0.0723,  0.3247,  ..., -0.0263, -0.0037,  0.0145],\n",
       "                       [ 0.0571,  0.0490,  0.0333,  ..., -0.0220,  0.2200, -0.0136],\n",
       "                       [ 0.2014, -0.0053,  0.0403,  ..., -0.2510,  0.0548, -0.0414]],\n",
       "                      device='cuda:0')),\n",
       "              ('0.rnns.2.module.weight_hh_l0',\n",
       "               tensor([[ 9.2373e-02, -6.2090e-03,  7.5809e-02,  ...,  2.4378e-02,\n",
       "                         2.7710e-02,  6.4368e-02],\n",
       "                       [-5.6169e-02,  4.0451e-02, -2.0224e-02,  ...,  7.4867e-02,\n",
       "                        -1.1750e-04,  5.0812e-02],\n",
       "                       [ 6.2500e-03, -1.3760e-01,  2.1748e-01,  ...,  3.1739e-02,\n",
       "                         1.5451e-02, -1.3716e-02],\n",
       "                       ...,\n",
       "                       [-3.7528e-03, -3.7651e-02, -2.0079e-02,  ..., -2.4302e-02,\n",
       "                        -2.5980e-02, -1.0202e-02],\n",
       "                       [-1.3770e-02,  2.4773e-02,  2.5349e-02,  ..., -2.1660e-02,\n",
       "                         1.3434e-01, -2.4840e-03],\n",
       "                       [ 8.3514e-03, -2.9170e-02, -8.1963e-02,  ..., -3.3345e-02,\n",
       "                         1.4731e-01, -8.9041e-02]], device='cuda:0')),\n",
       "              ('0.rnns.2.module.bias_ih_l0',\n",
       "               tensor([0.2823, 0.1088, 0.1306,  ..., 0.2359, 0.1321, 0.3629], device='cuda:0')),\n",
       "              ('0.rnns.2.module.bias_hh_l0',\n",
       "               tensor([0.2823, 0.1088, 0.1306,  ..., 0.2359, 0.1321, 0.3629], device='cuda:0')),\n",
       "              ('1.decoder.weight',\n",
       "               tensor([[-1.7455e-01, -4.9872e-02,  1.0374e-01,  ..., -6.7403e-02,\n",
       "                         5.1643e-01,  1.3855e-02],\n",
       "                       [ 1.0644e-02, -1.6383e-02,  2.1671e-02,  ...,  7.7826e-03,\n",
       "                         7.0390e-02, -3.0846e-02],\n",
       "                       [ 3.5604e-01, -6.7456e-01, -5.6266e-04,  ..., -5.1386e-02,\n",
       "                        -1.4043e-01,  1.3804e-01],\n",
       "                       ...,\n",
       "                       [ 2.4249e-01,  2.2241e-01,  2.4234e-01,  ..., -2.1878e-01,\n",
       "                         2.7774e-01,  3.0528e-01],\n",
       "                       [-1.4467e-02,  6.2617e-02, -1.7430e-02,  ..., -1.8095e-01,\n",
       "                         1.3605e-01, -1.8037e-01],\n",
       "                       [ 2.0782e-02,  1.6795e-01, -8.9097e-02,  ...,  5.5658e-02,\n",
       "                        -1.8048e-01, -2.6070e-02]], device='cuda:0')),\n",
       "              ('1.decoder.bias',\n",
       "               tensor([ 5.4883, -4.7234,  0.2359,  ..., -0.4630, -0.5192, -0.2341],\n",
       "                      device='cuda:0'))]),\n",
       " 'opt': {'state': {140109957251712: {'step': 430,\n",
       "    'exp_avg': tensor([[-5.6154e-07, -1.0616e-06, -8.8652e-07,  ...,  4.2728e-06,\n",
       "              2.6298e-07, -4.5978e-07],\n",
       "            [ 4.3720e-06,  4.7793e-06,  2.5226e-06,  ...,  3.4944e-06,\n",
       "             -8.3548e-08, -1.4041e-06],\n",
       "            [-1.3703e-06,  3.5365e-06,  4.3678e-06,  ...,  3.3363e-07,\n",
       "             -6.1466e-08, -5.1477e-06],\n",
       "            ...,\n",
       "            [ 7.8008e-07,  1.4410e-05,  2.9357e-06,  ..., -6.6135e-06,\n",
       "              2.1350e-07, -1.2429e-06],\n",
       "            [ 1.1249e-07, -2.9034e-07, -2.2644e-06,  ...,  1.3634e-06,\n",
       "             -4.0171e-07, -5.0505e-07],\n",
       "            [-4.8771e-06, -8.1297e-07,  4.9948e-06,  ...,  1.0684e-05,\n",
       "              2.1402e-07, -6.9249e-06]], device='cuda:0'),\n",
       "    'exp_avg_sq': tensor([[6.2044e-10, 3.3576e-10, 2.3771e-10,  ..., 5.9298e-10, 6.7068e-12,\n",
       "             1.2847e-10],\n",
       "            [5.4505e-10, 1.3424e-09, 6.7804e-10,  ..., 7.0126e-10, 1.5446e-11,\n",
       "             7.1196e-10],\n",
       "            [6.8571e-10, 1.0185e-09, 5.0075e-10,  ..., 5.2849e-10, 1.0250e-11,\n",
       "             2.5214e-10],\n",
       "            ...,\n",
       "            [5.7099e-10, 1.2135e-09, 5.4227e-10,  ..., 1.6567e-09, 2.2823e-11,\n",
       "             4.9550e-10],\n",
       "            [2.7556e-11, 4.5706e-11, 3.0399e-11,  ..., 7.0305e-11, 3.0946e-11,\n",
       "             1.5140e-11],\n",
       "            [2.5438e-10, 6.6058e-10, 5.3536e-10,  ..., 1.7283e-09, 8.3968e-12,\n",
       "             9.7382e-10]], device='cuda:0')},\n",
       "   140109957265680: {'step': 430,\n",
       "    'exp_avg': tensor([[-1.0170e-05,  3.5145e-06, -8.1264e-06,  ..., -8.5581e-07,\n",
       "              2.9792e-06, -5.1020e-06],\n",
       "            [-1.1872e-05,  1.2791e-05, -2.5505e-06,  ..., -1.5776e-06,\n",
       "             -3.1803e-07, -1.1503e-05],\n",
       "            [-1.0229e-05, -9.4922e-07,  3.4578e-06,  ...,  4.9369e-06,\n",
       "              3.3280e-06,  9.2795e-06],\n",
       "            ...,\n",
       "            [-2.8963e-06, -6.3913e-07, -1.1997e-06,  ...,  1.3025e-06,\n",
       "             -1.5565e-06, -9.4958e-06],\n",
       "            [ 7.5225e-09, -3.1840e-07, -1.0501e-06,  ..., -6.0493e-07,\n",
       "             -5.0522e-07, -4.4699e-07],\n",
       "            [ 4.8156e-06,  3.5097e-07,  3.4666e-06,  ...,  1.9622e-06,\n",
       "              2.1025e-06, -4.2581e-07]], device='cuda:0'),\n",
       "    'exp_avg_sq': tensor([[9.4739e-10, 7.8694e-10, 5.9599e-10,  ..., 3.4074e-10, 1.0162e-09,\n",
       "             9.9963e-10],\n",
       "            [2.2458e-09, 1.4688e-09, 8.5461e-10,  ..., 2.5137e-10, 4.0125e-09,\n",
       "             1.2017e-09],\n",
       "            [1.7831e-09, 1.0756e-09, 1.1441e-09,  ..., 5.1963e-10, 1.8111e-09,\n",
       "             1.2374e-09],\n",
       "            ...,\n",
       "            [2.3891e-09, 1.6063e-09, 1.2820e-09,  ..., 4.2576e-10, 2.4206e-09,\n",
       "             1.6599e-09],\n",
       "            [7.7554e-11, 5.0415e-11, 3.7015e-11,  ..., 1.6414e-11, 3.2164e-10,\n",
       "             4.5694e-11],\n",
       "            [1.1121e-09, 5.0975e-10, 3.8565e-10,  ..., 1.4744e-10, 2.2232e-09,\n",
       "             4.6187e-10]], device='cuda:0')},\n",
       "   140109957264320: {'step': 430,\n",
       "    'exp_avg': tensor([ 1.3522e-06, -5.9216e-05, -4.8040e-05,  ..., -1.9075e-05,\n",
       "             8.2686e-06, -2.3103e-05], device='cuda:0'),\n",
       "    'exp_avg_sq': tensor([1.2263e-08, 2.3720e-08, 1.7572e-08,  ..., 2.7569e-08, 2.3939e-09,\n",
       "            1.3129e-08], device='cuda:0')},\n",
       "   140109957267200: {'step': 430,\n",
       "    'exp_avg': tensor([ 1.3522e-06, -5.9216e-05, -4.8040e-05,  ..., -1.9075e-05,\n",
       "             8.2686e-06, -2.3103e-05], device='cuda:0'),\n",
       "    'exp_avg_sq': tensor([1.2263e-08, 2.3720e-08, 1.7572e-08,  ..., 2.7569e-08, 2.3939e-09,\n",
       "            1.3129e-08], device='cuda:0')},\n",
       "   140109957252832: {'step': 430,\n",
       "    'exp_avg': tensor([[ 1.7084e-06,  6.2605e-06,  4.5339e-06,  ..., -6.1234e-07,\n",
       "             -1.7087e-06, -2.2507e-06],\n",
       "            [-3.9589e-06,  7.1839e-06, -5.8127e-06,  ...,  3.6273e-07,\n",
       "              1.3569e-06,  5.7276e-06],\n",
       "            [ 4.9948e-06, -3.1763e-07,  6.4892e-06,  ...,  1.9139e-08,\n",
       "              7.4280e-07,  2.4186e-06],\n",
       "            ...,\n",
       "            [-3.7418e-07, -1.5450e-06,  1.1528e-06,  ..., -4.7087e-06,\n",
       "             -4.1414e-06, -1.5218e-06],\n",
       "            [ 3.0197e-06,  6.7178e-06,  2.4633e-06,  ..., -3.2146e-07,\n",
       "             -5.0784e-06,  2.2579e-06],\n",
       "            [-6.3248e-06, -1.0604e-05,  5.7749e-06,  ..., -2.3548e-06,\n",
       "             -7.5127e-06,  9.0611e-06]], device='cuda:0'),\n",
       "    'exp_avg_sq': tensor([[5.9135e-10, 8.9761e-10, 7.6396e-10,  ..., 1.1172e-10, 2.7192e-10,\n",
       "             2.5576e-10],\n",
       "            [5.6165e-10, 1.0768e-09, 5.4321e-10,  ..., 2.3657e-10, 3.9761e-10,\n",
       "             2.6110e-10],\n",
       "            [7.2874e-10, 6.2729e-10, 1.2157e-09,  ..., 1.4109e-10, 4.8151e-10,\n",
       "             1.1582e-10],\n",
       "            ...,\n",
       "            [2.5393e-10, 1.6451e-10, 4.6609e-10,  ..., 9.5275e-10, 3.3904e-10,\n",
       "             1.7650e-10],\n",
       "            [3.4837e-10, 6.3160e-10, 3.7324e-10,  ..., 2.7339e-10, 1.0553e-09,\n",
       "             1.8775e-10],\n",
       "            [1.0790e-09, 9.1659e-10, 7.0757e-10,  ..., 4.9393e-10, 3.5094e-10,\n",
       "             2.1008e-09]], device='cuda:0')},\n",
       "   140109957266480: {'step': 430,\n",
       "    'exp_avg': tensor([[-1.0678e-06,  1.3092e-05,  5.5585e-06,  ..., -8.8662e-06,\n",
       "              2.2473e-07, -2.4024e-06],\n",
       "            [ 5.1348e-06,  9.5733e-07, -7.5771e-06,  ...,  6.9131e-06,\n",
       "              2.9992e-07, -2.1058e-06],\n",
       "            [-7.0374e-06, -2.0307e-06, -1.3189e-06,  ..., -2.6942e-06,\n",
       "             -3.8009e-07,  2.1732e-06],\n",
       "            ...,\n",
       "            [ 2.2822e-06,  5.1039e-07,  3.0288e-06,  ..., -5.4736e-06,\n",
       "             -7.1940e-07,  5.7817e-06],\n",
       "            [-3.0881e-06, -2.4286e-06,  1.1006e-06,  ..., -1.0249e-05,\n",
       "              8.3710e-07, -6.7991e-07],\n",
       "            [ 8.8239e-06, -4.1479e-05, -2.0308e-06,  ...,  2.0085e-05,\n",
       "              1.0854e-07,  2.8282e-05]], device='cuda:0'),\n",
       "    'exp_avg_sq': tensor([[7.9849e-10, 2.3139e-09, 7.4258e-10,  ..., 1.3455e-09, 1.2419e-11,\n",
       "             1.0464e-09],\n",
       "            [6.6090e-10, 1.9703e-09, 1.4689e-09,  ..., 1.3198e-09, 1.8295e-11,\n",
       "             3.2856e-10],\n",
       "            [1.7090e-09, 5.8017e-10, 9.6717e-10,  ..., 1.2668e-09, 2.8628e-11,\n",
       "             9.9673e-11],\n",
       "            ...,\n",
       "            [8.5976e-10, 1.0828e-09, 2.4347e-10,  ..., 8.0733e-10, 4.1890e-11,\n",
       "             9.2405e-10],\n",
       "            [6.3645e-10, 1.9642e-09, 8.2003e-10,  ..., 1.2713e-09, 3.1477e-11,\n",
       "             3.4072e-10],\n",
       "            [9.7854e-10, 8.8836e-09, 1.6231e-09,  ..., 2.6510e-09, 4.9604e-11,\n",
       "             4.5057e-09]], device='cuda:0')},\n",
       "   140109957265360: {'step': 430,\n",
       "    'exp_avg': tensor([-4.9190e-05,  6.4166e-05, -3.9357e-05,  ..., -3.5157e-05,\n",
       "            -4.2886e-05, -2.4900e-05], device='cuda:0'),\n",
       "    'exp_avg_sq': tensor([3.0464e-08, 4.9660e-08, 6.6462e-08,  ..., 3.2615e-08, 3.7649e-08,\n",
       "            6.7565e-08], device='cuda:0')},\n",
       "   140109957265120: {'step': 430,\n",
       "    'exp_avg': tensor([-4.9190e-05,  6.4166e-05, -3.9357e-05,  ..., -3.5157e-05,\n",
       "            -4.2886e-05, -2.4900e-05], device='cuda:0'),\n",
       "    'exp_avg_sq': tensor([3.0464e-08, 4.9660e-08, 6.6462e-08,  ..., 3.2615e-08, 3.7649e-08,\n",
       "            6.7565e-08], device='cuda:0')},\n",
       "   140109957252272: {'step': 430,\n",
       "    'exp_avg': tensor([[-5.0939e-06,  1.4028e-05, -1.6583e-06,  ...,  4.0078e-06,\n",
       "             -1.1535e-05, -6.5655e-06],\n",
       "            [ 6.1505e-06,  8.3843e-07,  7.7816e-06,  ..., -3.0697e-06,\n",
       "             -1.8964e-06,  1.5032e-05],\n",
       "            [ 1.9040e-06, -2.9338e-06, -6.3446e-06,  ..., -6.4542e-06,\n",
       "              4.1699e-06,  1.6151e-07],\n",
       "            ...,\n",
       "            [-1.8554e-06,  5.4554e-06, -4.6794e-06,  ...,  1.1307e-05,\n",
       "              1.5785e-06,  4.2242e-06],\n",
       "            [ 5.0297e-06, -2.3718e-06,  2.6077e-06,  ...,  5.1517e-06,\n",
       "             -1.0647e-05,  2.3594e-06],\n",
       "            [-9.0460e-06,  1.9149e-06, -3.8919e-06,  ..., -1.1744e-05,\n",
       "             -2.1756e-06, -3.8842e-06]], device='cuda:0'),\n",
       "    'exp_avg_sq': tensor([[2.3551e-09, 1.7723e-09, 1.6253e-09,  ..., 1.0273e-09, 9.8477e-10,\n",
       "             1.9545e-09],\n",
       "            [2.4112e-09, 1.9700e-09, 1.7221e-09,  ..., 1.2953e-09, 1.0285e-09,\n",
       "             1.8108e-09],\n",
       "            [2.1661e-09, 1.5343e-09, 1.3878e-09,  ..., 9.7920e-10, 9.5736e-10,\n",
       "             1.3245e-09],\n",
       "            ...,\n",
       "            [3.7294e-10, 2.5508e-10, 2.0530e-10,  ..., 3.3282e-10, 2.0616e-10,\n",
       "             2.6937e-10],\n",
       "            [3.9868e-09, 2.6639e-09, 2.8789e-09,  ..., 1.8368e-09, 2.3994e-09,\n",
       "             3.1956e-09],\n",
       "            [8.1882e-10, 5.0447e-10, 5.8383e-10,  ..., 4.8926e-10, 3.7572e-10,\n",
       "             8.4140e-10]], device='cuda:0')},\n",
       "   140109957265520: {'step': 430,\n",
       "    'exp_avg': tensor([[ 8.7633e-06, -1.2453e-06, -6.3593e-06,  ...,  7.4743e-07,\n",
       "             -8.3919e-08,  1.6348e-06],\n",
       "            [-3.2403e-07,  2.7026e-06, -3.7404e-06,  ...,  1.4481e-06,\n",
       "             -5.7043e-06,  3.9163e-06],\n",
       "            [ 3.5438e-06,  2.7468e-06,  7.0238e-06,  ...,  1.0555e-06,\n",
       "              2.4364e-06,  1.0728e-06],\n",
       "            ...,\n",
       "            [ 9.7486e-07, -1.8794e-06, -1.6790e-06,  ..., -3.3293e-07,\n",
       "             -1.1942e-06,  1.5231e-06],\n",
       "            [-6.1676e-06,  2.2021e-06,  4.9858e-06,  ...,  2.1822e-06,\n",
       "             -5.4279e-06, -4.3545e-07],\n",
       "            [-5.0274e-07, -9.7079e-07, -1.2311e-06,  ..., -9.4569e-07,\n",
       "             -6.3062e-07, -3.1452e-07]], device='cuda:0'),\n",
       "    'exp_avg_sq': tensor([[4.8315e-10, 8.7446e-10, 6.4089e-10,  ..., 1.1349e-10, 5.9202e-10,\n",
       "             2.2788e-10],\n",
       "            [3.5122e-10, 6.6677e-10, 5.1580e-10,  ..., 1.8944e-10, 3.1329e-10,\n",
       "             2.3793e-10],\n",
       "            [2.8819e-10, 4.7833e-10, 3.5814e-10,  ..., 2.5825e-10, 1.7347e-10,\n",
       "             1.4116e-10],\n",
       "            ...,\n",
       "            [5.7348e-11, 8.1055e-11, 5.0004e-11,  ..., 2.5974e-11, 5.6338e-11,\n",
       "             4.1349e-11],\n",
       "            [7.6420e-10, 1.4834e-09, 7.9260e-10,  ..., 2.0144e-10, 2.1433e-09,\n",
       "             3.7716e-10],\n",
       "            [9.6052e-11, 1.5769e-10, 1.3396e-10,  ..., 4.9264e-11, 2.1021e-10,\n",
       "             5.5714e-11]], device='cuda:0')},\n",
       "   140109957266240: {'step': 430,\n",
       "    'exp_avg': tensor([-3.3596e-06, -4.0573e-05,  1.3867e-05,  ...,  5.6404e-06,\n",
       "            -2.8057e-05,  2.4306e-05], device='cuda:0'),\n",
       "    'exp_avg_sq': tensor([3.9920e-08, 3.0702e-08, 2.5241e-08,  ..., 3.0605e-09, 4.9298e-08,\n",
       "            7.9185e-09], device='cuda:0')},\n",
       "   140109957263520: {'step': 430,\n",
       "    'exp_avg': tensor([-3.3596e-06, -4.0573e-05,  1.3867e-05,  ...,  5.6404e-06,\n",
       "            -2.8057e-05,  2.4306e-05], device='cuda:0'),\n",
       "    'exp_avg_sq': tensor([3.9920e-08, 3.0702e-08, 2.5241e-08,  ..., 3.0605e-09, 4.9298e-08,\n",
       "            7.9185e-09], device='cuda:0')},\n",
       "   140109957264560: {'step': 430,\n",
       "    'exp_avg': tensor([[ 6.3884e-05, -2.4768e-05,  1.8042e-07,  ...,  8.3074e-05,\n",
       "              8.1809e-05,  1.1735e-04],\n",
       "            [-1.7421e-10,  3.2387e-10,  6.7137e-10,  ...,  5.9961e-10,\n",
       "              7.7078e-10,  1.1310e-09],\n",
       "            [-5.4269e-05, -2.5258e-05, -9.1839e-06,  ...,  5.0695e-05,\n",
       "             -3.5421e-05,  4.1240e-05],\n",
       "            ...,\n",
       "            [-1.1460e-08,  1.7326e-07,  1.5255e-07,  ...,  1.4593e-07,\n",
       "              1.7463e-07,  3.4644e-07],\n",
       "            [-3.3873e-08, -5.1358e-07,  5.3485e-08,  ...,  1.5223e-07,\n",
       "              9.3137e-08,  8.0093e-07],\n",
       "            [ 6.3397e-07,  2.7741e-07,  3.8757e-07,  ..., -1.2783e-06,\n",
       "             -8.1782e-07,  1.1203e-06]], device='cuda:0'),\n",
       "    'exp_avg_sq': tensor([[6.3391e-07, 3.4825e-07, 4.4753e-07,  ..., 2.9907e-07, 3.4874e-07,\n",
       "             4.4516e-07],\n",
       "            [3.6133e-19, 3.9105e-19, 7.8954e-19,  ..., 6.4212e-19, 9.4264e-19,\n",
       "             1.6153e-18],\n",
       "            [1.2034e-07, 7.9738e-08, 3.9518e-08,  ..., 6.5288e-08, 1.1054e-07,\n",
       "             4.1842e-08],\n",
       "            ...,\n",
       "            [1.6421e-10, 1.4170e-10, 1.3161e-10,  ..., 1.6566e-10, 1.1261e-10,\n",
       "             3.0380e-10],\n",
       "            [1.7279e-11, 8.7128e-10, 3.9976e-10,  ..., 8.0438e-11, 5.9549e-11,\n",
       "             9.5434e-10],\n",
       "            [2.7437e-10, 3.3205e-11, 1.2416e-10,  ..., 8.5033e-10, 1.1307e-10,\n",
       "             5.3469e-10]], device='cuda:0')},\n",
       "   140109957252752: {'step': 430,\n",
       "    'exp_avg': tensor([-4.8262e-04,  1.2862e-08,  7.4138e-04,  ...,  3.1508e-06,\n",
       "             2.1665e-06,  3.4130e-06], device='cuda:0'),\n",
       "    'exp_avg_sq': tensor([6.2435e-06, 2.2696e-16, 8.2874e-06,  ..., 6.1847e-10, 1.8025e-09,\n",
       "            1.6281e-09], device='cuda:0')}},\n",
       "  'param_groups': [{'lr': 4e-09,\n",
       "    'betas': (0.95, 0.99),\n",
       "    'eps': 1e-08,\n",
       "    'weight_decay': 0,\n",
       "    'amsgrad': False,\n",
       "    'params': [140109957251712,\n",
       "     140109957265680,\n",
       "     140109957264320,\n",
       "     140109957267200]},\n",
       "   {'lr': 4e-09,\n",
       "    'betas': (0.95, 0.99),\n",
       "    'eps': 1e-08,\n",
       "    'weight_decay': 0,\n",
       "    'amsgrad': False,\n",
       "    'params': []},\n",
       "   {'lr': 4e-09,\n",
       "    'betas': (0.95, 0.99),\n",
       "    'eps': 1e-08,\n",
       "    'weight_decay': 0,\n",
       "    'amsgrad': False,\n",
       "    'params': [140109957252832,\n",
       "     140109957266480,\n",
       "     140109957265360,\n",
       "     140109957265120]},\n",
       "   {'lr': 4e-09,\n",
       "    'betas': (0.95, 0.99),\n",
       "    'eps': 1e-08,\n",
       "    'weight_decay': 0,\n",
       "    'amsgrad': False,\n",
       "    'params': []},\n",
       "   {'lr': 4e-09,\n",
       "    'betas': (0.95, 0.99),\n",
       "    'eps': 1e-08,\n",
       "    'weight_decay': 0,\n",
       "    'amsgrad': False,\n",
       "    'params': [140109957252272,\n",
       "     140109957265520,\n",
       "     140109957266240,\n",
       "     140109957263520]},\n",
       "   {'lr': 4e-09,\n",
       "    'betas': (0.95, 0.99),\n",
       "    'eps': 1e-08,\n",
       "    'weight_decay': 0,\n",
       "    'amsgrad': False,\n",
       "    'params': []},\n",
       "   {'lr': 4e-09,\n",
       "    'betas': (0.95, 0.99),\n",
       "    'eps': 1e-08,\n",
       "    'weight_decay': 0,\n",
       "    'amsgrad': False,\n",
       "    'params': [140109957264560, 140109957252752]},\n",
       "   {'lr': 4e-09,\n",
       "    'betas': (0.95, 0.99),\n",
       "    'eps': 1e-08,\n",
       "    'weight_decay': 0,\n",
       "    'amsgrad': False,\n",
       "    'params': []}]}}"
      ]
     },
     "execution_count": 109,
     "metadata": {},
     "output_type": "execute_result"
    }
   ],
   "source": [
    "torch.load('/data/semeval-2020/task-11/processed/models/fine_tuned.pth')"
   ]
  },
  {
   "cell_type": "code",
   "execution_count": 105,
   "metadata": {},
   "outputs": [
    {
     "ename": "RuntimeError",
     "evalue": "Error(s) in loading state_dict for AWD_LSTM:\n\tMissing key(s) in state_dict: \"encoder.weight\", \"encoder_dp.emb.weight\", \"rnns.0.weight_hh_l0_raw\", \"rnns.0.module.weight_ih_l0\", \"rnns.0.module.weight_hh_l0\", \"rnns.0.module.bias_ih_l0\", \"rnns.0.module.bias_hh_l0\", \"rnns.1.weight_hh_l0_raw\", \"rnns.1.module.weight_ih_l0\", \"rnns.1.module.weight_hh_l0\", \"rnns.1.module.bias_ih_l0\", \"rnns.1.module.bias_hh_l0\", \"rnns.2.weight_hh_l0_raw\", \"rnns.2.module.weight_ih_l0\", \"rnns.2.module.weight_hh_l0\", \"rnns.2.module.bias_ih_l0\", \"rnns.2.module.bias_hh_l0\". \n\tUnexpected key(s) in state_dict: \"model\", \"opt\". ",
     "output_type": "error",
     "traceback": [
      "\u001b[0;31m---------------------------------------------------------------------------\u001b[0m",
      "\u001b[0;31mRuntimeError\u001b[0m                              Traceback (most recent call last)",
      "\u001b[0;32m<ipython-input-105-beac0807e336>\u001b[0m in \u001b[0;36m<module>\u001b[0;34m\u001b[0m\n\u001b[0;32m----> 1\u001b[0;31m \u001b[0mlearn\u001b[0m\u001b[0;34m.\u001b[0m\u001b[0mload_encoder\u001b[0m\u001b[0;34m(\u001b[0m\u001b[0;34m'fine_tuned'\u001b[0m\u001b[0;34m)\u001b[0m\u001b[0;34m\u001b[0m\u001b[0;34m\u001b[0m\u001b[0m\n\u001b[0m",
      "\u001b[0;32m~/anaconda3/envs/fastai/lib/python3.7/site-packages/fastai/text/learner.py\u001b[0m in \u001b[0;36mload_encoder\u001b[0;34m(self, name, device)\u001b[0m\n\u001b[1;32m     67\u001b[0m         \u001b[0;32mif\u001b[0m \u001b[0mdevice\u001b[0m \u001b[0;32mis\u001b[0m \u001b[0;32mNone\u001b[0m\u001b[0;34m:\u001b[0m \u001b[0mdevice\u001b[0m \u001b[0;34m=\u001b[0m \u001b[0mself\u001b[0m\u001b[0;34m.\u001b[0m\u001b[0mdata\u001b[0m\u001b[0;34m.\u001b[0m\u001b[0mdevice\u001b[0m\u001b[0;34m\u001b[0m\u001b[0;34m\u001b[0m\u001b[0m\n\u001b[1;32m     68\u001b[0m         \u001b[0;32mif\u001b[0m \u001b[0mhasattr\u001b[0m\u001b[0;34m(\u001b[0m\u001b[0mencoder\u001b[0m\u001b[0;34m,\u001b[0m \u001b[0;34m'module'\u001b[0m\u001b[0;34m)\u001b[0m\u001b[0;34m:\u001b[0m \u001b[0mencoder\u001b[0m \u001b[0;34m=\u001b[0m \u001b[0mencoder\u001b[0m\u001b[0;34m.\u001b[0m\u001b[0mmodule\u001b[0m\u001b[0;34m\u001b[0m\u001b[0;34m\u001b[0m\u001b[0m\n\u001b[0;32m---> 69\u001b[0;31m         \u001b[0mencoder\u001b[0m\u001b[0;34m.\u001b[0m\u001b[0mload_state_dict\u001b[0m\u001b[0;34m(\u001b[0m\u001b[0mtorch\u001b[0m\u001b[0;34m.\u001b[0m\u001b[0mload\u001b[0m\u001b[0;34m(\u001b[0m\u001b[0mself\u001b[0m\u001b[0;34m.\u001b[0m\u001b[0mpath\u001b[0m\u001b[0;34m/\u001b[0m\u001b[0mself\u001b[0m\u001b[0;34m.\u001b[0m\u001b[0mmodel_dir\u001b[0m\u001b[0;34m/\u001b[0m\u001b[0;34mf'{name}.pth'\u001b[0m\u001b[0;34m,\u001b[0m \u001b[0mmap_location\u001b[0m\u001b[0;34m=\u001b[0m\u001b[0mdevice\u001b[0m\u001b[0;34m)\u001b[0m\u001b[0;34m)\u001b[0m\u001b[0;34m\u001b[0m\u001b[0;34m\u001b[0m\u001b[0m\n\u001b[0m\u001b[1;32m     70\u001b[0m         \u001b[0mself\u001b[0m\u001b[0;34m.\u001b[0m\u001b[0mfreeze\u001b[0m\u001b[0;34m(\u001b[0m\u001b[0;34m)\u001b[0m\u001b[0;34m\u001b[0m\u001b[0;34m\u001b[0m\u001b[0m\n\u001b[1;32m     71\u001b[0m         \u001b[0;32mreturn\u001b[0m \u001b[0mself\u001b[0m\u001b[0;34m\u001b[0m\u001b[0;34m\u001b[0m\u001b[0m\n",
      "\u001b[0;32m~/anaconda3/envs/fastai/lib/python3.7/site-packages/torch/nn/modules/module.py\u001b[0m in \u001b[0;36mload_state_dict\u001b[0;34m(self, state_dict, strict)\u001b[0m\n\u001b[1;32m    843\u001b[0m         \u001b[0;32mif\u001b[0m \u001b[0mlen\u001b[0m\u001b[0;34m(\u001b[0m\u001b[0merror_msgs\u001b[0m\u001b[0;34m)\u001b[0m \u001b[0;34m>\u001b[0m \u001b[0;36m0\u001b[0m\u001b[0;34m:\u001b[0m\u001b[0;34m\u001b[0m\u001b[0;34m\u001b[0m\u001b[0m\n\u001b[1;32m    844\u001b[0m             raise RuntimeError('Error(s) in loading state_dict for {}:\\n\\t{}'.format(\n\u001b[0;32m--> 845\u001b[0;31m                                self.__class__.__name__, \"\\n\\t\".join(error_msgs)))\n\u001b[0m\u001b[1;32m    846\u001b[0m         \u001b[0;32mreturn\u001b[0m \u001b[0m_IncompatibleKeys\u001b[0m\u001b[0;34m(\u001b[0m\u001b[0mmissing_keys\u001b[0m\u001b[0;34m,\u001b[0m \u001b[0munexpected_keys\u001b[0m\u001b[0;34m)\u001b[0m\u001b[0;34m\u001b[0m\u001b[0;34m\u001b[0m\u001b[0m\n\u001b[1;32m    847\u001b[0m \u001b[0;34m\u001b[0m\u001b[0m\n",
      "\u001b[0;31mRuntimeError\u001b[0m: Error(s) in loading state_dict for AWD_LSTM:\n\tMissing key(s) in state_dict: \"encoder.weight\", \"encoder_dp.emb.weight\", \"rnns.0.weight_hh_l0_raw\", \"rnns.0.module.weight_ih_l0\", \"rnns.0.module.weight_hh_l0\", \"rnns.0.module.bias_ih_l0\", \"rnns.0.module.bias_hh_l0\", \"rnns.1.weight_hh_l0_raw\", \"rnns.1.module.weight_ih_l0\", \"rnns.1.module.weight_hh_l0\", \"rnns.1.module.bias_ih_l0\", \"rnns.1.module.bias_hh_l0\", \"rnns.2.weight_hh_l0_raw\", \"rnns.2.module.weight_ih_l0\", \"rnns.2.module.weight_hh_l0\", \"rnns.2.module.bias_ih_l0\", \"rnns.2.module.bias_hh_l0\". \n\tUnexpected key(s) in state_dict: \"model\", \"opt\". "
     ]
    }
   ],
   "source": [
    "learn.load_encoder('fine_tuned')"
   ]
  },
  {
   "cell_type": "code",
   "execution_count": 99,
   "metadata": {},
   "outputs": [
    {
     "data": {
      "text/html": [
       "\n",
       "    <div>\n",
       "        <style>\n",
       "            /* Turns off some styling */\n",
       "            progress {\n",
       "                /* gets rid of default border in Firefox and Opera. */\n",
       "                border: none;\n",
       "                /* Needs to be in here for Safari polyfill so background images work as expected. */\n",
       "                background-size: auto;\n",
       "            }\n",
       "            .progress-bar-interrupted, .progress-bar-interrupted::-webkit-progress-bar {\n",
       "                background: #F44336;\n",
       "            }\n",
       "        </style>\n",
       "      <progress value='4' class='' max='10', style='width:300px; height:20px; vertical-align: middle;'></progress>\n",
       "      40.00% [4/10 00:32<00:48]\n",
       "    </div>\n",
       "    \n",
       "<table border=\"1\" class=\"dataframe\">\n",
       "  <thead>\n",
       "    <tr style=\"text-align: left;\">\n",
       "      <th>epoch</th>\n",
       "      <th>train_loss</th>\n",
       "      <th>valid_loss</th>\n",
       "      <th>accuracy</th>\n",
       "      <th>time</th>\n",
       "    </tr>\n",
       "  </thead>\n",
       "  <tbody>\n",
       "    <tr>\n",
       "      <td>0</td>\n",
       "      <td>0.680337</td>\n",
       "      <td>0.643640</td>\n",
       "      <td>0.674590</td>\n",
       "      <td>00:08</td>\n",
       "    </tr>\n",
       "    <tr>\n",
       "      <td>1</td>\n",
       "      <td>0.637769</td>\n",
       "      <td>0.626233</td>\n",
       "      <td>0.674269</td>\n",
       "      <td>00:07</td>\n",
       "    </tr>\n",
       "    <tr>\n",
       "      <td>2</td>\n",
       "      <td>0.615484</td>\n",
       "      <td>0.625123</td>\n",
       "      <td>0.674269</td>\n",
       "      <td>00:08</td>\n",
       "    </tr>\n",
       "    <tr>\n",
       "      <td>3</td>\n",
       "      <td>0.621291</td>\n",
       "      <td>0.632317</td>\n",
       "      <td>0.674269</td>\n",
       "      <td>00:07</td>\n",
       "    </tr>\n",
       "  </tbody>\n",
       "</table><p>\n",
       "\n",
       "    <div>\n",
       "        <style>\n",
       "            /* Turns off some styling */\n",
       "            progress {\n",
       "                /* gets rid of default border in Firefox and Opera. */\n",
       "                border: none;\n",
       "                /* Needs to be in here for Safari polyfill so background images work as expected. */\n",
       "                background-size: auto;\n",
       "            }\n",
       "            .progress-bar-interrupted, .progress-bar-interrupted::-webkit-progress-bar {\n",
       "                background: #F44336;\n",
       "            }\n",
       "        </style>\n",
       "      <progress value='0' class='progress-bar-interrupted' max='194', style='width:300px; height:20px; vertical-align: middle;'></progress>\n",
       "      Interrupted\n",
       "    </div>\n",
       "    "
      ],
      "text/plain": [
       "<IPython.core.display.HTML object>"
      ]
     },
     "metadata": {},
     "output_type": "display_data"
    },
    {
     "ename": "KeyboardInterrupt",
     "evalue": "",
     "output_type": "error",
     "traceback": [
      "\u001b[0;31m---------------------------------------------------------------------------\u001b[0m",
      "\u001b[0;31mKeyboardInterrupt\u001b[0m                         Traceback (most recent call last)",
      "\u001b[0;32m<ipython-input-99-184a41e6b7e2>\u001b[0m in \u001b[0;36m<module>\u001b[0;34m\u001b[0m\n\u001b[0;32m----> 1\u001b[0;31m \u001b[0mlearn\u001b[0m\u001b[0;34m.\u001b[0m\u001b[0mfit_one_cycle\u001b[0m\u001b[0;34m(\u001b[0m\u001b[0;36m10\u001b[0m\u001b[0;34m)\u001b[0m\u001b[0;34m\u001b[0m\u001b[0;34m\u001b[0m\u001b[0m\n\u001b[0m",
      "\u001b[0;32m~/anaconda3/envs/fastai/lib/python3.7/site-packages/fastai/train.py\u001b[0m in \u001b[0;36mfit_one_cycle\u001b[0;34m(learn, cyc_len, max_lr, moms, div_factor, pct_start, final_div, wd, callbacks, tot_epochs, start_epoch)\u001b[0m\n\u001b[1;32m     20\u001b[0m     callbacks.append(OneCycleScheduler(learn, max_lr, moms=moms, div_factor=div_factor, pct_start=pct_start,\n\u001b[1;32m     21\u001b[0m                                        final_div=final_div, tot_epochs=tot_epochs, start_epoch=start_epoch))\n\u001b[0;32m---> 22\u001b[0;31m     \u001b[0mlearn\u001b[0m\u001b[0;34m.\u001b[0m\u001b[0mfit\u001b[0m\u001b[0;34m(\u001b[0m\u001b[0mcyc_len\u001b[0m\u001b[0;34m,\u001b[0m \u001b[0mmax_lr\u001b[0m\u001b[0;34m,\u001b[0m \u001b[0mwd\u001b[0m\u001b[0;34m=\u001b[0m\u001b[0mwd\u001b[0m\u001b[0;34m,\u001b[0m \u001b[0mcallbacks\u001b[0m\u001b[0;34m=\u001b[0m\u001b[0mcallbacks\u001b[0m\u001b[0;34m)\u001b[0m\u001b[0;34m\u001b[0m\u001b[0;34m\u001b[0m\u001b[0m\n\u001b[0m\u001b[1;32m     23\u001b[0m \u001b[0;34m\u001b[0m\u001b[0m\n\u001b[1;32m     24\u001b[0m \u001b[0;32mdef\u001b[0m \u001b[0mlr_find\u001b[0m\u001b[0;34m(\u001b[0m\u001b[0mlearn\u001b[0m\u001b[0;34m:\u001b[0m\u001b[0mLearner\u001b[0m\u001b[0;34m,\u001b[0m \u001b[0mstart_lr\u001b[0m\u001b[0;34m:\u001b[0m\u001b[0mFloats\u001b[0m\u001b[0;34m=\u001b[0m\u001b[0;36m1e-7\u001b[0m\u001b[0;34m,\u001b[0m \u001b[0mend_lr\u001b[0m\u001b[0;34m:\u001b[0m\u001b[0mFloats\u001b[0m\u001b[0;34m=\u001b[0m\u001b[0;36m10\u001b[0m\u001b[0;34m,\u001b[0m \u001b[0mnum_it\u001b[0m\u001b[0;34m:\u001b[0m\u001b[0mint\u001b[0m\u001b[0;34m=\u001b[0m\u001b[0;36m100\u001b[0m\u001b[0;34m,\u001b[0m \u001b[0mstop_div\u001b[0m\u001b[0;34m:\u001b[0m\u001b[0mbool\u001b[0m\u001b[0;34m=\u001b[0m\u001b[0;32mTrue\u001b[0m\u001b[0;34m,\u001b[0m \u001b[0mwd\u001b[0m\u001b[0;34m:\u001b[0m\u001b[0mfloat\u001b[0m\u001b[0;34m=\u001b[0m\u001b[0;32mNone\u001b[0m\u001b[0;34m)\u001b[0m\u001b[0;34m:\u001b[0m\u001b[0;34m\u001b[0m\u001b[0;34m\u001b[0m\u001b[0m\n",
      "\u001b[0;32m~/anaconda3/envs/fastai/lib/python3.7/site-packages/fastai/basic_train.py\u001b[0m in \u001b[0;36mfit\u001b[0;34m(self, epochs, lr, wd, callbacks)\u001b[0m\n\u001b[1;32m    200\u001b[0m         \u001b[0mcallbacks\u001b[0m \u001b[0;34m=\u001b[0m \u001b[0;34m[\u001b[0m\u001b[0mcb\u001b[0m\u001b[0;34m(\u001b[0m\u001b[0mself\u001b[0m\u001b[0;34m)\u001b[0m \u001b[0;32mfor\u001b[0m \u001b[0mcb\u001b[0m \u001b[0;32min\u001b[0m \u001b[0mself\u001b[0m\u001b[0;34m.\u001b[0m\u001b[0mcallback_fns\u001b[0m \u001b[0;34m+\u001b[0m \u001b[0mlistify\u001b[0m\u001b[0;34m(\u001b[0m\u001b[0mdefaults\u001b[0m\u001b[0;34m.\u001b[0m\u001b[0mextra_callback_fns\u001b[0m\u001b[0;34m)\u001b[0m\u001b[0;34m]\u001b[0m \u001b[0;34m+\u001b[0m \u001b[0mlistify\u001b[0m\u001b[0;34m(\u001b[0m\u001b[0mcallbacks\u001b[0m\u001b[0;34m)\u001b[0m\u001b[0;34m\u001b[0m\u001b[0;34m\u001b[0m\u001b[0m\n\u001b[1;32m    201\u001b[0m         \u001b[0mself\u001b[0m\u001b[0;34m.\u001b[0m\u001b[0mcb_fns_registered\u001b[0m \u001b[0;34m=\u001b[0m \u001b[0;32mTrue\u001b[0m\u001b[0;34m\u001b[0m\u001b[0;34m\u001b[0m\u001b[0m\n\u001b[0;32m--> 202\u001b[0;31m         \u001b[0mfit\u001b[0m\u001b[0;34m(\u001b[0m\u001b[0mepochs\u001b[0m\u001b[0;34m,\u001b[0m \u001b[0mself\u001b[0m\u001b[0;34m,\u001b[0m \u001b[0mmetrics\u001b[0m\u001b[0;34m=\u001b[0m\u001b[0mself\u001b[0m\u001b[0;34m.\u001b[0m\u001b[0mmetrics\u001b[0m\u001b[0;34m,\u001b[0m \u001b[0mcallbacks\u001b[0m\u001b[0;34m=\u001b[0m\u001b[0mself\u001b[0m\u001b[0;34m.\u001b[0m\u001b[0mcallbacks\u001b[0m\u001b[0;34m+\u001b[0m\u001b[0mcallbacks\u001b[0m\u001b[0;34m)\u001b[0m\u001b[0;34m\u001b[0m\u001b[0;34m\u001b[0m\u001b[0m\n\u001b[0m\u001b[1;32m    203\u001b[0m \u001b[0;34m\u001b[0m\u001b[0m\n\u001b[1;32m    204\u001b[0m     \u001b[0;32mdef\u001b[0m \u001b[0mcreate_opt\u001b[0m\u001b[0;34m(\u001b[0m\u001b[0mself\u001b[0m\u001b[0;34m,\u001b[0m \u001b[0mlr\u001b[0m\u001b[0;34m:\u001b[0m\u001b[0mFloats\u001b[0m\u001b[0;34m,\u001b[0m \u001b[0mwd\u001b[0m\u001b[0;34m:\u001b[0m\u001b[0mFloats\u001b[0m\u001b[0;34m=\u001b[0m\u001b[0;36m0.\u001b[0m\u001b[0;34m)\u001b[0m\u001b[0;34m->\u001b[0m\u001b[0;32mNone\u001b[0m\u001b[0;34m:\u001b[0m\u001b[0;34m\u001b[0m\u001b[0;34m\u001b[0m\u001b[0m\n",
      "\u001b[0;32m~/anaconda3/envs/fastai/lib/python3.7/site-packages/fastai/basic_train.py\u001b[0m in \u001b[0;36mfit\u001b[0;34m(epochs, learn, callbacks, metrics)\u001b[0m\n\u001b[1;32m     99\u001b[0m             \u001b[0;32mfor\u001b[0m \u001b[0mxb\u001b[0m\u001b[0;34m,\u001b[0m\u001b[0myb\u001b[0m \u001b[0;32min\u001b[0m \u001b[0mprogress_bar\u001b[0m\u001b[0;34m(\u001b[0m\u001b[0mlearn\u001b[0m\u001b[0;34m.\u001b[0m\u001b[0mdata\u001b[0m\u001b[0;34m.\u001b[0m\u001b[0mtrain_dl\u001b[0m\u001b[0;34m,\u001b[0m \u001b[0mparent\u001b[0m\u001b[0;34m=\u001b[0m\u001b[0mpbar\u001b[0m\u001b[0;34m)\u001b[0m\u001b[0;34m:\u001b[0m\u001b[0;34m\u001b[0m\u001b[0;34m\u001b[0m\u001b[0m\n\u001b[1;32m    100\u001b[0m                 \u001b[0mxb\u001b[0m\u001b[0;34m,\u001b[0m \u001b[0myb\u001b[0m \u001b[0;34m=\u001b[0m \u001b[0mcb_handler\u001b[0m\u001b[0;34m.\u001b[0m\u001b[0mon_batch_begin\u001b[0m\u001b[0;34m(\u001b[0m\u001b[0mxb\u001b[0m\u001b[0;34m,\u001b[0m \u001b[0myb\u001b[0m\u001b[0;34m)\u001b[0m\u001b[0;34m\u001b[0m\u001b[0;34m\u001b[0m\u001b[0m\n\u001b[0;32m--> 101\u001b[0;31m                 \u001b[0mloss\u001b[0m \u001b[0;34m=\u001b[0m \u001b[0mloss_batch\u001b[0m\u001b[0;34m(\u001b[0m\u001b[0mlearn\u001b[0m\u001b[0;34m.\u001b[0m\u001b[0mmodel\u001b[0m\u001b[0;34m,\u001b[0m \u001b[0mxb\u001b[0m\u001b[0;34m,\u001b[0m \u001b[0myb\u001b[0m\u001b[0;34m,\u001b[0m \u001b[0mlearn\u001b[0m\u001b[0;34m.\u001b[0m\u001b[0mloss_func\u001b[0m\u001b[0;34m,\u001b[0m \u001b[0mlearn\u001b[0m\u001b[0;34m.\u001b[0m\u001b[0mopt\u001b[0m\u001b[0;34m,\u001b[0m \u001b[0mcb_handler\u001b[0m\u001b[0;34m)\u001b[0m\u001b[0;34m\u001b[0m\u001b[0;34m\u001b[0m\u001b[0m\n\u001b[0m\u001b[1;32m    102\u001b[0m                 \u001b[0;32mif\u001b[0m \u001b[0mcb_handler\u001b[0m\u001b[0;34m.\u001b[0m\u001b[0mon_batch_end\u001b[0m\u001b[0;34m(\u001b[0m\u001b[0mloss\u001b[0m\u001b[0;34m)\u001b[0m\u001b[0;34m:\u001b[0m \u001b[0;32mbreak\u001b[0m\u001b[0;34m\u001b[0m\u001b[0;34m\u001b[0m\u001b[0m\n\u001b[1;32m    103\u001b[0m \u001b[0;34m\u001b[0m\u001b[0m\n",
      "\u001b[0;32m~/anaconda3/envs/fastai/lib/python3.7/site-packages/fastai/basic_train.py\u001b[0m in \u001b[0;36mloss_batch\u001b[0;34m(model, xb, yb, loss_func, opt, cb_handler)\u001b[0m\n\u001b[1;32m     31\u001b[0m \u001b[0;34m\u001b[0m\u001b[0m\n\u001b[1;32m     32\u001b[0m     \u001b[0;32mif\u001b[0m \u001b[0mopt\u001b[0m \u001b[0;32mis\u001b[0m \u001b[0;32mnot\u001b[0m \u001b[0;32mNone\u001b[0m\u001b[0;34m:\u001b[0m\u001b[0;34m\u001b[0m\u001b[0;34m\u001b[0m\u001b[0m\n\u001b[0;32m---> 33\u001b[0;31m         \u001b[0mloss\u001b[0m\u001b[0;34m,\u001b[0m\u001b[0mskip_bwd\u001b[0m \u001b[0;34m=\u001b[0m \u001b[0mcb_handler\u001b[0m\u001b[0;34m.\u001b[0m\u001b[0mon_backward_begin\u001b[0m\u001b[0;34m(\u001b[0m\u001b[0mloss\u001b[0m\u001b[0;34m)\u001b[0m\u001b[0;34m\u001b[0m\u001b[0;34m\u001b[0m\u001b[0m\n\u001b[0m\u001b[1;32m     34\u001b[0m         \u001b[0;32mif\u001b[0m \u001b[0;32mnot\u001b[0m \u001b[0mskip_bwd\u001b[0m\u001b[0;34m:\u001b[0m                     \u001b[0mloss\u001b[0m\u001b[0;34m.\u001b[0m\u001b[0mbackward\u001b[0m\u001b[0;34m(\u001b[0m\u001b[0;34m)\u001b[0m\u001b[0;34m\u001b[0m\u001b[0;34m\u001b[0m\u001b[0m\n\u001b[1;32m     35\u001b[0m         \u001b[0;32mif\u001b[0m \u001b[0;32mnot\u001b[0m \u001b[0mcb_handler\u001b[0m\u001b[0;34m.\u001b[0m\u001b[0mon_backward_end\u001b[0m\u001b[0;34m(\u001b[0m\u001b[0;34m)\u001b[0m\u001b[0;34m:\u001b[0m \u001b[0mopt\u001b[0m\u001b[0;34m.\u001b[0m\u001b[0mstep\u001b[0m\u001b[0;34m(\u001b[0m\u001b[0;34m)\u001b[0m\u001b[0;34m\u001b[0m\u001b[0;34m\u001b[0m\u001b[0m\n",
      "\u001b[0;32m~/anaconda3/envs/fastai/lib/python3.7/site-packages/fastai/callback.py\u001b[0m in \u001b[0;36mon_backward_begin\u001b[0;34m(self, loss)\u001b[0m\n\u001b[1;32m    288\u001b[0m     \u001b[0;32mdef\u001b[0m \u001b[0mon_backward_begin\u001b[0m\u001b[0;34m(\u001b[0m\u001b[0mself\u001b[0m\u001b[0;34m,\u001b[0m \u001b[0mloss\u001b[0m\u001b[0;34m:\u001b[0m\u001b[0mTensor\u001b[0m\u001b[0;34m)\u001b[0m\u001b[0;34m->\u001b[0m\u001b[0mTuple\u001b[0m\u001b[0;34m[\u001b[0m\u001b[0mAny\u001b[0m\u001b[0;34m,\u001b[0m\u001b[0mAny\u001b[0m\u001b[0;34m]\u001b[0m\u001b[0;34m:\u001b[0m\u001b[0;34m\u001b[0m\u001b[0;34m\u001b[0m\u001b[0m\n\u001b[1;32m    289\u001b[0m         \u001b[0;34m\"Handle gradient calculation on `loss`.\"\u001b[0m\u001b[0;34m\u001b[0m\u001b[0;34m\u001b[0m\u001b[0m\n\u001b[0;32m--> 290\u001b[0;31m         \u001b[0mself\u001b[0m\u001b[0;34m.\u001b[0m\u001b[0msmoothener\u001b[0m\u001b[0;34m.\u001b[0m\u001b[0madd_value\u001b[0m\u001b[0;34m(\u001b[0m\u001b[0mloss\u001b[0m\u001b[0;34m.\u001b[0m\u001b[0mdetach\u001b[0m\u001b[0;34m(\u001b[0m\u001b[0;34m)\u001b[0m\u001b[0;34m.\u001b[0m\u001b[0mcpu\u001b[0m\u001b[0;34m(\u001b[0m\u001b[0;34m)\u001b[0m\u001b[0;34m)\u001b[0m\u001b[0;34m\u001b[0m\u001b[0;34m\u001b[0m\u001b[0m\n\u001b[0m\u001b[1;32m    291\u001b[0m         \u001b[0mself\u001b[0m\u001b[0;34m.\u001b[0m\u001b[0mstate_dict\u001b[0m\u001b[0;34m[\u001b[0m\u001b[0;34m'last_loss'\u001b[0m\u001b[0;34m]\u001b[0m\u001b[0;34m,\u001b[0m \u001b[0mself\u001b[0m\u001b[0;34m.\u001b[0m\u001b[0mstate_dict\u001b[0m\u001b[0;34m[\u001b[0m\u001b[0;34m'smooth_loss'\u001b[0m\u001b[0;34m]\u001b[0m \u001b[0;34m=\u001b[0m \u001b[0mloss\u001b[0m\u001b[0;34m,\u001b[0m \u001b[0mself\u001b[0m\u001b[0;34m.\u001b[0m\u001b[0msmoothener\u001b[0m\u001b[0;34m.\u001b[0m\u001b[0msmooth\u001b[0m\u001b[0;34m\u001b[0m\u001b[0;34m\u001b[0m\u001b[0m\n\u001b[1;32m    292\u001b[0m         \u001b[0mself\u001b[0m\u001b[0;34m(\u001b[0m\u001b[0;34m'backward_begin'\u001b[0m\u001b[0;34m,\u001b[0m \u001b[0mcall_mets\u001b[0m\u001b[0;34m=\u001b[0m\u001b[0;32mFalse\u001b[0m\u001b[0;34m)\u001b[0m\u001b[0;34m\u001b[0m\u001b[0;34m\u001b[0m\u001b[0m\n",
      "\u001b[0;31mKeyboardInterrupt\u001b[0m: "
     ]
    }
   ],
   "source": [
    "learn.fit_one_cycle(10)"
   ]
  },
  {
   "cell_type": "code",
   "execution_count": null,
   "metadata": {},
   "outputs": [],
   "source": []
  },
  {
   "cell_type": "code",
   "execution_count": 21,
   "metadata": {},
   "outputs": [],
   "source": [
    "a = pd.read_csv(\"/data/semeval-2020/task-11/processed/sentence_dataset.csv\")"
   ]
  },
  {
   "cell_type": "code",
   "execution_count": 24,
   "metadata": {},
   "outputs": [
    {
     "data": {
      "text/plain": [
       "0        False\n",
       "1        False\n",
       "2        False\n",
       "3        False\n",
       "4        False\n",
       "         ...  \n",
       "15560    False\n",
       "15561    False\n",
       "15562    False\n",
       "15563    False\n",
       "15564    False\n",
       "Length: 15565, dtype: bool"
      ]
     },
     "execution_count": 24,
     "metadata": {},
     "output_type": "execute_result"
    }
   ],
   "source": [
    "a.isnull().any(axis=1)"
   ]
  },
  {
   "cell_type": "code",
   "execution_count": 31,
   "metadata": {},
   "outputs": [],
   "source": [
    "a[~a.isnull().any(axis=1)].to_csv(\"/data/semeval-2020/task-11/processed/cleaned_sentences.csv\",index=False)"
   ]
  },
  {
   "cell_type": "code",
   "execution_count": 29,
   "metadata": {},
   "outputs": [
    {
     "ename": "TypeError",
     "evalue": "from_df() missing 1 required positional argument: 'valid_df'",
     "output_type": "error",
     "traceback": [
      "\u001b[0;31m---------------------------------------------------------------------------\u001b[0m",
      "\u001b[0;31mTypeError\u001b[0m                                 Traceback (most recent call last)",
      "\u001b[0;32m<ipython-input-29-903fd382ec98>\u001b[0m in \u001b[0;36m<module>\u001b[0;34m\u001b[0m\n\u001b[0;32m----> 1\u001b[0;31m \u001b[0mdata_clas\u001b[0m \u001b[0;34m=\u001b[0m \u001b[0mTextClasDataBunch\u001b[0m\u001b[0;34m.\u001b[0m\u001b[0mfrom_df\u001b[0m\u001b[0;34m(\u001b[0m\u001b[0mpath\u001b[0m\u001b[0;34m=\u001b[0m\u001b[0;34m\"/data/semeval-2020/task-11/processed/\"\u001b[0m\u001b[0;34m,\u001b[0m\u001b[0mtrain_df\u001b[0m\u001b[0;34m=\u001b[0m\u001b[0ma\u001b[0m\u001b[0;34m[\u001b[0m\u001b[0;34m~\u001b[0m\u001b[0ma\u001b[0m\u001b[0;34m.\u001b[0m\u001b[0misnull\u001b[0m\u001b[0;34m(\u001b[0m\u001b[0;34m)\u001b[0m\u001b[0;34m.\u001b[0m\u001b[0many\u001b[0m\u001b[0;34m(\u001b[0m\u001b[0maxis\u001b[0m\u001b[0;34m=\u001b[0m\u001b[0;36m1\u001b[0m\u001b[0;34m)\u001b[0m\u001b[0;34m]\u001b[0m\u001b[0;34m,\u001b[0m \u001b[0mvocab\u001b[0m\u001b[0;34m=\u001b[0m\u001b[0mdata_lm\u001b[0m\u001b[0;34m.\u001b[0m\u001b[0mtrain_ds\u001b[0m\u001b[0;34m.\u001b[0m\u001b[0mvocab\u001b[0m\u001b[0;34m,\u001b[0m \u001b[0mbs\u001b[0m\u001b[0;34m=\u001b[0m\u001b[0;36m32\u001b[0m\u001b[0;34m,\u001b[0m\u001b[0mtext_cols\u001b[0m\u001b[0;34m=\u001b[0m\u001b[0;34m\"cleaned_sentence\"\u001b[0m\u001b[0;34m,\u001b[0m\u001b[0mlabel_cols\u001b[0m\u001b[0;34m=\u001b[0m\u001b[0;34m\"propaganda\"\u001b[0m\u001b[0;34m)\u001b[0m\u001b[0;34m\u001b[0m\u001b[0;34m\u001b[0m\u001b[0m\n\u001b[0m",
      "\u001b[0;31mTypeError\u001b[0m: from_df() missing 1 required positional argument: 'valid_df'"
     ]
    }
   ],
   "source": [
    "data_clas = TextClasDataBunch.from_/data/semeval-2020/data/semeval-2020/task-11/processed/\",train_df=a[~a.isnull().any(axis=1)], vocab=data_lm.train_ds.vocab, bs=32,text_cols=\"cleaned_sentence\",label_cols=\"propaganda\")"
   ]
  },
  {
   "cell_type": "code",
   "execution_count": null,
   "metadata": {},
   "outputs": [],
   "source": []
  }
 ],
 "metadata": {
  "kernelspec": {
   "display_name": "Python (fastai)",
   "language": "python",
   "name": "fastai"
  },
  "language_info": {
   "codemirror_mode": {
    "name": "ipython",
    "version": 3
   },
   "file_extension": ".py",
   "mimetype": "text/x-python",
   "name": "python",
   "nbconvert_exporter": "python",
   "pygments_lexer": "ipython3",
   "version": "3.7.4"
  }
 },
 "nbformat": 4,
 "nbformat_minor": 4
}
