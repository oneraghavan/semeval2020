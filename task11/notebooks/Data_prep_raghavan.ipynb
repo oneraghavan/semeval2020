{
 "cells": [
  {
   "cell_type": "markdown",
   "metadata": {},
   "source": [
    "### Create easy readable csv file"
   ]
  },
  {
   "cell_type": "code",
   "execution_count": 27,
   "metadata": {},
   "outputs": [],
   "source": [
    "import pandas as pd\n",
    "import glob\n",
    "import swifter\n",
    "path = r'/data/semeval-2020/task-11/datasets/train-articles/'\n",
    "all_files = glob.glob(path + \"/*.txt\")\n",
    "\n",
    "content_tuple = []\n",
    "\n",
    "for filename in all_files:\n",
    "    file = open(filename)\n",
    "    content = \"\".join(file.readlines()).replace(\"\\n\",\" \")\n",
    "    article_id = filename.split(\"article\")[-1].split(\".txt\")[0]\n",
    "    content_tuple.append((article_id,content))"
   ]
  },
  {
   "cell_type": "code",
   "execution_count": 28,
   "metadata": {},
   "outputs": [],
   "source": [
    "content_df = pd.DataFrame(content_tuple,columns=[\"article_id\",\"content\"])"
   ]
  },
  {
   "cell_type": "code",
   "execution_count": 29,
   "metadata": {},
   "outputs": [
    {
     "data": {
      "text/html": [
       "<div>\n",
       "<style scoped>\n",
       "    .dataframe tbody tr th:only-of-type {\n",
       "        vertical-align: middle;\n",
       "    }\n",
       "\n",
       "    .dataframe tbody tr th {\n",
       "        vertical-align: top;\n",
       "    }\n",
       "\n",
       "    .dataframe thead th {\n",
       "        text-align: right;\n",
       "    }\n",
       "</style>\n",
       "<table border=\"1\" class=\"dataframe\">\n",
       "  <thead>\n",
       "    <tr style=\"text-align: right;\">\n",
       "      <th></th>\n",
       "      <th>article_id</th>\n",
       "      <th>content</th>\n",
       "    </tr>\n",
       "  </thead>\n",
       "  <tbody>\n",
       "    <tr>\n",
       "      <td>0</td>\n",
       "      <td>762956953</td>\n",
       "      <td>Iran Admits To Aiding Al-Qaeda and Facilitatin...</td>\n",
       "    </tr>\n",
       "    <tr>\n",
       "      <td>1</td>\n",
       "      <td>787529309</td>\n",
       "      <td>The Last-Minute Character Assassination of Jud...</td>\n",
       "    </tr>\n",
       "    <tr>\n",
       "      <td>2</td>\n",
       "      <td>999001296</td>\n",
       "      <td>Altered Election Documents Tied To Florida Dem...</td>\n",
       "    </tr>\n",
       "    <tr>\n",
       "      <td>3</td>\n",
       "      <td>729348908</td>\n",
       "      <td>Virginia man who wanted to join ISIS pleads gu...</td>\n",
       "    </tr>\n",
       "    <tr>\n",
       "      <td>4</td>\n",
       "      <td>111111134</td>\n",
       "      <td>Paul Manafort Secretly Met With Julian Assange...</td>\n",
       "    </tr>\n",
       "  </tbody>\n",
       "</table>\n",
       "</div>"
      ],
      "text/plain": [
       "  article_id                                            content\n",
       "0  762956953  Iran Admits To Aiding Al-Qaeda and Facilitatin...\n",
       "1  787529309  The Last-Minute Character Assassination of Jud...\n",
       "2  999001296  Altered Election Documents Tied To Florida Dem...\n",
       "3  729348908  Virginia man who wanted to join ISIS pleads gu...\n",
       "4  111111134  Paul Manafort Secretly Met With Julian Assange..."
      ]
     },
     "execution_count": 29,
     "metadata": {},
     "output_type": "execute_result"
    }
   ],
   "source": [
    "content_df.head()"
   ]
  },
  {
   "cell_type": "code",
   "execution_count": 30,
   "metadata": {},
   "outputs": [],
   "source": [
    "content_df.to_csv(\"/data/semeval-2020/task-11/processed/train_article.csv\",index=False)"
   ]
  },
  {
   "cell_type": "markdown",
   "metadata": {},
   "source": [
    "### Read span and label data\n"
   ]
  },
  {
   "cell_type": "code",
   "execution_count": 31,
   "metadata": {},
   "outputs": [],
   "source": [
    "\n",
    "path = r'/data/semeval-2020/task-11/datasets/train-labels-task2-technique-classification/'\n",
    "all_files = glob.glob(path + \"/*.labels\")\n",
    "\n",
    "span_tuple = []\n",
    "# print(all_files)\n",
    "\n",
    "for filename in all_files:\n",
    "    file = open(filename)\n",
    "    for span in file.readlines():\n",
    "        span_tuple.append(span.replace(\"\\n\",\"\").split(\"\\t\"))"
   ]
  },
  {
   "cell_type": "code",
   "execution_count": 32,
   "metadata": {},
   "outputs": [],
   "source": [
    "span_labels_df = pd.DataFrame(span_tuple,columns=[\"article_id\",\"labels\",\"start\",\"end\"],dtype=None).infer_objects()"
   ]
  },
  {
   "cell_type": "code",
   "execution_count": 33,
   "metadata": {},
   "outputs": [
    {
     "data": {
      "text/plain": [
       "Index(['article_id', 'labels', 'start', 'end'], dtype='object')"
      ]
     },
     "execution_count": 33,
     "metadata": {},
     "output_type": "execute_result"
    }
   ],
   "source": [
    "span_labels_df.columns"
   ]
  },
  {
   "cell_type": "code",
   "execution_count": 34,
   "metadata": {},
   "outputs": [],
   "source": [
    "span_labels_df[\"label\"] = span_labels_df.labels.apply(lambda x: \"_\".join(x.split(\",\")))"
   ]
  },
  {
   "cell_type": "code",
   "execution_count": 35,
   "metadata": {},
   "outputs": [
    {
     "data": {
      "text/html": [
       "<div>\n",
       "<style scoped>\n",
       "    .dataframe tbody tr th:only-of-type {\n",
       "        vertical-align: middle;\n",
       "    }\n",
       "\n",
       "    .dataframe tbody tr th {\n",
       "        vertical-align: top;\n",
       "    }\n",
       "\n",
       "    .dataframe thead th {\n",
       "        text-align: right;\n",
       "    }\n",
       "</style>\n",
       "<table border=\"1\" class=\"dataframe\">\n",
       "  <thead>\n",
       "    <tr style=\"text-align: right;\">\n",
       "      <th></th>\n",
       "      <th>article_id</th>\n",
       "      <th>start</th>\n",
       "      <th>end</th>\n",
       "      <th>label</th>\n",
       "    </tr>\n",
       "  </thead>\n",
       "  <tbody>\n",
       "    <tr>\n",
       "      <td>0</td>\n",
       "      <td>776616374</td>\n",
       "      <td>149</td>\n",
       "      <td>174</td>\n",
       "      <td>Exaggeration_Minimisation</td>\n",
       "    </tr>\n",
       "    <tr>\n",
       "      <td>1</td>\n",
       "      <td>776616374</td>\n",
       "      <td>751</td>\n",
       "      <td>786</td>\n",
       "      <td>Exaggeration_Minimisation</td>\n",
       "    </tr>\n",
       "    <tr>\n",
       "      <td>2</td>\n",
       "      <td>776616374</td>\n",
       "      <td>831</td>\n",
       "      <td>849</td>\n",
       "      <td>Name_Calling_Labeling</td>\n",
       "    </tr>\n",
       "    <tr>\n",
       "      <td>3</td>\n",
       "      <td>776616374</td>\n",
       "      <td>2641</td>\n",
       "      <td>2650</td>\n",
       "      <td>Flag-Waving</td>\n",
       "    </tr>\n",
       "    <tr>\n",
       "      <td>4</td>\n",
       "      <td>776616374</td>\n",
       "      <td>2771</td>\n",
       "      <td>2782</td>\n",
       "      <td>Loaded_Language</td>\n",
       "    </tr>\n",
       "    <tr>\n",
       "      <td>...</td>\n",
       "      <td>...</td>\n",
       "      <td>...</td>\n",
       "      <td>...</td>\n",
       "      <td>...</td>\n",
       "    </tr>\n",
       "    <tr>\n",
       "      <td>6364</td>\n",
       "      <td>770938827</td>\n",
       "      <td>146</td>\n",
       "      <td>169</td>\n",
       "      <td>Exaggeration_Minimisation</td>\n",
       "    </tr>\n",
       "    <tr>\n",
       "      <td>6365</td>\n",
       "      <td>770938827</td>\n",
       "      <td>208</td>\n",
       "      <td>228</td>\n",
       "      <td>Exaggeration_Minimisation</td>\n",
       "    </tr>\n",
       "    <tr>\n",
       "      <td>6366</td>\n",
       "      <td>770938827</td>\n",
       "      <td>2217</td>\n",
       "      <td>2223</td>\n",
       "      <td>Repetition</td>\n",
       "    </tr>\n",
       "    <tr>\n",
       "      <td>6367</td>\n",
       "      <td>770938827</td>\n",
       "      <td>365</td>\n",
       "      <td>409</td>\n",
       "      <td>Causal_Oversimplification</td>\n",
       "    </tr>\n",
       "    <tr>\n",
       "      <td>6368</td>\n",
       "      <td>770938827</td>\n",
       "      <td>1720</td>\n",
       "      <td>1826</td>\n",
       "      <td>Black-and-White_Fallacy</td>\n",
       "    </tr>\n",
       "  </tbody>\n",
       "</table>\n",
       "<p>6369 rows × 4 columns</p>\n",
       "</div>"
      ],
      "text/plain": [
       "     article_id start   end                      label\n",
       "0     776616374   149   174  Exaggeration_Minimisation\n",
       "1     776616374   751   786  Exaggeration_Minimisation\n",
       "2     776616374   831   849      Name_Calling_Labeling\n",
       "3     776616374  2641  2650                Flag-Waving\n",
       "4     776616374  2771  2782            Loaded_Language\n",
       "...         ...   ...   ...                        ...\n",
       "6364  770938827   146   169  Exaggeration_Minimisation\n",
       "6365  770938827   208   228  Exaggeration_Minimisation\n",
       "6366  770938827  2217  2223                 Repetition\n",
       "6367  770938827   365   409  Causal_Oversimplification\n",
       "6368  770938827  1720  1826    Black-and-White_Fallacy\n",
       "\n",
       "[6369 rows x 4 columns]"
      ]
     },
     "execution_count": 35,
     "metadata": {},
     "output_type": "execute_result"
    }
   ],
   "source": [
    "span_labels_df[['article_id', 'start', 'end', 'label']]"
   ]
  },
  {
   "cell_type": "code",
   "execution_count": 36,
   "metadata": {},
   "outputs": [],
   "source": [
    "span_labels_df[['article_id', 'start', 'end', 'label']].to_csv(\"/data/semeval-2020/task-11/processed/span_labels.csv\",index=False)"
   ]
  }
 ],
 "metadata": {
  "kernelspec": {
   "display_name": "semeval2020",
   "language": "python",
   "name": "semeval2020"
  },
  "language_info": {
   "codemirror_mode": {
    "name": "ipython",
    "version": 3
   },
   "file_extension": ".py",
   "mimetype": "text/x-python",
   "name": "python",
   "nbconvert_exporter": "python",
   "pygments_lexer": "ipython3",
   "version": "3.7.4"
  }
 },
 "nbformat": 4,
 "nbformat_minor": 4
}
