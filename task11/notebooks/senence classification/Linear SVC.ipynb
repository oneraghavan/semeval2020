{
 "cells": [
  {
   "cell_type": "code",
   "execution_count": 1,
   "metadata": {
    "Collapsed": "false"
   },
   "outputs": [],
   "source": [
    "from sklearn.feature_extraction.text import TfidfVectorizer\n",
    "import pandas as pd"
   ]
  },
  {
   "cell_type": "code",
   "execution_count": 2,
   "metadata": {
    "Collapsed": "false"
   },
   "outputs": [],
   "source": [
    "sentence_df = pd.read_csv(\"/data/semeval-2020/task-11/processed/sentence_dataset_v2.csv\")"
   ]
  },
  {
   "cell_type": "code",
   "execution_count": 3,
   "metadata": {
    "Collapsed": "false"
   },
   "outputs": [
    {
     "data": {
      "text/html": [
       "<div>\n",
       "<style scoped>\n",
       "    .dataframe tbody tr th:only-of-type {\n",
       "        vertical-align: middle;\n",
       "    }\n",
       "\n",
       "    .dataframe tbody tr th {\n",
       "        vertical-align: top;\n",
       "    }\n",
       "\n",
       "    .dataframe thead th {\n",
       "        text-align: right;\n",
       "    }\n",
       "</style>\n",
       "<table border=\"1\" class=\"dataframe\">\n",
       "  <thead>\n",
       "    <tr style=\"text-align: right;\">\n",
       "      <th></th>\n",
       "      <th>article_id</th>\n",
       "      <th>sentence_id</th>\n",
       "      <th>sentence</th>\n",
       "      <th>has_propaganda</th>\n",
       "      <th>cleaned_sentence</th>\n",
       "    </tr>\n",
       "  </thead>\n",
       "  <tbody>\n",
       "    <tr>\n",
       "      <td>0</td>\n",
       "      <td>762956953</td>\n",
       "      <td>0</td>\n",
       "      <td>Iran Admits To Aiding Al-Qaeda and Facilitatin...</td>\n",
       "      <td>False</td>\n",
       "      <td>Iran Admits To Aiding Al-Qaeda and Facilitatin...</td>\n",
       "    </tr>\n",
       "    <tr>\n",
       "      <td>1</td>\n",
       "      <td>762956953</td>\n",
       "      <td>1</td>\n",
       "      <td>But now we have definitive confirmation.</td>\n",
       "      <td>False</td>\n",
       "      <td>But now we have definitive confirmation.</td>\n",
       "    </tr>\n",
       "    <tr>\n",
       "      <td>2</td>\n",
       "      <td>762956953</td>\n",
       "      <td>2</td>\n",
       "      <td>It was Iran Bush should have invaded after 9/1...</td>\n",
       "      <td>False</td>\n",
       "      <td>It was Iran Bush should have invaded after 9/1...</td>\n",
       "    </tr>\n",
       "    <tr>\n",
       "      <td>3</td>\n",
       "      <td>762956953</td>\n",
       "      <td>3</td>\n",
       "      <td>Now consider this: even though, as President o...</td>\n",
       "      <td>False</td>\n",
       "      <td>Now consider this: even though, as President o...</td>\n",
       "    </tr>\n",
       "    <tr>\n",
       "      <td>4</td>\n",
       "      <td>762956953</td>\n",
       "      <td>4</td>\n",
       "      <td>The Iran nuclear deal should never have procee...</td>\n",
       "      <td>True</td>\n",
       "      <td>The Iran nuclear deal should never have procee...</td>\n",
       "    </tr>\n",
       "  </tbody>\n",
       "</table>\n",
       "</div>"
      ],
      "text/plain": [
       "   article_id  sentence_id                                           sentence  \\\n",
       "0   762956953            0  Iran Admits To Aiding Al-Qaeda and Facilitatin...   \n",
       "1   762956953            1           But now we have definitive confirmation.   \n",
       "2   762956953            2  It was Iran Bush should have invaded after 9/1...   \n",
       "3   762956953            3  Now consider this: even though, as President o...   \n",
       "4   762956953            4  The Iran nuclear deal should never have procee...   \n",
       "\n",
       "   has_propaganda                                   cleaned_sentence  \n",
       "0           False  Iran Admits To Aiding Al-Qaeda and Facilitatin...  \n",
       "1           False           But now we have definitive confirmation.  \n",
       "2           False  It was Iran Bush should have invaded after 9/1...  \n",
       "3           False  Now consider this: even though, as President o...  \n",
       "4            True  The Iran nuclear deal should never have procee...  "
      ]
     },
     "execution_count": 3,
     "metadata": {},
     "output_type": "execute_result"
    }
   ],
   "source": [
    "sentence_df.head(5)"
   ]
  },
  {
   "cell_type": "code",
   "execution_count": 4,
   "metadata": {
    "Collapsed": "false"
   },
   "outputs": [],
   "source": [
    "sentence_df[\"propaganda\"] = sentence_df[\"has_propaganda\"].apply(lambda x:1 if x else 0)"
   ]
  },
  {
   "cell_type": "code",
   "execution_count": 5,
   "metadata": {
    "Collapsed": "false"
   },
   "outputs": [
    {
     "data": {
      "text/html": [
       "<div>\n",
       "<style scoped>\n",
       "    .dataframe tbody tr th:only-of-type {\n",
       "        vertical-align: middle;\n",
       "    }\n",
       "\n",
       "    .dataframe tbody tr th {\n",
       "        vertical-align: top;\n",
       "    }\n",
       "\n",
       "    .dataframe thead th {\n",
       "        text-align: right;\n",
       "    }\n",
       "</style>\n",
       "<table border=\"1\" class=\"dataframe\">\n",
       "  <thead>\n",
       "    <tr style=\"text-align: right;\">\n",
       "      <th></th>\n",
       "      <th>article_id</th>\n",
       "      <th>sentence_id</th>\n",
       "      <th>sentence</th>\n",
       "      <th>has_propaganda</th>\n",
       "      <th>cleaned_sentence</th>\n",
       "      <th>propaganda</th>\n",
       "    </tr>\n",
       "  </thead>\n",
       "  <tbody>\n",
       "    <tr>\n",
       "      <td>0</td>\n",
       "      <td>762956953</td>\n",
       "      <td>0</td>\n",
       "      <td>Iran Admits To Aiding Al-Qaeda and Facilitatin...</td>\n",
       "      <td>False</td>\n",
       "      <td>Iran Admits To Aiding Al-Qaeda and Facilitatin...</td>\n",
       "      <td>0</td>\n",
       "    </tr>\n",
       "    <tr>\n",
       "      <td>1</td>\n",
       "      <td>762956953</td>\n",
       "      <td>1</td>\n",
       "      <td>But now we have definitive confirmation.</td>\n",
       "      <td>False</td>\n",
       "      <td>But now we have definitive confirmation.</td>\n",
       "      <td>0</td>\n",
       "    </tr>\n",
       "    <tr>\n",
       "      <td>2</td>\n",
       "      <td>762956953</td>\n",
       "      <td>2</td>\n",
       "      <td>It was Iran Bush should have invaded after 9/1...</td>\n",
       "      <td>False</td>\n",
       "      <td>It was Iran Bush should have invaded after 9/1...</td>\n",
       "      <td>0</td>\n",
       "    </tr>\n",
       "    <tr>\n",
       "      <td>3</td>\n",
       "      <td>762956953</td>\n",
       "      <td>3</td>\n",
       "      <td>Now consider this: even though, as President o...</td>\n",
       "      <td>False</td>\n",
       "      <td>Now consider this: even though, as President o...</td>\n",
       "      <td>0</td>\n",
       "    </tr>\n",
       "    <tr>\n",
       "      <td>4</td>\n",
       "      <td>762956953</td>\n",
       "      <td>4</td>\n",
       "      <td>The Iran nuclear deal should never have procee...</td>\n",
       "      <td>True</td>\n",
       "      <td>The Iran nuclear deal should never have procee...</td>\n",
       "      <td>1</td>\n",
       "    </tr>\n",
       "  </tbody>\n",
       "</table>\n",
       "</div>"
      ],
      "text/plain": [
       "   article_id  sentence_id                                           sentence  \\\n",
       "0   762956953            0  Iran Admits To Aiding Al-Qaeda and Facilitatin...   \n",
       "1   762956953            1           But now we have definitive confirmation.   \n",
       "2   762956953            2  It was Iran Bush should have invaded after 9/1...   \n",
       "3   762956953            3  Now consider this: even though, as President o...   \n",
       "4   762956953            4  The Iran nuclear deal should never have procee...   \n",
       "\n",
       "   has_propaganda                                   cleaned_sentence  \\\n",
       "0           False  Iran Admits To Aiding Al-Qaeda and Facilitatin...   \n",
       "1           False           But now we have definitive confirmation.   \n",
       "2           False  It was Iran Bush should have invaded after 9/1...   \n",
       "3           False  Now consider this: even though, as President o...   \n",
       "4            True  The Iran nuclear deal should never have procee...   \n",
       "\n",
       "   propaganda  \n",
       "0           0  \n",
       "1           0  \n",
       "2           0  \n",
       "3           0  \n",
       "4           1  "
      ]
     },
     "execution_count": 5,
     "metadata": {},
     "output_type": "execute_result"
    }
   ],
   "source": [
    "sentence_df.head(5)"
   ]
  },
  {
   "cell_type": "code",
   "execution_count": 6,
   "metadata": {
    "Collapsed": "false"
   },
   "outputs": [
    {
     "data": {
      "text/html": [
       "<div>\n",
       "<style scoped>\n",
       "    .dataframe tbody tr th:only-of-type {\n",
       "        vertical-align: middle;\n",
       "    }\n",
       "\n",
       "    .dataframe tbody tr th {\n",
       "        vertical-align: top;\n",
       "    }\n",
       "\n",
       "    .dataframe thead th {\n",
       "        text-align: right;\n",
       "    }\n",
       "</style>\n",
       "<table border=\"1\" class=\"dataframe\">\n",
       "  <thead>\n",
       "    <tr style=\"text-align: right;\">\n",
       "      <th></th>\n",
       "      <th>article_id</th>\n",
       "      <th>sentence_id</th>\n",
       "      <th>sentence</th>\n",
       "      <th>has_propaganda</th>\n",
       "      <th>cleaned_sentence</th>\n",
       "      <th>propaganda</th>\n",
       "    </tr>\n",
       "  </thead>\n",
       "  <tbody>\n",
       "    <tr>\n",
       "      <td>1068</td>\n",
       "      <td>735855251</td>\n",
       "      <td>19</td>\n",
       "      <td>6-/span&gt;</td>\n",
       "      <td>True</td>\n",
       "      <td>NaN</td>\n",
       "      <td>1</td>\n",
       "    </tr>\n",
       "    <tr>\n",
       "      <td>1656</td>\n",
       "      <td>697959084</td>\n",
       "      <td>19</td>\n",
       "      <td>5-/span&gt;</td>\n",
       "      <td>True</td>\n",
       "      <td>NaN</td>\n",
       "      <td>1</td>\n",
       "    </tr>\n",
       "    <tr>\n",
       "      <td>1802</td>\n",
       "      <td>999000147</td>\n",
       "      <td>24</td>\n",
       "      <td>5-/span&gt;</td>\n",
       "      <td>True</td>\n",
       "      <td>NaN</td>\n",
       "      <td>1</td>\n",
       "    </tr>\n",
       "    <tr>\n",
       "      <td>7750</td>\n",
       "      <td>721890296</td>\n",
       "      <td>43</td>\n",
       "      <td>8-/span&gt;</td>\n",
       "      <td>True</td>\n",
       "      <td>NaN</td>\n",
       "      <td>1</td>\n",
       "    </tr>\n",
       "    <tr>\n",
       "      <td>10547</td>\n",
       "      <td>705035735</td>\n",
       "      <td>21</td>\n",
       "      <td>8-/span&gt;</td>\n",
       "      <td>True</td>\n",
       "      <td>NaN</td>\n",
       "      <td>1</td>\n",
       "    </tr>\n",
       "  </tbody>\n",
       "</table>\n",
       "</div>"
      ],
      "text/plain": [
       "       article_id  sentence_id  sentence  has_propaganda cleaned_sentence  \\\n",
       "1068    735855251           19  6-/span>            True              NaN   \n",
       "1656    697959084           19  5-/span>            True              NaN   \n",
       "1802    999000147           24  5-/span>            True              NaN   \n",
       "7750    721890296           43  8-/span>            True              NaN   \n",
       "10547   705035735           21  8-/span>            True              NaN   \n",
       "\n",
       "       propaganda  \n",
       "1068            1  \n",
       "1656            1  \n",
       "1802            1  \n",
       "7750            1  \n",
       "10547           1  "
      ]
     },
     "execution_count": 6,
     "metadata": {},
     "output_type": "execute_result"
    }
   ],
   "source": [
    "sentence_df[sentence_df[\"cleaned_sentence\"].isna() == True]"
   ]
  },
  {
   "cell_type": "code",
   "execution_count": 7,
   "metadata": {
    "Collapsed": "false"
   },
   "outputs": [
    {
     "data": {
      "text/plain": [
       "15565"
      ]
     },
     "execution_count": 7,
     "metadata": {},
     "output_type": "execute_result"
    }
   ],
   "source": [
    "len(sentence_df)"
   ]
  },
  {
   "cell_type": "code",
   "execution_count": 8,
   "metadata": {
    "Collapsed": "false"
   },
   "outputs": [],
   "source": [
    "sentence_df.dropna(inplace=True)"
   ]
  },
  {
   "cell_type": "code",
   "execution_count": 9,
   "metadata": {
    "Collapsed": "false"
   },
   "outputs": [
    {
     "data": {
      "text/plain": [
       "15560"
      ]
     },
     "execution_count": 9,
     "metadata": {},
     "output_type": "execute_result"
    }
   ],
   "source": [
    "len(sentence_df)"
   ]
  },
  {
   "cell_type": "code",
   "execution_count": 10,
   "metadata": {
    "Collapsed": "false"
   },
   "outputs": [
    {
     "data": {
      "text/plain": [
       "TfidfVectorizer(analyzer='word', binary=False, decode_error='strict',\n",
       "                dtype=<class 'numpy.float64'>, encoding='utf-8',\n",
       "                input='content', lowercase=True, max_df=1.0, max_features=None,\n",
       "                min_df=1, ngram_range=(2, 2), norm='l2', preprocessor=None,\n",
       "                smooth_idf=True,\n",
       "                stop_words=['i', 'me', 'my', 'myself', 'we', 'our', 'ours',\n",
       "                            'ourselves', 'you', \"you're\", \"you've\", \"you'll\",\n",
       "                            \"you'd\", 'your', 'yours', 'yourself', 'yourselves',\n",
       "                            'he', 'him', 'his', 'himself', 'she', \"she's\",\n",
       "                            'her', 'hers', 'herself', 'it', \"it's\", 'its',\n",
       "                            'itself', ...],\n",
       "                strip_accents=None, sublinear_tf=False,\n",
       "                token_pattern='(?u)\\\\b\\\\w\\\\w+\\\\b', tokenizer=None, use_idf=True,\n",
       "                vocabulary=None)"
      ]
     },
     "execution_count": 10,
     "metadata": {},
     "output_type": "execute_result"
    }
   ],
   "source": [
    "from nltk.corpus import stopwords \n",
    "\n",
    "\n",
    "from sklearn.feature_extraction.text import TfidfVectorizer\n",
    "vectorizer = TfidfVectorizer(stop_words=stopwords.words(\"english\"),ngram_range=(2,2))\n",
    "vectorizer.fit(sentence_df[\"cleaned_sentence\"].values.tolist())\n",
    "\n",
    "\n"
   ]
  },
  {
   "cell_type": "code",
   "execution_count": 11,
   "metadata": {
    "Collapsed": "false"
   },
   "outputs": [],
   "source": [
    "train_tfidf_features = vectorizer.transform(sentence_df[\"cleaned_sentence\"].values.tolist())"
   ]
  },
  {
   "cell_type": "code",
   "execution_count": 12,
   "metadata": {
    "Collapsed": "false"
   },
   "outputs": [
    {
     "data": {
      "text/plain": [
       "131434"
      ]
     },
     "execution_count": 12,
     "metadata": {},
     "output_type": "execute_result"
    }
   ],
   "source": [
    "len(vectorizer.get_feature_names())"
   ]
  },
  {
   "cell_type": "code",
   "execution_count": 13,
   "metadata": {
    "Collapsed": "false"
   },
   "outputs": [],
   "source": [
    "from sklearn.naive_bayes import GaussianNB\n",
    "from sklearn.svm import LinearSVC\n",
    "from sklearn.model_selection import StratifiedKFold\n",
    "from sklearn.metrics import classification_report"
   ]
  },
  {
   "cell_type": "code",
   "execution_count": 14,
   "metadata": {
    "Collapsed": "false"
   },
   "outputs": [],
   "source": [
    "skf = StratifiedKFold(n_splits=4)\n",
    "y = sentence_df[\"propaganda\"].values"
   ]
  },
  {
   "cell_type": "code",
   "execution_count": 15,
   "metadata": {
    "Collapsed": "false"
   },
   "outputs": [
    {
     "name": "stdout",
     "output_type": "stream",
     "text": [
      "[LibLinear]              precision    recall  f1-score   support\n",
      "\n",
      "           0       0.98      0.70      0.81      3731\n",
      "           1       0.09      0.68      0.15       159\n",
      "\n",
      "    accuracy                           0.70      3890\n",
      "   macro avg       0.53      0.69      0.48      3890\n",
      "weighted avg       0.94      0.70      0.79      3890\n",
      "\n",
      "[LibLinear]              precision    recall  f1-score   support\n",
      "\n",
      "           0       0.98      0.69      0.81      3761\n",
      "           1       0.07      0.64      0.12       129\n",
      "\n",
      "    accuracy                           0.69      3890\n",
      "   macro avg       0.52      0.66      0.47      3890\n",
      "weighted avg       0.95      0.69      0.79      3890\n",
      "\n",
      "[LibLinear]              precision    recall  f1-score   support\n",
      "\n",
      "           0       0.97      0.69      0.81      3686\n",
      "           1       0.09      0.55      0.16       204\n",
      "\n",
      "    accuracy                           0.69      3890\n",
      "   macro avg       0.53      0.62      0.48      3890\n",
      "weighted avg       0.92      0.69      0.77      3890\n",
      "\n",
      "[LibLinear]              precision    recall  f1-score   support\n",
      "\n",
      "           0       0.98      0.69      0.81      3724\n",
      "           1       0.08      0.63      0.15       166\n",
      "\n",
      "    accuracy                           0.69      3890\n",
      "   macro avg       0.53      0.66      0.48      3890\n",
      "weighted avg       0.94      0.69      0.78      3890\n",
      "\n"
     ]
    }
   ],
   "source": [
    "for train_index,test_index in skf.split(train_tfidf_features,y):\n",
    "    clf = LinearSVC(random_state=0,max_iter=10000,verbose=2)\n",
    "    clf.fit(train_tfidf_features[train_index].toarray(),y[train_index])\n",
    "    print(classification_report(clf.predict(train_tfidf_features[test_index].toarray()),y[test_index]))\n"
   ]
  },
  {
   "cell_type": "code",
   "execution_count": null,
   "metadata": {
    "Collapsed": "false"
   },
   "outputs": [],
   "source": []
  },
  {
   "cell_type": "code",
   "execution_count": null,
   "metadata": {
    "Collapsed": "false"
   },
   "outputs": [],
   "source": []
  }
 ],
 "metadata": {
  "kernelspec": {
   "display_name": "semeval2020",
   "language": "python",
   "name": "semeval2020"
  },
  "language_info": {
   "codemirror_mode": {
    "name": "ipython",
    "version": 3
   },
   "file_extension": ".py",
   "mimetype": "text/x-python",
   "name": "python",
   "nbconvert_exporter": "python",
   "pygments_lexer": "ipython3",
   "version": "3.7.4"
  }
 },
 "nbformat": 4,
 "nbformat_minor": 4
}
