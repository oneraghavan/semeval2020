{
 "cells": [
  {
   "cell_type": "code",
   "execution_count": 1,
   "metadata": {
    "Collapsed": "false"
   },
   "outputs": [],
   "source": [
    "from fastai.text import *"
   ]
  },
  {
   "cell_type": "code",
   "execution_count": 2,
   "metadata": {
    "Collapsed": "false"
   },
   "outputs": [
    {
     "data": {
      "text/html": [
       "<div>\n",
       "<style scoped>\n",
       "    .dataframe tbody tr th:only-of-type {\n",
       "        vertical-align: middle;\n",
       "    }\n",
       "\n",
       "    .dataframe tbody tr th {\n",
       "        vertical-align: top;\n",
       "    }\n",
       "\n",
       "    .dataframe thead th {\n",
       "        text-align: right;\n",
       "    }\n",
       "</style>\n",
       "<table border=\"1\" class=\"dataframe\">\n",
       "  <thead>\n",
       "    <tr style=\"text-align: right;\">\n",
       "      <th></th>\n",
       "      <th>article_id</th>\n",
       "      <th>sentence_id</th>\n",
       "      <th>sentence</th>\n",
       "      <th>has_propaganda</th>\n",
       "      <th>cleaned_sentence</th>\n",
       "    </tr>\n",
       "  </thead>\n",
       "  <tbody>\n",
       "    <tr>\n",
       "      <td>0</td>\n",
       "      <td>762956953</td>\n",
       "      <td>0</td>\n",
       "      <td>Iran Admits To Aiding Al-Qaeda and Facilitatin...</td>\n",
       "      <td>False</td>\n",
       "      <td>Iran Admits To Aiding Al-Qaeda and Facilitatin...</td>\n",
       "    </tr>\n",
       "    <tr>\n",
       "      <td>1</td>\n",
       "      <td>762956953</td>\n",
       "      <td>1</td>\n",
       "      <td>But now we have definitive confirmation.</td>\n",
       "      <td>False</td>\n",
       "      <td>But now we have definitive confirmation.</td>\n",
       "    </tr>\n",
       "    <tr>\n",
       "      <td>2</td>\n",
       "      <td>762956953</td>\n",
       "      <td>2</td>\n",
       "      <td>It was Iran Bush should have invaded after 9/1...</td>\n",
       "      <td>False</td>\n",
       "      <td>It was Iran Bush should have invaded after 9/1...</td>\n",
       "    </tr>\n",
       "    <tr>\n",
       "      <td>3</td>\n",
       "      <td>762956953</td>\n",
       "      <td>3</td>\n",
       "      <td>Now consider this: even though, as President o...</td>\n",
       "      <td>False</td>\n",
       "      <td>Now consider this: even though, as President o...</td>\n",
       "    </tr>\n",
       "    <tr>\n",
       "      <td>4</td>\n",
       "      <td>762956953</td>\n",
       "      <td>4</td>\n",
       "      <td>The Iran nuclear deal should never have procee...</td>\n",
       "      <td>True</td>\n",
       "      <td>The Iran nuclear deal should never have procee...</td>\n",
       "    </tr>\n",
       "  </tbody>\n",
       "</table>\n",
       "</div>"
      ],
      "text/plain": [
       "   article_id  sentence_id                                           sentence  \\\n",
       "0   762956953            0  Iran Admits To Aiding Al-Qaeda and Facilitatin...   \n",
       "1   762956953            1           But now we have definitive confirmation.   \n",
       "2   762956953            2  It was Iran Bush should have invaded after 9/1...   \n",
       "3   762956953            3  Now consider this: even though, as President o...   \n",
       "4   762956953            4  The Iran nuclear deal should never have procee...   \n",
       "\n",
       "   has_propaganda                                   cleaned_sentence  \n",
       "0           False  Iran Admits To Aiding Al-Qaeda and Facilitatin...  \n",
       "1           False           But now we have definitive confirmation.  \n",
       "2           False  It was Iran Bush should have invaded after 9/1...  \n",
       "3           False  Now consider this: even though, as President o...  \n",
       "4            True  The Iran nuclear deal should never have procee...  "
      ]
     },
     "execution_count": 2,
     "metadata": {},
     "output_type": "execute_result"
    }
   ],
   "source": [
    "df = pd.read_csv(\"/data/semeval-2020/task-11/processed/sentence_dataset_v2.csv\")\n",
    "df.head()"
   ]
  },
  {
   "cell_type": "code",
   "execution_count": 3,
   "metadata": {
    "Collapsed": "false"
   },
   "outputs": [],
   "source": [
    "data_lm = TextDataBunch.from_csv(\"/data/semeval-2020/task-11/processed/\", 'sentence_dataset_v2.csv')"
   ]
  },
  {
   "cell_type": "code",
   "execution_count": 4,
   "metadata": {
    "Collapsed": "false"
   },
   "outputs": [],
   "source": [
    "data_lm.save()"
   ]
  },
  {
   "cell_type": "code",
   "execution_count": 5,
   "metadata": {
    "Collapsed": "false"
   },
   "outputs": [
    {
     "data": {
      "text/html": [
       "<table border=\"1\" class=\"dataframe\">\n",
       "  <thead>\n",
       "    <tr style=\"text-align: right;\">\n",
       "      <th>text</th>\n",
       "      <th>target</th>\n",
       "    </tr>\n",
       "  </thead>\n",
       "  <tbody>\n",
       "    <tr>\n",
       "      <td>xxbos 38</td>\n",
       "      <td>787668628</td>\n",
       "    </tr>\n",
       "    <tr>\n",
       "      <td>xxbos 12</td>\n",
       "      <td>727658675</td>\n",
       "    </tr>\n",
       "    <tr>\n",
       "      <td>xxbos 40</td>\n",
       "      <td>765385479</td>\n",
       "    </tr>\n",
       "    <tr>\n",
       "      <td>xxbos 13</td>\n",
       "      <td>738060046</td>\n",
       "    </tr>\n",
       "    <tr>\n",
       "      <td>xxbos 94</td>\n",
       "      <td>780414700</td>\n",
       "    </tr>\n",
       "  </tbody>\n",
       "</table>"
      ],
      "text/plain": [
       "<IPython.core.display.HTML object>"
      ]
     },
     "metadata": {},
     "output_type": "display_data"
    }
   ],
   "source": [
    "data = TextClasDataBunch.from_csv(\"/data/semeval-2020/task-11/processed/\", 'sentence_dataset_v2.csv')\n",
    "data.show_batch()"
   ]
  },
  {
   "cell_type": "code",
   "execution_count": null,
   "metadata": {
    "Collapsed": "false"
   },
   "outputs": [],
   "source": []
  }
 ],
 "metadata": {
  "kernelspec": {
   "display_name": "Python (fastai)",
   "language": "python",
   "name": "fastai"
  },
  "language_info": {
   "codemirror_mode": {
    "name": "ipython",
    "version": 3
   },
   "file_extension": ".py",
   "mimetype": "text/x-python",
   "name": "python",
   "nbconvert_exporter": "python",
   "pygments_lexer": "ipython3",
   "version": "3.7.4"
  }
 },
 "nbformat": 4,
 "nbformat_minor": 4
}
