{
 "cells": [
  {
   "cell_type": "code",
   "execution_count": 1,
   "metadata": {
    "Collapsed": "false"
   },
   "outputs": [],
   "source": [
    "import pandas as pd\n",
    "import sklearn\n",
    "import warnings\n",
    "warnings.filterwarnings('ignore')"
   ]
  },
  {
   "cell_type": "code",
   "execution_count": 2,
   "metadata": {
    "Collapsed": "false"
   },
   "outputs": [],
   "source": [
    "sentences = pd.read_csv(\"/data/semeval-2020/task-11/processed/sentence_dataset_v2.csv\")"
   ]
  },
  {
   "cell_type": "code",
   "execution_count": 3,
   "metadata": {
    "Collapsed": "false"
   },
   "outputs": [
    {
     "data": {
      "text/html": [
       "<div>\n",
       "<style scoped>\n",
       "    .dataframe tbody tr th:only-of-type {\n",
       "        vertical-align: middle;\n",
       "    }\n",
       "\n",
       "    .dataframe tbody tr th {\n",
       "        vertical-align: top;\n",
       "    }\n",
       "\n",
       "    .dataframe thead th {\n",
       "        text-align: right;\n",
       "    }\n",
       "</style>\n",
       "<table border=\"1\" class=\"dataframe\">\n",
       "  <thead>\n",
       "    <tr style=\"text-align: right;\">\n",
       "      <th></th>\n",
       "      <th>article_id</th>\n",
       "      <th>sentence_id</th>\n",
       "      <th>sentence</th>\n",
       "      <th>has_propaganda</th>\n",
       "      <th>cleaned_sentence</th>\n",
       "    </tr>\n",
       "  </thead>\n",
       "  <tbody>\n",
       "    <tr>\n",
       "      <td>0</td>\n",
       "      <td>762956953</td>\n",
       "      <td>0</td>\n",
       "      <td>Iran Admits To Aiding Al-Qaeda and Facilitatin...</td>\n",
       "      <td>False</td>\n",
       "      <td>Iran Admits To Aiding Al-Qaeda and Facilitatin...</td>\n",
       "    </tr>\n",
       "    <tr>\n",
       "      <td>1</td>\n",
       "      <td>762956953</td>\n",
       "      <td>1</td>\n",
       "      <td>But now we have definitive confirmation.</td>\n",
       "      <td>False</td>\n",
       "      <td>But now we have definitive confirmation.</td>\n",
       "    </tr>\n",
       "    <tr>\n",
       "      <td>2</td>\n",
       "      <td>762956953</td>\n",
       "      <td>2</td>\n",
       "      <td>It was Iran Bush should have invaded after 9/1...</td>\n",
       "      <td>False</td>\n",
       "      <td>It was Iran Bush should have invaded after 9/1...</td>\n",
       "    </tr>\n",
       "    <tr>\n",
       "      <td>3</td>\n",
       "      <td>762956953</td>\n",
       "      <td>3</td>\n",
       "      <td>Now consider this: even though, as President o...</td>\n",
       "      <td>False</td>\n",
       "      <td>Now consider this: even though, as President o...</td>\n",
       "    </tr>\n",
       "    <tr>\n",
       "      <td>4</td>\n",
       "      <td>762956953</td>\n",
       "      <td>4</td>\n",
       "      <td>The Iran nuclear deal should never have procee...</td>\n",
       "      <td>True</td>\n",
       "      <td>The Iran nuclear deal should never have procee...</td>\n",
       "    </tr>\n",
       "  </tbody>\n",
       "</table>\n",
       "</div>"
      ],
      "text/plain": [
       "   article_id  sentence_id                                           sentence  \\\n",
       "0   762956953            0  Iran Admits To Aiding Al-Qaeda and Facilitatin...   \n",
       "1   762956953            1           But now we have definitive confirmation.   \n",
       "2   762956953            2  It was Iran Bush should have invaded after 9/1...   \n",
       "3   762956953            3  Now consider this: even though, as President o...   \n",
       "4   762956953            4  The Iran nuclear deal should never have procee...   \n",
       "\n",
       "   has_propaganda                                   cleaned_sentence  \n",
       "0           False  Iran Admits To Aiding Al-Qaeda and Facilitatin...  \n",
       "1           False           But now we have definitive confirmation.  \n",
       "2           False  It was Iran Bush should have invaded after 9/1...  \n",
       "3           False  Now consider this: even though, as President o...  \n",
       "4            True  The Iran nuclear deal should never have procee...  "
      ]
     },
     "execution_count": 3,
     "metadata": {},
     "output_type": "execute_result"
    }
   ],
   "source": [
    "sentences.head()"
   ]
  },
  {
   "cell_type": "code",
   "execution_count": 4,
   "metadata": {
    "Collapsed": "false"
   },
   "outputs": [],
   "source": [
    "# sentences[[\"label\",\"text\"]].to_csv(\"/data/semeval-2020/task-11/processed/cleaned_sentences_altered.csv\",index=False)"
   ]
  },
  {
   "cell_type": "code",
   "execution_count": 5,
   "metadata": {
    "Collapsed": "false"
   },
   "outputs": [],
   "source": [
    "from sklearn.model_selection import StratifiedShuffleSplit"
   ]
  },
  {
   "cell_type": "code",
   "execution_count": 6,
   "metadata": {
    "Collapsed": "false"
   },
   "outputs": [],
   "source": [
    "# split = list(StratifiedShuffleSplit(n_splits=1,test_size=0.2).split(sentences,sentences.label))"
   ]
  },
  {
   "cell_type": "code",
   "execution_count": 7,
   "metadata": {
    "Collapsed": "false"
   },
   "outputs": [],
   "source": [
    "# for train_ix,test_ix in split:\n",
    "#     test = sentences.iloc[test_ix]\n",
    "#     train = sentences.iloc[train_ix]"
   ]
  },
  {
   "cell_type": "code",
   "execution_count": 8,
   "metadata": {
    "Collapsed": "false"
   },
   "outputs": [],
   "source": [
    "# test"
   ]
  },
  {
   "cell_type": "code",
   "execution_count": 9,
   "metadata": {
    "Collapsed": "false"
   },
   "outputs": [],
   "source": [
    "# sentences.propaganda.value_counts()"
   ]
  },
  {
   "cell_type": "code",
   "execution_count": 11,
   "metadata": {
    "Collapsed": "false"
   },
   "outputs": [],
   "source": [
    "from fastai.text import *\n",
    "arch = AWD_LSTM"
   ]
  },
  {
   "cell_type": "code",
   "execution_count": 12,
   "metadata": {
    "Collapsed": "false"
   },
   "outputs": [],
   "source": [
    "# data_lm = TextLMDataBunch.from_df(\"/data/semeval-2020/task-11/processed/\",train_df=train,valid_df=test,text_cols=0)\\\n",
    "#             .label_for_lm()\\\n",
    "#             .databunch(bs=128)\\\n"
   ]
  },
  {
   "cell_type": "code",
   "execution_count": 16,
   "metadata": {
    "Collapsed": "false"
   },
   "outputs": [],
   "source": [
    "data_lm = TextLMDataBunch.from_csv(path=\"/data/semeval-2020/task-11/processed/\" , csv_name=\"sentence_dataset_v2.csv\",text_cols=\"cleaned_sentence\",bs=256)"
   ]
  },
  {
   "cell_type": "code",
   "execution_count": 17,
   "metadata": {
    "Collapsed": "false"
   },
   "outputs": [
    {
     "data": {
      "text/html": [
       "<table border=\"1\" class=\"dataframe\">\n",
       "  <thead>\n",
       "    <tr style=\"text-align: right;\">\n",
       "      <th>idx</th>\n",
       "      <th>text</th>\n",
       "    </tr>\n",
       "  </thead>\n",
       "  <tbody>\n",
       "    <tr>\n",
       "      <td>0</td>\n",
       "      <td>future belonged . xxbos 2 ] xxmaj it ’s notable that these xxunk tantrums from the xxmaj german bishops halted abruptly about the same time as xxmaj cardinal xxmaj kasper gave his infamous xxunk speech in xxmaj february 2014 . xxbos xxmaj she is currently weighing whether she can order a longer delay to give the affected people time to renew their efforts to gain legal status . xxbos xxmaj</td>\n",
       "    </tr>\n",
       "    <tr>\n",
       "      <td>1</td>\n",
       "      <td>says xxmaj joseph . “ xxbos i would like to take this opportunity to make it clear that there is absolutely no place for anti - xxmaj semitism at mcgill xxmaj university and that , as principal and vice - chancellor , i will remain vigilant to ensure that all members of our community feel safe , welcomed and respected on our campuses . ” xxbos xxmaj congo 's xxmaj</td>\n",
       "    </tr>\n",
       "    <tr>\n",
       "      <td>2</td>\n",
       "      <td>specified , “ xxmaj he that xxunk the name of the xxmaj lord , dying let him die : all the multitude shall stone him , whether he be a native or a stranger ” ( xxmaj lev . xxbos xxmaj on the other hand , every xxmaj republican publicly stated that they would vote xxmaj yes . xxbos xxmaj as his lawyer told reporters , xxmaj strzok had “</td>\n",
       "    </tr>\n",
       "    <tr>\n",
       "      <td>3</td>\n",
       "      <td>there are better , more venerable , even more xxunk and xxunk works on the xxmaj eucharist in the canon of “ official ” things . xxbos “ xxmaj we take anti - xxmaj semitism quite seriously , ” j xxmaj street ’s statement read . “ xxbos xxmaj comey ’s follow - up letters to xxmaj congress on xxmaj october 28 and xxmaj november 6 , 2016 were similarly</td>\n",
       "    </tr>\n",
       "    <tr>\n",
       "      <td>4</td>\n",
       "      <td>the teachings xxunk the xxmaj holy xxmaj scriptures and stand and fight . xxbos xxmaj recall that this was the very first airplane interview , on the trip back to xxmaj rome from xxmaj world xxmaj youth xxmaj day in xxmaj rio , a matter of weeks after his election . xxbos xxmaj it is very deep . xxbos xxmaj here 's an example of his work : xxmaj perhaps</td>\n",
       "    </tr>\n",
       "  </tbody>\n",
       "</table>"
      ],
      "text/plain": [
       "<IPython.core.display.HTML object>"
      ]
     },
     "metadata": {},
     "output_type": "display_data"
    }
   ],
   "source": [
    "data_lm.show_batch()"
   ]
  },
  {
   "cell_type": "code",
   "execution_count": 18,
   "metadata": {
    "Collapsed": "false"
   },
   "outputs": [
    {
     "data": {
      "text/plain": [
       "256"
      ]
     },
     "execution_count": 18,
     "metadata": {},
     "output_type": "execute_result"
    }
   ],
   "source": [
    "data_lm.batch_size"
   ]
  },
  {
   "cell_type": "code",
   "execution_count": 19,
   "metadata": {
    "Collapsed": "false"
   },
   "outputs": [],
   "source": [
    "learn = language_model_learner(data_lm,arch,drop_mult=0.3)"
   ]
  },
  {
   "cell_type": "code",
   "execution_count": 20,
   "metadata": {
    "Collapsed": "false"
   },
   "outputs": [
    {
     "data": {
      "text/html": [],
      "text/plain": [
       "<IPython.core.display.HTML object>"
      ]
     },
     "metadata": {},
     "output_type": "display_data"
    },
    {
     "name": "stdout",
     "output_type": "stream",
     "text": [
      "LR Finder is complete, type {learner_name}.recorder.plot() to see the graph.\n",
      "Min numerical gradient: 3.98E-02\n",
      "Min loss divided by 10: 3.63E-02\n"
     ]
    },
    {
     "data": {
      "image/png": "[encoded data removed]",
      "text/plain": [
       "<Figure size 432x288 with 1 Axes>"
      ]
     },
     "metadata": {
      "needs_background": "light"
     },
     "output_type": "display_data"
    }
   ],
   "source": [
    "learn.lr_find()\n",
    "learn.recorder.plot(suggestion=True)"
   ]
  },
  {
   "cell_type": "code",
   "execution_count": 21,
   "metadata": {
    "Collapsed": "false"
   },
   "outputs": [
    {
     "data": {
      "text/html": [
       "<table border=\"1\" class=\"dataframe\">\n",
       "  <thead>\n",
       "    <tr style=\"text-align: left;\">\n",
       "      <th>epoch</th>\n",
       "      <th>train_loss</th>\n",
       "      <th>valid_loss</th>\n",
       "      <th>accuracy</th>\n",
       "      <th>time</th>\n",
       "    </tr>\n",
       "  </thead>\n",
       "  <tbody>\n",
       "    <tr>\n",
       "      <td>0</td>\n",
       "      <td>4.852383</td>\n",
       "      <td>4.554474</td>\n",
       "      <td>0.255590</td>\n",
       "      <td>00:05</td>\n",
       "    </tr>\n",
       "    <tr>\n",
       "      <td>1</td>\n",
       "      <td>4.574463</td>\n",
       "      <td>4.066745</td>\n",
       "      <td>0.293415</td>\n",
       "      <td>00:05</td>\n",
       "    </tr>\n",
       "    <tr>\n",
       "      <td>2</td>\n",
       "      <td>4.213915</td>\n",
       "      <td>3.688742</td>\n",
       "      <td>0.328832</td>\n",
       "      <td>00:05</td>\n",
       "    </tr>\n",
       "    <tr>\n",
       "      <td>3</td>\n",
       "      <td>3.868766</td>\n",
       "      <td>3.551249</td>\n",
       "      <td>0.349312</td>\n",
       "      <td>00:05</td>\n",
       "    </tr>\n",
       "    <tr>\n",
       "      <td>4</td>\n",
       "      <td>3.577636</td>\n",
       "      <td>3.508106</td>\n",
       "      <td>0.354288</td>\n",
       "      <td>00:05</td>\n",
       "    </tr>\n",
       "    <tr>\n",
       "      <td>5</td>\n",
       "      <td>3.336817</td>\n",
       "      <td>3.495104</td>\n",
       "      <td>0.358305</td>\n",
       "      <td>00:05</td>\n",
       "    </tr>\n",
       "    <tr>\n",
       "      <td>6</td>\n",
       "      <td>3.144381</td>\n",
       "      <td>3.493442</td>\n",
       "      <td>0.359617</td>\n",
       "      <td>00:05</td>\n",
       "    </tr>\n",
       "    <tr>\n",
       "      <td>7</td>\n",
       "      <td>2.976618</td>\n",
       "      <td>3.498295</td>\n",
       "      <td>0.360166</td>\n",
       "      <td>00:05</td>\n",
       "    </tr>\n",
       "    <tr>\n",
       "      <td>8</td>\n",
       "      <td>2.838465</td>\n",
       "      <td>3.502730</td>\n",
       "      <td>0.360705</td>\n",
       "      <td>00:06</td>\n",
       "    </tr>\n",
       "    <tr>\n",
       "      <td>9</td>\n",
       "      <td>2.752300</td>\n",
       "      <td>3.505326</td>\n",
       "      <td>0.360947</td>\n",
       "      <td>00:06</td>\n",
       "    </tr>\n",
       "    <tr>\n",
       "      <td>10</td>\n",
       "      <td>2.673170</td>\n",
       "      <td>3.505884</td>\n",
       "      <td>0.360733</td>\n",
       "      <td>00:06</td>\n",
       "    </tr>\n",
       "    <tr>\n",
       "      <td>11</td>\n",
       "      <td>2.619416</td>\n",
       "      <td>3.505159</td>\n",
       "      <td>0.360845</td>\n",
       "      <td>00:06</td>\n",
       "    </tr>\n",
       "  </tbody>\n",
       "</table>"
      ],
      "text/plain": [
       "<IPython.core.display.HTML object>"
      ]
     },
     "metadata": {},
     "output_type": "display_data"
    }
   ],
   "source": [
    "learn.fit_one_cycle(12,1e-2)"
   ]
  },
  {
   "cell_type": "code",
   "execution_count": 22,
   "metadata": {
    "Collapsed": "false"
   },
   "outputs": [],
   "source": [
    "learn.save('first_fit_lm')"
   ]
  },
  {
   "cell_type": "code",
   "execution_count": 23,
   "metadata": {
    "Collapsed": "false"
   },
   "outputs": [
    {
     "data": {
      "text/html": [],
      "text/plain": [
       "<IPython.core.display.HTML object>"
      ]
     },
     "metadata": {},
     "output_type": "display_data"
    },
    {
     "name": "stdout",
     "output_type": "stream",
     "text": [
      "LR Finder is complete, type {learner_name}.recorder.plot() to see the graph.\n",
      "Min numerical gradient: 3.98E-04\n",
      "Min loss divided by 10: 7.59E-04\n"
     ]
    },
    {
     "data": {
      "image/png": "[encoded data removed]",
      "text/plain": [
       "<Figure size 432x288 with 1 Axes>"
      ]
     },
     "metadata": {
      "needs_background": "light"
     },
     "output_type": "display_data"
    }
   ],
   "source": [
    "learn.unfreeze()\n",
    "learn.lr_find()\n",
    "learn.recorder.plot(suggestion=True)"
   ]
  },
  {
   "cell_type": "code",
   "execution_count": 25,
   "metadata": {
    "Collapsed": "false"
   },
   "outputs": [
    {
     "data": {
      "text/html": [
       "<table border=\"1\" class=\"dataframe\">\n",
       "  <thead>\n",
       "    <tr style=\"text-align: left;\">\n",
       "      <th>epoch</th>\n",
       "      <th>train_loss</th>\n",
       "      <th>valid_loss</th>\n",
       "      <th>accuracy</th>\n",
       "      <th>time</th>\n",
       "    </tr>\n",
       "  </thead>\n",
       "  <tbody>\n",
       "    <tr>\n",
       "      <td>0</td>\n",
       "      <td>2.513657</td>\n",
       "      <td>3.507400</td>\n",
       "      <td>0.360965</td>\n",
       "      <td>00:07</td>\n",
       "    </tr>\n",
       "    <tr>\n",
       "      <td>1</td>\n",
       "      <td>2.508812</td>\n",
       "      <td>3.519851</td>\n",
       "      <td>0.360621</td>\n",
       "      <td>00:08</td>\n",
       "    </tr>\n",
       "    <tr>\n",
       "      <td>2</td>\n",
       "      <td>2.485095</td>\n",
       "      <td>3.521100</td>\n",
       "      <td>0.361449</td>\n",
       "      <td>00:08</td>\n",
       "    </tr>\n",
       "    <tr>\n",
       "      <td>3</td>\n",
       "      <td>2.460942</td>\n",
       "      <td>3.521227</td>\n",
       "      <td>0.362891</td>\n",
       "      <td>00:08</td>\n",
       "    </tr>\n",
       "    <tr>\n",
       "      <td>4</td>\n",
       "      <td>2.442078</td>\n",
       "      <td>3.522479</td>\n",
       "      <td>0.363495</td>\n",
       "      <td>00:07</td>\n",
       "    </tr>\n",
       "    <tr>\n",
       "      <td>5</td>\n",
       "      <td>2.424534</td>\n",
       "      <td>3.521351</td>\n",
       "      <td>0.363597</td>\n",
       "      <td>00:07</td>\n",
       "    </tr>\n",
       "    <tr>\n",
       "      <td>6</td>\n",
       "      <td>2.400064</td>\n",
       "      <td>3.525789</td>\n",
       "      <td>0.364118</td>\n",
       "      <td>00:08</td>\n",
       "    </tr>\n",
       "    <tr>\n",
       "      <td>7</td>\n",
       "      <td>2.379006</td>\n",
       "      <td>3.530280</td>\n",
       "      <td>0.364183</td>\n",
       "      <td>00:08</td>\n",
       "    </tr>\n",
       "    <tr>\n",
       "      <td>8</td>\n",
       "      <td>2.352985</td>\n",
       "      <td>3.530806</td>\n",
       "      <td>0.364537</td>\n",
       "      <td>00:08</td>\n",
       "    </tr>\n",
       "    <tr>\n",
       "      <td>9</td>\n",
       "      <td>2.327047</td>\n",
       "      <td>3.537474</td>\n",
       "      <td>0.364249</td>\n",
       "      <td>00:08</td>\n",
       "    </tr>\n",
       "    <tr>\n",
       "      <td>10</td>\n",
       "      <td>2.315513</td>\n",
       "      <td>3.537721</td>\n",
       "      <td>0.364500</td>\n",
       "      <td>00:07</td>\n",
       "    </tr>\n",
       "    <tr>\n",
       "      <td>11</td>\n",
       "      <td>2.296978</td>\n",
       "      <td>3.538535</td>\n",
       "      <td>0.364276</td>\n",
       "      <td>00:08</td>\n",
       "    </tr>\n",
       "    <tr>\n",
       "      <td>12</td>\n",
       "      <td>2.282948</td>\n",
       "      <td>3.538370</td>\n",
       "      <td>0.364314</td>\n",
       "      <td>00:08</td>\n",
       "    </tr>\n",
       "    <tr>\n",
       "      <td>13</td>\n",
       "      <td>2.272039</td>\n",
       "      <td>3.539756</td>\n",
       "      <td>0.364500</td>\n",
       "      <td>00:08</td>\n",
       "    </tr>\n",
       "    <tr>\n",
       "      <td>14</td>\n",
       "      <td>2.270397</td>\n",
       "      <td>3.539848</td>\n",
       "      <td>0.364583</td>\n",
       "      <td>00:08</td>\n",
       "    </tr>\n",
       "    <tr>\n",
       "      <td>15</td>\n",
       "      <td>2.260989</td>\n",
       "      <td>3.539510</td>\n",
       "      <td>0.364555</td>\n",
       "      <td>00:08</td>\n",
       "    </tr>\n",
       "  </tbody>\n",
       "</table>"
      ],
      "text/plain": [
       "<IPython.core.display.HTML object>"
      ]
     },
     "metadata": {},
     "output_type": "display_data"
    }
   ],
   "source": [
    "# learn.load('first_fit_lm')\n",
    "learn.fit_one_cycle(16,1e-4)"
   ]
  },
  {
   "cell_type": "code",
   "execution_count": 26,
   "metadata": {
    "Collapsed": "false"
   },
   "outputs": [],
   "source": [
    "learn.save_encoder('fine_tuned')"
   ]
  },
  {
   "cell_type": "code",
   "execution_count": 27,
   "metadata": {
    "Collapsed": "false"
   },
   "outputs": [
    {
     "data": {
      "text/html": [
       "<table border=\"1\" class=\"dataframe\">\n",
       "  <thead>\n",
       "    <tr style=\"text-align: right;\">\n",
       "      <th>text</th>\n",
       "      <th>target</th>\n",
       "    </tr>\n",
       "  </thead>\n",
       "  <tbody>\n",
       "    <tr>\n",
       "      <td>xxbos xxup breaking xxup news : xxup trump xxup tells xxup jeff xxup sessions xxup to xxup put xxup an xxup end xxup to xxup russia xxup probe xxup as xxup he xxup claims xxup prosecutors xxup doing xxup mueller xxup ’s ‘ xxup dirty xxup work xxup are a xxup disgrace’ xxup to xxup america xxmaj white xxmaj house xxup xxunk say if xxmaj trump will order xxmaj jeff</td>\n",
       "      <td>True</td>\n",
       "    </tr>\n",
       "    <tr>\n",
       "      <td>xxbos xxmaj galatians xxunk - 9 ) xxmaj the signatories go on to give voice to the utter scandal of the pope ’s failure to carry out his xxunk mission as the xxmaj vicar of xxmaj christ to call home the members of the xxmaj islamic faith : xxmaj the pro - xxmaj islam speech of xxmaj your xxmaj holiness leads us to xxunk the fact that xxmaj muslims are</td>\n",
       "      <td>True</td>\n",
       "    </tr>\n",
       "    <tr>\n",
       "      <td>xxbos xxup capitol xxup police xxup accidentally xxup gave xxup evidence xxup to xxup house xxup hacking xxup suspect xxup ’s xxup defense xxup attorney xxmaj by xxmaj luke xxmaj rosiak on xxmaj may 24 , 2018 : xxmaj the xxmaj house xxup ig said xxmaj democratic xxup it aides made unauthorized access to data , but prosecutors have n’t charged them xxmaj democrats appear to want to keep the</td>\n",
       "      <td>True</td>\n",
       "    </tr>\n",
       "    <tr>\n",
       "      <td>xxbos xxmaj some four months before xxmaj archbishop xxmaj viganò ’s testimony xxmaj cardinal xxmaj xxunk xxmaj xxunk xxmaj xxunk , the xxmaj archbishop of xxmaj xxunk , xxmaj netherlands , perhaps the most liberal territory in the entire xxmaj church , protested that xxmaj bergoglio ’s blatant xxunk to xxunk with xxmaj xxunk in xxmaj germany means that “ the bishops and , above all , the xxmaj successor</td>\n",
       "      <td>True</td>\n",
       "    </tr>\n",
       "    <tr>\n",
       "      <td>xxbos xxmaj supporting xxmaj local xxmaj efforts to xxmaj reduce and xxmaj combat xxmaj gun xxmaj crimes , including : xxmaj opposing concealed carry xxunk policies and legislation that would xxunk city policies established to protect residents ; xxmaj providing local governments and law enforcement officials access to xxup xxunk gun trace data ; xxmaj opposing \" xxmaj stand xxmaj your xxmaj xxunk or \" xxmaj shoot xxmaj xxunk laws</td>\n",
       "      <td>False</td>\n",
       "    </tr>\n",
       "  </tbody>\n",
       "</table>"
      ],
      "text/plain": [
       "<IPython.core.display.HTML object>"
      ]
     },
     "metadata": {},
     "output_type": "display_data"
    }
   ],
   "source": [
    "data = TextClasDataBunch.from_csv(\"/data/semeval-2020/task-11/processed/\",\n",
    "                                  'sentence_dataset_v2.csv',vocab=data_lm.vocab,\n",
    "                                  text_cols=\"cleaned_sentence\",label_cols=\"has_propaganda\",\n",
    "                                  bs=256)\n",
    "data.show_batch()"
   ]
  },
  {
   "cell_type": "code",
   "execution_count": 28,
   "metadata": {
    "Collapsed": "false"
   },
   "outputs": [
    {
     "data": {
      "text/plain": [
       "256"
      ]
     },
     "execution_count": 28,
     "metadata": {},
     "output_type": "execute_result"
    }
   ],
   "source": [
    "data.batch_size"
   ]
  },
  {
   "cell_type": "code",
   "execution_count": 29,
   "metadata": {
    "Collapsed": "false"
   },
   "outputs": [
    {
     "data": {
      "text/plain": [
       "[False, True]"
      ]
     },
     "execution_count": 29,
     "metadata": {},
     "output_type": "execute_result"
    }
   ],
   "source": [
    "data.classes"
   ]
  },
  {
   "cell_type": "code",
   "execution_count": 30,
   "metadata": {
    "Collapsed": "false"
   },
   "outputs": [],
   "source": [
    "# data_clas.vocab.itos = data_lm.vocab.itos"
   ]
  },
  {
   "cell_type": "code",
   "execution_count": 31,
   "metadata": {
    "Collapsed": "false"
   },
   "outputs": [],
   "source": [
    "learn = text_classifier_learner(data, AWD_LSTM,drop_mult=0.3)"
   ]
  },
  {
   "cell_type": "raw",
   "metadata": {
    "Collapsed": "false"
   },
   "source": []
  },
  {
   "cell_type": "code",
   "execution_count": 32,
   "metadata": {
    "Collapsed": "false",
    "scrolled": true
   },
   "outputs": [
    {
     "data": {
      "text/plain": [
       "RNNLearner(data=TextClasDataBunch;\n",
       "\n",
       "Train: LabelList (12447 items)\n",
       "x: TextList\n",
       "xxbos xxmaj no , no , no , no .,xxbos xxmaj this is why confidence tricksters can be successful , why lying works for getting what you want ; people do n’t see it coming .,xxbos xxmaj the xxmaj kennedy xxmaj autopsy xxmaj jacob xxmaj hornberger xxmaj check xxmaj amazon for xxmaj pricing .,xxbos xxmaj and xxmaj king had observed that in his xxmaj july 5 , 2016 statement , xxmaj james xxmaj comey used “ intent ” six times .,xxbos xxmaj archbishop xxmaj xxunk xxmaj xxunk , xxmaj president of the xxmaj xxunk xxmaj bishops ' xxmaj conference and archbishop of xxmaj bratislava , told xxmaj die xxmaj tagespost that xxmaj veritatis xxmaj splendor is not only still valid , but shows xxunk truths .\n",
       "y: CategoryList\n",
       "False,False,False,False,False\n",
       "Path: /data/semeval-2020/task-11/processed;\n",
       "\n",
       "Valid: LabelList (3113 items)\n",
       "x: TextList\n",
       "xxbos xxmaj yes , xxmaj francis should resign if xxmaj viganò ’s allegations are true , xxmaj shea xxunk a stunning concession coming from him .,xxbos xxmaj many of your xxunk may not remember that it never happened and we could very well be treated to something like that in the xxmaj gulf .,xxbos xxmaj hide xxmaj caption 14 of 30 xxmaj photos : xxmaj mass shooting at xxmaj las xxmaj vegas music festival xxmaj an xxunk leaves the xxunk of xxmaj las xxmaj vegas xxmaj xxunk and xxmaj tropicana xxmaj xxunk .,xxbos xxmaj the tried and true concept of peace through strength gave way to xxunk through appeasement .,xxbos xxmaj sociology .\n",
       "y: CategoryList\n",
       "True,False,False,True,True\n",
       "Path: /data/semeval-2020/task-11/processed;\n",
       "\n",
       "Test: None, model=SequentialRNN(\n",
       "  (0): MultiBatchEncoder(\n",
       "    (module): AWD_LSTM(\n",
       "      (encoder): Embedding(10848, 400, padding_idx=1)\n",
       "      (encoder_dp): EmbeddingDropout(\n",
       "        (emb): Embedding(10848, 400, padding_idx=1)\n",
       "      )\n",
       "      (rnns): ModuleList(\n",
       "        (0): WeightDropout(\n",
       "          (module): LSTM(400, 1152, batch_first=True)\n",
       "        )\n",
       "        (1): WeightDropout(\n",
       "          (module): LSTM(1152, 1152, batch_first=True)\n",
       "        )\n",
       "        (2): WeightDropout(\n",
       "          (module): LSTM(1152, 400, batch_first=True)\n",
       "        )\n",
       "      )\n",
       "      (input_dp): RNNDropout()\n",
       "      (hidden_dps): ModuleList(\n",
       "        (0): RNNDropout()\n",
       "        (1): RNNDropout()\n",
       "        (2): RNNDropout()\n",
       "      )\n",
       "    )\n",
       "  )\n",
       "  (1): PoolingLinearClassifier(\n",
       "    (layers): Sequential(\n",
       "      (0): BatchNorm1d(1200, eps=1e-05, momentum=0.1, affine=True, track_running_stats=True)\n",
       "      (1): Dropout(p=0.12, inplace=False)\n",
       "      (2): Linear(in_features=1200, out_features=50, bias=True)\n",
       "      (3): ReLU(inplace=True)\n",
       "      (4): BatchNorm1d(50, eps=1e-05, momentum=0.1, affine=True, track_running_stats=True)\n",
       "      (5): Dropout(p=0.1, inplace=False)\n",
       "      (6): Linear(in_features=50, out_features=2, bias=True)\n",
       "    )\n",
       "  )\n",
       "), opt_func=functools.partial(<class 'torch.optim.adam.Adam'>, betas=(0.9, 0.99)), loss_func=FlattenedLoss of CrossEntropyLoss(), metrics=[<function accuracy at 0x7fbfbf3ada70>], true_wd=True, bn_wd=True, wd=0.01, train_bn=True, path=PosixPath('/data/semeval-2020/task-11/processed'), model_dir='models', callback_fns=[functools.partial(<class 'fastai.basic_train.Recorder'>, add_time=True, silent=False)], callbacks=[RNNTrainer\n",
       "learn: ...\n",
       "alpha: 2.0\n",
       "beta: 1.0], layer_groups=[Sequential(\n",
       "  (0): Embedding(10848, 400, padding_idx=1)\n",
       "  (1): EmbeddingDropout(\n",
       "    (emb): Embedding(10848, 400, padding_idx=1)\n",
       "  )\n",
       "), Sequential(\n",
       "  (0): WeightDropout(\n",
       "    (module): LSTM(400, 1152, batch_first=True)\n",
       "  )\n",
       "  (1): RNNDropout()\n",
       "), Sequential(\n",
       "  (0): WeightDropout(\n",
       "    (module): LSTM(1152, 1152, batch_first=True)\n",
       "  )\n",
       "  (1): RNNDropout()\n",
       "), Sequential(\n",
       "  (0): WeightDropout(\n",
       "    (module): LSTM(1152, 400, batch_first=True)\n",
       "  )\n",
       "  (1): RNNDropout()\n",
       "), Sequential(\n",
       "  (0): PoolingLinearClassifier(\n",
       "    (layers): Sequential(\n",
       "      (0): BatchNorm1d(1200, eps=1e-05, momentum=0.1, affine=True, track_running_stats=True)\n",
       "      (1): Dropout(p=0.12, inplace=False)\n",
       "      (2): Linear(in_features=1200, out_features=50, bias=True)\n",
       "      (3): ReLU(inplace=True)\n",
       "      (4): BatchNorm1d(50, eps=1e-05, momentum=0.1, affine=True, track_running_stats=True)\n",
       "      (5): Dropout(p=0.1, inplace=False)\n",
       "      (6): Linear(in_features=50, out_features=2, bias=True)\n",
       "    )\n",
       "  )\n",
       ")], add_time=True, silent=False, cb_fns_registered=False)"
      ]
     },
     "execution_count": 32,
     "metadata": {},
     "output_type": "execute_result"
    }
   ],
   "source": [
    "learn.load_encoder('fine_tuned')"
   ]
  },
  {
   "cell_type": "code",
   "execution_count": 33,
   "metadata": {
    "Collapsed": "false"
   },
   "outputs": [
    {
     "data": {
      "text/html": [],
      "text/plain": [
       "<IPython.core.display.HTML object>"
      ]
     },
     "metadata": {},
     "output_type": "display_data"
    },
    {
     "name": "stdout",
     "output_type": "stream",
     "text": [
      "LR Finder is complete, type {learner_name}.recorder.plot() to see the graph.\n",
      "Min numerical gradient: 5.75E-02\n",
      "Min loss divided by 10: 2.09E-02\n"
     ]
    },
    {
     "data": {
      "image/png": "[encoded data removed]",
      "text/plain": [
       "<Figure size 432x288 with 1 Axes>"
      ]
     },
     "metadata": {
      "needs_background": "light"
     },
     "output_type": "display_data"
    }
   ],
   "source": [
    "learn.lr_find()\n",
    "learn.recorder.plot(suggestion=True)"
   ]
  },
  {
   "cell_type": "code",
   "execution_count": 34,
   "metadata": {
    "Collapsed": "false"
   },
   "outputs": [
    {
     "data": {
      "text/html": [
       "<table border=\"1\" class=\"dataframe\">\n",
       "  <thead>\n",
       "    <tr style=\"text-align: left;\">\n",
       "      <th>epoch</th>\n",
       "      <th>train_loss</th>\n",
       "      <th>valid_loss</th>\n",
       "      <th>accuracy</th>\n",
       "      <th>time</th>\n",
       "    </tr>\n",
       "  </thead>\n",
       "  <tbody>\n",
       "    <tr>\n",
       "      <td>0</td>\n",
       "      <td>0.668669</td>\n",
       "      <td>0.605285</td>\n",
       "      <td>0.680373</td>\n",
       "      <td>00:04</td>\n",
       "    </tr>\n",
       "    <tr>\n",
       "      <td>1</td>\n",
       "      <td>0.614265</td>\n",
       "      <td>0.559636</td>\n",
       "      <td>0.719884</td>\n",
       "      <td>00:04</td>\n",
       "    </tr>\n",
       "    <tr>\n",
       "      <td>2</td>\n",
       "      <td>0.570731</td>\n",
       "      <td>0.554227</td>\n",
       "      <td>0.718278</td>\n",
       "      <td>00:05</td>\n",
       "    </tr>\n",
       "    <tr>\n",
       "      <td>3</td>\n",
       "      <td>0.551110</td>\n",
       "      <td>0.548155</td>\n",
       "      <td>0.724060</td>\n",
       "      <td>00:04</td>\n",
       "    </tr>\n",
       "    <tr>\n",
       "      <td>4</td>\n",
       "      <td>0.545356</td>\n",
       "      <td>0.544265</td>\n",
       "      <td>0.732412</td>\n",
       "      <td>00:04</td>\n",
       "    </tr>\n",
       "    <tr>\n",
       "      <td>5</td>\n",
       "      <td>0.537472</td>\n",
       "      <td>0.544938</td>\n",
       "      <td>0.730806</td>\n",
       "      <td>00:04</td>\n",
       "    </tr>\n",
       "    <tr>\n",
       "      <td>6</td>\n",
       "      <td>0.527405</td>\n",
       "      <td>0.543813</td>\n",
       "      <td>0.726309</td>\n",
       "      <td>00:04</td>\n",
       "    </tr>\n",
       "    <tr>\n",
       "      <td>7</td>\n",
       "      <td>0.520255</td>\n",
       "      <td>0.540083</td>\n",
       "      <td>0.723097</td>\n",
       "      <td>00:04</td>\n",
       "    </tr>\n",
       "    <tr>\n",
       "      <td>8</td>\n",
       "      <td>0.514258</td>\n",
       "      <td>0.555069</td>\n",
       "      <td>0.727915</td>\n",
       "      <td>00:04</td>\n",
       "    </tr>\n",
       "    <tr>\n",
       "      <td>9</td>\n",
       "      <td>0.502073</td>\n",
       "      <td>0.565332</td>\n",
       "      <td>0.720848</td>\n",
       "      <td>00:04</td>\n",
       "    </tr>\n",
       "    <tr>\n",
       "      <td>10</td>\n",
       "      <td>0.493927</td>\n",
       "      <td>0.562153</td>\n",
       "      <td>0.729200</td>\n",
       "      <td>00:04</td>\n",
       "    </tr>\n",
       "    <tr>\n",
       "      <td>11</td>\n",
       "      <td>0.485441</td>\n",
       "      <td>0.566233</td>\n",
       "      <td>0.730164</td>\n",
       "      <td>00:04</td>\n",
       "    </tr>\n",
       "    <tr>\n",
       "      <td>12</td>\n",
       "      <td>0.475453</td>\n",
       "      <td>0.562822</td>\n",
       "      <td>0.726309</td>\n",
       "      <td>00:04</td>\n",
       "    </tr>\n",
       "    <tr>\n",
       "      <td>13</td>\n",
       "      <td>0.462412</td>\n",
       "      <td>0.566241</td>\n",
       "      <td>0.729200</td>\n",
       "      <td>00:04</td>\n",
       "    </tr>\n",
       "    <tr>\n",
       "      <td>14</td>\n",
       "      <td>0.449935</td>\n",
       "      <td>0.560351</td>\n",
       "      <td>0.730164</td>\n",
       "      <td>00:04</td>\n",
       "    </tr>\n",
       "    <tr>\n",
       "      <td>15</td>\n",
       "      <td>0.449875</td>\n",
       "      <td>0.568331</td>\n",
       "      <td>0.728879</td>\n",
       "      <td>00:05</td>\n",
       "    </tr>\n",
       "  </tbody>\n",
       "</table>"
      ],
      "text/plain": [
       "<IPython.core.display.HTML object>"
      ]
     },
     "metadata": {},
     "output_type": "display_data"
    }
   ],
   "source": [
    "learn.fit_one_cycle(16,1e-02)"
   ]
  },
  {
   "cell_type": "code",
   "execution_count": null,
   "metadata": {
    "Collapsed": "false"
   },
   "outputs": [],
   "source": []
  }
 ],
 "metadata": {
  "kernelspec": {
   "display_name": "Python (fastai)",
   "language": "python",
   "name": "fastai"
  },
  "language_info": {
   "codemirror_mode": {
    "name": "ipython",
    "version": 3
   },
   "file_extension": ".py",
   "mimetype": "text/x-python",
   "name": "python",
   "nbconvert_exporter": "python",
   "pygments_lexer": "ipython3",
   "version": "3.7.4"
  }
 },
 "nbformat": 4,
 "nbformat_minor": 4
}
