{
 "cells": [
  {
   "cell_type": "code",
   "execution_count": 1,
   "metadata": {
    "Collapsed": "false"
   },
   "outputs": [],
   "source": [
    "import pandas as pd\n",
    "import numpy as np\n",
    "pd.set_option('display.max_colwidth', -1)"
   ]
  },
  {
   "cell_type": "markdown",
   "metadata": {
    "Collapsed": "false"
   },
   "source": [
    "## Preparing data in the format for ner tags"
   ]
  },
  {
   "cell_type": "markdown",
   "metadata": {
    "Collapsed": "false"
   },
   "source": [
    "Original input data is in format :\n",
    "* Each input article was given in seperated text file (article id in text file name), for train and dev sets\n",
    "* With the same article id in label file , we get annotation of propaganda spans:\n",
    "    * article_id propaganda start_span end_span\n",
    "\n",
    "    * article id 1111 is present in article_1111.txt and label is present in article_1111_TC.txt \n",
    "         * article_1111.txt : Trump the white president say he likes black people working from him .\n",
    "         * article_1111_TC.txt : \n",
    "             * 1111 <propaganda type> 11 88\n",
    "\n",
    "    \n",
    "From this input we convert we covert the articles to files for each article ids , but in positions of span text , markings of start span and end span.This is done by using the scripts given by the competition organizer. For example : \n",
    "\n",
    " * the output after processing looks like \n",
    "    \n",
    "    article_1111.txt : Trump the <span-7> white president say he likes black people working from him. <7-/span> \n",
    "    \n",
    "    the id 7 comes from type of propaganda. each propaganda has been given a seperated id .\n",
    "    \n",
    "From the above output the following preprocessing turns this article id into seperate sentences each having ner like labels\n",
    "    \n",
    "Example \n",
    "    \n",
    "      file no : article_1111.txt\n",
    "      \n",
    "      Trump O\n",
    "      the O\n",
    "      white I \n",
    "      president I\n",
    "      say I\n",
    "      he I\n",
    "      likes I\n",
    "      black I\n",
    "      people I\n",
    "      working I\n",
    "      from I\n",
    "      him I\n",
    "      . I\n"
   ]
  },
  {
   "cell_type": "code",
   "execution_count": 2,
   "metadata": {
    "Collapsed": "false"
   },
   "outputs": [],
   "source": [
    "import pandas as pd\n",
    "import glob\n",
    "import swifter\n",
    "path = r'/data/semeval-2020/task-11/datasets/train-tagged_article/'\n",
    "all_files = glob.glob(path + \"/*.txt\")\n",
    "\n",
    "content_tuple = []\n",
    "\n",
    "for filename in all_files:\n",
    "    file = open(filename)\n",
    "    content = \"\".join(file.readlines()).replace(\"\\n\",\" \")\n",
    "    article_id = filename.split(\"article\")[-1].split(\".txt\")[0]\n",
    "    content_tuple.append((article_id,content))"
   ]
  },
  {
   "cell_type": "code",
   "execution_count": 3,
   "metadata": {
    "Collapsed": "false"
   },
   "outputs": [],
   "source": [
    "content_df = pd.DataFrame(content_tuple,columns=[\"article_id\",\"content\"])"
   ]
  },
  {
   "cell_type": "code",
   "execution_count": 4,
   "metadata": {
    "Collapsed": "false"
   },
   "outputs": [
    {
     "data": {
      "text/html": [
       "<div>\n",
       "<style scoped>\n",
       "    .dataframe tbody tr th:only-of-type {\n",
       "        vertical-align: middle;\n",
       "    }\n",
       "\n",
       "    .dataframe tbody tr th {\n",
       "        vertical-align: top;\n",
       "    }\n",
       "\n",
       "    .dataframe thead th {\n",
       "        text-align: right;\n",
       "    }\n",
       "</style>\n",
       "<table border=\"1\" class=\"dataframe\">\n",
       "  <thead>\n",
       "    <tr style=\"text-align: right;\">\n",
       "      <th></th>\n",
       "      <th>article_id</th>\n",
       "      <th>content</th>\n",
       "    </tr>\n",
       "  </thead>\n",
       "  <tbody>\n",
       "    <tr>\n",
       "      <td>0</td>\n",
       "      <td>762956953</td>\n",
       "      <td>Iran Admits To Aiding Al-Qaeda and Facilitating 9/11 Jihad Terror Attacks  This has long been known, although the mainstream media dismissed it as a conspiracy theory. But now we have definitive confirmation. It was Iran Bush should have invaded after 9/11 , not Iraq. Now consider this: even though, as President of the United States, Barack Obama had access to information that the general public does not have, and certainly knew of Iran’s involvement in the 9/11 attacks, Obama still pursued the Iran nuclear deal and gave billions to the Islamic Republic. The Iran nuclear deal should never have proceeded — President Obama, &lt;span-6 the worst president in American history 6-/span&gt; . “Iran Admits To Facilitating 9/11 Terror Attacks,” by Adam Kredo, Washington Free Beacon, June 8, 2018: Iranian officials, in a first, have admitted to facilitating the 9/11 terrorist attacks in the U.S. by secretly aiding the free travel of al Qaeda operatives who eventually went on to fly commercial airliners into the Twin Towers in New York City, according to new remarks from a senior Iranian official. Mohammad-Javad Larijani, an international affairs assistant in the Iran’s judiciary, disclosed in Farsi-language remarks broadcast on Iran’s state-controlled television that Iranian intelligence officials secretly helped provide the al Qaeda attackers with passage and gave them refuge in the Islamic Republic, according to an English translation published by Al Arabiya. “Our government agreed not to stamp the passports of some of them because they were on transit flights for two hours, and they were resuming their flights without having their passports stamped. However their movements were under the complete supervision of the Iranian intelligence,” Larijani was quoted as saying. The remarks represent the first time senior Iranian officials have publicly admitted to aiding al Qaeda and playing a direct role in facilitating the 9/11 attacks. The U.S. government has long accused Iran of playing a role in the attacks and even fined the Islamic Republic billions as a result. The U.S. 9/11 Commission assembled to investigate the attacks concluded that Iran played a role in facilitating the al Qaeda terrorists. Larijani admitted that Iranian officials did not stamp the passports of the al Qaeda militants in order to obfuscate their movements and prevent detection by foreign governments. Al Qaeda operative also were given safe refuge in Iran…. Article posted with permission from Pamela Geller</td>\n",
       "    </tr>\n",
       "    <tr>\n",
       "      <td>1</td>\n",
       "      <td>787529309</td>\n",
       "      <td>The Last-Minute &lt;span-11 Character Assassination  11-/span&gt;of Judge Kavanaugh  Using any &lt;span-8 despicable tactic  8-/span&gt;at hand to derail Judge Brett Kavanaugh’s Supreme Court confirmation less than a week before the Senate Judiciary Committee is scheduled to vote on whether to approve his nomination, Senate Democrats &lt;span-8 have sunk to their lowest level  8-/span&gt;of &lt;span-11 character assassination  11-/span&gt;yet. They have resorted to peddling an allegation of sexual misconduct against Judge Kavanaugh that supposedly occurred while the judge was in high school. The accuser had refused to identify herself before and during the Senate Judiciary Committee hearings. She conveniently waited until this Sunday to come forward via an on-the-record interview with the Washington Post. The accuser’s name is Christine Blasey Ford, a registered Democrat who is currently a California professor teaching clinical psychology. Judge Kavanaugh issued a statement on Friday in which he said, \"I &lt;span-8 categorically and unequivocally deny  8-/span&gt;this allegation. I did not do this back in high school or at any time.\" Senator Dianne Feinstein (D-Calif.), the ranking Democrat on the Senate Judiciary Committee that heard Judge Kavanaugh’s public testimony earlier this month during his Supreme Court confirmation hearing, had received last July a copy of a letter written by the woman making the charge, who we now know was Ms. Ford. Even though Senator Feinstein had the letter in hand, she never brought up the charge during the public hearing, nor during her own meeting with the judge. Instead, Senator Feinstein sat on the letter until late last week, when she issued a cryptic release stating that she had received the letter but did not want to give more details in deference to the woman’s wish to keep the matter confidential. Senator Feinstein turned the letter over to the FBI. The FBI placed the letter in its background file on Judge Kavanaugh but decided not to pursue any further investigation. Senator Feinstein had initially resisted sharing the contents of the letter with her fellow Democrat members of the Senate Judiciary Committee or to go public with its existence because “the incident was too distant in the past to merit public discussion” and she had already “taken care of it,” according to a source quoted by The New Yorker. Nevertheless, Senator Feinstein evidently bowed to pressure from her &lt;span-9 leftist colleagues  9-/span&gt;to find a way to insert the allegation into the &lt;span-8 cesspool of public gossip  8-/span&gt;at the eleventh hour. The New Yorker article, written before Ms. Ford publicly identified herself, provided some details regarding her allegation. However, now Ms. Ford has decided to do what she called her “civic responsibility” and tell her own story publicly. &lt;span-8 How convenient 8-/span&gt;, coming just 4 days before the scheduled Senate Judiciary Committee vote! The whole sequence of events surrounding how this allegation has suddenly come to light &lt;span-8 reeks  8-/span&gt;of a set-up, reminiscent of how Anita Hill surfaced in a last-minute attempt to derail Justice Clarence Thomas's Supreme Court confirmation. Christine Blasey Ford claims, according to the Washington Post article, that “one summer in the early 1980s, Kavanaugh and a friend — both ‘&lt;span-8 stumbling drunk 8-/span&gt;,’ Ford alleges — corralled her into a bedroom during a gathering of teenagers at a house in Montgomery County. While his friend watched, she said, Kavanaugh pinned her to a bed on her back and groped her over her clothes, grinding his body against hers and clumsily attempting to pull off her one-piece bathing suit and the clothing she wore over it. When she tried to scream, she said, he put his hand over her mouth. ‘I thought he might inadvertently kill me,’ said Ford. ‘He was trying to attack me and remove my clothing.’” Ms. Ford said she was able to escape the room and go home without any apparent further incident after “Kavanaugh’s friend and classmate at Georgetown Preparatory School, Mark Judge, jumped on top of them, sending all three tumbling.” Here is where Ms. Ford’s story becomes quite murky and begins to fall apart. Although Ms. Ford believes the alleged incident occurred during the summer of 1982, she “said she does not remember some key details of the incident,” according to the Washington Post article. For example, Ms. Ford “said she does not remember how the gathering came together the night of the incident.” She also does not remember how she got home. Yet she claims to be absolutely certain that Kavanaugh, whom she presumably knew only as an acquaintance and said she had not spoken to since the night the incident allegedly occurred, was involved in the alleged incident. Ms. Ford admitted that she “told no one at the time what had happened to her.” In fact, she said she recalled thinking: “I’m not ever telling anyone this. This is nothing, it didn’t happen, and he didn’t rape me.” Even if one explains this behavior as the natural reaction of a frightened teenager to a highly traumatic incident, that does not explain why, by her own admission, she “told no one of the incident in any detail until 2012, when she was in couples therapy with her husband,” according to the Washington Post article. Most revealingly, the article reported on a &lt;span-8 gaping hole in the therapist’s notes 8-/span&gt;, portions of which were provided by Ms. Ford for the Washington Post’s review. The therapist’s notes “do not mention Kavanaugh’s name but say she reported that she was attacked by students ‘from an &lt;span-9 elitist boys’ school 9-/span&gt;’ who went on to become ‘highly respected and high-ranking members of society in Washington.’” In other words, the only written documentation Ms. Ford has offered in support of her allegation about the incident she said took place while she was in high school – a therapist’s notes of a couples therapy session occurring 30 years after the alleged incident – did not mention Judge Kavanaugh’s name. Judge Kavanaugh has had extensive background checks performed on him in the past for his various federal government positions, including for his current position as a federal appellate court judge, without the accusation ever having surfaced. &lt;span-5 Ms. Ford may believe her story to be true, but the lack of any credible corroborating evidence, her partial memory of details surrounding the alleged incident, and the absence of any pattern of such sexual misconduct by Judge Kavanaugh undercut the reliability of her version of the incident 5-/span&gt;. In a letter addressed to Senate Judiciary Committee Chairman Charles Grassley (R-Iowa) and Senator Feinstein, 65 women who said they knew Judge Kavanaugh in high school vouched for his character: We are women who have known Brett Kavanaugh for more than 35 years and knew him while he attended high school between 1979 and 1983. &lt;span-0 For the entire time we have known Brett Kavanaugh, he has behaved honorably and treated women with respect 0-/span&gt;… Brett attended Georgetown Prep, an all-boys high school in Rockville, Maryland. He was an outstanding student and athlete with a wide circle of friends. Almost all of us attended all-girls high schools in the area. We knew Brett well through social events, sports, church, and various other activities. Many of us have remained close friends with him and his family over the years. Through the more than 35 years we have known him, Brett has stood out for his friendship, character, and integrity. In particular, he has always treated women with decency and respect. That was true when he was in high school, and it has remained true to this day. The signers of this letter hold a broad range of political views. Many of us are not lawyers, but we know Brett Kavanaugh as a person. And he has always been a good person. Nevertheless, using &lt;span-8 their standard contemptible, obstructionist tactics 8-/span&gt;, the Democrats opposed to Judge Kavanaugh happily seized on the unsubstantiated allegation of teen sexual misbehavior in high school to &lt;span-11 assassinate Judge Kavanaugh’s character 11-/span&gt;. They have done so in the face of Judge Kavanaugh’s lifetime record of stellar public service, multiple background checks producing no evidence of sexual misconduct, and the letter written by the 65 women, who knew him when he was in high school and thereafter and who signed their names to a ringing endorsement of his good character. Feminists &lt;span-4 gave the &lt;span-9 serial sexual predator 9-/span&gt;Bill Clinton a free pass because his policies were in line with their ideology 4-/span&gt;. Senator Feinstein called &lt;span-9 Ted “Chappaquiddick” Kennedy  9-/span&gt;an \"inspiration and a friend,\" presumably also based on their compatible ideologies. Hypocritically exploiting an unsubstantiated allegation of decades-old purported teenage sexual mischief, Democrats &lt;span-8 seeking to torpedo  8-/span&gt;Judge Kavanaugh’s Supreme Court confirmation for ideological reasons have debased themselves with a &lt;span-8 shameless smear campaign  8-/span&gt;against an eminently qualified candidate for the Supreme Court. Predictably, Senate Minority Leader Charles Schumer (D-N.Y.) and other Democrats, including Senator Feinstein, have called for the Senate to postpone a vote on Judge Kavanaugh. \"Senator Grassley must postpone the vote until, at a very minimum, these serious and credible allegations are thoroughly investigated,” Senator Schumer said. If a thorough investigation was considered to be so important, &lt;span-5 why didn't Senator Feinstein set the ball rolling back in July when she first received word of the allegation 5-/span&gt;? The answer is that &lt;span-4 this is all a ruse to block Judge Kavanaugh's confirmation by all means necessary 4-/span&gt;. Senator Schumer is fulfilling his promise to oppose Judge Kavanaugh with \"everything I've got.\" As of now, the Senate Judiciary Committee Republican majority plans to move forward with Judge Kavanaugh's nomination as scheduled. It is time for the Democrat obstructionists to &lt;span-8 slink back into their shadowy corner 8-/span&gt;.</td>\n",
       "    </tr>\n",
       "    <tr>\n",
       "      <td>2</td>\n",
       "      <td>999001296</td>\n",
       "      <td>Altered Election Documents Tied To Florida Democrats Reviewed By Federal Prosecutors  &lt;span-8 It is high time  8-/span&gt;that this begin. The Democrats are committing voter fraud &lt;span-6 on a &lt;span-8 massive 8-/span&gt;scale 6-/span&gt;, and not only in Florida, but in Arizona, Georgia, California and elsewhere. In Arizona, it is already over, and &lt;span-9 a pro-jihad Marxist Democrat  9-/span&gt;who lost the election will be going to the Senate. In Florida, &lt;span-7 the Democrats are likewise working feverishly to overturn the will of the people 7-/span&gt;. &lt;span-6 They are &lt;span-8 insane 8-/span&gt;in their lust for power, and will destroy even our democratic system to get it 6-/span&gt;. “Federal prosecutors reviewing altered election documents tied to Florida Democrats,” by Matt Dixon, Politico, November 14, 2018: TALLAHASSEE — The Florida Department of State last week asked federal prosecutors to investigate dates that were changed on official state election documents, the first voting “irregularities” it has flagged in the wake of the 2018 elections. take our poll - story continues below Should Jim Acosta have gotten his press pass back? Should Jim Acosta have gotten his press pass back? Should Jim Acosta have gotten his press pass back? * Yes, he should have gotten it back. No, you can't act like a child and keep your pass. Maybe? I'm not sure if he should have. Email * Name This field is for validation purposes and should be left unchanged. Completing this poll grants you access to Freedom Outpost updates free of charge. You may opt out at anytime. You also agree to this site's Privacy Policy and Terms of Use. The concerns, which the department says can be tied to the Florida Democratic Party, center around date changes on forms used to fix vote-by-mail ballots sent with incorrect or missing information. Known as “cure affidavits,” those documents used to fix mail ballots were due no later than 5 p.m. on Nov. 5 — the day before the election. But affidavits released on Tuesday by the DOS show that documents from four different counties said the ballots could be returned by 5 p.m. on Thursday, which is not accurate. Audio of a Florida Democratic Party caller leaving a voicemail message asking a Palm Beach County voter to fix their vote by mail ballot after Election Day, which is not allowed, was also sent to POLITICO separately. It was not part of the information turned over to federal prosecutors. Among the counties in question is Broward, which emerged as the epicenter of controversy as three statewide races and three local legislative races went into recounts following the Nov. 6 elections. &lt;span-5 Republicans have pointed to &lt;span-9 embattled Broward Elections chief Brenda Snipes9-/span&gt;’ record of &lt;span-8 past election gaffes 8-/span&gt;in arguing that the largely Democratic country is tilted against them — perhaps fraudulently so 5-/span&gt;. DOS officials have repeatedly told the media that the monitors they sent to Broward County saw no election fraud. It wasn’t until Tuesday that the office revealed publicly that it had turned over information to federal prosecutors. &lt;span-0 The information was sent on Nov. 9 by Bradley McVay, DOS’ interim general counsel, who asked that the altered dates be investigated. “Altering a form in a manner that provides the incorrect date for a voter to cure a defect … imposes a burden on the voter significant enough to frustrate the voter’s ability to vote,” McVay wrote in a letter that was sent Nov. 9 and released publicly on Tuesday 0-/span&gt;. The letter was sent to U.S. Attorneys Christopher P. Canova of the Northern District of Florida, Maria Chapa Lopez of the Middle District of Florida and Ariana Fajardo Orshan in the Southern District of Florida. The records released by DOS, which is part of Gov. Rick Scott’s administration, &lt;span-8 point the finger  8-/span&gt;at the Florida Democratic Party. Political parties can get daily lists of people who had their mail-in ballots rejected. Political parties — or anyone else — can also get the publicly available cure affidavits and send them to voters who had a mail-in ballot rejected to encourage them to fix the ballots. In an email chain released as part of the Department of State’s Tuesday document dump, Citrus County Supervisor of Elections Susan Gill last week told DOS officials that a voter who received one of the cure affidavits with the wrong date had also received a call from a number identified as the Tallahassee office of the Florida Democratic Party, an indication the party was reaching out about her vote by mail ballot. “When I called it, it is the Democratic Party of Florida,” she said in a Nov. 8 email to DOS officials. She went on to write that she thinks the incorrect date was used because whoever sent the cure affidavit mixed up the deadline for cure affidavits with the deadline for provisional ballots. But, she said, “&lt;span-13 a bigger problem is the fact they actually changed one of the DOE forms 13-/span&gt;.”…</td>\n",
       "    </tr>\n",
       "  </tbody>\n",
       "</table>\n",
       "</div>"
      ],
      "text/plain": [
       "  article_id  \\\n",
       "0  762956953   \n",
       "1  787529309   \n",
       "2  999001296   \n",
       "\n",
       "                                                                                                                                                                                                                                                                                                                                                                                                                                                                                                                                                                                                                                                                                                                                                                                                                                                                                                                                                                                                                                                                                                                                                                                                                                                                                                                                                                                                                                                                                                                                                                                                                                                                                                                                                                                                                                                                                                                                                                                                                                                                                                                                                                                                                                                                                                                                                                                                                                                                                                                                                                                                                                                                                                                                                                                                                                                                                                                                                                                                                                                                                                                                                                                                                                                                                                                                                                                                                                                                                                                                                                                                                                                                                                                                                                                                                                                                                                                                                                                                                                                                                                                                                                                                                                                                                                                                                                                                                                                                                                                                                                                                                                                                                                                                                                                                                                                                                                                                                                                                                                                                                                                                                                                                                                                                                                                                                                                                                                                                                                                                                                                                                                                                                                                                                                                                                                                                                                                                                                                                                                                                                                                                                                                                                                                                                                                                                                                                                                                                                                                                                                                                                                                                                                                                                                                                                                                                                                                                                                                                                                                                                                                                                                                                                                                                                                                                                                                                                                                                                                                                                                                                                                                                                                                                                                                                                                                                                                                                                                                                                                                                                                                                                                                                                                                                                                                                                                                                                                                                                                                                                                                                                                                                                                                                                                                                                                                                                                                                                                                                                                                                                                                                                                                                                                                                                                                                                                                                                                                                                                                                                                                                                                                                                                                                                                                                                                                                                                                                                                                                                                                                                                                                                                                                                                                                                                                                                                                                                                                                                                                            content  \n",
       "0  Iran Admits To Aiding Al-Qaeda and Facilitating 9/11 Jihad Terror Attacks  This has long been known, although the mainstream media dismissed it as a conspiracy theory. But now we have definitive confirmation. It was Iran Bush should have invaded after 9/11 , not Iraq. Now consider this: even though, as President of the United States, Barack Obama had access to information that the general public does not have, and certainly knew of Iran’s involvement in the 9/11 attacks, Obama still pursued the Iran nuclear deal and gave billions to the Islamic Republic. The Iran nuclear deal should never have proceeded — President Obama, <span-6 the worst president in American history 6-/span> . “Iran Admits To Facilitating 9/11 Terror Attacks,” by Adam Kredo, Washington Free Beacon, June 8, 2018: Iranian officials, in a first, have admitted to facilitating the 9/11 terrorist attacks in the U.S. by secretly aiding the free travel of al Qaeda operatives who eventually went on to fly commercial airliners into the Twin Towers in New York City, according to new remarks from a senior Iranian official. Mohammad-Javad Larijani, an international affairs assistant in the Iran’s judiciary, disclosed in Farsi-language remarks broadcast on Iran’s state-controlled television that Iranian intelligence officials secretly helped provide the al Qaeda attackers with passage and gave them refuge in the Islamic Republic, according to an English translation published by Al Arabiya. “Our government agreed not to stamp the passports of some of them because they were on transit flights for two hours, and they were resuming their flights without having their passports stamped. However their movements were under the complete supervision of the Iranian intelligence,” Larijani was quoted as saying. The remarks represent the first time senior Iranian officials have publicly admitted to aiding al Qaeda and playing a direct role in facilitating the 9/11 attacks. The U.S. government has long accused Iran of playing a role in the attacks and even fined the Islamic Republic billions as a result. The U.S. 9/11 Commission assembled to investigate the attacks concluded that Iran played a role in facilitating the al Qaeda terrorists. Larijani admitted that Iranian officials did not stamp the passports of the al Qaeda militants in order to obfuscate their movements and prevent detection by foreign governments. Al Qaeda operative also were given safe refuge in Iran…. Article posted with permission from Pamela Geller                                                                                                                                                                                                                                                                                                                                                                                                                                                                                                                                                                                                                                                                                                                                                                                                                                                                                                                                                                                                                                                                                                                                                                                                                                                                                                                                                                                                                                                                                                                                                                                                                                                                                                                                                                                                                                                                                                                                                                                                                                                                                                                                                                                                                                                                                                                                                                                                                                                                                                                                                                                                                                                                                                                                                                                                                                                                                                                                                                                                                                                                                                                                                                                                                                                                                                                                                                                                                                                                                                                                                                                                                                                                                                                                                                                                                                                                                                                                                                                                                                                                                                                                                                                                                                                                                                                                                                                                                                                                                                                                                                                                                                                                                                                                                                                                                                                                                                                                                                                                                                                                                                                                                                                                                                                                                                                                                                                                                                                                                                                                                                                                                                                                                                                                                                                                                                                                                                                                                                                                                                                                                                                                                                                                                                                                                                                                                                                                                                                                                                                                                                                                                                                                                                                                                                                                                                                                                                                                                                                                                                                                                                                                                                                                                                                                                                                                                                                                                                                                                                                                                                                                                                                                                                                                                                                                                                                                                                                         \n",
       "1  The Last-Minute <span-11 Character Assassination  11-/span>of Judge Kavanaugh  Using any <span-8 despicable tactic  8-/span>at hand to derail Judge Brett Kavanaugh’s Supreme Court confirmation less than a week before the Senate Judiciary Committee is scheduled to vote on whether to approve his nomination, Senate Democrats <span-8 have sunk to their lowest level  8-/span>of <span-11 character assassination  11-/span>yet. They have resorted to peddling an allegation of sexual misconduct against Judge Kavanaugh that supposedly occurred while the judge was in high school. The accuser had refused to identify herself before and during the Senate Judiciary Committee hearings. She conveniently waited until this Sunday to come forward via an on-the-record interview with the Washington Post. The accuser’s name is Christine Blasey Ford, a registered Democrat who is currently a California professor teaching clinical psychology. Judge Kavanaugh issued a statement on Friday in which he said, \"I <span-8 categorically and unequivocally deny  8-/span>this allegation. I did not do this back in high school or at any time.\" Senator Dianne Feinstein (D-Calif.), the ranking Democrat on the Senate Judiciary Committee that heard Judge Kavanaugh’s public testimony earlier this month during his Supreme Court confirmation hearing, had received last July a copy of a letter written by the woman making the charge, who we now know was Ms. Ford. Even though Senator Feinstein had the letter in hand, she never brought up the charge during the public hearing, nor during her own meeting with the judge. Instead, Senator Feinstein sat on the letter until late last week, when she issued a cryptic release stating that she had received the letter but did not want to give more details in deference to the woman’s wish to keep the matter confidential. Senator Feinstein turned the letter over to the FBI. The FBI placed the letter in its background file on Judge Kavanaugh but decided not to pursue any further investigation. Senator Feinstein had initially resisted sharing the contents of the letter with her fellow Democrat members of the Senate Judiciary Committee or to go public with its existence because “the incident was too distant in the past to merit public discussion” and she had already “taken care of it,” according to a source quoted by The New Yorker. Nevertheless, Senator Feinstein evidently bowed to pressure from her <span-9 leftist colleagues  9-/span>to find a way to insert the allegation into the <span-8 cesspool of public gossip  8-/span>at the eleventh hour. The New Yorker article, written before Ms. Ford publicly identified herself, provided some details regarding her allegation. However, now Ms. Ford has decided to do what she called her “civic responsibility” and tell her own story publicly. <span-8 How convenient 8-/span>, coming just 4 days before the scheduled Senate Judiciary Committee vote! The whole sequence of events surrounding how this allegation has suddenly come to light <span-8 reeks  8-/span>of a set-up, reminiscent of how Anita Hill surfaced in a last-minute attempt to derail Justice Clarence Thomas's Supreme Court confirmation. Christine Blasey Ford claims, according to the Washington Post article, that “one summer in the early 1980s, Kavanaugh and a friend — both ‘<span-8 stumbling drunk 8-/span>,’ Ford alleges — corralled her into a bedroom during a gathering of teenagers at a house in Montgomery County. While his friend watched, she said, Kavanaugh pinned her to a bed on her back and groped her over her clothes, grinding his body against hers and clumsily attempting to pull off her one-piece bathing suit and the clothing she wore over it. When she tried to scream, she said, he put his hand over her mouth. ‘I thought he might inadvertently kill me,’ said Ford. ‘He was trying to attack me and remove my clothing.’” Ms. Ford said she was able to escape the room and go home without any apparent further incident after “Kavanaugh’s friend and classmate at Georgetown Preparatory School, Mark Judge, jumped on top of them, sending all three tumbling.” Here is where Ms. Ford’s story becomes quite murky and begins to fall apart. Although Ms. Ford believes the alleged incident occurred during the summer of 1982, she “said she does not remember some key details of the incident,” according to the Washington Post article. For example, Ms. Ford “said she does not remember how the gathering came together the night of the incident.” She also does not remember how she got home. Yet she claims to be absolutely certain that Kavanaugh, whom she presumably knew only as an acquaintance and said she had not spoken to since the night the incident allegedly occurred, was involved in the alleged incident. Ms. Ford admitted that she “told no one at the time what had happened to her.” In fact, she said she recalled thinking: “I’m not ever telling anyone this. This is nothing, it didn’t happen, and he didn’t rape me.” Even if one explains this behavior as the natural reaction of a frightened teenager to a highly traumatic incident, that does not explain why, by her own admission, she “told no one of the incident in any detail until 2012, when she was in couples therapy with her husband,” according to the Washington Post article. Most revealingly, the article reported on a <span-8 gaping hole in the therapist’s notes 8-/span>, portions of which were provided by Ms. Ford for the Washington Post’s review. The therapist’s notes “do not mention Kavanaugh’s name but say she reported that she was attacked by students ‘from an <span-9 elitist boys’ school 9-/span>’ who went on to become ‘highly respected and high-ranking members of society in Washington.’” In other words, the only written documentation Ms. Ford has offered in support of her allegation about the incident she said took place while she was in high school – a therapist’s notes of a couples therapy session occurring 30 years after the alleged incident – did not mention Judge Kavanaugh’s name. Judge Kavanaugh has had extensive background checks performed on him in the past for his various federal government positions, including for his current position as a federal appellate court judge, without the accusation ever having surfaced. <span-5 Ms. Ford may believe her story to be true, but the lack of any credible corroborating evidence, her partial memory of details surrounding the alleged incident, and the absence of any pattern of such sexual misconduct by Judge Kavanaugh undercut the reliability of her version of the incident 5-/span>. In a letter addressed to Senate Judiciary Committee Chairman Charles Grassley (R-Iowa) and Senator Feinstein, 65 women who said they knew Judge Kavanaugh in high school vouched for his character: We are women who have known Brett Kavanaugh for more than 35 years and knew him while he attended high school between 1979 and 1983. <span-0 For the entire time we have known Brett Kavanaugh, he has behaved honorably and treated women with respect 0-/span>… Brett attended Georgetown Prep, an all-boys high school in Rockville, Maryland. He was an outstanding student and athlete with a wide circle of friends. Almost all of us attended all-girls high schools in the area. We knew Brett well through social events, sports, church, and various other activities. Many of us have remained close friends with him and his family over the years. Through the more than 35 years we have known him, Brett has stood out for his friendship, character, and integrity. In particular, he has always treated women with decency and respect. That was true when he was in high school, and it has remained true to this day. The signers of this letter hold a broad range of political views. Many of us are not lawyers, but we know Brett Kavanaugh as a person. And he has always been a good person. Nevertheless, using <span-8 their standard contemptible, obstructionist tactics 8-/span>, the Democrats opposed to Judge Kavanaugh happily seized on the unsubstantiated allegation of teen sexual misbehavior in high school to <span-11 assassinate Judge Kavanaugh’s character 11-/span>. They have done so in the face of Judge Kavanaugh’s lifetime record of stellar public service, multiple background checks producing no evidence of sexual misconduct, and the letter written by the 65 women, who knew him when he was in high school and thereafter and who signed their names to a ringing endorsement of his good character. Feminists <span-4 gave the <span-9 serial sexual predator 9-/span>Bill Clinton a free pass because his policies were in line with their ideology 4-/span>. Senator Feinstein called <span-9 Ted “Chappaquiddick” Kennedy  9-/span>an \"inspiration and a friend,\" presumably also based on their compatible ideologies. Hypocritically exploiting an unsubstantiated allegation of decades-old purported teenage sexual mischief, Democrats <span-8 seeking to torpedo  8-/span>Judge Kavanaugh’s Supreme Court confirmation for ideological reasons have debased themselves with a <span-8 shameless smear campaign  8-/span>against an eminently qualified candidate for the Supreme Court. Predictably, Senate Minority Leader Charles Schumer (D-N.Y.) and other Democrats, including Senator Feinstein, have called for the Senate to postpone a vote on Judge Kavanaugh. \"Senator Grassley must postpone the vote until, at a very minimum, these serious and credible allegations are thoroughly investigated,” Senator Schumer said. If a thorough investigation was considered to be so important, <span-5 why didn't Senator Feinstein set the ball rolling back in July when she first received word of the allegation 5-/span>? The answer is that <span-4 this is all a ruse to block Judge Kavanaugh's confirmation by all means necessary 4-/span>. Senator Schumer is fulfilling his promise to oppose Judge Kavanaugh with \"everything I've got.\" As of now, the Senate Judiciary Committee Republican majority plans to move forward with Judge Kavanaugh's nomination as scheduled. It is time for the Democrat obstructionists to <span-8 slink back into their shadowy corner 8-/span>.   \n",
       "2  Altered Election Documents Tied To Florida Democrats Reviewed By Federal Prosecutors  <span-8 It is high time  8-/span>that this begin. The Democrats are committing voter fraud <span-6 on a <span-8 massive 8-/span>scale 6-/span>, and not only in Florida, but in Arizona, Georgia, California and elsewhere. In Arizona, it is already over, and <span-9 a pro-jihad Marxist Democrat  9-/span>who lost the election will be going to the Senate. In Florida, <span-7 the Democrats are likewise working feverishly to overturn the will of the people 7-/span>. <span-6 They are <span-8 insane 8-/span>in their lust for power, and will destroy even our democratic system to get it 6-/span>. “Federal prosecutors reviewing altered election documents tied to Florida Democrats,” by Matt Dixon, Politico, November 14, 2018: TALLAHASSEE — The Florida Department of State last week asked federal prosecutors to investigate dates that were changed on official state election documents, the first voting “irregularities” it has flagged in the wake of the 2018 elections. take our poll - story continues below Should Jim Acosta have gotten his press pass back? Should Jim Acosta have gotten his press pass back? Should Jim Acosta have gotten his press pass back? * Yes, he should have gotten it back. No, you can't act like a child and keep your pass. Maybe? I'm not sure if he should have. Email * Name This field is for validation purposes and should be left unchanged. Completing this poll grants you access to Freedom Outpost updates free of charge. You may opt out at anytime. You also agree to this site's Privacy Policy and Terms of Use. The concerns, which the department says can be tied to the Florida Democratic Party, center around date changes on forms used to fix vote-by-mail ballots sent with incorrect or missing information. Known as “cure affidavits,” those documents used to fix mail ballots were due no later than 5 p.m. on Nov. 5 — the day before the election. But affidavits released on Tuesday by the DOS show that documents from four different counties said the ballots could be returned by 5 p.m. on Thursday, which is not accurate. Audio of a Florida Democratic Party caller leaving a voicemail message asking a Palm Beach County voter to fix their vote by mail ballot after Election Day, which is not allowed, was also sent to POLITICO separately. It was not part of the information turned over to federal prosecutors. Among the counties in question is Broward, which emerged as the epicenter of controversy as three statewide races and three local legislative races went into recounts following the Nov. 6 elections. <span-5 Republicans have pointed to <span-9 embattled Broward Elections chief Brenda Snipes9-/span>’ record of <span-8 past election gaffes 8-/span>in arguing that the largely Democratic country is tilted against them — perhaps fraudulently so 5-/span>. DOS officials have repeatedly told the media that the monitors they sent to Broward County saw no election fraud. It wasn’t until Tuesday that the office revealed publicly that it had turned over information to federal prosecutors. <span-0 The information was sent on Nov. 9 by Bradley McVay, DOS’ interim general counsel, who asked that the altered dates be investigated. “Altering a form in a manner that provides the incorrect date for a voter to cure a defect … imposes a burden on the voter significant enough to frustrate the voter’s ability to vote,” McVay wrote in a letter that was sent Nov. 9 and released publicly on Tuesday 0-/span>. The letter was sent to U.S. Attorneys Christopher P. Canova of the Northern District of Florida, Maria Chapa Lopez of the Middle District of Florida and Ariana Fajardo Orshan in the Southern District of Florida. The records released by DOS, which is part of Gov. Rick Scott’s administration, <span-8 point the finger  8-/span>at the Florida Democratic Party. Political parties can get daily lists of people who had their mail-in ballots rejected. Political parties — or anyone else — can also get the publicly available cure affidavits and send them to voters who had a mail-in ballot rejected to encourage them to fix the ballots. In an email chain released as part of the Department of State’s Tuesday document dump, Citrus County Supervisor of Elections Susan Gill last week told DOS officials that a voter who received one of the cure affidavits with the wrong date had also received a call from a number identified as the Tallahassee office of the Florida Democratic Party, an indication the party was reaching out about her vote by mail ballot. “When I called it, it is the Democratic Party of Florida,” she said in a Nov. 8 email to DOS officials. She went on to write that she thinks the incorrect date was used because whoever sent the cure affidavit mixed up the deadline for cure affidavits with the deadline for provisional ballots. But, she said, “<span-13 a bigger problem is the fact they actually changed one of the DOE forms 13-/span>.”…                                                                                                                                                                                                                                                                                                                                                                                                                                                                                                                                                                                                                                                                                                                                                                                                                                                                                                                                                                                                                                                                                                                                                                                                                                                                                                                                                                                                                                                                                                                                                                                                                                                                                                                                                                                                                                                                                                                                                                                                                                                                                                                                                                                                                                                                                                                                                                                                                                                                                                                                                                                                                                                                                                                                                                                                                                                                                                                                                                                                                                                                                                                                                                                                                                                                                                                                                                                                                                                                                                                                                                                                                                                                                                                                                                                                                                                                                                                                                                                                                                                                                                                                                                                                                                                                                                                                                                                                                                                                                                                                                                                                                                                                                                                                                                                                                                                                                                                                                                                                                                                                                                                                                                                                                                                                                                                                              "
      ]
     },
     "execution_count": 4,
     "metadata": {},
     "output_type": "execute_result"
    }
   ],
   "source": [
    "content_df.head(3)"
   ]
  },
  {
   "cell_type": "code",
   "execution_count": 5,
   "metadata": {
    "Collapsed": "false"
   },
   "outputs": [
    {
     "data": {
      "text/plain": [
       "'ICE arrests 20 in Kansas City during 4-day operation targeting criminal aliens  KANSAS CITY, Mo. — Federal officers with U.S. Immigration and Customs Enforcement’s (ICE) Enforcement and Removal Operations (ERO) arrested 20 criminal aliens and immigration violators in the Kansas City metro area during a four-day enforcement operation, which ended Thursday. During this operation, ERO deportation officers made arrests in the following Missouri cities: St. Joseph (6), Belton (1), Blue Springs (1), Independence (2) and Kansas City (6). ICE officers also made arrests in the Kansas cities of Olathe (3) and Lawrence (1). Fifteen men and five women, ages ranging 18-61, were arrested. Aliens arrested during this operation are from the following countries: Brazil (1), El Salvador (3), Guatemala (6), Honduras (1), Mexico (7), Romania (1) and Sierra Leone (1). Several of the aliens targeted by ERO deportation officers during this operation had prior criminal histories that included driving under the influence, child neglect, child abuse, drug offenses, fraud and larceny. Four of these were arrested for illegally re-entering the United States after having been deported, which is a felony. Two overstayed lawful visits to the U.S. All were amenable to arrest and removal under the U.S. Immigration and Nationality Act. The following are criminal summaries of some of the offenders arrested in the Kansas City area during this operation: A 55-year-old, Mexican citizen who overstayed a lawful visit to the U.S. by more than 12 years. She was arrested Feb. 26, 2018 in Johnson County Kansas. She was previously convicted of child neglect and was sentenced to a year in jail. She is currently in ICE custody pending removal proceedings. On Feb. 28, 2018, a 38-year-old Mexican citizen was arrested in Olathe, Kansas. He has a 2012 conviction for fraud. He was issued a warrant of removal and was placed in ICE custody pending removal from the United States. Depending on an alien’s criminality, an alien who re-enters the United States after having been previously deported commits a felony punishable by up to 20 years in federal prison, if convicted. “The continued results of our deportation officers underscore <span-0 <span-10 ICE’s ongoing and steady commitment to public safety,”0-/span> 10-/span> said Ricardo Wong, field office director for ERO Chicago. “As part of this operation, <span-10 we continue focus on the arrest of individuals who are criminal aliens and public safety threats. 10-/span> <span-6 Because of the tireless efforts of these professional officers, there are fewer criminals in our communities.” 6-/span> '"
      ]
     },
     "execution_count": 5,
     "metadata": {},
     "output_type": "execute_result"
    }
   ],
   "source": [
    "from spacy.tokenizer import Tokenizer\n",
    "from spacy.lang.en import English   # updated , \n",
    "nlp = English()\n",
    "nlp.add_pipe(nlp.create_pipe('sentencizer')) # updated\n",
    "tokenizer = Tokenizer(nlp.vocab)\n",
    "\n",
    "content_df[content_df[\"article_id\"] == \"735855251\"].content[30]"
   ]
  },
  {
   "cell_type": "code",
   "execution_count": 6,
   "metadata": {
    "Collapsed": "false"
   },
   "outputs": [
    {
     "name": "stdout",
     "output_type": "stream",
     "text": [
      "ICE arrests 20 in Kansas City during 4-day operation targeting criminal aliens  KANSAS CITY, Mo. — Federal officers with U.S. Immigration and Customs Enforcement’s (ICE) Enforcement and Removal Operations (ERO) arrested 20 criminal aliens and immigration violators in the Kansas City metro area during a four-day enforcement operation, which ended Thursday.\n",
      "--\n",
      "During this operation, ERO deportation officers made arrests in the following Missouri cities: St. Joseph (6), Belton (1), Blue Springs (1), Independence (2) and Kansas City (6).\n",
      "--\n",
      "ICE officers also made arrests in the Kansas cities of Olathe (3) and Lawrence (1).\n",
      "--\n",
      "Fifteen men and five women, ages ranging 18-61, were arrested.\n",
      "--\n",
      "Aliens arrested during this operation are from the following countries: Brazil (1), El Salvador (3), Guatemala (6), Honduras (1), Mexico (7), Romania (1) and Sierra Leone (1).\n",
      "--\n",
      "Several of the aliens targeted by ERO deportation officers during this operation had prior criminal histories that included driving under the influence, child neglect, child abuse, drug offenses, fraud and larceny.\n",
      "--\n",
      "Four of these were arrested for illegally re-entering the United States after having been deported, which is a felony.\n",
      "--\n",
      "Two overstayed lawful visits to the U.S. All were amenable to arrest and removal under the U.S. Immigration and Nationality Act.\n",
      "--\n",
      "The following are criminal summaries of some of the offenders arrested in the Kansas City area during this operation: A 55-year-old, Mexican citizen who overstayed a lawful visit to the U.S. by more than 12 years.\n",
      "--\n",
      "She was arrested Feb. 26, 2018 in Johnson County Kansas.\n",
      "--\n",
      "She was previously convicted of child neglect and was sentenced to a year in jail.\n",
      "--\n",
      "She is currently in ICE custody pending removal proceedings.\n",
      "--\n",
      "On Feb. 28, 2018, a 38-year-old Mexican citizen was arrested in Olathe, Kansas.\n",
      "--\n",
      "He has a 2012 conviction for fraud.\n",
      "--\n",
      "He was issued a warrant of removal and was placed in ICE custody pending removal from the United States.\n",
      "--\n",
      "Depending on an alien’s criminality, an alien who re-enters the United States after having been previously deported commits a felony punishable by up to 20 years in federal prison, if convicted. “\n",
      "--\n",
      "The continued results of our deportation officers underscore <span-0 <span-10 ICE’s ongoing and steady commitment to public safety,”0-/span> 10-/span> said Ricardo Wong, field office director for ERO Chicago. “\n",
      "--\n",
      "As part of this operation, <span-10 we continue focus on the arrest of individuals who are criminal aliens and public safety threats.\n",
      "--\n",
      "10-/span> <span-6 Because of the tireless efforts of these professional officers, there are fewer criminals in our communities.”\n",
      "--\n",
      "6-/span>\n",
      "--\n"
     ]
    }
   ],
   "source": [
    "for i in nlp(content_df[content_df[\"article_id\"] == \"735855251\"].content[30]).sents:\n",
    "    print(i)\n",
    "    print(\"--\")"
   ]
  },
  {
   "cell_type": "code",
   "execution_count": 7,
   "metadata": {
    "Collapsed": "false"
   },
   "outputs": [],
   "source": [
    "def split_into_sentences(row):\n",
    "    sentences = []\n",
    "    for ix,sent in enumerate(nlp(row.content).sents):\n",
    "        sentences.append((row.article_id,ix,sent.text))\n",
    "    return sentences    "
   ]
  },
  {
   "cell_type": "code",
   "execution_count": 8,
   "metadata": {
    "Collapsed": "false"
   },
   "outputs": [],
   "source": [
    "sentences_dataset = content_df.apply(split_into_sentences,axis=1).values.tolist()"
   ]
  },
  {
   "cell_type": "code",
   "execution_count": 9,
   "metadata": {
    "Collapsed": "false"
   },
   "outputs": [
    {
     "data": {
      "text/plain": [
       "371"
      ]
     },
     "execution_count": 9,
     "metadata": {},
     "output_type": "execute_result"
    }
   ],
   "source": [
    "len(sentences_dataset)"
   ]
  },
  {
   "cell_type": "code",
   "execution_count": 10,
   "metadata": {
    "Collapsed": "false"
   },
   "outputs": [],
   "source": [
    "sentences_dataset = [j for i in sentences_dataset for j in i]"
   ]
  },
  {
   "cell_type": "code",
   "execution_count": 11,
   "metadata": {
    "Collapsed": "false"
   },
   "outputs": [
    {
     "data": {
      "text/plain": [
       "15565"
      ]
     },
     "execution_count": 11,
     "metadata": {},
     "output_type": "execute_result"
    }
   ],
   "source": [
    "len(sentences_dataset)"
   ]
  },
  {
   "cell_type": "code",
   "execution_count": 12,
   "metadata": {
    "Collapsed": "false"
   },
   "outputs": [
    {
     "data": {
      "text/plain": [
       "[('762956953',\n",
       "  0,\n",
       "  'Iran Admits To Aiding Al-Qaeda and Facilitating 9/11 Jihad Terror Attacks  This has long been known, although the mainstream media dismissed it as a conspiracy theory.'),\n",
       " ('762956953', 1, 'But now we have definitive confirmation.'),\n",
       " ('762956953',\n",
       "  2,\n",
       "  'It was Iran Bush should have invaded after 9/11 , not Iraq.'),\n",
       " ('762956953',\n",
       "  3,\n",
       "  'Now consider this: even though, as President of the United States, Barack Obama had access to information that the general public does not have, and certainly knew of Iran’s involvement in the 9/11 attacks, Obama still pursued the Iran nuclear deal and gave billions to the Islamic Republic.'),\n",
       " ('762956953',\n",
       "  4,\n",
       "  'The Iran nuclear deal should never have proceeded — President Obama, <span-6 the worst president in American history 6-/span> . “'),\n",
       " ('762956953',\n",
       "  5,\n",
       "  'Iran Admits To Facilitating 9/11 Terror Attacks,” by Adam Kredo, Washington Free Beacon, June 8, 2018: Iranian officials, in a first, have admitted to facilitating the 9/11 terrorist attacks in the U.S. by secretly aiding the free travel of al Qaeda operatives who eventually went on to fly commercial airliners into the Twin Towers in New York City, according to new remarks from a senior Iranian official.'),\n",
       " ('762956953',\n",
       "  6,\n",
       "  'Mohammad-Javad Larijani, an international affairs assistant in the Iran’s judiciary, disclosed in Farsi-language remarks broadcast on Iran’s state-controlled television that Iranian intelligence officials secretly helped provide the al Qaeda attackers with passage and gave them refuge in the Islamic Republic, according to an English translation published by Al Arabiya. “'),\n",
       " ('762956953',\n",
       "  7,\n",
       "  'Our government agreed not to stamp the passports of some of them because they were on transit flights for two hours, and they were resuming their flights without having their passports stamped.'),\n",
       " ('762956953',\n",
       "  8,\n",
       "  'However their movements were under the complete supervision of the Iranian intelligence,” Larijani was quoted as saying.'),\n",
       " ('762956953',\n",
       "  9,\n",
       "  'The remarks represent the first time senior Iranian officials have publicly admitted to aiding al Qaeda and playing a direct role in facilitating the 9/11 attacks.')]"
      ]
     },
     "execution_count": 12,
     "metadata": {},
     "output_type": "execute_result"
    }
   ],
   "source": [
    "sentences_dataset[:10]"
   ]
  },
  {
   "cell_type": "code",
   "execution_count": 13,
   "metadata": {
    "Collapsed": "false"
   },
   "outputs": [],
   "source": [
    "sentences_df = pd.DataFrame(sentences_dataset,columns=[\"article_id\",\"sentence_id\",\"sentence\"])"
   ]
  },
  {
   "cell_type": "code",
   "execution_count": 14,
   "metadata": {
    "Collapsed": "false"
   },
   "outputs": [
    {
     "data": {
      "text/html": [
       "<div>\n",
       "<style scoped>\n",
       "    .dataframe tbody tr th:only-of-type {\n",
       "        vertical-align: middle;\n",
       "    }\n",
       "\n",
       "    .dataframe tbody tr th {\n",
       "        vertical-align: top;\n",
       "    }\n",
       "\n",
       "    .dataframe thead th {\n",
       "        text-align: right;\n",
       "    }\n",
       "</style>\n",
       "<table border=\"1\" class=\"dataframe\">\n",
       "  <thead>\n",
       "    <tr style=\"text-align: right;\">\n",
       "      <th></th>\n",
       "      <th>article_id</th>\n",
       "      <th>sentence_id</th>\n",
       "      <th>sentence</th>\n",
       "    </tr>\n",
       "  </thead>\n",
       "  <tbody>\n",
       "    <tr>\n",
       "      <td>0</td>\n",
       "      <td>762956953</td>\n",
       "      <td>0</td>\n",
       "      <td>Iran Admits To Aiding Al-Qaeda and Facilitating 9/11 Jihad Terror Attacks  This has long been known, although the mainstream media dismissed it as a conspiracy theory.</td>\n",
       "    </tr>\n",
       "    <tr>\n",
       "      <td>1</td>\n",
       "      <td>762956953</td>\n",
       "      <td>1</td>\n",
       "      <td>But now we have definitive confirmation.</td>\n",
       "    </tr>\n",
       "    <tr>\n",
       "      <td>2</td>\n",
       "      <td>762956953</td>\n",
       "      <td>2</td>\n",
       "      <td>It was Iran Bush should have invaded after 9/11 , not Iraq.</td>\n",
       "    </tr>\n",
       "    <tr>\n",
       "      <td>3</td>\n",
       "      <td>762956953</td>\n",
       "      <td>3</td>\n",
       "      <td>Now consider this: even though, as President of the United States, Barack Obama had access to information that the general public does not have, and certainly knew of Iran’s involvement in the 9/11 attacks, Obama still pursued the Iran nuclear deal and gave billions to the Islamic Republic.</td>\n",
       "    </tr>\n",
       "  </tbody>\n",
       "</table>\n",
       "</div>"
      ],
      "text/plain": [
       "  article_id  sentence_id  \\\n",
       "0  762956953  0             \n",
       "1  762956953  1             \n",
       "2  762956953  2             \n",
       "3  762956953  3             \n",
       "\n",
       "                                                                                                                                                                                                                                                                                              sentence  \n",
       "0  Iran Admits To Aiding Al-Qaeda and Facilitating 9/11 Jihad Terror Attacks  This has long been known, although the mainstream media dismissed it as a conspiracy theory.                                                                                                                              \n",
       "1  But now we have definitive confirmation.                                                                                                                                                                                                                                                             \n",
       "2  It was Iran Bush should have invaded after 9/11 , not Iraq.                                                                                                                                                                                                                                          \n",
       "3  Now consider this: even though, as President of the United States, Barack Obama had access to information that the general public does not have, and certainly knew of Iran’s involvement in the 9/11 attacks, Obama still pursued the Iran nuclear deal and gave billions to the Islamic Republic.  "
      ]
     },
     "execution_count": 14,
     "metadata": {},
     "output_type": "execute_result"
    }
   ],
   "source": [
    "sentences_df.head(4)"
   ]
  },
  {
   "cell_type": "code",
   "execution_count": 15,
   "metadata": {
    "Collapsed": "false"
   },
   "outputs": [
    {
     "data": {
      "text/html": [
       "<div>\n",
       "<style scoped>\n",
       "    .dataframe tbody tr th:only-of-type {\n",
       "        vertical-align: middle;\n",
       "    }\n",
       "\n",
       "    .dataframe tbody tr th {\n",
       "        vertical-align: top;\n",
       "    }\n",
       "\n",
       "    .dataframe thead th {\n",
       "        text-align: right;\n",
       "    }\n",
       "</style>\n",
       "<table border=\"1\" class=\"dataframe\">\n",
       "  <thead>\n",
       "    <tr style=\"text-align: right;\">\n",
       "      <th></th>\n",
       "      <th>article_id</th>\n",
       "      <th>sentence_id</th>\n",
       "      <th>sentence</th>\n",
       "    </tr>\n",
       "  </thead>\n",
       "  <tbody>\n",
       "    <tr>\n",
       "      <td>1049</td>\n",
       "      <td>735855251</td>\n",
       "      <td>0</td>\n",
       "      <td>ICE arrests 20 in Kansas City during 4-day operation targeting criminal aliens  KANSAS CITY, Mo. — Federal officers with U.S. Immigration and Customs Enforcement’s (ICE) Enforcement and Removal Operations (ERO) arrested 20 criminal aliens and immigration violators in the Kansas City metro area during a four-day enforcement operation, which ended Thursday.</td>\n",
       "    </tr>\n",
       "    <tr>\n",
       "      <td>1050</td>\n",
       "      <td>735855251</td>\n",
       "      <td>1</td>\n",
       "      <td>During this operation, ERO deportation officers made arrests in the following Missouri cities: St. Joseph (6), Belton (1), Blue Springs (1), Independence (2) and Kansas City (6).</td>\n",
       "    </tr>\n",
       "    <tr>\n",
       "      <td>1051</td>\n",
       "      <td>735855251</td>\n",
       "      <td>2</td>\n",
       "      <td>ICE officers also made arrests in the Kansas cities of Olathe (3) and Lawrence (1).</td>\n",
       "    </tr>\n",
       "    <tr>\n",
       "      <td>1052</td>\n",
       "      <td>735855251</td>\n",
       "      <td>3</td>\n",
       "      <td>Fifteen men and five women, ages ranging 18-61, were arrested.</td>\n",
       "    </tr>\n",
       "    <tr>\n",
       "      <td>1053</td>\n",
       "      <td>735855251</td>\n",
       "      <td>4</td>\n",
       "      <td>Aliens arrested during this operation are from the following countries: Brazil (1), El Salvador (3), Guatemala (6), Honduras (1), Mexico (7), Romania (1) and Sierra Leone (1).</td>\n",
       "    </tr>\n",
       "    <tr>\n",
       "      <td>1054</td>\n",
       "      <td>735855251</td>\n",
       "      <td>5</td>\n",
       "      <td>Several of the aliens targeted by ERO deportation officers during this operation had prior criminal histories that included driving under the influence, child neglect, child abuse, drug offenses, fraud and larceny.</td>\n",
       "    </tr>\n",
       "    <tr>\n",
       "      <td>1055</td>\n",
       "      <td>735855251</td>\n",
       "      <td>6</td>\n",
       "      <td>Four of these were arrested for illegally re-entering the United States after having been deported, which is a felony.</td>\n",
       "    </tr>\n",
       "    <tr>\n",
       "      <td>1056</td>\n",
       "      <td>735855251</td>\n",
       "      <td>7</td>\n",
       "      <td>Two overstayed lawful visits to the U.S. All were amenable to arrest and removal under the U.S. Immigration and Nationality Act.</td>\n",
       "    </tr>\n",
       "    <tr>\n",
       "      <td>1057</td>\n",
       "      <td>735855251</td>\n",
       "      <td>8</td>\n",
       "      <td>The following are criminal summaries of some of the offenders arrested in the Kansas City area during this operation: A 55-year-old, Mexican citizen who overstayed a lawful visit to the U.S. by more than 12 years.</td>\n",
       "    </tr>\n",
       "    <tr>\n",
       "      <td>1058</td>\n",
       "      <td>735855251</td>\n",
       "      <td>9</td>\n",
       "      <td>She was arrested Feb. 26, 2018 in Johnson County Kansas.</td>\n",
       "    </tr>\n",
       "    <tr>\n",
       "      <td>1059</td>\n",
       "      <td>735855251</td>\n",
       "      <td>10</td>\n",
       "      <td>She was previously convicted of child neglect and was sentenced to a year in jail.</td>\n",
       "    </tr>\n",
       "    <tr>\n",
       "      <td>1060</td>\n",
       "      <td>735855251</td>\n",
       "      <td>11</td>\n",
       "      <td>She is currently in ICE custody pending removal proceedings.</td>\n",
       "    </tr>\n",
       "    <tr>\n",
       "      <td>1061</td>\n",
       "      <td>735855251</td>\n",
       "      <td>12</td>\n",
       "      <td>On Feb. 28, 2018, a 38-year-old Mexican citizen was arrested in Olathe, Kansas.</td>\n",
       "    </tr>\n",
       "    <tr>\n",
       "      <td>1062</td>\n",
       "      <td>735855251</td>\n",
       "      <td>13</td>\n",
       "      <td>He has a 2012 conviction for fraud.</td>\n",
       "    </tr>\n",
       "    <tr>\n",
       "      <td>1063</td>\n",
       "      <td>735855251</td>\n",
       "      <td>14</td>\n",
       "      <td>He was issued a warrant of removal and was placed in ICE custody pending removal from the United States.</td>\n",
       "    </tr>\n",
       "    <tr>\n",
       "      <td>1064</td>\n",
       "      <td>735855251</td>\n",
       "      <td>15</td>\n",
       "      <td>Depending on an alien’s criminality, an alien who re-enters the United States after having been previously deported commits a felony punishable by up to 20 years in federal prison, if convicted. “</td>\n",
       "    </tr>\n",
       "    <tr>\n",
       "      <td>1065</td>\n",
       "      <td>735855251</td>\n",
       "      <td>16</td>\n",
       "      <td>The continued results of our deportation officers underscore &lt;span-0 &lt;span-10 ICE’s ongoing and steady commitment to public safety,”0-/span&gt; 10-/span&gt; said Ricardo Wong, field office director for ERO Chicago. “</td>\n",
       "    </tr>\n",
       "    <tr>\n",
       "      <td>1066</td>\n",
       "      <td>735855251</td>\n",
       "      <td>17</td>\n",
       "      <td>As part of this operation, &lt;span-10 we continue focus on the arrest of individuals who are criminal aliens and public safety threats.</td>\n",
       "    </tr>\n",
       "    <tr>\n",
       "      <td>1067</td>\n",
       "      <td>735855251</td>\n",
       "      <td>18</td>\n",
       "      <td>10-/span&gt; &lt;span-6 Because of the tireless efforts of these professional officers, there are fewer criminals in our communities.”</td>\n",
       "    </tr>\n",
       "    <tr>\n",
       "      <td>1068</td>\n",
       "      <td>735855251</td>\n",
       "      <td>19</td>\n",
       "      <td>6-/span&gt;</td>\n",
       "    </tr>\n",
       "  </tbody>\n",
       "</table>\n",
       "</div>"
      ],
      "text/plain": [
       "     article_id  sentence_id  \\\n",
       "1049  735855251  0             \n",
       "1050  735855251  1             \n",
       "1051  735855251  2             \n",
       "1052  735855251  3             \n",
       "1053  735855251  4             \n",
       "1054  735855251  5             \n",
       "1055  735855251  6             \n",
       "1056  735855251  7             \n",
       "1057  735855251  8             \n",
       "1058  735855251  9             \n",
       "1059  735855251  10            \n",
       "1060  735855251  11            \n",
       "1061  735855251  12            \n",
       "1062  735855251  13            \n",
       "1063  735855251  14            \n",
       "1064  735855251  15            \n",
       "1065  735855251  16            \n",
       "1066  735855251  17            \n",
       "1067  735855251  18            \n",
       "1068  735855251  19            \n",
       "\n",
       "                                                                                                                                                                                                                                                                                                                                                                   sentence  \n",
       "1049  ICE arrests 20 in Kansas City during 4-day operation targeting criminal aliens  KANSAS CITY, Mo. — Federal officers with U.S. Immigration and Customs Enforcement’s (ICE) Enforcement and Removal Operations (ERO) arrested 20 criminal aliens and immigration violators in the Kansas City metro area during a four-day enforcement operation, which ended Thursday.  \n",
       "1050  During this operation, ERO deportation officers made arrests in the following Missouri cities: St. Joseph (6), Belton (1), Blue Springs (1), Independence (2) and Kansas City (6).                                                                                                                                                                                     \n",
       "1051  ICE officers also made arrests in the Kansas cities of Olathe (3) and Lawrence (1).                                                                                                                                                                                                                                                                                    \n",
       "1052  Fifteen men and five women, ages ranging 18-61, were arrested.                                                                                                                                                                                                                                                                                                         \n",
       "1053  Aliens arrested during this operation are from the following countries: Brazil (1), El Salvador (3), Guatemala (6), Honduras (1), Mexico (7), Romania (1) and Sierra Leone (1).                                                                                                                                                                                        \n",
       "1054  Several of the aliens targeted by ERO deportation officers during this operation had prior criminal histories that included driving under the influence, child neglect, child abuse, drug offenses, fraud and larceny.                                                                                                                                                 \n",
       "1055  Four of these were arrested for illegally re-entering the United States after having been deported, which is a felony.                                                                                                                                                                                                                                                 \n",
       "1056  Two overstayed lawful visits to the U.S. All were amenable to arrest and removal under the U.S. Immigration and Nationality Act.                                                                                                                                                                                                                                       \n",
       "1057  The following are criminal summaries of some of the offenders arrested in the Kansas City area during this operation: A 55-year-old, Mexican citizen who overstayed a lawful visit to the U.S. by more than 12 years.                                                                                                                                                  \n",
       "1058  She was arrested Feb. 26, 2018 in Johnson County Kansas.                                                                                                                                                                                                                                                                                                               \n",
       "1059  She was previously convicted of child neglect and was sentenced to a year in jail.                                                                                                                                                                                                                                                                                     \n",
       "1060  She is currently in ICE custody pending removal proceedings.                                                                                                                                                                                                                                                                                                           \n",
       "1061  On Feb. 28, 2018, a 38-year-old Mexican citizen was arrested in Olathe, Kansas.                                                                                                                                                                                                                                                                                        \n",
       "1062  He has a 2012 conviction for fraud.                                                                                                                                                                                                                                                                                                                                    \n",
       "1063  He was issued a warrant of removal and was placed in ICE custody pending removal from the United States.                                                                                                                                                                                                                                                               \n",
       "1064  Depending on an alien’s criminality, an alien who re-enters the United States after having been previously deported commits a felony punishable by up to 20 years in federal prison, if convicted. “                                                                                                                                                                   \n",
       "1065  The continued results of our deportation officers underscore <span-0 <span-10 ICE’s ongoing and steady commitment to public safety,”0-/span> 10-/span> said Ricardo Wong, field office director for ERO Chicago. “                                                                                                                                                     \n",
       "1066  As part of this operation, <span-10 we continue focus on the arrest of individuals who are criminal aliens and public safety threats.                                                                                                                                                                                                                                  \n",
       "1067  10-/span> <span-6 Because of the tireless efforts of these professional officers, there are fewer criminals in our communities.”                                                                                                                                                                                                                                       \n",
       "1068  6-/span>                                                                                                                                                                                                                                                                                                                                                               "
      ]
     },
     "execution_count": 15,
     "metadata": {},
     "output_type": "execute_result"
    }
   ],
   "source": [
    "sentences_df[sentences_df[\"article_id\"] == \"735855251\"]"
   ]
  },
  {
   "cell_type": "code",
   "execution_count": 16,
   "metadata": {
    "Collapsed": "false"
   },
   "outputs": [
    {
     "data": {
      "text/plain": [
       "-1"
      ]
     },
     "execution_count": 16,
     "metadata": {},
     "output_type": "execute_result"
    }
   ],
   "source": [
    "\"Iran Admits To Aiding Al-Qaeda and Facilitating 9/11 Jihad Terror Attacks This has long been known, although the mainstream media dismissed it as a conspiracy theory.\".find(\"span\")"
   ]
  },
  {
   "cell_type": "code",
   "execution_count": 17,
   "metadata": {
    "Collapsed": "false"
   },
   "outputs": [],
   "source": [
    "def has_propaganda(sentence):\n",
    "    if sentence.find(\"-/span\") > 0:\n",
    "        return True\n",
    "    if sentence.find(\"span-\") > 0:\n",
    "        return True\n",
    "    return False"
   ]
  },
  {
   "cell_type": "code",
   "execution_count": 18,
   "metadata": {
    "Collapsed": "false"
   },
   "outputs": [],
   "source": [
    "sentences_df[\"has_propaganda\"] = sentences_df[\"sentence\"].apply(has_propaganda)"
   ]
  },
  {
   "cell_type": "code",
   "execution_count": 19,
   "metadata": {
    "Collapsed": "false"
   },
   "outputs": [
    {
     "data": {
      "text/html": [
       "<div>\n",
       "<style scoped>\n",
       "    .dataframe tbody tr th:only-of-type {\n",
       "        vertical-align: middle;\n",
       "    }\n",
       "\n",
       "    .dataframe tbody tr th {\n",
       "        vertical-align: top;\n",
       "    }\n",
       "\n",
       "    .dataframe thead th {\n",
       "        text-align: right;\n",
       "    }\n",
       "</style>\n",
       "<table border=\"1\" class=\"dataframe\">\n",
       "  <thead>\n",
       "    <tr style=\"text-align: right;\">\n",
       "      <th></th>\n",
       "      <th>article_id</th>\n",
       "      <th>sentence_id</th>\n",
       "      <th>sentence</th>\n",
       "      <th>has_propaganda</th>\n",
       "    </tr>\n",
       "  </thead>\n",
       "  <tbody>\n",
       "    <tr>\n",
       "      <td>0</td>\n",
       "      <td>762956953</td>\n",
       "      <td>0</td>\n",
       "      <td>Iran Admits To Aiding Al-Qaeda and Facilitating 9/11 Jihad Terror Attacks  This has long been known, although the mainstream media dismissed it as a conspiracy theory.</td>\n",
       "      <td>False</td>\n",
       "    </tr>\n",
       "    <tr>\n",
       "      <td>1</td>\n",
       "      <td>762956953</td>\n",
       "      <td>1</td>\n",
       "      <td>But now we have definitive confirmation.</td>\n",
       "      <td>False</td>\n",
       "    </tr>\n",
       "    <tr>\n",
       "      <td>2</td>\n",
       "      <td>762956953</td>\n",
       "      <td>2</td>\n",
       "      <td>It was Iran Bush should have invaded after 9/11 , not Iraq.</td>\n",
       "      <td>False</td>\n",
       "    </tr>\n",
       "    <tr>\n",
       "      <td>3</td>\n",
       "      <td>762956953</td>\n",
       "      <td>3</td>\n",
       "      <td>Now consider this: even though, as President of the United States, Barack Obama had access to information that the general public does not have, and certainly knew of Iran’s involvement in the 9/11 attacks, Obama still pursued the Iran nuclear deal and gave billions to the Islamic Republic.</td>\n",
       "      <td>False</td>\n",
       "    </tr>\n",
       "  </tbody>\n",
       "</table>\n",
       "</div>"
      ],
      "text/plain": [
       "  article_id  sentence_id  \\\n",
       "0  762956953  0             \n",
       "1  762956953  1             \n",
       "2  762956953  2             \n",
       "3  762956953  3             \n",
       "\n",
       "                                                                                                                                                                                                                                                                                              sentence  \\\n",
       "0  Iran Admits To Aiding Al-Qaeda and Facilitating 9/11 Jihad Terror Attacks  This has long been known, although the mainstream media dismissed it as a conspiracy theory.                                                                                                                               \n",
       "1  But now we have definitive confirmation.                                                                                                                                                                                                                                                              \n",
       "2  It was Iran Bush should have invaded after 9/11 , not Iraq.                                                                                                                                                                                                                                           \n",
       "3  Now consider this: even though, as President of the United States, Barack Obama had access to information that the general public does not have, and certainly knew of Iran’s involvement in the 9/11 attacks, Obama still pursued the Iran nuclear deal and gave billions to the Islamic Republic.   \n",
       "\n",
       "   has_propaganda  \n",
       "0  False           \n",
       "1  False           \n",
       "2  False           \n",
       "3  False           "
      ]
     },
     "execution_count": 19,
     "metadata": {},
     "output_type": "execute_result"
    }
   ],
   "source": [
    "sentences_df.head(4)"
   ]
  },
  {
   "cell_type": "code",
   "execution_count": 20,
   "metadata": {
    "Collapsed": "false"
   },
   "outputs": [
    {
     "data": {
      "text/plain": [
       "False    10608\n",
       "True     4957 \n",
       "Name: has_propaganda, dtype: int64"
      ]
     },
     "execution_count": 20,
     "metadata": {},
     "output_type": "execute_result"
    }
   ],
   "source": [
    "sentences_df.has_propaganda.value_counts()"
   ]
  },
  {
   "cell_type": "code",
   "execution_count": 21,
   "metadata": {
    "Collapsed": "false"
   },
   "outputs": [],
   "source": [
    "import re\n",
    "def cleaned_sentence(sentence):\n",
    "    return re.sub(\"<span-\\d+\", \"\", re.sub(\"\\d+-/span>\", \"\", sentence))"
   ]
  },
  {
   "cell_type": "code",
   "execution_count": 22,
   "metadata": {
    "Collapsed": "false"
   },
   "outputs": [],
   "source": [
    "sentences_df[\"cleaned_sentence\"] = sentences_df[\"sentence\"].apply(cleaned_sentence)"
   ]
  },
  {
   "cell_type": "code",
   "execution_count": 23,
   "metadata": {
    "Collapsed": "false"
   },
   "outputs": [
    {
     "data": {
      "text/html": [
       "<div>\n",
       "<style scoped>\n",
       "    .dataframe tbody tr th:only-of-type {\n",
       "        vertical-align: middle;\n",
       "    }\n",
       "\n",
       "    .dataframe tbody tr th {\n",
       "        vertical-align: top;\n",
       "    }\n",
       "\n",
       "    .dataframe thead th {\n",
       "        text-align: right;\n",
       "    }\n",
       "</style>\n",
       "<table border=\"1\" class=\"dataframe\">\n",
       "  <thead>\n",
       "    <tr style=\"text-align: right;\">\n",
       "      <th></th>\n",
       "      <th>article_id</th>\n",
       "      <th>sentence_id</th>\n",
       "      <th>sentence</th>\n",
       "      <th>has_propaganda</th>\n",
       "      <th>cleaned_sentence</th>\n",
       "    </tr>\n",
       "  </thead>\n",
       "  <tbody>\n",
       "    <tr>\n",
       "      <td>0</td>\n",
       "      <td>762956953</td>\n",
       "      <td>0</td>\n",
       "      <td>Iran Admits To Aiding Al-Qaeda and Facilitating 9/11 Jihad Terror Attacks  This has long been known, although the mainstream media dismissed it as a conspiracy theory.</td>\n",
       "      <td>False</td>\n",
       "      <td>Iran Admits To Aiding Al-Qaeda and Facilitating 9/11 Jihad Terror Attacks  This has long been known, although the mainstream media dismissed it as a conspiracy theory.</td>\n",
       "    </tr>\n",
       "    <tr>\n",
       "      <td>1</td>\n",
       "      <td>762956953</td>\n",
       "      <td>1</td>\n",
       "      <td>But now we have definitive confirmation.</td>\n",
       "      <td>False</td>\n",
       "      <td>But now we have definitive confirmation.</td>\n",
       "    </tr>\n",
       "    <tr>\n",
       "      <td>2</td>\n",
       "      <td>762956953</td>\n",
       "      <td>2</td>\n",
       "      <td>It was Iran Bush should have invaded after 9/11 , not Iraq.</td>\n",
       "      <td>False</td>\n",
       "      <td>It was Iran Bush should have invaded after 9/11 , not Iraq.</td>\n",
       "    </tr>\n",
       "    <tr>\n",
       "      <td>3</td>\n",
       "      <td>762956953</td>\n",
       "      <td>3</td>\n",
       "      <td>Now consider this: even though, as President of the United States, Barack Obama had access to information that the general public does not have, and certainly knew of Iran’s involvement in the 9/11 attacks, Obama still pursued the Iran nuclear deal and gave billions to the Islamic Republic.</td>\n",
       "      <td>False</td>\n",
       "      <td>Now consider this: even though, as President of the United States, Barack Obama had access to information that the general public does not have, and certainly knew of Iran’s involvement in the 9/11 attacks, Obama still pursued the Iran nuclear deal and gave billions to the Islamic Republic.</td>\n",
       "    </tr>\n",
       "    <tr>\n",
       "      <td>4</td>\n",
       "      <td>762956953</td>\n",
       "      <td>4</td>\n",
       "      <td>The Iran nuclear deal should never have proceeded — President Obama, &lt;span-6 the worst president in American history 6-/span&gt; . “</td>\n",
       "      <td>True</td>\n",
       "      <td>The Iran nuclear deal should never have proceeded — President Obama,  the worst president in American history  . “</td>\n",
       "    </tr>\n",
       "  </tbody>\n",
       "</table>\n",
       "</div>"
      ],
      "text/plain": [
       "  article_id  sentence_id  \\\n",
       "0  762956953  0             \n",
       "1  762956953  1             \n",
       "2  762956953  2             \n",
       "3  762956953  3             \n",
       "4  762956953  4             \n",
       "\n",
       "                                                                                                                                                                                                                                                                                              sentence  \\\n",
       "0  Iran Admits To Aiding Al-Qaeda and Facilitating 9/11 Jihad Terror Attacks  This has long been known, although the mainstream media dismissed it as a conspiracy theory.                                                                                                                               \n",
       "1  But now we have definitive confirmation.                                                                                                                                                                                                                                                              \n",
       "2  It was Iran Bush should have invaded after 9/11 , not Iraq.                                                                                                                                                                                                                                           \n",
       "3  Now consider this: even though, as President of the United States, Barack Obama had access to information that the general public does not have, and certainly knew of Iran’s involvement in the 9/11 attacks, Obama still pursued the Iran nuclear deal and gave billions to the Islamic Republic.   \n",
       "4  The Iran nuclear deal should never have proceeded — President Obama, <span-6 the worst president in American history 6-/span> . “                                                                                                                                                                     \n",
       "\n",
       "   has_propaganda  \\\n",
       "0  False            \n",
       "1  False            \n",
       "2  False            \n",
       "3  False            \n",
       "4  True             \n",
       "\n",
       "                                                                                                                                                                                                                                                                                      cleaned_sentence  \n",
       "0  Iran Admits To Aiding Al-Qaeda and Facilitating 9/11 Jihad Terror Attacks  This has long been known, although the mainstream media dismissed it as a conspiracy theory.                                                                                                                              \n",
       "1  But now we have definitive confirmation.                                                                                                                                                                                                                                                             \n",
       "2  It was Iran Bush should have invaded after 9/11 , not Iraq.                                                                                                                                                                                                                                          \n",
       "3  Now consider this: even though, as President of the United States, Barack Obama had access to information that the general public does not have, and certainly knew of Iran’s involvement in the 9/11 attacks, Obama still pursued the Iran nuclear deal and gave billions to the Islamic Republic.  \n",
       "4  The Iran nuclear deal should never have proceeded — President Obama,  the worst president in American history  . “                                                                                                                                                                                   "
      ]
     },
     "execution_count": 23,
     "metadata": {},
     "output_type": "execute_result"
    }
   ],
   "source": [
    "sentences_df.head()"
   ]
  },
  {
   "cell_type": "code",
   "execution_count": 24,
   "metadata": {
    "Collapsed": "false"
   },
   "outputs": [
    {
     "data": {
      "text/plain": [
       "15565"
      ]
     },
     "execution_count": 24,
     "metadata": {},
     "output_type": "execute_result"
    }
   ],
   "source": [
    "len(sentences_df)"
   ]
  },
  {
   "cell_type": "code",
   "execution_count": 25,
   "metadata": {
    "Collapsed": "false"
   },
   "outputs": [
    {
     "data": {
      "text/html": [
       "<div>\n",
       "<style scoped>\n",
       "    .dataframe tbody tr th:only-of-type {\n",
       "        vertical-align: middle;\n",
       "    }\n",
       "\n",
       "    .dataframe tbody tr th {\n",
       "        vertical-align: top;\n",
       "    }\n",
       "\n",
       "    .dataframe thead th {\n",
       "        text-align: right;\n",
       "    }\n",
       "</style>\n",
       "<table border=\"1\" class=\"dataframe\">\n",
       "  <thead>\n",
       "    <tr style=\"text-align: right;\">\n",
       "      <th></th>\n",
       "      <th>article_id</th>\n",
       "      <th>sentence_id</th>\n",
       "      <th>sentence</th>\n",
       "      <th>has_propaganda</th>\n",
       "      <th>cleaned_sentence</th>\n",
       "    </tr>\n",
       "  </thead>\n",
       "  <tbody>\n",
       "    <tr>\n",
       "      <td>1068</td>\n",
       "      <td>735855251</td>\n",
       "      <td>19</td>\n",
       "      <td>6-/span&gt;</td>\n",
       "      <td>True</td>\n",
       "      <td></td>\n",
       "    </tr>\n",
       "    <tr>\n",
       "      <td>1656</td>\n",
       "      <td>697959084</td>\n",
       "      <td>19</td>\n",
       "      <td>5-/span&gt;</td>\n",
       "      <td>True</td>\n",
       "      <td></td>\n",
       "    </tr>\n",
       "    <tr>\n",
       "      <td>1802</td>\n",
       "      <td>999000147</td>\n",
       "      <td>24</td>\n",
       "      <td>5-/span&gt;</td>\n",
       "      <td>True</td>\n",
       "      <td></td>\n",
       "    </tr>\n",
       "    <tr>\n",
       "      <td>7750</td>\n",
       "      <td>721890296</td>\n",
       "      <td>43</td>\n",
       "      <td>8-/span&gt;</td>\n",
       "      <td>True</td>\n",
       "      <td></td>\n",
       "    </tr>\n",
       "    <tr>\n",
       "      <td>10547</td>\n",
       "      <td>705035735</td>\n",
       "      <td>21</td>\n",
       "      <td>8-/span&gt;</td>\n",
       "      <td>True</td>\n",
       "      <td></td>\n",
       "    </tr>\n",
       "  </tbody>\n",
       "</table>\n",
       "</div>"
      ],
      "text/plain": [
       "      article_id  sentence_id  sentence  has_propaganda cleaned_sentence\n",
       "1068   735855251  19           6-/span>  True                           \n",
       "1656   697959084  19           5-/span>  True                           \n",
       "1802   999000147  24           5-/span>  True                           \n",
       "7750   721890296  43           8-/span>  True                           \n",
       "10547  705035735  21           8-/span>  True                           "
      ]
     },
     "execution_count": 25,
     "metadata": {},
     "output_type": "execute_result"
    }
   ],
   "source": [
    "sentences_df[sentences_df[\"cleaned_sentence\"] == \"\"]"
   ]
  },
  {
   "cell_type": "code",
   "execution_count": 26,
   "metadata": {
    "Collapsed": "false"
   },
   "outputs": [],
   "source": [
    "sentences_df = sentences_df[sentences_df[\"cleaned_sentence\"] != \"\"]"
   ]
  },
  {
   "cell_type": "code",
   "execution_count": 27,
   "metadata": {
    "Collapsed": "false"
   },
   "outputs": [],
   "source": [
    "sentences_df.to_csv(\"/data/semeval-2020/task-11/processed/sentence_dataset_v2.csv\",index=False)"
   ]
  },
  {
   "cell_type": "code",
   "execution_count": null,
   "metadata": {
    "Collapsed": "false"
   },
   "outputs": [],
   "source": []
  }
 ],
 "metadata": {
  "kernelspec": {
   "display_name": "semeval2020",
   "language": "python",
   "name": "semeval2020"
  },
  "language_info": {
   "codemirror_mode": {
    "name": "ipython",
    "version": 3
   },
   "file_extension": ".py",
   "mimetype": "text/x-python",
   "name": "python",
   "nbconvert_exporter": "python",
   "pygments_lexer": "ipython3",
   "version": "3.7.4"
  }
 },
 "nbformat": 4,
 "nbformat_minor": 4
}
