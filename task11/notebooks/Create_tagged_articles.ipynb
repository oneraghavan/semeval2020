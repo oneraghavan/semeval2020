{
 "cells": [
  {
   "cell_type": "code",
   "execution_count": 1,
   "metadata": {},
   "outputs": [],
   "source": [
    "import codecs\n",
    "import argparse\n",
    "import src.article_annotations as an\n",
    "import src.propaganda_techniques as pt"
   ]
  },
  {
   "cell_type": "code",
   "execution_count": 2,
   "metadata": {},
   "outputs": [],
   "source": [
    "from fastai.core import parallel\n",
    "an.techniques = pt.Propaganda_Techniques(filename=\"data/propaganda-techniques-names-semeval2020task11.txt\")\n",
    "\n",
    "base_article_path = \"/data/semeval-2020/task-11/datasets/train-articles/\"\n",
    "base_span_path = \"/data/semeval-2020/task-11/datasets/train-labels-task2-technique-classification/\"\n",
    "base_tagged_article_path = \"/data/semeval-2020/task-11/datasets/train-tagged_article/\""
   ]
  },
  {
   "cell_type": "code",
   "execution_count": 3,
   "metadata": {},
   "outputs": [],
   "source": [
    "def tag_articles(article_id,_):\n",
    "    article_file = base_article_path + article_id + \".txt\"\n",
    "    span_file = base_span_path + article_id + \".task2-TC.labels\"\n",
    "    article_tag_file = base_tagged_article_path + article_id + \".txt\"\n",
    "    annotations = an.Articles_annotations()\n",
    "    print(annotations.start_annotation_str,\"===\")\n",
    "    annotations.load_article_annotations_from_csv_file(span_file)\n",
    "\n",
    "    with codecs.open(article_file, \"r\", encoding=\"utf8\") as f:\n",
    "        article_content = f.read()\n",
    "    \n",
    "    output_text, footnotes, legend = annotations.mark_text(article_content, False)\n",
    "    \n",
    "    with codecs.open(article_tag_file, \"w\", encoding=\"utf8\") as f:\n",
    "        article_content = f.writelines(output_text)\n",
    "    \n",
    "    "
   ]
  },
  {
   "cell_type": "code",
   "execution_count": 4,
   "metadata": {},
   "outputs": [],
   "source": [
    "sample_article = \"article999001970\""
   ]
  },
  {
   "cell_type": "code",
   "execution_count": 5,
   "metadata": {},
   "outputs": [
    {
     "name": "stdout",
     "output_type": "stream",
     "text": [
      "<span- ===\n"
     ]
    }
   ],
   "source": [
    "tag_articles(sample_article,\"\")"
   ]
  },
  {
   "cell_type": "code",
   "execution_count": 6,
   "metadata": {},
   "outputs": [
    {
     "name": "stdout",
     "output_type": "stream",
     "text": [
      "['article762956953', 'article787529309', 'article999001296', 'article729348908', 'article111111134', 'article700662577', 'article704591553', 'article789121265', 'article999000870', 'article727405181']\n"
     ]
    }
   ],
   "source": [
    "import glob\n",
    "article_ids = [name.replace(\".txt\",\"\").replace(\"/data/semeval-2020/task-11/datasets/train-articles/\",\"\") for name in glob.glob(base_article_path + \"*.txt\")]\n",
    "print(article_ids[:10])"
   ]
  },
  {
   "cell_type": "code",
   "execution_count": 7,
   "metadata": {},
   "outputs": [],
   "source": [
    "parallel(tag_articles,article_ids,max_workers=10)"
   ]
  },
  {
   "cell_type": "code",
   "execution_count": null,
   "metadata": {},
   "outputs": [],
   "source": []
  },
  {
   "cell_type": "code",
   "execution_count": null,
   "metadata": {},
   "outputs": [],
   "source": []
  }
 ],
 "metadata": {
  "kernelspec": {
   "display_name": "semeval2020",
   "language": "python",
   "name": "semeval2020"
  },
  "language_info": {
   "codemirror_mode": {
    "name": "ipython",
    "version": 3
   },
   "file_extension": ".py",
   "mimetype": "text/x-python",
   "name": "python",
   "nbconvert_exporter": "python",
   "pygments_lexer": "ipython3",
   "version": "3.7.4"
  }
 },
 "nbformat": 4,
 "nbformat_minor": 4
}
